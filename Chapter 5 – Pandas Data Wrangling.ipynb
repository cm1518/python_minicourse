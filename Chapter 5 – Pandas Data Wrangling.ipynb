{
 "cells": [
  {
   "cell_type": "markdown",
   "metadata": {},
   "source": [
    "# Chapter 5 – Pandas Data Wrangling\n",
    "\n",
    "\n",
    "Main reference:<br>\n",
    "- Chapter 8-11, Python for Data Analysis, by Wes McKinney\n",
    "- [No. 10](https://python-programming.quantecon.org/matplotlib.html), Python Programming for Economics and Finance, by Thomas J. Sargent & John Stachurski\n",
    "\n",
    "Last edited: 05/16/2021"
   ]
  },
  {
   "cell_type": "markdown",
   "metadata": {},
   "source": [
    "**Contents of this Notebook:**\n",
    "\n",
    "- [Section 1. Combining and Merging Dataset](#Section-1.-Combining-and-Merging-Dataset)\n",
    "- [Section 2. Data Aggregation and Group Operations](#Section-2.-Data-Aggregation-and-Group-Operations) (05/12/2021 updated)\n",
    "- [Section 3. Date and Time Data Types and Tools](#Section-3.-Date-and-Time-Data-Types-and-Tools)\n",
    "- [Section 4. Plotting and Visualization](#Section-4.-Plotting-and-Visualization) (05/12/2021 updated)\n",
    "- [Section 5. Compustat](#Section-5.-Compustat) (05/12/2021 updated)"
   ]
  },
  {
   "cell_type": "markdown",
   "metadata": {},
   "source": [
    "Data Wrangling is the process of converting data from the initial format to a format that may be better for analysis."
   ]
  },
  {
   "cell_type": "markdown",
   "metadata": {},
   "source": [
    "## Section 1. Combining and Merging Dataset"
   ]
  },
  {
   "cell_type": "code",
   "execution_count": 1,
   "metadata": {},
   "outputs": [
    {
     "data": {
      "application/javascript": [
       "\n",
       "            setTimeout(function() {\n",
       "                var nbb_cell_id = 1;\n",
       "                var nbb_unformatted_code = \"%load_ext nb_black\\n# Import the necessary libraries\\nimport pandas as pd\\nimport numpy as np\";\n",
       "                var nbb_formatted_code = \"%load_ext nb_black\\n# Import the necessary libraries\\nimport pandas as pd\\nimport numpy as np\";\n",
       "                var nbb_cells = Jupyter.notebook.get_cells();\n",
       "                for (var i = 0; i < nbb_cells.length; ++i) {\n",
       "                    if (nbb_cells[i].input_prompt_number == nbb_cell_id) {\n",
       "                        if (nbb_cells[i].get_text() == nbb_unformatted_code) {\n",
       "                             nbb_cells[i].set_text(nbb_formatted_code);\n",
       "                        }\n",
       "                        break;\n",
       "                    }\n",
       "                }\n",
       "            }, 500);\n",
       "            "
      ],
      "text/plain": [
       "<IPython.core.display.Javascript object>"
      ]
     },
     "metadata": {},
     "output_type": "display_data"
    }
   ],
   "source": [
    "# %load_ext nb_black\n",
    "# Import the necessary libraries\n",
    "import pandas as pd\n",
    "import numpy as np"
   ]
  },
  {
   "cell_type": "markdown",
   "metadata": {},
   "source": [
    "There are two main methods to combine two datasets:\n",
    "\n",
    "- `pandas.merge` connects rows in DataFrames based on one or more keys.\n",
    "\n",
    "- `pandas.concat` concatenates or “stacks” together objects along an axis."
   ]
  },
  {
   "cell_type": "code",
   "execution_count": 2,
   "metadata": {},
   "outputs": [
    {
     "data": {
      "text/html": [
       "<div>\n",
       "<style scoped>\n",
       "    .dataframe tbody tr th:only-of-type {\n",
       "        vertical-align: middle;\n",
       "    }\n",
       "\n",
       "    .dataframe tbody tr th {\n",
       "        vertical-align: top;\n",
       "    }\n",
       "\n",
       "    .dataframe thead th {\n",
       "        text-align: right;\n",
       "    }\n",
       "</style>\n",
       "<table border=\"1\" class=\"dataframe\">\n",
       "  <thead>\n",
       "    <tr style=\"text-align: right;\">\n",
       "      <th></th>\n",
       "      <th>key</th>\n",
       "      <th>data1</th>\n",
       "    </tr>\n",
       "  </thead>\n",
       "  <tbody>\n",
       "    <tr>\n",
       "      <th>0</th>\n",
       "      <td>b</td>\n",
       "      <td>0</td>\n",
       "    </tr>\n",
       "    <tr>\n",
       "      <th>1</th>\n",
       "      <td>b</td>\n",
       "      <td>1</td>\n",
       "    </tr>\n",
       "    <tr>\n",
       "      <th>2</th>\n",
       "      <td>a</td>\n",
       "      <td>2</td>\n",
       "    </tr>\n",
       "    <tr>\n",
       "      <th>3</th>\n",
       "      <td>c</td>\n",
       "      <td>3</td>\n",
       "    </tr>\n",
       "    <tr>\n",
       "      <th>4</th>\n",
       "      <td>a</td>\n",
       "      <td>4</td>\n",
       "    </tr>\n",
       "    <tr>\n",
       "      <th>5</th>\n",
       "      <td>a</td>\n",
       "      <td>5</td>\n",
       "    </tr>\n",
       "    <tr>\n",
       "      <th>6</th>\n",
       "      <td>b</td>\n",
       "      <td>6</td>\n",
       "    </tr>\n",
       "  </tbody>\n",
       "</table>\n",
       "</div>"
      ],
      "text/plain": [
       "  key  data1\n",
       "0   b      0\n",
       "1   b      1\n",
       "2   a      2\n",
       "3   c      3\n",
       "4   a      4\n",
       "5   a      5\n",
       "6   b      6"
      ]
     },
     "execution_count": 2,
     "metadata": {},
     "output_type": "execute_result"
    },
    {
     "data": {
      "application/javascript": [
       "\n",
       "            setTimeout(function() {\n",
       "                var nbb_cell_id = 2;\n",
       "                var nbb_unformatted_code = \"df1 = pd.DataFrame({\\\"key\\\": [\\\"b\\\", \\\"b\\\", \\\"a\\\", \\\"c\\\", \\\"a\\\", \\\"a\\\", \\\"b\\\"], \\\"data1\\\": range(7)})\\n\\ndf1\";\n",
       "                var nbb_formatted_code = \"df1 = pd.DataFrame({\\\"key\\\": [\\\"b\\\", \\\"b\\\", \\\"a\\\", \\\"c\\\", \\\"a\\\", \\\"a\\\", \\\"b\\\"], \\\"data1\\\": range(7)})\\n\\ndf1\";\n",
       "                var nbb_cells = Jupyter.notebook.get_cells();\n",
       "                for (var i = 0; i < nbb_cells.length; ++i) {\n",
       "                    if (nbb_cells[i].input_prompt_number == nbb_cell_id) {\n",
       "                        if (nbb_cells[i].get_text() == nbb_unformatted_code) {\n",
       "                             nbb_cells[i].set_text(nbb_formatted_code);\n",
       "                        }\n",
       "                        break;\n",
       "                    }\n",
       "                }\n",
       "            }, 500);\n",
       "            "
      ],
      "text/plain": [
       "<IPython.core.display.Javascript object>"
      ]
     },
     "metadata": {},
     "output_type": "display_data"
    }
   ],
   "source": [
    "df1 = pd.DataFrame({\"key\": [\"b\", \"b\", \"a\", \"c\", \"a\", \"a\", \"b\"], \"data1\": range(7)})\n",
    "\n",
    "df1"
   ]
  },
  {
   "cell_type": "code",
   "execution_count": 3,
   "metadata": {},
   "outputs": [
    {
     "data": {
      "text/html": [
       "<div>\n",
       "<style scoped>\n",
       "    .dataframe tbody tr th:only-of-type {\n",
       "        vertical-align: middle;\n",
       "    }\n",
       "\n",
       "    .dataframe tbody tr th {\n",
       "        vertical-align: top;\n",
       "    }\n",
       "\n",
       "    .dataframe thead th {\n",
       "        text-align: right;\n",
       "    }\n",
       "</style>\n",
       "<table border=\"1\" class=\"dataframe\">\n",
       "  <thead>\n",
       "    <tr style=\"text-align: right;\">\n",
       "      <th></th>\n",
       "      <th>key</th>\n",
       "      <th>data2</th>\n",
       "    </tr>\n",
       "  </thead>\n",
       "  <tbody>\n",
       "    <tr>\n",
       "      <th>0</th>\n",
       "      <td>a</td>\n",
       "      <td>10</td>\n",
       "    </tr>\n",
       "    <tr>\n",
       "      <th>1</th>\n",
       "      <td>b</td>\n",
       "      <td>11</td>\n",
       "    </tr>\n",
       "    <tr>\n",
       "      <th>2</th>\n",
       "      <td>d</td>\n",
       "      <td>12</td>\n",
       "    </tr>\n",
       "  </tbody>\n",
       "</table>\n",
       "</div>"
      ],
      "text/plain": [
       "  key  data2\n",
       "0   a     10\n",
       "1   b     11\n",
       "2   d     12"
      ]
     },
     "execution_count": 3,
     "metadata": {},
     "output_type": "execute_result"
    },
    {
     "data": {
      "application/javascript": [
       "\n",
       "            setTimeout(function() {\n",
       "                var nbb_cell_id = 3;\n",
       "                var nbb_unformatted_code = \"df2 = pd.DataFrame({\\\"key\\\": [\\\"a\\\", \\\"b\\\", \\\"d\\\"], \\\"data2\\\": range(10, 13)})\\n\\ndf2\";\n",
       "                var nbb_formatted_code = \"df2 = pd.DataFrame({\\\"key\\\": [\\\"a\\\", \\\"b\\\", \\\"d\\\"], \\\"data2\\\": range(10, 13)})\\n\\ndf2\";\n",
       "                var nbb_cells = Jupyter.notebook.get_cells();\n",
       "                for (var i = 0; i < nbb_cells.length; ++i) {\n",
       "                    if (nbb_cells[i].input_prompt_number == nbb_cell_id) {\n",
       "                        if (nbb_cells[i].get_text() == nbb_unformatted_code) {\n",
       "                             nbb_cells[i].set_text(nbb_formatted_code);\n",
       "                        }\n",
       "                        break;\n",
       "                    }\n",
       "                }\n",
       "            }, 500);\n",
       "            "
      ],
      "text/plain": [
       "<IPython.core.display.Javascript object>"
      ]
     },
     "metadata": {},
     "output_type": "display_data"
    }
   ],
   "source": [
    "df2 = pd.DataFrame({\"key\": [\"a\", \"b\", \"d\"], \"data2\": range(10, 13)})\n",
    "\n",
    "df2"
   ]
  },
  {
   "cell_type": "code",
   "execution_count": 4,
   "metadata": {
    "scrolled": true
   },
   "outputs": [
    {
     "data": {
      "text/html": [
       "<div>\n",
       "<style scoped>\n",
       "    .dataframe tbody tr th:only-of-type {\n",
       "        vertical-align: middle;\n",
       "    }\n",
       "\n",
       "    .dataframe tbody tr th {\n",
       "        vertical-align: top;\n",
       "    }\n",
       "\n",
       "    .dataframe thead th {\n",
       "        text-align: right;\n",
       "    }\n",
       "</style>\n",
       "<table border=\"1\" class=\"dataframe\">\n",
       "  <thead>\n",
       "    <tr style=\"text-align: right;\">\n",
       "      <th></th>\n",
       "      <th>key</th>\n",
       "      <th>data1</th>\n",
       "      <th>data2</th>\n",
       "    </tr>\n",
       "  </thead>\n",
       "  <tbody>\n",
       "    <tr>\n",
       "      <th>0</th>\n",
       "      <td>b</td>\n",
       "      <td>0</td>\n",
       "      <td>11</td>\n",
       "    </tr>\n",
       "    <tr>\n",
       "      <th>1</th>\n",
       "      <td>b</td>\n",
       "      <td>1</td>\n",
       "      <td>11</td>\n",
       "    </tr>\n",
       "    <tr>\n",
       "      <th>2</th>\n",
       "      <td>b</td>\n",
       "      <td>6</td>\n",
       "      <td>11</td>\n",
       "    </tr>\n",
       "    <tr>\n",
       "      <th>3</th>\n",
       "      <td>a</td>\n",
       "      <td>2</td>\n",
       "      <td>10</td>\n",
       "    </tr>\n",
       "    <tr>\n",
       "      <th>4</th>\n",
       "      <td>a</td>\n",
       "      <td>4</td>\n",
       "      <td>10</td>\n",
       "    </tr>\n",
       "    <tr>\n",
       "      <th>5</th>\n",
       "      <td>a</td>\n",
       "      <td>5</td>\n",
       "      <td>10</td>\n",
       "    </tr>\n",
       "  </tbody>\n",
       "</table>\n",
       "</div>"
      ],
      "text/plain": [
       "  key  data1  data2\n",
       "0   b      0     11\n",
       "1   b      1     11\n",
       "2   b      6     11\n",
       "3   a      2     10\n",
       "4   a      4     10\n",
       "5   a      5     10"
      ]
     },
     "execution_count": 4,
     "metadata": {},
     "output_type": "execute_result"
    },
    {
     "data": {
      "application/javascript": [
       "\n",
       "            setTimeout(function() {\n",
       "                var nbb_cell_id = 4;\n",
       "                var nbb_unformatted_code = \"# It\\u2019s a good practice to specify the key explicitly\\n# pd.merge(df1, df2, on='key')\\npd.merge(df1, df2, left_on=\\\"key\\\", right_on=\\\"key\\\")\";\n",
       "                var nbb_formatted_code = \"# It\\u2019s a good practice to specify the key explicitly\\n# pd.merge(df1, df2, on='key')\\npd.merge(df1, df2, left_on=\\\"key\\\", right_on=\\\"key\\\")\";\n",
       "                var nbb_cells = Jupyter.notebook.get_cells();\n",
       "                for (var i = 0; i < nbb_cells.length; ++i) {\n",
       "                    if (nbb_cells[i].input_prompt_number == nbb_cell_id) {\n",
       "                        if (nbb_cells[i].get_text() == nbb_unformatted_code) {\n",
       "                             nbb_cells[i].set_text(nbb_formatted_code);\n",
       "                        }\n",
       "                        break;\n",
       "                    }\n",
       "                }\n",
       "            }, 500);\n",
       "            "
      ],
      "text/plain": [
       "<IPython.core.display.Javascript object>"
      ]
     },
     "metadata": {},
     "output_type": "display_data"
    }
   ],
   "source": [
    "# It’s a good practice to specify the key explicitly\n",
    "# pd.merge(df1, df2, on='key')\n",
    "pd.merge(df1, df2, left_on=\"key\", right_on=\"key\")"
   ]
  },
  {
   "cell_type": "markdown",
   "metadata": {},
   "source": [
    "By default merge does an `inner` join; the keys in the result are the intersection, or the common set found in both tables. Other possible options are `left`, `right`, and `outer`. \n",
    "\n",
    "The `outer` join takes the union of the keys, combining the effect of applying both left and right joins."
   ]
  },
  {
   "cell_type": "code",
   "execution_count": 5,
   "metadata": {},
   "outputs": [
    {
     "data": {
      "text/html": [
       "<div>\n",
       "<style scoped>\n",
       "    .dataframe tbody tr th:only-of-type {\n",
       "        vertical-align: middle;\n",
       "    }\n",
       "\n",
       "    .dataframe tbody tr th {\n",
       "        vertical-align: top;\n",
       "    }\n",
       "\n",
       "    .dataframe thead th {\n",
       "        text-align: right;\n",
       "    }\n",
       "</style>\n",
       "<table border=\"1\" class=\"dataframe\">\n",
       "  <thead>\n",
       "    <tr style=\"text-align: right;\">\n",
       "      <th></th>\n",
       "      <th>key</th>\n",
       "      <th>data1</th>\n",
       "      <th>data2</th>\n",
       "    </tr>\n",
       "  </thead>\n",
       "  <tbody>\n",
       "    <tr>\n",
       "      <th>0</th>\n",
       "      <td>b</td>\n",
       "      <td>0.0</td>\n",
       "      <td>11.0</td>\n",
       "    </tr>\n",
       "    <tr>\n",
       "      <th>1</th>\n",
       "      <td>b</td>\n",
       "      <td>1.0</td>\n",
       "      <td>11.0</td>\n",
       "    </tr>\n",
       "    <tr>\n",
       "      <th>2</th>\n",
       "      <td>b</td>\n",
       "      <td>6.0</td>\n",
       "      <td>11.0</td>\n",
       "    </tr>\n",
       "    <tr>\n",
       "      <th>3</th>\n",
       "      <td>a</td>\n",
       "      <td>2.0</td>\n",
       "      <td>10.0</td>\n",
       "    </tr>\n",
       "    <tr>\n",
       "      <th>4</th>\n",
       "      <td>a</td>\n",
       "      <td>4.0</td>\n",
       "      <td>10.0</td>\n",
       "    </tr>\n",
       "    <tr>\n",
       "      <th>5</th>\n",
       "      <td>a</td>\n",
       "      <td>5.0</td>\n",
       "      <td>10.0</td>\n",
       "    </tr>\n",
       "    <tr>\n",
       "      <th>6</th>\n",
       "      <td>c</td>\n",
       "      <td>3.0</td>\n",
       "      <td>NaN</td>\n",
       "    </tr>\n",
       "    <tr>\n",
       "      <th>7</th>\n",
       "      <td>d</td>\n",
       "      <td>NaN</td>\n",
       "      <td>12.0</td>\n",
       "    </tr>\n",
       "  </tbody>\n",
       "</table>\n",
       "</div>"
      ],
      "text/plain": [
       "  key  data1  data2\n",
       "0   b    0.0   11.0\n",
       "1   b    1.0   11.0\n",
       "2   b    6.0   11.0\n",
       "3   a    2.0   10.0\n",
       "4   a    4.0   10.0\n",
       "5   a    5.0   10.0\n",
       "6   c    3.0    NaN\n",
       "7   d    NaN   12.0"
      ]
     },
     "execution_count": 5,
     "metadata": {},
     "output_type": "execute_result"
    },
    {
     "data": {
      "application/javascript": [
       "\n",
       "            setTimeout(function() {\n",
       "                var nbb_cell_id = 5;\n",
       "                var nbb_unformatted_code = \"pd.merge(df1, df2, left_on=\\\"key\\\", right_on=\\\"key\\\", how=\\\"outer\\\")\";\n",
       "                var nbb_formatted_code = \"pd.merge(df1, df2, left_on=\\\"key\\\", right_on=\\\"key\\\", how=\\\"outer\\\")\";\n",
       "                var nbb_cells = Jupyter.notebook.get_cells();\n",
       "                for (var i = 0; i < nbb_cells.length; ++i) {\n",
       "                    if (nbb_cells[i].input_prompt_number == nbb_cell_id) {\n",
       "                        if (nbb_cells[i].get_text() == nbb_unformatted_code) {\n",
       "                             nbb_cells[i].set_text(nbb_formatted_code);\n",
       "                        }\n",
       "                        break;\n",
       "                    }\n",
       "                }\n",
       "            }, 500);\n",
       "            "
      ],
      "text/plain": [
       "<IPython.core.display.Javascript object>"
      ]
     },
     "metadata": {},
     "output_type": "display_data"
    }
   ],
   "source": [
    "pd.merge(df1, df2, left_on=\"key\", right_on=\"key\", how=\"outer\")"
   ]
  },
  {
   "cell_type": "markdown",
   "metadata": {},
   "source": [
    "### Concatenating Along an Axis\n",
    "\n",
    "[`pd.concat`](https://pandas.pydata.org/docs/reference/api/pandas.concat.html) concatenates pandas objects along a particular axis with optional set logic along the other axes.\n",
    "\n",
    "I usually use `.concat` in the case of stacking (or \"appending\") two dataframes. See the example below:"
   ]
  },
  {
   "cell_type": "code",
   "execution_count": 6,
   "metadata": {},
   "outputs": [
    {
     "data": {
      "application/javascript": [
       "\n",
       "            setTimeout(function() {\n",
       "                var nbb_cell_id = 6;\n",
       "                var nbb_unformatted_code = \"df1 = pd.DataFrame([[\\\"a\\\", 1], [\\\"b\\\", 2]], columns=[\\\"letter\\\", \\\"number\\\"])\\n\\ndf2 = pd.DataFrame([[\\\"c\\\", 3], [\\\"d\\\", 4]], columns=[\\\"letter\\\", \\\"number\\\"])\";\n",
       "                var nbb_formatted_code = \"df1 = pd.DataFrame([[\\\"a\\\", 1], [\\\"b\\\", 2]], columns=[\\\"letter\\\", \\\"number\\\"])\\n\\ndf2 = pd.DataFrame([[\\\"c\\\", 3], [\\\"d\\\", 4]], columns=[\\\"letter\\\", \\\"number\\\"])\";\n",
       "                var nbb_cells = Jupyter.notebook.get_cells();\n",
       "                for (var i = 0; i < nbb_cells.length; ++i) {\n",
       "                    if (nbb_cells[i].input_prompt_number == nbb_cell_id) {\n",
       "                        if (nbb_cells[i].get_text() == nbb_unformatted_code) {\n",
       "                             nbb_cells[i].set_text(nbb_formatted_code);\n",
       "                        }\n",
       "                        break;\n",
       "                    }\n",
       "                }\n",
       "            }, 500);\n",
       "            "
      ],
      "text/plain": [
       "<IPython.core.display.Javascript object>"
      ]
     },
     "metadata": {},
     "output_type": "display_data"
    }
   ],
   "source": [
    "df1 = pd.DataFrame([[\"a\", 1], [\"b\", 2]], columns=[\"letter\", \"number\"])\n",
    "\n",
    "df2 = pd.DataFrame([[\"c\", 3], [\"d\", 4]], columns=[\"letter\", \"number\"])"
   ]
  },
  {
   "cell_type": "code",
   "execution_count": 7,
   "metadata": {},
   "outputs": [
    {
     "data": {
      "text/html": [
       "<div>\n",
       "<style scoped>\n",
       "    .dataframe tbody tr th:only-of-type {\n",
       "        vertical-align: middle;\n",
       "    }\n",
       "\n",
       "    .dataframe tbody tr th {\n",
       "        vertical-align: top;\n",
       "    }\n",
       "\n",
       "    .dataframe thead th {\n",
       "        text-align: right;\n",
       "    }\n",
       "</style>\n",
       "<table border=\"1\" class=\"dataframe\">\n",
       "  <thead>\n",
       "    <tr style=\"text-align: right;\">\n",
       "      <th></th>\n",
       "      <th>letter</th>\n",
       "      <th>number</th>\n",
       "    </tr>\n",
       "  </thead>\n",
       "  <tbody>\n",
       "    <tr>\n",
       "      <th>0</th>\n",
       "      <td>a</td>\n",
       "      <td>1</td>\n",
       "    </tr>\n",
       "    <tr>\n",
       "      <th>1</th>\n",
       "      <td>b</td>\n",
       "      <td>2</td>\n",
       "    </tr>\n",
       "  </tbody>\n",
       "</table>\n",
       "</div>"
      ],
      "text/plain": [
       "  letter  number\n",
       "0      a       1\n",
       "1      b       2"
      ]
     },
     "execution_count": 7,
     "metadata": {},
     "output_type": "execute_result"
    },
    {
     "data": {
      "application/javascript": [
       "\n",
       "            setTimeout(function() {\n",
       "                var nbb_cell_id = 7;\n",
       "                var nbb_unformatted_code = \"df1\";\n",
       "                var nbb_formatted_code = \"df1\";\n",
       "                var nbb_cells = Jupyter.notebook.get_cells();\n",
       "                for (var i = 0; i < nbb_cells.length; ++i) {\n",
       "                    if (nbb_cells[i].input_prompt_number == nbb_cell_id) {\n",
       "                        if (nbb_cells[i].get_text() == nbb_unformatted_code) {\n",
       "                             nbb_cells[i].set_text(nbb_formatted_code);\n",
       "                        }\n",
       "                        break;\n",
       "                    }\n",
       "                }\n",
       "            }, 500);\n",
       "            "
      ],
      "text/plain": [
       "<IPython.core.display.Javascript object>"
      ]
     },
     "metadata": {},
     "output_type": "display_data"
    }
   ],
   "source": [
    "df1"
   ]
  },
  {
   "cell_type": "code",
   "execution_count": 8,
   "metadata": {},
   "outputs": [
    {
     "data": {
      "text/html": [
       "<div>\n",
       "<style scoped>\n",
       "    .dataframe tbody tr th:only-of-type {\n",
       "        vertical-align: middle;\n",
       "    }\n",
       "\n",
       "    .dataframe tbody tr th {\n",
       "        vertical-align: top;\n",
       "    }\n",
       "\n",
       "    .dataframe thead th {\n",
       "        text-align: right;\n",
       "    }\n",
       "</style>\n",
       "<table border=\"1\" class=\"dataframe\">\n",
       "  <thead>\n",
       "    <tr style=\"text-align: right;\">\n",
       "      <th></th>\n",
       "      <th>letter</th>\n",
       "      <th>number</th>\n",
       "    </tr>\n",
       "  </thead>\n",
       "  <tbody>\n",
       "    <tr>\n",
       "      <th>0</th>\n",
       "      <td>c</td>\n",
       "      <td>3</td>\n",
       "    </tr>\n",
       "    <tr>\n",
       "      <th>1</th>\n",
       "      <td>d</td>\n",
       "      <td>4</td>\n",
       "    </tr>\n",
       "  </tbody>\n",
       "</table>\n",
       "</div>"
      ],
      "text/plain": [
       "  letter  number\n",
       "0      c       3\n",
       "1      d       4"
      ]
     },
     "execution_count": 8,
     "metadata": {},
     "output_type": "execute_result"
    },
    {
     "data": {
      "application/javascript": [
       "\n",
       "            setTimeout(function() {\n",
       "                var nbb_cell_id = 8;\n",
       "                var nbb_unformatted_code = \"df2\";\n",
       "                var nbb_formatted_code = \"df2\";\n",
       "                var nbb_cells = Jupyter.notebook.get_cells();\n",
       "                for (var i = 0; i < nbb_cells.length; ++i) {\n",
       "                    if (nbb_cells[i].input_prompt_number == nbb_cell_id) {\n",
       "                        if (nbb_cells[i].get_text() == nbb_unformatted_code) {\n",
       "                             nbb_cells[i].set_text(nbb_formatted_code);\n",
       "                        }\n",
       "                        break;\n",
       "                    }\n",
       "                }\n",
       "            }, 500);\n",
       "            "
      ],
      "text/plain": [
       "<IPython.core.display.Javascript object>"
      ]
     },
     "metadata": {},
     "output_type": "display_data"
    }
   ],
   "source": [
    "df2"
   ]
  },
  {
   "cell_type": "code",
   "execution_count": 9,
   "metadata": {},
   "outputs": [
    {
     "data": {
      "text/html": [
       "<div>\n",
       "<style scoped>\n",
       "    .dataframe tbody tr th:only-of-type {\n",
       "        vertical-align: middle;\n",
       "    }\n",
       "\n",
       "    .dataframe tbody tr th {\n",
       "        vertical-align: top;\n",
       "    }\n",
       "\n",
       "    .dataframe thead th {\n",
       "        text-align: right;\n",
       "    }\n",
       "</style>\n",
       "<table border=\"1\" class=\"dataframe\">\n",
       "  <thead>\n",
       "    <tr style=\"text-align: right;\">\n",
       "      <th></th>\n",
       "      <th>letter</th>\n",
       "      <th>number</th>\n",
       "    </tr>\n",
       "  </thead>\n",
       "  <tbody>\n",
       "    <tr>\n",
       "      <th>0</th>\n",
       "      <td>a</td>\n",
       "      <td>1</td>\n",
       "    </tr>\n",
       "    <tr>\n",
       "      <th>1</th>\n",
       "      <td>b</td>\n",
       "      <td>2</td>\n",
       "    </tr>\n",
       "    <tr>\n",
       "      <th>0</th>\n",
       "      <td>c</td>\n",
       "      <td>3</td>\n",
       "    </tr>\n",
       "    <tr>\n",
       "      <th>1</th>\n",
       "      <td>d</td>\n",
       "      <td>4</td>\n",
       "    </tr>\n",
       "  </tbody>\n",
       "</table>\n",
       "</div>"
      ],
      "text/plain": [
       "  letter  number\n",
       "0      a       1\n",
       "1      b       2\n",
       "0      c       3\n",
       "1      d       4"
      ]
     },
     "execution_count": 9,
     "metadata": {},
     "output_type": "execute_result"
    },
    {
     "data": {
      "application/javascript": [
       "\n",
       "            setTimeout(function() {\n",
       "                var nbb_cell_id = 9;\n",
       "                var nbb_unformatted_code = \"pd.concat([df1, df2], axis=0)\\n# pd.concat([df1, df2], axis=1)\";\n",
       "                var nbb_formatted_code = \"pd.concat([df1, df2], axis=0)\\n# pd.concat([df1, df2], axis=1)\";\n",
       "                var nbb_cells = Jupyter.notebook.get_cells();\n",
       "                for (var i = 0; i < nbb_cells.length; ++i) {\n",
       "                    if (nbb_cells[i].input_prompt_number == nbb_cell_id) {\n",
       "                        if (nbb_cells[i].get_text() == nbb_unformatted_code) {\n",
       "                             nbb_cells[i].set_text(nbb_formatted_code);\n",
       "                        }\n",
       "                        break;\n",
       "                    }\n",
       "                }\n",
       "            }, 500);\n",
       "            "
      ],
      "text/plain": [
       "<IPython.core.display.Javascript object>"
      ]
     },
     "metadata": {},
     "output_type": "display_data"
    }
   ],
   "source": [
    "pd.concat([df1, df2], axis=0)\n",
    "# pd.concat([df1, df2], axis=1)"
   ]
  },
  {
   "cell_type": "markdown",
   "metadata": {},
   "source": [
    "Remember to reset index after concatenation!"
   ]
  },
  {
   "cell_type": "code",
   "execution_count": 10,
   "metadata": {},
   "outputs": [
    {
     "data": {
      "text/html": [
       "<div>\n",
       "<style scoped>\n",
       "    .dataframe tbody tr th:only-of-type {\n",
       "        vertical-align: middle;\n",
       "    }\n",
       "\n",
       "    .dataframe tbody tr th {\n",
       "        vertical-align: top;\n",
       "    }\n",
       "\n",
       "    .dataframe thead th {\n",
       "        text-align: right;\n",
       "    }\n",
       "</style>\n",
       "<table border=\"1\" class=\"dataframe\">\n",
       "  <thead>\n",
       "    <tr style=\"text-align: right;\">\n",
       "      <th></th>\n",
       "      <th>letter</th>\n",
       "      <th>number</th>\n",
       "    </tr>\n",
       "  </thead>\n",
       "  <tbody>\n",
       "    <tr>\n",
       "      <th>0</th>\n",
       "      <td>a</td>\n",
       "      <td>1</td>\n",
       "    </tr>\n",
       "    <tr>\n",
       "      <th>1</th>\n",
       "      <td>b</td>\n",
       "      <td>2</td>\n",
       "    </tr>\n",
       "    <tr>\n",
       "      <th>2</th>\n",
       "      <td>c</td>\n",
       "      <td>3</td>\n",
       "    </tr>\n",
       "    <tr>\n",
       "      <th>3</th>\n",
       "      <td>d</td>\n",
       "      <td>4</td>\n",
       "    </tr>\n",
       "  </tbody>\n",
       "</table>\n",
       "</div>"
      ],
      "text/plain": [
       "  letter  number\n",
       "0      a       1\n",
       "1      b       2\n",
       "2      c       3\n",
       "3      d       4"
      ]
     },
     "execution_count": 10,
     "metadata": {},
     "output_type": "execute_result"
    },
    {
     "data": {
      "application/javascript": [
       "\n",
       "            setTimeout(function() {\n",
       "                var nbb_cell_id = 10;\n",
       "                var nbb_unformatted_code = \"pd.concat([df1, df2], axis=0).reset_index(drop=True)\";\n",
       "                var nbb_formatted_code = \"pd.concat([df1, df2], axis=0).reset_index(drop=True)\";\n",
       "                var nbb_cells = Jupyter.notebook.get_cells();\n",
       "                for (var i = 0; i < nbb_cells.length; ++i) {\n",
       "                    if (nbb_cells[i].input_prompt_number == nbb_cell_id) {\n",
       "                        if (nbb_cells[i].get_text() == nbb_unformatted_code) {\n",
       "                             nbb_cells[i].set_text(nbb_formatted_code);\n",
       "                        }\n",
       "                        break;\n",
       "                    }\n",
       "                }\n",
       "            }, 500);\n",
       "            "
      ],
      "text/plain": [
       "<IPython.core.display.Javascript object>"
      ]
     },
     "metadata": {},
     "output_type": "display_data"
    }
   ],
   "source": [
    "pd.concat([df1, df2], axis=0).reset_index(drop=True)"
   ]
  },
  {
   "cell_type": "markdown",
   "metadata": {},
   "source": [
    "## Section 2. Data Aggregation and Group Operations"
   ]
  },
  {
   "cell_type": "code",
   "execution_count": 11,
   "metadata": {},
   "outputs": [
    {
     "data": {
      "text/html": [
       "<div>\n",
       "<style scoped>\n",
       "    .dataframe tbody tr th:only-of-type {\n",
       "        vertical-align: middle;\n",
       "    }\n",
       "\n",
       "    .dataframe tbody tr th {\n",
       "        vertical-align: top;\n",
       "    }\n",
       "\n",
       "    .dataframe thead th {\n",
       "        text-align: right;\n",
       "    }\n",
       "</style>\n",
       "<table border=\"1\" class=\"dataframe\">\n",
       "  <thead>\n",
       "    <tr style=\"text-align: right;\">\n",
       "      <th></th>\n",
       "      <th>total_bill</th>\n",
       "      <th>tip</th>\n",
       "      <th>smoker</th>\n",
       "      <th>day</th>\n",
       "      <th>time</th>\n",
       "      <th>size</th>\n",
       "    </tr>\n",
       "  </thead>\n",
       "  <tbody>\n",
       "    <tr>\n",
       "      <th>0</th>\n",
       "      <td>16.99</td>\n",
       "      <td>1.01</td>\n",
       "      <td>No</td>\n",
       "      <td>Sun</td>\n",
       "      <td>Dinner</td>\n",
       "      <td>2</td>\n",
       "    </tr>\n",
       "    <tr>\n",
       "      <th>1</th>\n",
       "      <td>10.34</td>\n",
       "      <td>1.66</td>\n",
       "      <td>No</td>\n",
       "      <td>Sun</td>\n",
       "      <td>Dinner</td>\n",
       "      <td>3</td>\n",
       "    </tr>\n",
       "    <tr>\n",
       "      <th>2</th>\n",
       "      <td>21.01</td>\n",
       "      <td>3.50</td>\n",
       "      <td>No</td>\n",
       "      <td>Sun</td>\n",
       "      <td>Dinner</td>\n",
       "      <td>3</td>\n",
       "    </tr>\n",
       "    <tr>\n",
       "      <th>3</th>\n",
       "      <td>23.68</td>\n",
       "      <td>3.31</td>\n",
       "      <td>No</td>\n",
       "      <td>Sun</td>\n",
       "      <td>Dinner</td>\n",
       "      <td>2</td>\n",
       "    </tr>\n",
       "    <tr>\n",
       "      <th>4</th>\n",
       "      <td>24.59</td>\n",
       "      <td>3.61</td>\n",
       "      <td>No</td>\n",
       "      <td>Sun</td>\n",
       "      <td>Dinner</td>\n",
       "      <td>4</td>\n",
       "    </tr>\n",
       "  </tbody>\n",
       "</table>\n",
       "</div>"
      ],
      "text/plain": [
       "   total_bill   tip smoker  day    time  size\n",
       "0       16.99  1.01     No  Sun  Dinner     2\n",
       "1       10.34  1.66     No  Sun  Dinner     3\n",
       "2       21.01  3.50     No  Sun  Dinner     3\n",
       "3       23.68  3.31     No  Sun  Dinner     2\n",
       "4       24.59  3.61     No  Sun  Dinner     4"
      ]
     },
     "execution_count": 11,
     "metadata": {},
     "output_type": "execute_result"
    },
    {
     "data": {
      "application/javascript": [
       "\n",
       "            setTimeout(function() {\n",
       "                var nbb_cell_id = 11;\n",
       "                var nbb_unformatted_code = \"f_tips = \\\"data/tips.csv\\\"\\ntips = pd.read_csv(f_tips)\\n\\ntips.head()\";\n",
       "                var nbb_formatted_code = \"f_tips = \\\"data/tips.csv\\\"\\ntips = pd.read_csv(f_tips)\\n\\ntips.head()\";\n",
       "                var nbb_cells = Jupyter.notebook.get_cells();\n",
       "                for (var i = 0; i < nbb_cells.length; ++i) {\n",
       "                    if (nbb_cells[i].input_prompt_number == nbb_cell_id) {\n",
       "                        if (nbb_cells[i].get_text() == nbb_unformatted_code) {\n",
       "                             nbb_cells[i].set_text(nbb_formatted_code);\n",
       "                        }\n",
       "                        break;\n",
       "                    }\n",
       "                }\n",
       "            }, 500);\n",
       "            "
      ],
      "text/plain": [
       "<IPython.core.display.Javascript object>"
      ]
     },
     "metadata": {},
     "output_type": "display_data"
    }
   ],
   "source": [
    "f_tips = \"data/tips.csv\"\n",
    "tips = pd.read_csv(f_tips)\n",
    "\n",
    "tips.head()"
   ]
  },
  {
   "cell_type": "code",
   "execution_count": 12,
   "metadata": {},
   "outputs": [
    {
     "data": {
      "application/javascript": [
       "\n",
       "            setTimeout(function() {\n",
       "                var nbb_cell_id = 12;\n",
       "                var nbb_unformatted_code = \"# Add tip percentage of total bill\\ntips[\\\"tip_pct\\\"] = tips[\\\"tip\\\"] / tips[\\\"total_bill\\\"]\";\n",
       "                var nbb_formatted_code = \"# Add tip percentage of total bill\\ntips[\\\"tip_pct\\\"] = tips[\\\"tip\\\"] / tips[\\\"total_bill\\\"]\";\n",
       "                var nbb_cells = Jupyter.notebook.get_cells();\n",
       "                for (var i = 0; i < nbb_cells.length; ++i) {\n",
       "                    if (nbb_cells[i].input_prompt_number == nbb_cell_id) {\n",
       "                        if (nbb_cells[i].get_text() == nbb_unformatted_code) {\n",
       "                             nbb_cells[i].set_text(nbb_formatted_code);\n",
       "                        }\n",
       "                        break;\n",
       "                    }\n",
       "                }\n",
       "            }, 500);\n",
       "            "
      ],
      "text/plain": [
       "<IPython.core.display.Javascript object>"
      ]
     },
     "metadata": {},
     "output_type": "display_data"
    }
   ],
   "source": [
    "# Add tip percentage of total bill\n",
    "tips[\"tip_pct\"] = tips[\"tip\"] / tips[\"total_bill\"]"
   ]
  },
  {
   "cell_type": "code",
   "execution_count": 13,
   "metadata": {
    "scrolled": true
   },
   "outputs": [
    {
     "data": {
      "text/html": [
       "<div>\n",
       "<style scoped>\n",
       "    .dataframe tbody tr th:only-of-type {\n",
       "        vertical-align: middle;\n",
       "    }\n",
       "\n",
       "    .dataframe tbody tr th {\n",
       "        vertical-align: top;\n",
       "    }\n",
       "\n",
       "    .dataframe thead th {\n",
       "        text-align: right;\n",
       "    }\n",
       "</style>\n",
       "<table border=\"1\" class=\"dataframe\">\n",
       "  <thead>\n",
       "    <tr style=\"text-align: right;\">\n",
       "      <th></th>\n",
       "      <th>total_bill</th>\n",
       "      <th>tip</th>\n",
       "      <th>smoker</th>\n",
       "      <th>day</th>\n",
       "      <th>time</th>\n",
       "      <th>size</th>\n",
       "      <th>tip_pct</th>\n",
       "    </tr>\n",
       "  </thead>\n",
       "  <tbody>\n",
       "    <tr>\n",
       "      <th>0</th>\n",
       "      <td>16.99</td>\n",
       "      <td>1.01</td>\n",
       "      <td>No</td>\n",
       "      <td>Sun</td>\n",
       "      <td>Dinner</td>\n",
       "      <td>2</td>\n",
       "      <td>0.059447</td>\n",
       "    </tr>\n",
       "    <tr>\n",
       "      <th>1</th>\n",
       "      <td>10.34</td>\n",
       "      <td>1.66</td>\n",
       "      <td>No</td>\n",
       "      <td>Sun</td>\n",
       "      <td>Dinner</td>\n",
       "      <td>3</td>\n",
       "      <td>0.160542</td>\n",
       "    </tr>\n",
       "    <tr>\n",
       "      <th>2</th>\n",
       "      <td>21.01</td>\n",
       "      <td>3.50</td>\n",
       "      <td>No</td>\n",
       "      <td>Sun</td>\n",
       "      <td>Dinner</td>\n",
       "      <td>3</td>\n",
       "      <td>0.166587</td>\n",
       "    </tr>\n",
       "    <tr>\n",
       "      <th>3</th>\n",
       "      <td>23.68</td>\n",
       "      <td>3.31</td>\n",
       "      <td>No</td>\n",
       "      <td>Sun</td>\n",
       "      <td>Dinner</td>\n",
       "      <td>2</td>\n",
       "      <td>0.139780</td>\n",
       "    </tr>\n",
       "    <tr>\n",
       "      <th>4</th>\n",
       "      <td>24.59</td>\n",
       "      <td>3.61</td>\n",
       "      <td>No</td>\n",
       "      <td>Sun</td>\n",
       "      <td>Dinner</td>\n",
       "      <td>4</td>\n",
       "      <td>0.146808</td>\n",
       "    </tr>\n",
       "  </tbody>\n",
       "</table>\n",
       "</div>"
      ],
      "text/plain": [
       "   total_bill   tip smoker  day    time  size   tip_pct\n",
       "0       16.99  1.01     No  Sun  Dinner     2  0.059447\n",
       "1       10.34  1.66     No  Sun  Dinner     3  0.160542\n",
       "2       21.01  3.50     No  Sun  Dinner     3  0.166587\n",
       "3       23.68  3.31     No  Sun  Dinner     2  0.139780\n",
       "4       24.59  3.61     No  Sun  Dinner     4  0.146808"
      ]
     },
     "execution_count": 13,
     "metadata": {},
     "output_type": "execute_result"
    },
    {
     "data": {
      "application/javascript": [
       "\n",
       "            setTimeout(function() {\n",
       "                var nbb_cell_id = 13;\n",
       "                var nbb_unformatted_code = \"tips.head()\";\n",
       "                var nbb_formatted_code = \"tips.head()\";\n",
       "                var nbb_cells = Jupyter.notebook.get_cells();\n",
       "                for (var i = 0; i < nbb_cells.length; ++i) {\n",
       "                    if (nbb_cells[i].input_prompt_number == nbb_cell_id) {\n",
       "                        if (nbb_cells[i].get_text() == nbb_unformatted_code) {\n",
       "                             nbb_cells[i].set_text(nbb_formatted_code);\n",
       "                        }\n",
       "                        break;\n",
       "                    }\n",
       "                }\n",
       "            }, 500);\n",
       "            "
      ],
      "text/plain": [
       "<IPython.core.display.Javascript object>"
      ]
     },
     "metadata": {},
     "output_type": "display_data"
    }
   ],
   "source": [
    "tips.head()"
   ]
  },
  {
   "cell_type": "code",
   "execution_count": 14,
   "metadata": {
    "scrolled": true
   },
   "outputs": [
    {
     "data": {
      "text/html": [
       "<div>\n",
       "<style scoped>\n",
       "    .dataframe tbody tr th:only-of-type {\n",
       "        vertical-align: middle;\n",
       "    }\n",
       "\n",
       "    .dataframe tbody tr th {\n",
       "        vertical-align: top;\n",
       "    }\n",
       "\n",
       "    .dataframe thead th {\n",
       "        text-align: right;\n",
       "    }\n",
       "</style>\n",
       "<table border=\"1\" class=\"dataframe\">\n",
       "  <thead>\n",
       "    <tr style=\"text-align: right;\">\n",
       "      <th></th>\n",
       "      <th>total_bill</th>\n",
       "      <th>tip</th>\n",
       "      <th>smoker</th>\n",
       "      <th>day</th>\n",
       "      <th>time</th>\n",
       "      <th>size</th>\n",
       "      <th>tip_pct</th>\n",
       "      <th>meanvalue</th>\n",
       "    </tr>\n",
       "  </thead>\n",
       "  <tbody>\n",
       "    <tr>\n",
       "      <th>0</th>\n",
       "      <td>16.99</td>\n",
       "      <td>1.01</td>\n",
       "      <td>No</td>\n",
       "      <td>Sun</td>\n",
       "      <td>Dinner</td>\n",
       "      <td>2</td>\n",
       "      <td>0.059447</td>\n",
       "      <td>0.160113</td>\n",
       "    </tr>\n",
       "    <tr>\n",
       "      <th>1</th>\n",
       "      <td>10.34</td>\n",
       "      <td>1.66</td>\n",
       "      <td>No</td>\n",
       "      <td>Sun</td>\n",
       "      <td>Dinner</td>\n",
       "      <td>3</td>\n",
       "      <td>0.160542</td>\n",
       "      <td>0.160113</td>\n",
       "    </tr>\n",
       "    <tr>\n",
       "      <th>2</th>\n",
       "      <td>21.01</td>\n",
       "      <td>3.50</td>\n",
       "      <td>No</td>\n",
       "      <td>Sun</td>\n",
       "      <td>Dinner</td>\n",
       "      <td>3</td>\n",
       "      <td>0.166587</td>\n",
       "      <td>0.160113</td>\n",
       "    </tr>\n",
       "    <tr>\n",
       "      <th>3</th>\n",
       "      <td>23.68</td>\n",
       "      <td>3.31</td>\n",
       "      <td>No</td>\n",
       "      <td>Sun</td>\n",
       "      <td>Dinner</td>\n",
       "      <td>2</td>\n",
       "      <td>0.139780</td>\n",
       "      <td>0.160113</td>\n",
       "    </tr>\n",
       "    <tr>\n",
       "      <th>4</th>\n",
       "      <td>24.59</td>\n",
       "      <td>3.61</td>\n",
       "      <td>No</td>\n",
       "      <td>Sun</td>\n",
       "      <td>Dinner</td>\n",
       "      <td>4</td>\n",
       "      <td>0.146808</td>\n",
       "      <td>0.160113</td>\n",
       "    </tr>\n",
       "    <tr>\n",
       "      <th>...</th>\n",
       "      <td>...</td>\n",
       "      <td>...</td>\n",
       "      <td>...</td>\n",
       "      <td>...</td>\n",
       "      <td>...</td>\n",
       "      <td>...</td>\n",
       "      <td>...</td>\n",
       "      <td>...</td>\n",
       "    </tr>\n",
       "    <tr>\n",
       "      <th>239</th>\n",
       "      <td>29.03</td>\n",
       "      <td>5.92</td>\n",
       "      <td>No</td>\n",
       "      <td>Sat</td>\n",
       "      <td>Dinner</td>\n",
       "      <td>3</td>\n",
       "      <td>0.203927</td>\n",
       "      <td>0.158048</td>\n",
       "    </tr>\n",
       "    <tr>\n",
       "      <th>240</th>\n",
       "      <td>27.18</td>\n",
       "      <td>2.00</td>\n",
       "      <td>Yes</td>\n",
       "      <td>Sat</td>\n",
       "      <td>Dinner</td>\n",
       "      <td>2</td>\n",
       "      <td>0.073584</td>\n",
       "      <td>0.147906</td>\n",
       "    </tr>\n",
       "    <tr>\n",
       "      <th>241</th>\n",
       "      <td>22.67</td>\n",
       "      <td>2.00</td>\n",
       "      <td>Yes</td>\n",
       "      <td>Sat</td>\n",
       "      <td>Dinner</td>\n",
       "      <td>2</td>\n",
       "      <td>0.088222</td>\n",
       "      <td>0.147906</td>\n",
       "    </tr>\n",
       "    <tr>\n",
       "      <th>242</th>\n",
       "      <td>17.82</td>\n",
       "      <td>1.75</td>\n",
       "      <td>No</td>\n",
       "      <td>Sat</td>\n",
       "      <td>Dinner</td>\n",
       "      <td>2</td>\n",
       "      <td>0.098204</td>\n",
       "      <td>0.158048</td>\n",
       "    </tr>\n",
       "    <tr>\n",
       "      <th>243</th>\n",
       "      <td>18.78</td>\n",
       "      <td>3.00</td>\n",
       "      <td>No</td>\n",
       "      <td>Thur</td>\n",
       "      <td>Dinner</td>\n",
       "      <td>2</td>\n",
       "      <td>0.159744</td>\n",
       "      <td>0.160298</td>\n",
       "    </tr>\n",
       "  </tbody>\n",
       "</table>\n",
       "<p>244 rows × 8 columns</p>\n",
       "</div>"
      ],
      "text/plain": [
       "     total_bill   tip smoker   day    time  size   tip_pct  meanvalue\n",
       "0         16.99  1.01     No   Sun  Dinner     2  0.059447   0.160113\n",
       "1         10.34  1.66     No   Sun  Dinner     3  0.160542   0.160113\n",
       "2         21.01  3.50     No   Sun  Dinner     3  0.166587   0.160113\n",
       "3         23.68  3.31     No   Sun  Dinner     2  0.139780   0.160113\n",
       "4         24.59  3.61     No   Sun  Dinner     4  0.146808   0.160113\n",
       "..          ...   ...    ...   ...     ...   ...       ...        ...\n",
       "239       29.03  5.92     No   Sat  Dinner     3  0.203927   0.158048\n",
       "240       27.18  2.00    Yes   Sat  Dinner     2  0.073584   0.147906\n",
       "241       22.67  2.00    Yes   Sat  Dinner     2  0.088222   0.147906\n",
       "242       17.82  1.75     No   Sat  Dinner     2  0.098204   0.158048\n",
       "243       18.78  3.00     No  Thur  Dinner     2  0.159744   0.160298\n",
       "\n",
       "[244 rows x 8 columns]"
      ]
     },
     "execution_count": 14,
     "metadata": {},
     "output_type": "execute_result"
    },
    {
     "data": {
      "application/javascript": [
       "\n",
       "            setTimeout(function() {\n",
       "                var nbb_cell_id = 14;\n",
       "                var nbb_unformatted_code = \"# Create a new column of tip_pct mean value, based on groups\\ntips[\\\"meanvalue\\\"] = tips.groupby([\\\"day\\\", \\\"smoker\\\"])[\\\"tip_pct\\\"].transform(\\n    lambda x: np.mean(x)\\n)\\n\\ntips\";\n",
       "                var nbb_formatted_code = \"# Create a new column of tip_pct mean value, based on groups\\ntips[\\\"meanvalue\\\"] = tips.groupby([\\\"day\\\", \\\"smoker\\\"])[\\\"tip_pct\\\"].transform(\\n    lambda x: np.mean(x)\\n)\\n\\ntips\";\n",
       "                var nbb_cells = Jupyter.notebook.get_cells();\n",
       "                for (var i = 0; i < nbb_cells.length; ++i) {\n",
       "                    if (nbb_cells[i].input_prompt_number == nbb_cell_id) {\n",
       "                        if (nbb_cells[i].get_text() == nbb_unformatted_code) {\n",
       "                             nbb_cells[i].set_text(nbb_formatted_code);\n",
       "                        }\n",
       "                        break;\n",
       "                    }\n",
       "                }\n",
       "            }, 500);\n",
       "            "
      ],
      "text/plain": [
       "<IPython.core.display.Javascript object>"
      ]
     },
     "metadata": {},
     "output_type": "display_data"
    }
   ],
   "source": [
    "# Create a new column of tip_pct mean value, based on groups\n",
    "tips[\"meanvalue\"] = tips.groupby([\"day\", \"smoker\"])[\"tip_pct\"].transform(\n",
    "    lambda x: np.mean(x)\n",
    ")\n",
    "\n",
    "tips"
   ]
  },
  {
   "cell_type": "markdown",
   "metadata": {},
   "source": [
    "Group the tips by `day` and `smoker`:"
   ]
  },
  {
   "cell_type": "code",
   "execution_count": 15,
   "metadata": {},
   "outputs": [
    {
     "data": {
      "application/javascript": [
       "\n",
       "            setTimeout(function() {\n",
       "                var nbb_cell_id = 15;\n",
       "                var nbb_unformatted_code = \"grouped = tips.groupby([\\\"day\\\", \\\"smoker\\\"])\";\n",
       "                var nbb_formatted_code = \"grouped = tips.groupby([\\\"day\\\", \\\"smoker\\\"])\";\n",
       "                var nbb_cells = Jupyter.notebook.get_cells();\n",
       "                for (var i = 0; i < nbb_cells.length; ++i) {\n",
       "                    if (nbb_cells[i].input_prompt_number == nbb_cell_id) {\n",
       "                        if (nbb_cells[i].get_text() == nbb_unformatted_code) {\n",
       "                             nbb_cells[i].set_text(nbb_formatted_code);\n",
       "                        }\n",
       "                        break;\n",
       "                    }\n",
       "                }\n",
       "            }, 500);\n",
       "            "
      ],
      "text/plain": [
       "<IPython.core.display.Javascript object>"
      ]
     },
     "metadata": {},
     "output_type": "display_data"
    }
   ],
   "source": [
    "grouped = tips.groupby([\"day\", \"smoker\"])"
   ]
  },
  {
   "cell_type": "code",
   "execution_count": 16,
   "metadata": {
    "scrolled": true
   },
   "outputs": [
    {
     "data": {
      "text/plain": [
       "pandas.core.groupby.generic.DataFrameGroupBy"
      ]
     },
     "execution_count": 16,
     "metadata": {},
     "output_type": "execute_result"
    },
    {
     "data": {
      "application/javascript": [
       "\n",
       "            setTimeout(function() {\n",
       "                var nbb_cell_id = 16;\n",
       "                var nbb_unformatted_code = \"type(grouped)\";\n",
       "                var nbb_formatted_code = \"type(grouped)\";\n",
       "                var nbb_cells = Jupyter.notebook.get_cells();\n",
       "                for (var i = 0; i < nbb_cells.length; ++i) {\n",
       "                    if (nbb_cells[i].input_prompt_number == nbb_cell_id) {\n",
       "                        if (nbb_cells[i].get_text() == nbb_unformatted_code) {\n",
       "                             nbb_cells[i].set_text(nbb_formatted_code);\n",
       "                        }\n",
       "                        break;\n",
       "                    }\n",
       "                }\n",
       "            }, 500);\n",
       "            "
      ],
      "text/plain": [
       "<IPython.core.display.Javascript object>"
      ]
     },
     "metadata": {},
     "output_type": "display_data"
    }
   ],
   "source": [
    "type(grouped)"
   ]
  },
  {
   "cell_type": "code",
   "execution_count": 17,
   "metadata": {},
   "outputs": [
    {
     "data": {
      "text/plain": [
       "day   smoker\n",
       "Fri   No        0.151650\n",
       "      Yes       0.174783\n",
       "Sat   No        0.158048\n",
       "      Yes       0.147906\n",
       "Sun   No        0.160113\n",
       "      Yes       0.187250\n",
       "Thur  No        0.160298\n",
       "      Yes       0.163863\n",
       "Name: tip_pct, dtype: float64"
      ]
     },
     "execution_count": 17,
     "metadata": {},
     "output_type": "execute_result"
    },
    {
     "data": {
      "application/javascript": [
       "\n",
       "            setTimeout(function() {\n",
       "                var nbb_cell_id = 17;\n",
       "                var nbb_unformatted_code = \"grouped_pct = grouped[\\\"tip_pct\\\"]\\ngrouped_pct.agg(\\\"mean\\\")\";\n",
       "                var nbb_formatted_code = \"grouped_pct = grouped[\\\"tip_pct\\\"]\\ngrouped_pct.agg(\\\"mean\\\")\";\n",
       "                var nbb_cells = Jupyter.notebook.get_cells();\n",
       "                for (var i = 0; i < nbb_cells.length; ++i) {\n",
       "                    if (nbb_cells[i].input_prompt_number == nbb_cell_id) {\n",
       "                        if (nbb_cells[i].get_text() == nbb_unformatted_code) {\n",
       "                             nbb_cells[i].set_text(nbb_formatted_code);\n",
       "                        }\n",
       "                        break;\n",
       "                    }\n",
       "                }\n",
       "            }, 500);\n",
       "            "
      ],
      "text/plain": [
       "<IPython.core.display.Javascript object>"
      ]
     },
     "metadata": {},
     "output_type": "display_data"
    }
   ],
   "source": [
    "grouped_pct = grouped[\"tip_pct\"]\n",
    "grouped_pct.agg(\"mean\")"
   ]
  },
  {
   "cell_type": "code",
   "execution_count": 18,
   "metadata": {},
   "outputs": [
    {
     "data": {
      "text/html": [
       "<div>\n",
       "<style scoped>\n",
       "    .dataframe tbody tr th:only-of-type {\n",
       "        vertical-align: middle;\n",
       "    }\n",
       "\n",
       "    .dataframe tbody tr th {\n",
       "        vertical-align: top;\n",
       "    }\n",
       "\n",
       "    .dataframe thead th {\n",
       "        text-align: right;\n",
       "    }\n",
       "</style>\n",
       "<table border=\"1\" class=\"dataframe\">\n",
       "  <thead>\n",
       "    <tr style=\"text-align: right;\">\n",
       "      <th></th>\n",
       "      <th></th>\n",
       "      <th>tip_pct</th>\n",
       "    </tr>\n",
       "    <tr>\n",
       "      <th>day</th>\n",
       "      <th>smoker</th>\n",
       "      <th></th>\n",
       "    </tr>\n",
       "  </thead>\n",
       "  <tbody>\n",
       "    <tr>\n",
       "      <th rowspan=\"2\" valign=\"top\">Fri</th>\n",
       "      <th>No</th>\n",
       "      <td>0.151650</td>\n",
       "    </tr>\n",
       "    <tr>\n",
       "      <th>Yes</th>\n",
       "      <td>0.174783</td>\n",
       "    </tr>\n",
       "    <tr>\n",
       "      <th rowspan=\"2\" valign=\"top\">Sat</th>\n",
       "      <th>No</th>\n",
       "      <td>0.158048</td>\n",
       "    </tr>\n",
       "    <tr>\n",
       "      <th>Yes</th>\n",
       "      <td>0.147906</td>\n",
       "    </tr>\n",
       "    <tr>\n",
       "      <th rowspan=\"2\" valign=\"top\">Sun</th>\n",
       "      <th>No</th>\n",
       "      <td>0.160113</td>\n",
       "    </tr>\n",
       "    <tr>\n",
       "      <th>Yes</th>\n",
       "      <td>0.187250</td>\n",
       "    </tr>\n",
       "    <tr>\n",
       "      <th rowspan=\"2\" valign=\"top\">Thur</th>\n",
       "      <th>No</th>\n",
       "      <td>0.160298</td>\n",
       "    </tr>\n",
       "    <tr>\n",
       "      <th>Yes</th>\n",
       "      <td>0.163863</td>\n",
       "    </tr>\n",
       "  </tbody>\n",
       "</table>\n",
       "</div>"
      ],
      "text/plain": [
       "              tip_pct\n",
       "day  smoker          \n",
       "Fri  No      0.151650\n",
       "     Yes     0.174783\n",
       "Sat  No      0.158048\n",
       "     Yes     0.147906\n",
       "Sun  No      0.160113\n",
       "     Yes     0.187250\n",
       "Thur No      0.160298\n",
       "     Yes     0.163863"
      ]
     },
     "execution_count": 18,
     "metadata": {},
     "output_type": "execute_result"
    },
    {
     "data": {
      "application/javascript": [
       "\n",
       "            setTimeout(function() {\n",
       "                var nbb_cell_id = 18;\n",
       "                var nbb_unformatted_code = \"# tips.groupby([\\\"day\\\", \\\"smoker\\\"]).mean()\\ntips.groupby([\\\"day\\\", \\\"smoker\\\"])[[\\\"tip_pct\\\"]].mean()\";\n",
       "                var nbb_formatted_code = \"# tips.groupby([\\\"day\\\", \\\"smoker\\\"]).mean()\\ntips.groupby([\\\"day\\\", \\\"smoker\\\"])[[\\\"tip_pct\\\"]].mean()\";\n",
       "                var nbb_cells = Jupyter.notebook.get_cells();\n",
       "                for (var i = 0; i < nbb_cells.length; ++i) {\n",
       "                    if (nbb_cells[i].input_prompt_number == nbb_cell_id) {\n",
       "                        if (nbb_cells[i].get_text() == nbb_unformatted_code) {\n",
       "                             nbb_cells[i].set_text(nbb_formatted_code);\n",
       "                        }\n",
       "                        break;\n",
       "                    }\n",
       "                }\n",
       "            }, 500);\n",
       "            "
      ],
      "text/plain": [
       "<IPython.core.display.Javascript object>"
      ]
     },
     "metadata": {},
     "output_type": "display_data"
    }
   ],
   "source": [
    "# tips.groupby([\"day\", \"smoker\"]).mean()\n",
    "tips.groupby([\"day\", \"smoker\"])[[\"tip_pct\"]].mean()"
   ]
  },
  {
   "cell_type": "markdown",
   "metadata": {},
   "source": [
    "<div style=\"width:image width px; font-size:100%; text-align:center;\"><img src='images/groupby.png' alt=\"alternate text\" width=\"width\" height=\"height\" style=\"width:500px;height:300px;\" />  </div>\n",
    "\n",
    "If you pass a list of functions or function names instead, you get back a\n",
    "DataFrame with column names taken from the functions:"
   ]
  },
  {
   "cell_type": "code",
   "execution_count": 19,
   "metadata": {
    "scrolled": true
   },
   "outputs": [
    {
     "data": {
      "text/html": [
       "<div>\n",
       "<style scoped>\n",
       "    .dataframe tbody tr th:only-of-type {\n",
       "        vertical-align: middle;\n",
       "    }\n",
       "\n",
       "    .dataframe tbody tr th {\n",
       "        vertical-align: top;\n",
       "    }\n",
       "\n",
       "    .dataframe thead th {\n",
       "        text-align: right;\n",
       "    }\n",
       "</style>\n",
       "<table border=\"1\" class=\"dataframe\">\n",
       "  <thead>\n",
       "    <tr style=\"text-align: right;\">\n",
       "      <th></th>\n",
       "      <th></th>\n",
       "      <th>mean</th>\n",
       "      <th>std</th>\n",
       "      <th>peak_to_peak</th>\n",
       "    </tr>\n",
       "    <tr>\n",
       "      <th>day</th>\n",
       "      <th>smoker</th>\n",
       "      <th></th>\n",
       "      <th></th>\n",
       "      <th></th>\n",
       "    </tr>\n",
       "  </thead>\n",
       "  <tbody>\n",
       "    <tr>\n",
       "      <th rowspan=\"2\" valign=\"top\">Fri</th>\n",
       "      <th>No</th>\n",
       "      <td>0.151650</td>\n",
       "      <td>0.028123</td>\n",
       "      <td>0.067349</td>\n",
       "    </tr>\n",
       "    <tr>\n",
       "      <th>Yes</th>\n",
       "      <td>0.174783</td>\n",
       "      <td>0.051293</td>\n",
       "      <td>0.159925</td>\n",
       "    </tr>\n",
       "    <tr>\n",
       "      <th rowspan=\"2\" valign=\"top\">Sat</th>\n",
       "      <th>No</th>\n",
       "      <td>0.158048</td>\n",
       "      <td>0.039767</td>\n",
       "      <td>0.235193</td>\n",
       "    </tr>\n",
       "    <tr>\n",
       "      <th>Yes</th>\n",
       "      <td>0.147906</td>\n",
       "      <td>0.061375</td>\n",
       "      <td>0.290095</td>\n",
       "    </tr>\n",
       "    <tr>\n",
       "      <th rowspan=\"2\" valign=\"top\">Sun</th>\n",
       "      <th>No</th>\n",
       "      <td>0.160113</td>\n",
       "      <td>0.042347</td>\n",
       "      <td>0.193226</td>\n",
       "    </tr>\n",
       "    <tr>\n",
       "      <th>Yes</th>\n",
       "      <td>0.187250</td>\n",
       "      <td>0.154134</td>\n",
       "      <td>0.644685</td>\n",
       "    </tr>\n",
       "    <tr>\n",
       "      <th rowspan=\"2\" valign=\"top\">Thur</th>\n",
       "      <th>No</th>\n",
       "      <td>0.160298</td>\n",
       "      <td>0.038774</td>\n",
       "      <td>0.193350</td>\n",
       "    </tr>\n",
       "    <tr>\n",
       "      <th>Yes</th>\n",
       "      <td>0.163863</td>\n",
       "      <td>0.039389</td>\n",
       "      <td>0.151240</td>\n",
       "    </tr>\n",
       "  </tbody>\n",
       "</table>\n",
       "</div>"
      ],
      "text/plain": [
       "                 mean       std  peak_to_peak\n",
       "day  smoker                                  \n",
       "Fri  No      0.151650  0.028123      0.067349\n",
       "     Yes     0.174783  0.051293      0.159925\n",
       "Sat  No      0.158048  0.039767      0.235193\n",
       "     Yes     0.147906  0.061375      0.290095\n",
       "Sun  No      0.160113  0.042347      0.193226\n",
       "     Yes     0.187250  0.154134      0.644685\n",
       "Thur No      0.160298  0.038774      0.193350\n",
       "     Yes     0.163863  0.039389      0.151240"
      ]
     },
     "execution_count": 19,
     "metadata": {},
     "output_type": "execute_result"
    },
    {
     "data": {
      "application/javascript": [
       "\n",
       "            setTimeout(function() {\n",
       "                var nbb_cell_id = 19;\n",
       "                var nbb_unformatted_code = \"def peak_to_peak(arr):\\n    return arr.max() - arr.min()\\n\\n\\ngrouped_result = grouped_pct.agg([\\\"mean\\\", \\\"std\\\", peak_to_peak])\\ngrouped_result\";\n",
       "                var nbb_formatted_code = \"def peak_to_peak(arr):\\n    return arr.max() - arr.min()\\n\\n\\ngrouped_result = grouped_pct.agg([\\\"mean\\\", \\\"std\\\", peak_to_peak])\\ngrouped_result\";\n",
       "                var nbb_cells = Jupyter.notebook.get_cells();\n",
       "                for (var i = 0; i < nbb_cells.length; ++i) {\n",
       "                    if (nbb_cells[i].input_prompt_number == nbb_cell_id) {\n",
       "                        if (nbb_cells[i].get_text() == nbb_unformatted_code) {\n",
       "                             nbb_cells[i].set_text(nbb_formatted_code);\n",
       "                        }\n",
       "                        break;\n",
       "                    }\n",
       "                }\n",
       "            }, 500);\n",
       "            "
      ],
      "text/plain": [
       "<IPython.core.display.Javascript object>"
      ]
     },
     "metadata": {},
     "output_type": "display_data"
    }
   ],
   "source": [
    "def peak_to_peak(arr):\n",
    "    return arr.max() - arr.min()\n",
    "\n",
    "\n",
    "grouped_result = grouped_pct.agg([\"mean\", \"std\", peak_to_peak])\n",
    "grouped_result"
   ]
  },
  {
   "cell_type": "code",
   "execution_count": 20,
   "metadata": {},
   "outputs": [
    {
     "data": {
      "text/html": [
       "<div>\n",
       "<style scoped>\n",
       "    .dataframe tbody tr th:only-of-type {\n",
       "        vertical-align: middle;\n",
       "    }\n",
       "\n",
       "    .dataframe tbody tr th {\n",
       "        vertical-align: top;\n",
       "    }\n",
       "\n",
       "    .dataframe thead th {\n",
       "        text-align: right;\n",
       "    }\n",
       "</style>\n",
       "<table border=\"1\" class=\"dataframe\">\n",
       "  <thead>\n",
       "    <tr style=\"text-align: right;\">\n",
       "      <th></th>\n",
       "      <th>mean</th>\n",
       "      <th>std</th>\n",
       "      <th>peak_to_peak</th>\n",
       "    </tr>\n",
       "    <tr>\n",
       "      <th>smoker</th>\n",
       "      <th></th>\n",
       "      <th></th>\n",
       "      <th></th>\n",
       "    </tr>\n",
       "  </thead>\n",
       "  <tbody>\n",
       "    <tr>\n",
       "      <th>No</th>\n",
       "      <td>0.151650</td>\n",
       "      <td>0.028123</td>\n",
       "      <td>0.067349</td>\n",
       "    </tr>\n",
       "    <tr>\n",
       "      <th>Yes</th>\n",
       "      <td>0.174783</td>\n",
       "      <td>0.051293</td>\n",
       "      <td>0.159925</td>\n",
       "    </tr>\n",
       "  </tbody>\n",
       "</table>\n",
       "</div>"
      ],
      "text/plain": [
       "            mean       std  peak_to_peak\n",
       "smoker                                  \n",
       "No      0.151650  0.028123      0.067349\n",
       "Yes     0.174783  0.051293      0.159925"
      ]
     },
     "execution_count": 20,
     "metadata": {},
     "output_type": "execute_result"
    },
    {
     "data": {
      "application/javascript": [
       "\n",
       "            setTimeout(function() {\n",
       "                var nbb_cell_id = 20;\n",
       "                var nbb_unformatted_code = \"grouped_result.loc[\\\"Fri\\\", :]\";\n",
       "                var nbb_formatted_code = \"grouped_result.loc[\\\"Fri\\\", :]\";\n",
       "                var nbb_cells = Jupyter.notebook.get_cells();\n",
       "                for (var i = 0; i < nbb_cells.length; ++i) {\n",
       "                    if (nbb_cells[i].input_prompt_number == nbb_cell_id) {\n",
       "                        if (nbb_cells[i].get_text() == nbb_unformatted_code) {\n",
       "                             nbb_cells[i].set_text(nbb_formatted_code);\n",
       "                        }\n",
       "                        break;\n",
       "                    }\n",
       "                }\n",
       "            }, 500);\n",
       "            "
      ],
      "text/plain": [
       "<IPython.core.display.Javascript object>"
      ]
     },
     "metadata": {},
     "output_type": "display_data"
    }
   ],
   "source": [
    "grouped_result.loc[\"Fri\", :]"
   ]
  },
  {
   "cell_type": "markdown",
   "metadata": {},
   "source": [
    "## Stacking,  Unstacking, and Hierarchical Indexing"
   ]
  },
  {
   "cell_type": "markdown",
   "metadata": {},
   "source": [
    "Notice that `grouped_result` have a multiple (two or more) index *levels*. This is called **hierarchical indexing**. You can also set a dataframe's column names in this way. "
   ]
  },
  {
   "cell_type": "code",
   "execution_count": 21,
   "metadata": {},
   "outputs": [
    {
     "data": {
      "text/plain": [
       "MultiIndex([( 'Fri',  'No'),\n",
       "            ( 'Fri', 'Yes'),\n",
       "            ( 'Sat',  'No'),\n",
       "            ( 'Sat', 'Yes'),\n",
       "            ( 'Sun',  'No'),\n",
       "            ( 'Sun', 'Yes'),\n",
       "            ('Thur',  'No'),\n",
       "            ('Thur', 'Yes')],\n",
       "           names=['day', 'smoker'])"
      ]
     },
     "execution_count": 21,
     "metadata": {},
     "output_type": "execute_result"
    },
    {
     "data": {
      "application/javascript": [
       "\n",
       "            setTimeout(function() {\n",
       "                var nbb_cell_id = 21;\n",
       "                var nbb_unformatted_code = \"grouped_result.index\";\n",
       "                var nbb_formatted_code = \"grouped_result.index\";\n",
       "                var nbb_cells = Jupyter.notebook.get_cells();\n",
       "                for (var i = 0; i < nbb_cells.length; ++i) {\n",
       "                    if (nbb_cells[i].input_prompt_number == nbb_cell_id) {\n",
       "                        if (nbb_cells[i].get_text() == nbb_unformatted_code) {\n",
       "                             nbb_cells[i].set_text(nbb_formatted_code);\n",
       "                        }\n",
       "                        break;\n",
       "                    }\n",
       "                }\n",
       "            }, 500);\n",
       "            "
      ],
      "text/plain": [
       "<IPython.core.display.Javascript object>"
      ]
     },
     "metadata": {},
     "output_type": "display_data"
    }
   ],
   "source": [
    "grouped_result.index"
   ]
  },
  {
   "cell_type": "code",
   "execution_count": 22,
   "metadata": {},
   "outputs": [
    {
     "data": {
      "text/plain": [
       "Index([  ('Fri', 'No'),  ('Fri', 'Yes'),   ('Sat', 'No'),  ('Sat', 'Yes'),\n",
       "         ('Sun', 'No'),  ('Sun', 'Yes'),  ('Thur', 'No'), ('Thur', 'Yes')],\n",
       "      dtype='object')"
      ]
     },
     "execution_count": 22,
     "metadata": {},
     "output_type": "execute_result"
    },
    {
     "data": {
      "application/javascript": [
       "\n",
       "            setTimeout(function() {\n",
       "                var nbb_cell_id = 22;\n",
       "                var nbb_unformatted_code = \"# We can convert the MultiIndex into Index\\ngrouped_result.index.to_flat_index()\\n\\n# grouped_result.set_index(grouped_result.index.to_flat_index())\";\n",
       "                var nbb_formatted_code = \"# We can convert the MultiIndex into Index\\ngrouped_result.index.to_flat_index()\\n\\n# grouped_result.set_index(grouped_result.index.to_flat_index())\";\n",
       "                var nbb_cells = Jupyter.notebook.get_cells();\n",
       "                for (var i = 0; i < nbb_cells.length; ++i) {\n",
       "                    if (nbb_cells[i].input_prompt_number == nbb_cell_id) {\n",
       "                        if (nbb_cells[i].get_text() == nbb_unformatted_code) {\n",
       "                             nbb_cells[i].set_text(nbb_formatted_code);\n",
       "                        }\n",
       "                        break;\n",
       "                    }\n",
       "                }\n",
       "            }, 500);\n",
       "            "
      ],
      "text/plain": [
       "<IPython.core.display.Javascript object>"
      ]
     },
     "metadata": {},
     "output_type": "display_data"
    }
   ],
   "source": [
    "# We can convert the MultiIndex into Index\n",
    "grouped_result.index.to_flat_index()\n",
    "\n",
    "# grouped_result.set_index(grouped_result.index.to_flat_index())"
   ]
  },
  {
   "cell_type": "code",
   "execution_count": 23,
   "metadata": {},
   "outputs": [
    {
     "data": {
      "text/plain": [
       "[('Fri', 'Fri', 'Sat', 'Sat', 'Sun', 'Sun', 'Thur', 'Thur'),\n",
       " ('No', 'Yes', 'No', 'Yes', 'No', 'Yes', 'No', 'Yes')]"
      ]
     },
     "execution_count": 23,
     "metadata": {},
     "output_type": "execute_result"
    },
    {
     "data": {
      "application/javascript": [
       "\n",
       "            setTimeout(function() {\n",
       "                var nbb_cell_id = 23;\n",
       "                var nbb_unformatted_code = \"# Digression: get list of the multiIndex\\n\\n# The * operator can be used in conjunction with zip() to unzip the list.\\nlist(zip(*grouped_result.index))\\n\\n# or using .get_level_values(1)\\n# list(grouped_result.index.get_level_values(1))\";\n",
       "                var nbb_formatted_code = \"# Digression: get list of the multiIndex\\n\\n# The * operator can be used in conjunction with zip() to unzip the list.\\nlist(zip(*grouped_result.index))\\n\\n# or using .get_level_values(1)\\n# list(grouped_result.index.get_level_values(1))\";\n",
       "                var nbb_cells = Jupyter.notebook.get_cells();\n",
       "                for (var i = 0; i < nbb_cells.length; ++i) {\n",
       "                    if (nbb_cells[i].input_prompt_number == nbb_cell_id) {\n",
       "                        if (nbb_cells[i].get_text() == nbb_unformatted_code) {\n",
       "                             nbb_cells[i].set_text(nbb_formatted_code);\n",
       "                        }\n",
       "                        break;\n",
       "                    }\n",
       "                }\n",
       "            }, 500);\n",
       "            "
      ],
      "text/plain": [
       "<IPython.core.display.Javascript object>"
      ]
     },
     "metadata": {},
     "output_type": "display_data"
    }
   ],
   "source": [
    "# Digression: get list of the multiIndex\n",
    "\n",
    "# The * operator can be used in conjunction with zip() to unzip the list.\n",
    "list(zip(*grouped_result.index))\n",
    "\n",
    "# or using .get_level_values(1)\n",
    "# list(grouped_result.index.get_level_values(1))"
   ]
  },
  {
   "cell_type": "markdown",
   "metadata": {},
   "source": [
    "We can rearrange the `grouped_result` into a DataFrame using its `unstack` method:"
   ]
  },
  {
   "cell_type": "code",
   "execution_count": 24,
   "metadata": {
    "scrolled": true
   },
   "outputs": [
    {
     "data": {
      "text/html": [
       "<div>\n",
       "<style scoped>\n",
       "    .dataframe tbody tr th:only-of-type {\n",
       "        vertical-align: middle;\n",
       "    }\n",
       "\n",
       "    .dataframe tbody tr th {\n",
       "        vertical-align: top;\n",
       "    }\n",
       "\n",
       "    .dataframe thead tr th {\n",
       "        text-align: left;\n",
       "    }\n",
       "\n",
       "    .dataframe thead tr:last-of-type th {\n",
       "        text-align: right;\n",
       "    }\n",
       "</style>\n",
       "<table border=\"1\" class=\"dataframe\">\n",
       "  <thead>\n",
       "    <tr>\n",
       "      <th></th>\n",
       "      <th colspan=\"2\" halign=\"left\">mean</th>\n",
       "      <th colspan=\"2\" halign=\"left\">std</th>\n",
       "      <th colspan=\"2\" halign=\"left\">peak_to_peak</th>\n",
       "    </tr>\n",
       "    <tr>\n",
       "      <th>smoker</th>\n",
       "      <th>No</th>\n",
       "      <th>Yes</th>\n",
       "      <th>No</th>\n",
       "      <th>Yes</th>\n",
       "      <th>No</th>\n",
       "      <th>Yes</th>\n",
       "    </tr>\n",
       "    <tr>\n",
       "      <th>day</th>\n",
       "      <th></th>\n",
       "      <th></th>\n",
       "      <th></th>\n",
       "      <th></th>\n",
       "      <th></th>\n",
       "      <th></th>\n",
       "    </tr>\n",
       "  </thead>\n",
       "  <tbody>\n",
       "    <tr>\n",
       "      <th>Fri</th>\n",
       "      <td>0.151650</td>\n",
       "      <td>0.174783</td>\n",
       "      <td>0.028123</td>\n",
       "      <td>0.051293</td>\n",
       "      <td>0.067349</td>\n",
       "      <td>0.159925</td>\n",
       "    </tr>\n",
       "    <tr>\n",
       "      <th>Sat</th>\n",
       "      <td>0.158048</td>\n",
       "      <td>0.147906</td>\n",
       "      <td>0.039767</td>\n",
       "      <td>0.061375</td>\n",
       "      <td>0.235193</td>\n",
       "      <td>0.290095</td>\n",
       "    </tr>\n",
       "    <tr>\n",
       "      <th>Sun</th>\n",
       "      <td>0.160113</td>\n",
       "      <td>0.187250</td>\n",
       "      <td>0.042347</td>\n",
       "      <td>0.154134</td>\n",
       "      <td>0.193226</td>\n",
       "      <td>0.644685</td>\n",
       "    </tr>\n",
       "    <tr>\n",
       "      <th>Thur</th>\n",
       "      <td>0.160298</td>\n",
       "      <td>0.163863</td>\n",
       "      <td>0.038774</td>\n",
       "      <td>0.039389</td>\n",
       "      <td>0.193350</td>\n",
       "      <td>0.151240</td>\n",
       "    </tr>\n",
       "  </tbody>\n",
       "</table>\n",
       "</div>"
      ],
      "text/plain": [
       "            mean                 std           peak_to_peak          \n",
       "smoker        No       Yes        No       Yes           No       Yes\n",
       "day                                                                  \n",
       "Fri     0.151650  0.174783  0.028123  0.051293     0.067349  0.159925\n",
       "Sat     0.158048  0.147906  0.039767  0.061375     0.235193  0.290095\n",
       "Sun     0.160113  0.187250  0.042347  0.154134     0.193226  0.644685\n",
       "Thur    0.160298  0.163863  0.038774  0.039389     0.193350  0.151240"
      ]
     },
     "execution_count": 24,
     "metadata": {},
     "output_type": "execute_result"
    },
    {
     "data": {
      "application/javascript": [
       "\n",
       "            setTimeout(function() {\n",
       "                var nbb_cell_id = 24;\n",
       "                var nbb_unformatted_code = \"grouped_result.unstack()\";\n",
       "                var nbb_formatted_code = \"grouped_result.unstack()\";\n",
       "                var nbb_cells = Jupyter.notebook.get_cells();\n",
       "                for (var i = 0; i < nbb_cells.length; ++i) {\n",
       "                    if (nbb_cells[i].input_prompt_number == nbb_cell_id) {\n",
       "                        if (nbb_cells[i].get_text() == nbb_unformatted_code) {\n",
       "                             nbb_cells[i].set_text(nbb_formatted_code);\n",
       "                        }\n",
       "                        break;\n",
       "                    }\n",
       "                }\n",
       "            }, 500);\n",
       "            "
      ],
      "text/plain": [
       "<IPython.core.display.Javascript object>"
      ]
     },
     "metadata": {},
     "output_type": "display_data"
    }
   ],
   "source": [
    "grouped_result.unstack()"
   ]
  },
  {
   "cell_type": "code",
   "execution_count": 25,
   "metadata": {},
   "outputs": [
    {
     "data": {
      "text/plain": [
       "MultiIndex([(        'mean',  'No'),\n",
       "            (        'mean', 'Yes'),\n",
       "            (         'std',  'No'),\n",
       "            (         'std', 'Yes'),\n",
       "            ('peak_to_peak',  'No'),\n",
       "            ('peak_to_peak', 'Yes')],\n",
       "           names=[None, 'smoker'])"
      ]
     },
     "execution_count": 25,
     "metadata": {},
     "output_type": "execute_result"
    },
    {
     "data": {
      "application/javascript": [
       "\n",
       "            setTimeout(function() {\n",
       "                var nbb_cell_id = 25;\n",
       "                var nbb_unformatted_code = \"grouped_result.unstack().columns\";\n",
       "                var nbb_formatted_code = \"grouped_result.unstack().columns\";\n",
       "                var nbb_cells = Jupyter.notebook.get_cells();\n",
       "                for (var i = 0; i < nbb_cells.length; ++i) {\n",
       "                    if (nbb_cells[i].input_prompt_number == nbb_cell_id) {\n",
       "                        if (nbb_cells[i].get_text() == nbb_unformatted_code) {\n",
       "                             nbb_cells[i].set_text(nbb_formatted_code);\n",
       "                        }\n",
       "                        break;\n",
       "                    }\n",
       "                }\n",
       "            }, 500);\n",
       "            "
      ],
      "text/plain": [
       "<IPython.core.display.Javascript object>"
      ]
     },
     "metadata": {},
     "output_type": "display_data"
    }
   ],
   "source": [
    "grouped_result.unstack().columns"
   ]
  },
  {
   "cell_type": "code",
   "execution_count": 26,
   "metadata": {},
   "outputs": [
    {
     "data": {
      "text/plain": [
       "day\n",
       "Fri     0.151650\n",
       "Sat     0.158048\n",
       "Sun     0.160113\n",
       "Thur    0.160298\n",
       "Name: No, dtype: float64"
      ]
     },
     "execution_count": 26,
     "metadata": {},
     "output_type": "execute_result"
    },
    {
     "data": {
      "application/javascript": [
       "\n",
       "            setTimeout(function() {\n",
       "                var nbb_cell_id = 26;\n",
       "                var nbb_unformatted_code = \"# Access to one column\\ngrouped_result.unstack()[\\\"mean\\\"][\\\"No\\\"]\";\n",
       "                var nbb_formatted_code = \"# Access to one column\\ngrouped_result.unstack()[\\\"mean\\\"][\\\"No\\\"]\";\n",
       "                var nbb_cells = Jupyter.notebook.get_cells();\n",
       "                for (var i = 0; i < nbb_cells.length; ++i) {\n",
       "                    if (nbb_cells[i].input_prompt_number == nbb_cell_id) {\n",
       "                        if (nbb_cells[i].get_text() == nbb_unformatted_code) {\n",
       "                             nbb_cells[i].set_text(nbb_formatted_code);\n",
       "                        }\n",
       "                        break;\n",
       "                    }\n",
       "                }\n",
       "            }, 500);\n",
       "            "
      ],
      "text/plain": [
       "<IPython.core.display.Javascript object>"
      ]
     },
     "metadata": {},
     "output_type": "display_data"
    }
   ],
   "source": [
    "# Access to one column\n",
    "grouped_result.unstack()[\"mean\"][\"No\"]"
   ]
  },
  {
   "cell_type": "code",
   "execution_count": 27,
   "metadata": {},
   "outputs": [
    {
     "data": {
      "text/html": [
       "<div>\n",
       "<style scoped>\n",
       "    .dataframe tbody tr th:only-of-type {\n",
       "        vertical-align: middle;\n",
       "    }\n",
       "\n",
       "    .dataframe tbody tr th {\n",
       "        vertical-align: top;\n",
       "    }\n",
       "\n",
       "    .dataframe thead th {\n",
       "        text-align: right;\n",
       "    }\n",
       "</style>\n",
       "<table border=\"1\" class=\"dataframe\">\n",
       "  <thead>\n",
       "    <tr style=\"text-align: right;\">\n",
       "      <th></th>\n",
       "      <th></th>\n",
       "      <th>mean</th>\n",
       "      <th>std</th>\n",
       "      <th>peak_to_peak</th>\n",
       "    </tr>\n",
       "    <tr>\n",
       "      <th>day</th>\n",
       "      <th>smoker</th>\n",
       "      <th></th>\n",
       "      <th></th>\n",
       "      <th></th>\n",
       "    </tr>\n",
       "  </thead>\n",
       "  <tbody>\n",
       "    <tr>\n",
       "      <th rowspan=\"2\" valign=\"top\">Fri</th>\n",
       "      <th>No</th>\n",
       "      <td>0.151650</td>\n",
       "      <td>0.028123</td>\n",
       "      <td>0.067349</td>\n",
       "    </tr>\n",
       "    <tr>\n",
       "      <th>Yes</th>\n",
       "      <td>0.174783</td>\n",
       "      <td>0.051293</td>\n",
       "      <td>0.159925</td>\n",
       "    </tr>\n",
       "    <tr>\n",
       "      <th rowspan=\"2\" valign=\"top\">Sat</th>\n",
       "      <th>No</th>\n",
       "      <td>0.158048</td>\n",
       "      <td>0.039767</td>\n",
       "      <td>0.235193</td>\n",
       "    </tr>\n",
       "    <tr>\n",
       "      <th>Yes</th>\n",
       "      <td>0.147906</td>\n",
       "      <td>0.061375</td>\n",
       "      <td>0.290095</td>\n",
       "    </tr>\n",
       "    <tr>\n",
       "      <th rowspan=\"2\" valign=\"top\">Sun</th>\n",
       "      <th>No</th>\n",
       "      <td>0.160113</td>\n",
       "      <td>0.042347</td>\n",
       "      <td>0.193226</td>\n",
       "    </tr>\n",
       "    <tr>\n",
       "      <th>Yes</th>\n",
       "      <td>0.187250</td>\n",
       "      <td>0.154134</td>\n",
       "      <td>0.644685</td>\n",
       "    </tr>\n",
       "    <tr>\n",
       "      <th rowspan=\"2\" valign=\"top\">Thur</th>\n",
       "      <th>No</th>\n",
       "      <td>0.160298</td>\n",
       "      <td>0.038774</td>\n",
       "      <td>0.193350</td>\n",
       "    </tr>\n",
       "    <tr>\n",
       "      <th>Yes</th>\n",
       "      <td>0.163863</td>\n",
       "      <td>0.039389</td>\n",
       "      <td>0.151240</td>\n",
       "    </tr>\n",
       "  </tbody>\n",
       "</table>\n",
       "</div>"
      ],
      "text/plain": [
       "                 mean       std  peak_to_peak\n",
       "day  smoker                                  \n",
       "Fri  No      0.151650  0.028123      0.067349\n",
       "     Yes     0.174783  0.051293      0.159925\n",
       "Sat  No      0.158048  0.039767      0.235193\n",
       "     Yes     0.147906  0.061375      0.290095\n",
       "Sun  No      0.160113  0.042347      0.193226\n",
       "     Yes     0.187250  0.154134      0.644685\n",
       "Thur No      0.160298  0.038774      0.193350\n",
       "     Yes     0.163863  0.039389      0.151240"
      ]
     },
     "execution_count": 27,
     "metadata": {},
     "output_type": "execute_result"
    },
    {
     "data": {
      "application/javascript": [
       "\n",
       "            setTimeout(function() {\n",
       "                var nbb_cell_id = 27;\n",
       "                var nbb_unformatted_code = \"grouped_result\";\n",
       "                var nbb_formatted_code = \"grouped_result\";\n",
       "                var nbb_cells = Jupyter.notebook.get_cells();\n",
       "                for (var i = 0; i < nbb_cells.length; ++i) {\n",
       "                    if (nbb_cells[i].input_prompt_number == nbb_cell_id) {\n",
       "                        if (nbb_cells[i].get_text() == nbb_unformatted_code) {\n",
       "                             nbb_cells[i].set_text(nbb_formatted_code);\n",
       "                        }\n",
       "                        break;\n",
       "                    }\n",
       "                }\n",
       "            }, 500);\n",
       "            "
      ],
      "text/plain": [
       "<IPython.core.display.Javascript object>"
      ]
     },
     "metadata": {},
     "output_type": "display_data"
    }
   ],
   "source": [
    "grouped_result"
   ]
  },
  {
   "cell_type": "markdown",
   "metadata": {},
   "source": [
    "Check all groups after `groupby`:"
   ]
  },
  {
   "cell_type": "code",
   "execution_count": 28,
   "metadata": {
    "scrolled": true
   },
   "outputs": [
    {
     "name": "stdout",
     "output_type": "stream",
     "text": [
      "('Fri', 'No')\n",
      "     total_bill   tip smoker  day    time  size   tip_pct  meanvalue\n",
      "91        22.49  3.50     No  Fri  Dinner     2  0.155625    0.15165\n",
      "94        22.75  3.25     No  Fri  Dinner     2  0.142857    0.15165\n",
      "99        12.46  1.50     No  Fri  Dinner     2  0.120385    0.15165\n",
      "223       15.98  3.00     No  Fri   Lunch     3  0.187735    0.15165\n",
      "('Fri', 'Yes')\n",
      "     total_bill   tip smoker  day    time  size   tip_pct  meanvalue\n",
      "90        28.97  3.00    Yes  Fri  Dinner     2  0.103555   0.174783\n",
      "92         5.75  1.00    Yes  Fri  Dinner     2  0.173913   0.174783\n",
      "93        16.32  4.30    Yes  Fri  Dinner     2  0.263480   0.174783\n",
      "95        40.17  4.73    Yes  Fri  Dinner     4  0.117750   0.174783\n",
      "96        27.28  4.00    Yes  Fri  Dinner     2  0.146628   0.174783\n",
      "97        12.03  1.50    Yes  Fri  Dinner     2  0.124688   0.174783\n",
      "98        21.01  3.00    Yes  Fri  Dinner     2  0.142789   0.174783\n",
      "100       11.35  2.50    Yes  Fri  Dinner     2  0.220264   0.174783\n",
      "101       15.38  3.00    Yes  Fri  Dinner     2  0.195059   0.174783\n",
      "220       12.16  2.20    Yes  Fri   Lunch     2  0.180921   0.174783\n",
      "221       13.42  3.48    Yes  Fri   Lunch     2  0.259314   0.174783\n",
      "222        8.58  1.92    Yes  Fri   Lunch     1  0.223776   0.174783\n",
      "224       13.42  1.58    Yes  Fri   Lunch     2  0.117735   0.174783\n",
      "225       16.27  2.50    Yes  Fri   Lunch     2  0.153657   0.174783\n",
      "226       10.09  2.00    Yes  Fri   Lunch     2  0.198216   0.174783\n",
      "('Sat', 'No')\n",
      "     total_bill   tip smoker  day    time  size   tip_pct  meanvalue\n",
      "19        20.65  3.35     No  Sat  Dinner     3  0.162228   0.158048\n",
      "20        17.92  4.08     No  Sat  Dinner     2  0.227679   0.158048\n",
      "21        20.29  2.75     No  Sat  Dinner     2  0.135535   0.158048\n",
      "22        15.77  2.23     No  Sat  Dinner     2  0.141408   0.158048\n",
      "23        39.42  7.58     No  Sat  Dinner     4  0.192288   0.158048\n",
      "24        19.82  3.18     No  Sat  Dinner     2  0.160444   0.158048\n",
      "25        17.81  2.34     No  Sat  Dinner     4  0.131387   0.158048\n",
      "26        13.37  2.00     No  Sat  Dinner     2  0.149589   0.158048\n",
      "27        12.69  2.00     No  Sat  Dinner     2  0.157604   0.158048\n",
      "28        21.70  4.30     No  Sat  Dinner     2  0.198157   0.158048\n",
      "29        19.65  3.00     No  Sat  Dinner     2  0.152672   0.158048\n",
      "30         9.55  1.45     No  Sat  Dinner     2  0.151832   0.158048\n",
      "31        18.35  2.50     No  Sat  Dinner     4  0.136240   0.158048\n",
      "32        15.06  3.00     No  Sat  Dinner     2  0.199203   0.158048\n",
      "33        20.69  2.45     No  Sat  Dinner     4  0.118415   0.158048\n",
      "34        17.78  3.27     No  Sat  Dinner     2  0.183915   0.158048\n",
      "35        24.06  3.60     No  Sat  Dinner     3  0.149626   0.158048\n",
      "36        16.31  2.00     No  Sat  Dinner     3  0.122624   0.158048\n",
      "37        16.93  3.07     No  Sat  Dinner     3  0.181335   0.158048\n",
      "38        18.69  2.31     No  Sat  Dinner     3  0.123596   0.158048\n",
      "39        31.27  5.00     No  Sat  Dinner     3  0.159898   0.158048\n",
      "40        16.04  2.24     No  Sat  Dinner     3  0.139651   0.158048\n",
      "57        26.41  1.50     No  Sat  Dinner     2  0.056797   0.158048\n",
      "59        48.27  6.73     No  Sat  Dinner     4  0.139424   0.158048\n",
      "64        17.59  2.64     No  Sat  Dinner     3  0.150085   0.158048\n",
      "65        20.08  3.15     No  Sat  Dinner     3  0.156873   0.158048\n",
      "66        16.45  2.47     No  Sat  Dinner     2  0.150152   0.158048\n",
      "68        20.23  2.01     No  Sat  Dinner     2  0.099357   0.158048\n",
      "70        12.02  1.97     No  Sat  Dinner     2  0.163894   0.158048\n",
      "71        17.07  3.00     No  Sat  Dinner     3  0.175747   0.158048\n",
      "74        14.73  2.20     No  Sat  Dinner     2  0.149355   0.158048\n",
      "75        10.51  1.25     No  Sat  Dinner     2  0.118934   0.158048\n",
      "104       20.92  4.08     No  Sat  Dinner     2  0.195029   0.158048\n",
      "108       18.24  3.76     No  Sat  Dinner     2  0.206140   0.158048\n",
      "110       14.00  3.00     No  Sat  Dinner     2  0.214286   0.158048\n",
      "111        7.25  1.00     No  Sat  Dinner     1  0.137931   0.158048\n",
      "212       48.33  9.00     No  Sat  Dinner     4  0.186220   0.158048\n",
      "227       20.45  3.00     No  Sat  Dinner     4  0.146699   0.158048\n",
      "228       13.28  2.72     No  Sat  Dinner     2  0.204819   0.158048\n",
      "232       11.61  3.39     No  Sat  Dinner     2  0.291990   0.158048\n",
      "233       10.77  1.47     No  Sat  Dinner     2  0.136490   0.158048\n",
      "235       10.07  1.25     No  Sat  Dinner     2  0.124131   0.158048\n",
      "238       35.83  4.67     No  Sat  Dinner     3  0.130338   0.158048\n",
      "239       29.03  5.92     No  Sat  Dinner     3  0.203927   0.158048\n",
      "242       17.82  1.75     No  Sat  Dinner     2  0.098204   0.158048\n",
      "('Sat', 'Yes')\n",
      "     total_bill    tip smoker  day    time  size   tip_pct  meanvalue\n",
      "56        38.01   3.00    Yes  Sat  Dinner     4  0.078927   0.147906\n",
      "58        11.24   1.76    Yes  Sat  Dinner     2  0.156584   0.147906\n",
      "60        20.29   3.21    Yes  Sat  Dinner     2  0.158206   0.147906\n",
      "61        13.81   2.00    Yes  Sat  Dinner     2  0.144823   0.147906\n",
      "62        11.02   1.98    Yes  Sat  Dinner     2  0.179673   0.147906\n",
      "63        18.29   3.76    Yes  Sat  Dinner     4  0.205577   0.147906\n",
      "67         3.07   1.00    Yes  Sat  Dinner     1  0.325733   0.147906\n",
      "69        15.01   2.09    Yes  Sat  Dinner     2  0.139241   0.147906\n",
      "72        26.86   3.14    Yes  Sat  Dinner     2  0.116902   0.147906\n",
      "73        25.28   5.00    Yes  Sat  Dinner     2  0.197785   0.147906\n",
      "76        17.92   3.08    Yes  Sat  Dinner     2  0.171875   0.147906\n",
      "102       44.30   2.50    Yes  Sat  Dinner     3  0.056433   0.147906\n",
      "103       22.42   3.48    Yes  Sat  Dinner     2  0.155219   0.147906\n",
      "105       15.36   1.64    Yes  Sat  Dinner     2  0.106771   0.147906\n",
      "106       20.49   4.06    Yes  Sat  Dinner     2  0.198145   0.147906\n",
      "107       25.21   4.29    Yes  Sat  Dinner     2  0.170171   0.147906\n",
      "109       14.31   4.00    Yes  Sat  Dinner     2  0.279525   0.147906\n",
      "168       10.59   1.61    Yes  Sat  Dinner     2  0.152030   0.147906\n",
      "169       10.63   2.00    Yes  Sat  Dinner     2  0.188147   0.147906\n",
      "170       50.81  10.00    Yes  Sat  Dinner     3  0.196812   0.147906\n",
      "171       15.81   3.16    Yes  Sat  Dinner     2  0.199873   0.147906\n",
      "206       26.59   3.41    Yes  Sat  Dinner     3  0.128244   0.147906\n",
      "207       38.73   3.00    Yes  Sat  Dinner     4  0.077459   0.147906\n",
      "208       24.27   2.03    Yes  Sat  Dinner     2  0.083642   0.147906\n",
      "209       12.76   2.23    Yes  Sat  Dinner     2  0.174765   0.147906\n",
      "210       30.06   2.00    Yes  Sat  Dinner     3  0.066534   0.147906\n",
      "211       25.89   5.16    Yes  Sat  Dinner     4  0.199305   0.147906\n",
      "213       13.27   2.50    Yes  Sat  Dinner     2  0.188395   0.147906\n",
      "214       28.17   6.50    Yes  Sat  Dinner     3  0.230742   0.147906\n",
      "215       12.90   1.10    Yes  Sat  Dinner     2  0.085271   0.147906\n",
      "216       28.15   3.00    Yes  Sat  Dinner     5  0.106572   0.147906\n",
      "217       11.59   1.50    Yes  Sat  Dinner     2  0.129422   0.147906\n",
      "218        7.74   1.44    Yes  Sat  Dinner     2  0.186047   0.147906\n",
      "219       30.14   3.09    Yes  Sat  Dinner     4  0.102522   0.147906\n",
      "229       22.12   2.88    Yes  Sat  Dinner     2  0.130199   0.147906\n",
      "230       24.01   2.00    Yes  Sat  Dinner     4  0.083299   0.147906\n",
      "231       15.69   3.00    Yes  Sat  Dinner     3  0.191205   0.147906\n",
      "234       15.53   3.00    Yes  Sat  Dinner     2  0.193175   0.147906\n",
      "236       12.60   1.00    Yes  Sat  Dinner     2  0.079365   0.147906\n",
      "237       32.83   1.17    Yes  Sat  Dinner     2  0.035638   0.147906\n",
      "240       27.18   2.00    Yes  Sat  Dinner     2  0.073584   0.147906\n",
      "241       22.67   2.00    Yes  Sat  Dinner     2  0.088222   0.147906\n",
      "('Sun', 'No')\n",
      "     total_bill   tip smoker  day    time  size   tip_pct  meanvalue\n",
      "0         16.99  1.01     No  Sun  Dinner     2  0.059447   0.160113\n",
      "1         10.34  1.66     No  Sun  Dinner     3  0.160542   0.160113\n",
      "2         21.01  3.50     No  Sun  Dinner     3  0.166587   0.160113\n",
      "3         23.68  3.31     No  Sun  Dinner     2  0.139780   0.160113\n",
      "4         24.59  3.61     No  Sun  Dinner     4  0.146808   0.160113\n",
      "5         25.29  4.71     No  Sun  Dinner     4  0.186240   0.160113\n",
      "6          8.77  2.00     No  Sun  Dinner     2  0.228050   0.160113\n",
      "7         26.88  3.12     No  Sun  Dinner     4  0.116071   0.160113\n",
      "8         15.04  1.96     No  Sun  Dinner     2  0.130319   0.160113\n",
      "9         14.78  3.23     No  Sun  Dinner     2  0.218539   0.160113\n",
      "10        10.27  1.71     No  Sun  Dinner     2  0.166504   0.160113\n",
      "11        35.26  5.00     No  Sun  Dinner     4  0.141804   0.160113\n",
      "12        15.42  1.57     No  Sun  Dinner     2  0.101816   0.160113\n",
      "13        18.43  3.00     No  Sun  Dinner     4  0.162778   0.160113\n",
      "14        14.83  3.02     No  Sun  Dinner     2  0.203641   0.160113\n",
      "15        21.58  3.92     No  Sun  Dinner     2  0.181650   0.160113\n",
      "16        10.33  1.67     No  Sun  Dinner     3  0.161665   0.160113\n",
      "17        16.29  3.71     No  Sun  Dinner     3  0.227747   0.160113\n",
      "18        16.97  3.50     No  Sun  Dinner     3  0.206246   0.160113\n",
      "41        17.46  2.54     No  Sun  Dinner     2  0.145475   0.160113\n",
      "42        13.94  3.06     No  Sun  Dinner     2  0.219512   0.160113\n",
      "43         9.68  1.32     No  Sun  Dinner     2  0.136364   0.160113\n",
      "44        30.40  5.60     No  Sun  Dinner     4  0.184211   0.160113\n",
      "45        18.29  3.00     No  Sun  Dinner     2  0.164024   0.160113\n",
      "46        22.23  5.00     No  Sun  Dinner     2  0.224921   0.160113\n",
      "47        32.40  6.00     No  Sun  Dinner     4  0.185185   0.160113\n",
      "48        28.55  2.05     No  Sun  Dinner     3  0.071804   0.160113\n",
      "49        18.04  3.00     No  Sun  Dinner     2  0.166297   0.160113\n",
      "50        12.54  2.50     No  Sun  Dinner     2  0.199362   0.160113\n",
      "51        10.29  2.60     No  Sun  Dinner     2  0.252672   0.160113\n",
      "52        34.81  5.20     No  Sun  Dinner     4  0.149382   0.160113\n",
      "53         9.94  1.56     No  Sun  Dinner     2  0.156942   0.160113\n",
      "54        25.56  4.34     No  Sun  Dinner     4  0.169797   0.160113\n",
      "55        19.49  3.51     No  Sun  Dinner     2  0.180092   0.160113\n",
      "112       38.07  4.00     No  Sun  Dinner     3  0.105070   0.160113\n",
      "113       23.95  2.55     No  Sun  Dinner     2  0.106472   0.160113\n",
      "114       25.71  4.00     No  Sun  Dinner     3  0.155581   0.160113\n",
      "115       17.31  3.50     No  Sun  Dinner     2  0.202195   0.160113\n",
      "116       29.93  5.07     No  Sun  Dinner     4  0.169395   0.160113\n",
      "150       14.07  2.50     No  Sun  Dinner     2  0.177683   0.160113\n",
      "151       13.13  2.00     No  Sun  Dinner     2  0.152323   0.160113\n",
      "152       17.26  2.74     No  Sun  Dinner     3  0.158749   0.160113\n",
      "153       24.55  2.00     No  Sun  Dinner     4  0.081466   0.160113\n",
      "154       19.77  2.00     No  Sun  Dinner     4  0.101163   0.160113\n",
      "155       29.85  5.14     No  Sun  Dinner     5  0.172194   0.160113\n",
      "156       48.17  5.00     No  Sun  Dinner     6  0.103799   0.160113\n",
      "157       25.00  3.75     No  Sun  Dinner     4  0.150000   0.160113\n",
      "158       13.39  2.61     No  Sun  Dinner     2  0.194922   0.160113\n",
      "159       16.49  2.00     No  Sun  Dinner     4  0.121286   0.160113\n",
      "160       21.50  3.50     No  Sun  Dinner     4  0.162791   0.160113\n",
      "161       12.66  2.50     No  Sun  Dinner     2  0.197472   0.160113\n",
      "162       16.21  2.00     No  Sun  Dinner     3  0.123381   0.160113\n",
      "163       13.81  2.00     No  Sun  Dinner     2  0.144823   0.160113\n",
      "165       24.52  3.48     No  Sun  Dinner     3  0.141925   0.160113\n",
      "166       20.76  2.24     No  Sun  Dinner     2  0.107900   0.160113\n",
      "167       31.71  4.50     No  Sun  Dinner     4  0.141911   0.160113\n",
      "185       20.69  5.00     No  Sun  Dinner     5  0.241663   0.160113\n",
      "('Sun', 'Yes')\n",
      "     total_bill   tip smoker  day    time  size   tip_pct  meanvalue\n",
      "164       17.51  3.00    Yes  Sun  Dinner     2  0.171331    0.18725\n",
      "172        7.25  5.15    Yes  Sun  Dinner     2  0.710345    0.18725\n",
      "173       31.85  3.18    Yes  Sun  Dinner     2  0.099843    0.18725\n",
      "174       16.82  4.00    Yes  Sun  Dinner     2  0.237812    0.18725\n",
      "175       32.90  3.11    Yes  Sun  Dinner     2  0.094529    0.18725\n",
      "176       17.89  2.00    Yes  Sun  Dinner     2  0.111794    0.18725\n",
      "177       14.48  2.00    Yes  Sun  Dinner     2  0.138122    0.18725\n",
      "178        9.60  4.00    Yes  Sun  Dinner     2  0.416667    0.18725\n",
      "179       34.63  3.55    Yes  Sun  Dinner     2  0.102512    0.18725\n",
      "180       34.65  3.68    Yes  Sun  Dinner     4  0.106205    0.18725\n",
      "181       23.33  5.65    Yes  Sun  Dinner     2  0.242177    0.18725\n",
      "182       45.35  3.50    Yes  Sun  Dinner     3  0.077178    0.18725\n",
      "183       23.17  6.50    Yes  Sun  Dinner     4  0.280535    0.18725\n",
      "184       40.55  3.00    Yes  Sun  Dinner     2  0.073983    0.18725\n",
      "186       20.90  3.50    Yes  Sun  Dinner     3  0.167464    0.18725\n",
      "187       30.46  2.00    Yes  Sun  Dinner     5  0.065660    0.18725\n",
      "188       18.15  3.50    Yes  Sun  Dinner     3  0.192837    0.18725\n",
      "189       23.10  4.00    Yes  Sun  Dinner     3  0.173160    0.18725\n",
      "190       15.69  1.50    Yes  Sun  Dinner     2  0.095602    0.18725\n",
      "('Thur', 'No')\n",
      "     total_bill   tip smoker   day    time  size   tip_pct  meanvalue\n",
      "77        27.20  4.00     No  Thur   Lunch     4  0.147059   0.160298\n",
      "78        22.76  3.00     No  Thur   Lunch     2  0.131810   0.160298\n",
      "79        17.29  2.71     No  Thur   Lunch     2  0.156738   0.160298\n",
      "81        16.66  3.40     No  Thur   Lunch     2  0.204082   0.160298\n",
      "82        10.07  1.83     No  Thur   Lunch     1  0.181728   0.160298\n",
      "84        15.98  2.03     No  Thur   Lunch     2  0.127034   0.160298\n",
      "85        34.83  5.17     No  Thur   Lunch     4  0.148435   0.160298\n",
      "86        13.03  2.00     No  Thur   Lunch     2  0.153492   0.160298\n",
      "87        18.28  4.00     No  Thur   Lunch     2  0.218818   0.160298\n",
      "88        24.71  5.85     No  Thur   Lunch     2  0.236746   0.160298\n",
      "89        21.16  3.00     No  Thur   Lunch     2  0.141777   0.160298\n",
      "117       10.65  1.50     No  Thur   Lunch     2  0.140845   0.160298\n",
      "118       12.43  1.80     No  Thur   Lunch     2  0.144811   0.160298\n",
      "119       24.08  2.92     No  Thur   Lunch     4  0.121262   0.160298\n",
      "120       11.69  2.31     No  Thur   Lunch     2  0.197605   0.160298\n",
      "121       13.42  1.68     No  Thur   Lunch     2  0.125186   0.160298\n",
      "122       14.26  2.50     No  Thur   Lunch     2  0.175316   0.160298\n",
      "123       15.95  2.00     No  Thur   Lunch     2  0.125392   0.160298\n",
      "124       12.48  2.52     No  Thur   Lunch     2  0.201923   0.160298\n",
      "125       29.80  4.20     No  Thur   Lunch     6  0.140940   0.160298\n",
      "126        8.52  1.48     No  Thur   Lunch     2  0.173709   0.160298\n",
      "127       14.52  2.00     No  Thur   Lunch     2  0.137741   0.160298\n",
      "128       11.38  2.00     No  Thur   Lunch     2  0.175747   0.160298\n",
      "129       22.82  2.18     No  Thur   Lunch     3  0.095530   0.160298\n",
      "130       19.08  1.50     No  Thur   Lunch     2  0.078616   0.160298\n",
      "131       20.27  2.83     No  Thur   Lunch     2  0.139615   0.160298\n",
      "132       11.17  1.50     No  Thur   Lunch     2  0.134288   0.160298\n",
      "133       12.26  2.00     No  Thur   Lunch     2  0.163132   0.160298\n",
      "134       18.26  3.25     No  Thur   Lunch     2  0.177985   0.160298\n",
      "135        8.51  1.25     No  Thur   Lunch     2  0.146886   0.160298\n",
      "136       10.33  2.00     No  Thur   Lunch     2  0.193611   0.160298\n",
      "137       14.15  2.00     No  Thur   Lunch     2  0.141343   0.160298\n",
      "139       13.16  2.75     No  Thur   Lunch     2  0.208967   0.160298\n",
      "140       17.47  3.50     No  Thur   Lunch     2  0.200343   0.160298\n",
      "141       34.30  6.70     No  Thur   Lunch     6  0.195335   0.160298\n",
      "142       41.19  5.00     No  Thur   Lunch     5  0.121389   0.160298\n",
      "143       27.05  5.00     No  Thur   Lunch     6  0.184843   0.160298\n",
      "144       16.43  2.30     No  Thur   Lunch     2  0.139988   0.160298\n",
      "145        8.35  1.50     No  Thur   Lunch     2  0.179641   0.160298\n",
      "146       18.64  1.36     No  Thur   Lunch     3  0.072961   0.160298\n",
      "147       11.87  1.63     No  Thur   Lunch     2  0.137321   0.160298\n",
      "148        9.78  1.73     No  Thur   Lunch     2  0.176892   0.160298\n",
      "149        7.51  2.00     No  Thur   Lunch     2  0.266312   0.160298\n",
      "195        7.56  1.44     No  Thur   Lunch     2  0.190476   0.160298\n",
      "243       18.78  3.00     No  Thur  Dinner     2  0.159744   0.160298\n",
      "('Thur', 'Yes')\n",
      "     total_bill   tip smoker   day   time  size   tip_pct  meanvalue\n",
      "80        19.44  3.00    Yes  Thur  Lunch     2  0.154321   0.163863\n",
      "83        32.68  5.00    Yes  Thur  Lunch     2  0.152999   0.163863\n",
      "138       16.00  2.00    Yes  Thur  Lunch     2  0.125000   0.163863\n",
      "191       19.81  4.19    Yes  Thur  Lunch     2  0.211509   0.163863\n",
      "192       28.44  2.56    Yes  Thur  Lunch     2  0.090014   0.163863\n",
      "193       15.48  2.02    Yes  Thur  Lunch     2  0.130491   0.163863\n",
      "194       16.58  4.00    Yes  Thur  Lunch     2  0.241255   0.163863\n",
      "196       10.34  2.00    Yes  Thur  Lunch     2  0.193424   0.163863\n",
      "197       43.11  5.00    Yes  Thur  Lunch     4  0.115982   0.163863\n",
      "198       13.00  2.00    Yes  Thur  Lunch     2  0.153846   0.163863\n",
      "199       13.51  2.00    Yes  Thur  Lunch     2  0.148038   0.163863\n",
      "200       18.71  4.00    Yes  Thur  Lunch     3  0.213789   0.163863\n",
      "201       12.74  2.01    Yes  Thur  Lunch     2  0.157771   0.163863\n",
      "202       13.00  2.00    Yes  Thur  Lunch     2  0.153846   0.163863\n",
      "203       16.40  2.50    Yes  Thur  Lunch     2  0.152439   0.163863\n",
      "204       20.53  4.00    Yes  Thur  Lunch     4  0.194837   0.163863\n",
      "205       16.47  3.23    Yes  Thur  Lunch     3  0.196114   0.163863\n"
     ]
    },
    {
     "data": {
      "application/javascript": [
       "\n",
       "            setTimeout(function() {\n",
       "                var nbb_cell_id = 28;\n",
       "                var nbb_unformatted_code = \"for index, subdata in tips.groupby([\\\"day\\\", \\\"smoker\\\"]):\\n    print(index)\\n    print(subdata)\";\n",
       "                var nbb_formatted_code = \"for index, subdata in tips.groupby([\\\"day\\\", \\\"smoker\\\"]):\\n    print(index)\\n    print(subdata)\";\n",
       "                var nbb_cells = Jupyter.notebook.get_cells();\n",
       "                for (var i = 0; i < nbb_cells.length; ++i) {\n",
       "                    if (nbb_cells[i].input_prompt_number == nbb_cell_id) {\n",
       "                        if (nbb_cells[i].get_text() == nbb_unformatted_code) {\n",
       "                             nbb_cells[i].set_text(nbb_formatted_code);\n",
       "                        }\n",
       "                        break;\n",
       "                    }\n",
       "                }\n",
       "            }, 500);\n",
       "            "
      ],
      "text/plain": [
       "<IPython.core.display.Javascript object>"
      ]
     },
     "metadata": {},
     "output_type": "display_data"
    }
   ],
   "source": [
    "for index, subdata in tips.groupby([\"day\", \"smoker\"]):\n",
    "    print(index)\n",
    "    print(subdata)"
   ]
  },
  {
   "cell_type": "code",
   "execution_count": 29,
   "metadata": {},
   "outputs": [
    {
     "data": {
      "text/html": [
       "<div>\n",
       "<style scoped>\n",
       "    .dataframe tbody tr th:only-of-type {\n",
       "        vertical-align: middle;\n",
       "    }\n",
       "\n",
       "    .dataframe tbody tr th {\n",
       "        vertical-align: top;\n",
       "    }\n",
       "\n",
       "    .dataframe thead th {\n",
       "        text-align: right;\n",
       "    }\n",
       "</style>\n",
       "<table border=\"1\" class=\"dataframe\">\n",
       "  <thead>\n",
       "    <tr style=\"text-align: right;\">\n",
       "      <th></th>\n",
       "      <th>day</th>\n",
       "      <th>smoker</th>\n",
       "      <th>tip_pct</th>\n",
       "    </tr>\n",
       "  </thead>\n",
       "  <tbody>\n",
       "    <tr>\n",
       "      <th>0</th>\n",
       "      <td>Fri</td>\n",
       "      <td>No</td>\n",
       "      <td>0.151650</td>\n",
       "    </tr>\n",
       "    <tr>\n",
       "      <th>1</th>\n",
       "      <td>Fri</td>\n",
       "      <td>Yes</td>\n",
       "      <td>0.174783</td>\n",
       "    </tr>\n",
       "    <tr>\n",
       "      <th>2</th>\n",
       "      <td>Sat</td>\n",
       "      <td>No</td>\n",
       "      <td>0.158048</td>\n",
       "    </tr>\n",
       "    <tr>\n",
       "      <th>3</th>\n",
       "      <td>Sat</td>\n",
       "      <td>Yes</td>\n",
       "      <td>0.147906</td>\n",
       "    </tr>\n",
       "    <tr>\n",
       "      <th>4</th>\n",
       "      <td>Sun</td>\n",
       "      <td>No</td>\n",
       "      <td>0.160113</td>\n",
       "    </tr>\n",
       "    <tr>\n",
       "      <th>5</th>\n",
       "      <td>Sun</td>\n",
       "      <td>Yes</td>\n",
       "      <td>0.187250</td>\n",
       "    </tr>\n",
       "    <tr>\n",
       "      <th>6</th>\n",
       "      <td>Thur</td>\n",
       "      <td>No</td>\n",
       "      <td>0.160298</td>\n",
       "    </tr>\n",
       "    <tr>\n",
       "      <th>7</th>\n",
       "      <td>Thur</td>\n",
       "      <td>Yes</td>\n",
       "      <td>0.163863</td>\n",
       "    </tr>\n",
       "  </tbody>\n",
       "</table>\n",
       "</div>"
      ],
      "text/plain": [
       "    day smoker   tip_pct\n",
       "0   Fri     No  0.151650\n",
       "1   Fri    Yes  0.174783\n",
       "2   Sat     No  0.158048\n",
       "3   Sat    Yes  0.147906\n",
       "4   Sun     No  0.160113\n",
       "5   Sun    Yes  0.187250\n",
       "6  Thur     No  0.160298\n",
       "7  Thur    Yes  0.163863"
      ]
     },
     "execution_count": 29,
     "metadata": {},
     "output_type": "execute_result"
    },
    {
     "data": {
      "application/javascript": [
       "\n",
       "            setTimeout(function() {\n",
       "                var nbb_cell_id = 29;\n",
       "                var nbb_unformatted_code = \"# Avoid hierarchical index: pass as_index=False to groupby\\ntips.groupby([\\\"day\\\", \\\"smoker\\\"], as_index=False)[[\\\"tip_pct\\\"]].mean()\";\n",
       "                var nbb_formatted_code = \"# Avoid hierarchical index: pass as_index=False to groupby\\ntips.groupby([\\\"day\\\", \\\"smoker\\\"], as_index=False)[[\\\"tip_pct\\\"]].mean()\";\n",
       "                var nbb_cells = Jupyter.notebook.get_cells();\n",
       "                for (var i = 0; i < nbb_cells.length; ++i) {\n",
       "                    if (nbb_cells[i].input_prompt_number == nbb_cell_id) {\n",
       "                        if (nbb_cells[i].get_text() == nbb_unformatted_code) {\n",
       "                             nbb_cells[i].set_text(nbb_formatted_code);\n",
       "                        }\n",
       "                        break;\n",
       "                    }\n",
       "                }\n",
       "            }, 500);\n",
       "            "
      ],
      "text/plain": [
       "<IPython.core.display.Javascript object>"
      ]
     },
     "metadata": {},
     "output_type": "display_data"
    }
   ],
   "source": [
    "# Avoid hierarchical index: pass as_index=False to groupby\n",
    "tips.groupby([\"day\", \"smoker\"], as_index=False)[[\"tip_pct\"]].mean()"
   ]
  },
  {
   "cell_type": "markdown",
   "metadata": {},
   "source": [
    "## Section 3. Date and Time Data Types and Tools\n",
    "\n",
    "The built-in Python `datetime` module provides `datetime`, `date`, and `time` types. The `datetime` type, as you may imagine, combines the information stored in `date` and `time` and is the most commonly used."
   ]
  },
  {
   "cell_type": "code",
   "execution_count": 30,
   "metadata": {},
   "outputs": [
    {
     "data": {
      "application/javascript": [
       "\n",
       "            setTimeout(function() {\n",
       "                var nbb_cell_id = 30;\n",
       "                var nbb_unformatted_code = \"from datetime import datetime, date, time\\n\\n# import datetime\";\n",
       "                var nbb_formatted_code = \"from datetime import datetime, date, time\\n\\n# import datetime\";\n",
       "                var nbb_cells = Jupyter.notebook.get_cells();\n",
       "                for (var i = 0; i < nbb_cells.length; ++i) {\n",
       "                    if (nbb_cells[i].input_prompt_number == nbb_cell_id) {\n",
       "                        if (nbb_cells[i].get_text() == nbb_unformatted_code) {\n",
       "                             nbb_cells[i].set_text(nbb_formatted_code);\n",
       "                        }\n",
       "                        break;\n",
       "                    }\n",
       "                }\n",
       "            }, 500);\n",
       "            "
      ],
      "text/plain": [
       "<IPython.core.display.Javascript object>"
      ]
     },
     "metadata": {},
     "output_type": "display_data"
    }
   ],
   "source": [
    "from datetime import datetime, date, time\n",
    "\n",
    "# import datetime"
   ]
  },
  {
   "cell_type": "markdown",
   "metadata": {},
   "source": [
    "### Create a `datetime` from numbers"
   ]
  },
  {
   "cell_type": "code",
   "execution_count": 31,
   "metadata": {},
   "outputs": [
    {
     "data": {
      "text/plain": [
       "datetime.datetime(2021, 5, 12, 19, 30, 21)"
      ]
     },
     "execution_count": 31,
     "metadata": {},
     "output_type": "execute_result"
    },
    {
     "data": {
      "application/javascript": [
       "\n",
       "            setTimeout(function() {\n",
       "                var nbb_cell_id = 31;\n",
       "                var nbb_unformatted_code = \"dt_year = 2021\\ndt_month = 5\\ndt_day = 12\\ndt_hour = 19\\ndt_minute = 30\\ndt_second = 21\\n\\ndt = datetime(dt_year, dt_month, dt_day, dt_hour, dt_minute, dt_second)\\ndt\";\n",
       "                var nbb_formatted_code = \"dt_year = 2021\\ndt_month = 5\\ndt_day = 12\\ndt_hour = 19\\ndt_minute = 30\\ndt_second = 21\\n\\ndt = datetime(dt_year, dt_month, dt_day, dt_hour, dt_minute, dt_second)\\ndt\";\n",
       "                var nbb_cells = Jupyter.notebook.get_cells();\n",
       "                for (var i = 0; i < nbb_cells.length; ++i) {\n",
       "                    if (nbb_cells[i].input_prompt_number == nbb_cell_id) {\n",
       "                        if (nbb_cells[i].get_text() == nbb_unformatted_code) {\n",
       "                             nbb_cells[i].set_text(nbb_formatted_code);\n",
       "                        }\n",
       "                        break;\n",
       "                    }\n",
       "                }\n",
       "            }, 500);\n",
       "            "
      ],
      "text/plain": [
       "<IPython.core.display.Javascript object>"
      ]
     },
     "metadata": {},
     "output_type": "display_data"
    }
   ],
   "source": [
    "dt_year = 2021\n",
    "dt_month = 5\n",
    "dt_day = 12\n",
    "dt_hour = 19\n",
    "dt_minute = 30\n",
    "dt_second = 21\n",
    "\n",
    "dt = datetime(dt_year, dt_month, dt_day, dt_hour, dt_minute, dt_second)\n",
    "dt"
   ]
  },
  {
   "cell_type": "code",
   "execution_count": 32,
   "metadata": {},
   "outputs": [
    {
     "data": {
      "text/plain": [
       "12"
      ]
     },
     "execution_count": 32,
     "metadata": {},
     "output_type": "execute_result"
    },
    {
     "data": {
      "application/javascript": [
       "\n",
       "            setTimeout(function() {\n",
       "                var nbb_cell_id = 32;\n",
       "                var nbb_unformatted_code = \"dt.day\";\n",
       "                var nbb_formatted_code = \"dt.day\";\n",
       "                var nbb_cells = Jupyter.notebook.get_cells();\n",
       "                for (var i = 0; i < nbb_cells.length; ++i) {\n",
       "                    if (nbb_cells[i].input_prompt_number == nbb_cell_id) {\n",
       "                        if (nbb_cells[i].get_text() == nbb_unformatted_code) {\n",
       "                             nbb_cells[i].set_text(nbb_formatted_code);\n",
       "                        }\n",
       "                        break;\n",
       "                    }\n",
       "                }\n",
       "            }, 500);\n",
       "            "
      ],
      "text/plain": [
       "<IPython.core.display.Javascript object>"
      ]
     },
     "metadata": {},
     "output_type": "display_data"
    }
   ],
   "source": [
    "dt.day"
   ]
  },
  {
   "cell_type": "code",
   "execution_count": 33,
   "metadata": {},
   "outputs": [
    {
     "data": {
      "text/plain": [
       "30"
      ]
     },
     "execution_count": 33,
     "metadata": {},
     "output_type": "execute_result"
    },
    {
     "data": {
      "application/javascript": [
       "\n",
       "            setTimeout(function() {\n",
       "                var nbb_cell_id = 33;\n",
       "                var nbb_unformatted_code = \"dt.minute\";\n",
       "                var nbb_formatted_code = \"dt.minute\";\n",
       "                var nbb_cells = Jupyter.notebook.get_cells();\n",
       "                for (var i = 0; i < nbb_cells.length; ++i) {\n",
       "                    if (nbb_cells[i].input_prompt_number == nbb_cell_id) {\n",
       "                        if (nbb_cells[i].get_text() == nbb_unformatted_code) {\n",
       "                             nbb_cells[i].set_text(nbb_formatted_code);\n",
       "                        }\n",
       "                        break;\n",
       "                    }\n",
       "                }\n",
       "            }, 500);\n",
       "            "
      ],
      "text/plain": [
       "<IPython.core.display.Javascript object>"
      ]
     },
     "metadata": {},
     "output_type": "display_data"
    }
   ],
   "source": [
    "dt.minute"
   ]
  },
  {
   "cell_type": "code",
   "execution_count": 34,
   "metadata": {},
   "outputs": [
    {
     "data": {
      "text/plain": [
       "datetime.date(2021, 5, 12)"
      ]
     },
     "execution_count": 34,
     "metadata": {},
     "output_type": "execute_result"
    },
    {
     "data": {
      "application/javascript": [
       "\n",
       "            setTimeout(function() {\n",
       "                var nbb_cell_id = 34;\n",
       "                var nbb_unformatted_code = \"dt.date()\";\n",
       "                var nbb_formatted_code = \"dt.date()\";\n",
       "                var nbb_cells = Jupyter.notebook.get_cells();\n",
       "                for (var i = 0; i < nbb_cells.length; ++i) {\n",
       "                    if (nbb_cells[i].input_prompt_number == nbb_cell_id) {\n",
       "                        if (nbb_cells[i].get_text() == nbb_unformatted_code) {\n",
       "                             nbb_cells[i].set_text(nbb_formatted_code);\n",
       "                        }\n",
       "                        break;\n",
       "                    }\n",
       "                }\n",
       "            }, 500);\n",
       "            "
      ],
      "text/plain": [
       "<IPython.core.display.Javascript object>"
      ]
     },
     "metadata": {},
     "output_type": "display_data"
    }
   ],
   "source": [
    "dt.date()"
   ]
  },
  {
   "cell_type": "code",
   "execution_count": 35,
   "metadata": {},
   "outputs": [
    {
     "data": {
      "text/plain": [
       "datetime.date(2021, 5, 12)"
      ]
     },
     "execution_count": 35,
     "metadata": {},
     "output_type": "execute_result"
    },
    {
     "data": {
      "application/javascript": [
       "\n",
       "            setTimeout(function() {\n",
       "                var nbb_cell_id = 35;\n",
       "                var nbb_unformatted_code = \"date(dt_year, dt_month, dt_day)\";\n",
       "                var nbb_formatted_code = \"date(dt_year, dt_month, dt_day)\";\n",
       "                var nbb_cells = Jupyter.notebook.get_cells();\n",
       "                for (var i = 0; i < nbb_cells.length; ++i) {\n",
       "                    if (nbb_cells[i].input_prompt_number == nbb_cell_id) {\n",
       "                        if (nbb_cells[i].get_text() == nbb_unformatted_code) {\n",
       "                             nbb_cells[i].set_text(nbb_formatted_code);\n",
       "                        }\n",
       "                        break;\n",
       "                    }\n",
       "                }\n",
       "            }, 500);\n",
       "            "
      ],
      "text/plain": [
       "<IPython.core.display.Javascript object>"
      ]
     },
     "metadata": {},
     "output_type": "display_data"
    }
   ],
   "source": [
    "date(dt_year, dt_month, dt_day)"
   ]
  },
  {
   "cell_type": "code",
   "execution_count": 36,
   "metadata": {},
   "outputs": [
    {
     "data": {
      "text/plain": [
       "datetime.time(19, 30)"
      ]
     },
     "execution_count": 36,
     "metadata": {},
     "output_type": "execute_result"
    },
    {
     "data": {
      "application/javascript": [
       "\n",
       "            setTimeout(function() {\n",
       "                var nbb_cell_id = 36;\n",
       "                var nbb_unformatted_code = \"time(dt_hour, dt_minute)\";\n",
       "                var nbb_formatted_code = \"time(dt_hour, dt_minute)\";\n",
       "                var nbb_cells = Jupyter.notebook.get_cells();\n",
       "                for (var i = 0; i < nbb_cells.length; ++i) {\n",
       "                    if (nbb_cells[i].input_prompt_number == nbb_cell_id) {\n",
       "                        if (nbb_cells[i].get_text() == nbb_unformatted_code) {\n",
       "                             nbb_cells[i].set_text(nbb_formatted_code);\n",
       "                        }\n",
       "                        break;\n",
       "                    }\n",
       "                }\n",
       "            }, 500);\n",
       "            "
      ],
      "text/plain": [
       "<IPython.core.display.Javascript object>"
      ]
     },
     "metadata": {},
     "output_type": "display_data"
    }
   ],
   "source": [
    "time(dt_hour, dt_minute)"
   ]
  },
  {
   "cell_type": "markdown",
   "metadata": {},
   "source": [
    "### Converting between String and Datetime\n",
    "\n",
    "- Datetime $\\rightarrow$ String: \n",
    "    1. `str(dt)`\n",
    "    2. `dt.strftime('%m/%d/%Y %H:%M')`, where '%m/%d/%Y %H:%M' is the time string format you choose.\n",
    "    \n",
    "    \n",
    "- String $\\rightarrow$ Datetime: \n",
    "\n",
    "    - `datetime.strptime('%m/%d/%Y %H:%M:%S')`, where '%m/%d/%Y %H:%M' is the `mystring` specific format.\n",
    "    "
   ]
  },
  {
   "cell_type": "code",
   "execution_count": 37,
   "metadata": {},
   "outputs": [
    {
     "data": {
      "text/plain": [
       "'2021-05-12 19:30:21'"
      ]
     },
     "execution_count": 37,
     "metadata": {},
     "output_type": "execute_result"
    },
    {
     "data": {
      "application/javascript": [
       "\n",
       "            setTimeout(function() {\n",
       "                var nbb_cell_id = 37;\n",
       "                var nbb_unformatted_code = \"# Datetime to string\\n\\n# Method 1\\nstr(dt)\";\n",
       "                var nbb_formatted_code = \"# Datetime to string\\n\\n# Method 1\\nstr(dt)\";\n",
       "                var nbb_cells = Jupyter.notebook.get_cells();\n",
       "                for (var i = 0; i < nbb_cells.length; ++i) {\n",
       "                    if (nbb_cells[i].input_prompt_number == nbb_cell_id) {\n",
       "                        if (nbb_cells[i].get_text() == nbb_unformatted_code) {\n",
       "                             nbb_cells[i].set_text(nbb_formatted_code);\n",
       "                        }\n",
       "                        break;\n",
       "                    }\n",
       "                }\n",
       "            }, 500);\n",
       "            "
      ],
      "text/plain": [
       "<IPython.core.display.Javascript object>"
      ]
     },
     "metadata": {},
     "output_type": "display_data"
    }
   ],
   "source": [
    "# Datetime to string\n",
    "\n",
    "# Method 1\n",
    "str(dt)"
   ]
  },
  {
   "cell_type": "code",
   "execution_count": 38,
   "metadata": {},
   "outputs": [
    {
     "data": {
      "text/plain": [
       "'05/12/2021 07:30:21 PM'"
      ]
     },
     "execution_count": 38,
     "metadata": {},
     "output_type": "execute_result"
    },
    {
     "data": {
      "application/javascript": [
       "\n",
       "            setTimeout(function() {\n",
       "                var nbb_cell_id = 38;\n",
       "                var nbb_unformatted_code = \"# Datetime to string\\n\\n# Method 2\\ndt.strftime(\\\"%m/%d/%Y %I:%M:%S PM\\\")\";\n",
       "                var nbb_formatted_code = \"# Datetime to string\\n\\n# Method 2\\ndt.strftime(\\\"%m/%d/%Y %I:%M:%S PM\\\")\";\n",
       "                var nbb_cells = Jupyter.notebook.get_cells();\n",
       "                for (var i = 0; i < nbb_cells.length; ++i) {\n",
       "                    if (nbb_cells[i].input_prompt_number == nbb_cell_id) {\n",
       "                        if (nbb_cells[i].get_text() == nbb_unformatted_code) {\n",
       "                             nbb_cells[i].set_text(nbb_formatted_code);\n",
       "                        }\n",
       "                        break;\n",
       "                    }\n",
       "                }\n",
       "            }, 500);\n",
       "            "
      ],
      "text/plain": [
       "<IPython.core.display.Javascript object>"
      ]
     },
     "metadata": {},
     "output_type": "display_data"
    }
   ],
   "source": [
    "# Datetime to string\n",
    "\n",
    "# Method 2\n",
    "dt.strftime(\"%m/%d/%Y %I:%M:%S PM\")"
   ]
  },
  {
   "cell_type": "code",
   "execution_count": 39,
   "metadata": {},
   "outputs": [
    {
     "data": {
      "text/plain": [
       "datetime.datetime(2021, 5, 12, 7, 30, 21)"
      ]
     },
     "execution_count": 39,
     "metadata": {},
     "output_type": "execute_result"
    },
    {
     "data": {
      "application/javascript": [
       "\n",
       "            setTimeout(function() {\n",
       "                var nbb_cell_id = 39;\n",
       "                var nbb_unformatted_code = \"# String to datetime\\nmystring = \\\"05/12/2021 07:30:21 PM\\\"\\n\\ndatetime.strptime(mystring, \\\"%m/%d/%Y %I:%M:%S PM\\\")\";\n",
       "                var nbb_formatted_code = \"# String to datetime\\nmystring = \\\"05/12/2021 07:30:21 PM\\\"\\n\\ndatetime.strptime(mystring, \\\"%m/%d/%Y %I:%M:%S PM\\\")\";\n",
       "                var nbb_cells = Jupyter.notebook.get_cells();\n",
       "                for (var i = 0; i < nbb_cells.length; ++i) {\n",
       "                    if (nbb_cells[i].input_prompt_number == nbb_cell_id) {\n",
       "                        if (nbb_cells[i].get_text() == nbb_unformatted_code) {\n",
       "                             nbb_cells[i].set_text(nbb_formatted_code);\n",
       "                        }\n",
       "                        break;\n",
       "                    }\n",
       "                }\n",
       "            }, 500);\n",
       "            "
      ],
      "text/plain": [
       "<IPython.core.display.Javascript object>"
      ]
     },
     "metadata": {},
     "output_type": "display_data"
    }
   ],
   "source": [
    "# String to datetime\n",
    "mystring = \"05/12/2021 07:30:21 PM\"\n",
    "\n",
    "datetime.strptime(mystring, \"%m/%d/%Y %I:%M:%S PM\")"
   ]
  },
  {
   "cell_type": "markdown",
   "metadata": {},
   "source": [
    "<div style=\"width:image width px; font-size:100%; text-align:center;\"><img src='images/dt1.png' alt=\"alternate text\" width=\"width\" height=\"height\" style=\"width:600px;height:250px;\" /> </div>"
   ]
  },
  {
   "cell_type": "code",
   "execution_count": 40,
   "metadata": {},
   "outputs": [
    {
     "data": {
      "text/plain": [
       "datetime.datetime(2010, 2, 26, 0, 0)"
      ]
     },
     "execution_count": 40,
     "metadata": {},
     "output_type": "execute_result"
    },
    {
     "data": {
      "application/javascript": [
       "\n",
       "            setTimeout(function() {\n",
       "                var nbb_cell_id = 40;\n",
       "                var nbb_unformatted_code = \"# Another example\\nonedate = \\\"2010-02-26\\\"\\n\\ndatetime.strptime(onedate, \\\"%Y-%m-%d\\\")\";\n",
       "                var nbb_formatted_code = \"# Another example\\nonedate = \\\"2010-02-26\\\"\\n\\ndatetime.strptime(onedate, \\\"%Y-%m-%d\\\")\";\n",
       "                var nbb_cells = Jupyter.notebook.get_cells();\n",
       "                for (var i = 0; i < nbb_cells.length; ++i) {\n",
       "                    if (nbb_cells[i].input_prompt_number == nbb_cell_id) {\n",
       "                        if (nbb_cells[i].get_text() == nbb_unformatted_code) {\n",
       "                             nbb_cells[i].set_text(nbb_formatted_code);\n",
       "                        }\n",
       "                        break;\n",
       "                    }\n",
       "                }\n",
       "            }, 500);\n",
       "            "
      ],
      "text/plain": [
       "<IPython.core.display.Javascript object>"
      ]
     },
     "metadata": {},
     "output_type": "display_data"
    }
   ],
   "source": [
    "# Another example\n",
    "onedate = \"2010-02-26\"\n",
    "\n",
    "datetime.strptime(onedate, \"%Y-%m-%d\")"
   ]
  },
  {
   "cell_type": "markdown",
   "metadata": {},
   "source": [
    "**Time Series**\n",
    "\n",
    "A time series in pandas is a Series indexed by timestamps, i.e., strings or `datetime`."
   ]
  },
  {
   "cell_type": "code",
   "execution_count": 41,
   "metadata": {},
   "outputs": [
    {
     "data": {
      "text/plain": [
       "2011-01-02   -0.405602\n",
       "2011-01-05    1.254492\n",
       "2011-01-07   -0.531393\n",
       "2011-01-08    1.556687\n",
       "2011-01-10    2.085188\n",
       "2011-01-12   -1.561814\n",
       "dtype: float64"
      ]
     },
     "execution_count": 41,
     "metadata": {},
     "output_type": "execute_result"
    },
    {
     "data": {
      "application/javascript": [
       "\n",
       "            setTimeout(function() {\n",
       "                var nbb_cell_id = 41;\n",
       "                var nbb_unformatted_code = \"dates = [\\n    datetime(2011, 1, 2),\\n    datetime(2011, 1, 5),\\n    datetime(2011, 1, 7),\\n    datetime(2011, 1, 8),\\n    datetime(2011, 1, 10),\\n    datetime(2011, 1, 12),\\n]\\n\\nts = pd.Series(np.random.randn(6), index=dates)\\n\\nts\";\n",
       "                var nbb_formatted_code = \"dates = [\\n    datetime(2011, 1, 2),\\n    datetime(2011, 1, 5),\\n    datetime(2011, 1, 7),\\n    datetime(2011, 1, 8),\\n    datetime(2011, 1, 10),\\n    datetime(2011, 1, 12),\\n]\\n\\nts = pd.Series(np.random.randn(6), index=dates)\\n\\nts\";\n",
       "                var nbb_cells = Jupyter.notebook.get_cells();\n",
       "                for (var i = 0; i < nbb_cells.length; ++i) {\n",
       "                    if (nbb_cells[i].input_prompt_number == nbb_cell_id) {\n",
       "                        if (nbb_cells[i].get_text() == nbb_unformatted_code) {\n",
       "                             nbb_cells[i].set_text(nbb_formatted_code);\n",
       "                        }\n",
       "                        break;\n",
       "                    }\n",
       "                }\n",
       "            }, 500);\n",
       "            "
      ],
      "text/plain": [
       "<IPython.core.display.Javascript object>"
      ]
     },
     "metadata": {},
     "output_type": "display_data"
    }
   ],
   "source": [
    "dates = [\n",
    "    datetime(2011, 1, 2),\n",
    "    datetime(2011, 1, 5),\n",
    "    datetime(2011, 1, 7),\n",
    "    datetime(2011, 1, 8),\n",
    "    datetime(2011, 1, 10),\n",
    "    datetime(2011, 1, 12),\n",
    "]\n",
    "\n",
    "ts = pd.Series(np.random.randn(6), index=dates)\n",
    "\n",
    "ts"
   ]
  },
  {
   "cell_type": "code",
   "execution_count": 42,
   "metadata": {},
   "outputs": [
    {
     "data": {
      "text/plain": [
       "DatetimeIndex(['2011-01-02', '2011-01-05', '2011-01-07', '2011-01-08',\n",
       "               '2011-01-10', '2011-01-12'],\n",
       "              dtype='datetime64[ns]', freq=None)"
      ]
     },
     "execution_count": 42,
     "metadata": {},
     "output_type": "execute_result"
    },
    {
     "data": {
      "application/javascript": [
       "\n",
       "            setTimeout(function() {\n",
       "                var nbb_cell_id = 42;\n",
       "                var nbb_unformatted_code = \"ts.index\";\n",
       "                var nbb_formatted_code = \"ts.index\";\n",
       "                var nbb_cells = Jupyter.notebook.get_cells();\n",
       "                for (var i = 0; i < nbb_cells.length; ++i) {\n",
       "                    if (nbb_cells[i].input_prompt_number == nbb_cell_id) {\n",
       "                        if (nbb_cells[i].get_text() == nbb_unformatted_code) {\n",
       "                             nbb_cells[i].set_text(nbb_formatted_code);\n",
       "                        }\n",
       "                        break;\n",
       "                    }\n",
       "                }\n",
       "            }, 500);\n",
       "            "
      ],
      "text/plain": [
       "<IPython.core.display.Javascript object>"
      ]
     },
     "metadata": {},
     "output_type": "display_data"
    }
   ],
   "source": [
    "ts.index"
   ]
  },
  {
   "cell_type": "code",
   "execution_count": 43,
   "metadata": {},
   "outputs": [
    {
     "data": {
      "text/plain": [
       "2011-01-07   -0.531393\n",
       "2011-01-08    1.556687\n",
       "2011-01-10    2.085188\n",
       "dtype: float64"
      ]
     },
     "execution_count": 43,
     "metadata": {},
     "output_type": "execute_result"
    },
    {
     "data": {
      "application/javascript": [
       "\n",
       "            setTimeout(function() {\n",
       "                var nbb_cell_id = 43;\n",
       "                var nbb_unformatted_code = \"# selection by datetime index\\n# ts[\\\"1/6/2011\\\":\\\"1/11/2011\\\"]\\nts[datetime(2011, 1, 6) : datetime(2011, 1, 11)]\";\n",
       "                var nbb_formatted_code = \"# selection by datetime index\\n# ts[\\\"1/6/2011\\\":\\\"1/11/2011\\\"]\\nts[datetime(2011, 1, 6) : datetime(2011, 1, 11)]\";\n",
       "                var nbb_cells = Jupyter.notebook.get_cells();\n",
       "                for (var i = 0; i < nbb_cells.length; ++i) {\n",
       "                    if (nbb_cells[i].input_prompt_number == nbb_cell_id) {\n",
       "                        if (nbb_cells[i].get_text() == nbb_unformatted_code) {\n",
       "                             nbb_cells[i].set_text(nbb_formatted_code);\n",
       "                        }\n",
       "                        break;\n",
       "                    }\n",
       "                }\n",
       "            }, 500);\n",
       "            "
      ],
      "text/plain": [
       "<IPython.core.display.Javascript object>"
      ]
     },
     "metadata": {},
     "output_type": "display_data"
    }
   ],
   "source": [
    "# selection by datetime index\n",
    "# ts[\"1/6/2011\":\"1/11/2011\"]\n",
    "ts[datetime(2011, 1, 6) : datetime(2011, 1, 11)]"
   ]
  },
  {
   "cell_type": "markdown",
   "metadata": {},
   "source": [
    "### Generating Date Ranges "
   ]
  },
  {
   "cell_type": "code",
   "execution_count": 44,
   "metadata": {},
   "outputs": [
    {
     "data": {
      "text/plain": [
       "DatetimeIndex(['2021-05-10', '2021-05-11', '2021-05-12', '2021-05-13',\n",
       "               '2021-05-14'],\n",
       "              dtype='datetime64[ns]', freq='D')"
      ]
     },
     "execution_count": 44,
     "metadata": {},
     "output_type": "execute_result"
    },
    {
     "data": {
      "application/javascript": [
       "\n",
       "            setTimeout(function() {\n",
       "                var nbb_cell_id = 44;\n",
       "                var nbb_unformatted_code = \"index = pd.date_range(\\\"2021-05-10\\\", \\\"2021-05-14\\\")\\n# index = pd.date_range('2021-05-10', periods=5)\\n\\nindex\";\n",
       "                var nbb_formatted_code = \"index = pd.date_range(\\\"2021-05-10\\\", \\\"2021-05-14\\\")\\n# index = pd.date_range('2021-05-10', periods=5)\\n\\nindex\";\n",
       "                var nbb_cells = Jupyter.notebook.get_cells();\n",
       "                for (var i = 0; i < nbb_cells.length; ++i) {\n",
       "                    if (nbb_cells[i].input_prompt_number == nbb_cell_id) {\n",
       "                        if (nbb_cells[i].get_text() == nbb_unformatted_code) {\n",
       "                             nbb_cells[i].set_text(nbb_formatted_code);\n",
       "                        }\n",
       "                        break;\n",
       "                    }\n",
       "                }\n",
       "            }, 500);\n",
       "            "
      ],
      "text/plain": [
       "<IPython.core.display.Javascript object>"
      ]
     },
     "metadata": {},
     "output_type": "display_data"
    }
   ],
   "source": [
    "index = pd.date_range(\"2021-05-10\", \"2021-05-14\")\n",
    "# index = pd.date_range('2021-05-10', periods=5)\n",
    "\n",
    "index"
   ]
  },
  {
   "cell_type": "code",
   "execution_count": 45,
   "metadata": {},
   "outputs": [
    {
     "data": {
      "text/plain": [
       "DatetimeIndex(['2021-08-31', '2021-09-30', '2021-10-31', '2021-11-30'], dtype='datetime64[ns]', freq='M')"
      ]
     },
     "execution_count": 45,
     "metadata": {},
     "output_type": "execute_result"
    },
    {
     "data": {
      "application/javascript": [
       "\n",
       "            setTimeout(function() {\n",
       "                var nbb_cell_id = 45;\n",
       "                var nbb_unformatted_code = \"pd.date_range(\\\"2021-08-23\\\", \\\"2021-12-17\\\", freq=\\\"M\\\")  # M: MonthEnd; BM: BusinessMonthEnd\";\n",
       "                var nbb_formatted_code = \"pd.date_range(\\\"2021-08-23\\\", \\\"2021-12-17\\\", freq=\\\"M\\\")  # M: MonthEnd; BM: BusinessMonthEnd\";\n",
       "                var nbb_cells = Jupyter.notebook.get_cells();\n",
       "                for (var i = 0; i < nbb_cells.length; ++i) {\n",
       "                    if (nbb_cells[i].input_prompt_number == nbb_cell_id) {\n",
       "                        if (nbb_cells[i].get_text() == nbb_unformatted_code) {\n",
       "                             nbb_cells[i].set_text(nbb_formatted_code);\n",
       "                        }\n",
       "                        break;\n",
       "                    }\n",
       "                }\n",
       "            }, 500);\n",
       "            "
      ],
      "text/plain": [
       "<IPython.core.display.Javascript object>"
      ]
     },
     "metadata": {},
     "output_type": "display_data"
    }
   ],
   "source": [
    "pd.date_range(\"2021-08-23\", \"2021-12-17\", freq=\"M\")  # M: MonthEnd; BM: BusinessMonthEnd"
   ]
  },
  {
   "cell_type": "markdown",
   "metadata": {},
   "source": [
    "### Shifting (Leading and Lagging) Data"
   ]
  },
  {
   "cell_type": "code",
   "execution_count": 46,
   "metadata": {},
   "outputs": [
    {
     "data": {
      "text/plain": [
       "2011-01-02         NaN\n",
       "2011-01-05   -0.405602\n",
       "2011-01-07    1.254492\n",
       "2011-01-08   -0.531393\n",
       "2011-01-10    1.556687\n",
       "2011-01-12    2.085188\n",
       "dtype: float64"
      ]
     },
     "execution_count": 46,
     "metadata": {},
     "output_type": "execute_result"
    },
    {
     "data": {
      "application/javascript": [
       "\n",
       "            setTimeout(function() {\n",
       "                var nbb_cell_id = 46;\n",
       "                var nbb_unformatted_code = \"# lagged\\nts.shift(1)\";\n",
       "                var nbb_formatted_code = \"# lagged\\nts.shift(1)\";\n",
       "                var nbb_cells = Jupyter.notebook.get_cells();\n",
       "                for (var i = 0; i < nbb_cells.length; ++i) {\n",
       "                    if (nbb_cells[i].input_prompt_number == nbb_cell_id) {\n",
       "                        if (nbb_cells[i].get_text() == nbb_unformatted_code) {\n",
       "                             nbb_cells[i].set_text(nbb_formatted_code);\n",
       "                        }\n",
       "                        break;\n",
       "                    }\n",
       "                }\n",
       "            }, 500);\n",
       "            "
      ],
      "text/plain": [
       "<IPython.core.display.Javascript object>"
      ]
     },
     "metadata": {},
     "output_type": "display_data"
    }
   ],
   "source": [
    "# lagged\n",
    "ts.shift(1)"
   ]
  },
  {
   "cell_type": "code",
   "execution_count": 47,
   "metadata": {},
   "outputs": [
    {
     "data": {
      "text/plain": [
       "2011-01-02         NaN\n",
       "2011-01-05   -4.092916\n",
       "2011-01-07   -1.423592\n",
       "2011-01-08   -3.929448\n",
       "2011-01-10    0.339504\n",
       "2011-01-12   -1.749004\n",
       "dtype: float64"
      ]
     },
     "execution_count": 47,
     "metadata": {},
     "output_type": "execute_result"
    },
    {
     "data": {
      "application/javascript": [
       "\n",
       "            setTimeout(function() {\n",
       "                var nbb_cell_id = 47;\n",
       "                var nbb_unformatted_code = \"# percentage change\\nts / ts.shift(1) - 1\";\n",
       "                var nbb_formatted_code = \"# percentage change\\nts / ts.shift(1) - 1\";\n",
       "                var nbb_cells = Jupyter.notebook.get_cells();\n",
       "                for (var i = 0; i < nbb_cells.length; ++i) {\n",
       "                    if (nbb_cells[i].input_prompt_number == nbb_cell_id) {\n",
       "                        if (nbb_cells[i].get_text() == nbb_unformatted_code) {\n",
       "                             nbb_cells[i].set_text(nbb_formatted_code);\n",
       "                        }\n",
       "                        break;\n",
       "                    }\n",
       "                }\n",
       "            }, 500);\n",
       "            "
      ],
      "text/plain": [
       "<IPython.core.display.Javascript object>"
      ]
     },
     "metadata": {},
     "output_type": "display_data"
    }
   ],
   "source": [
    "# percentage change\n",
    "ts / ts.shift(1) - 1"
   ]
  },
  {
   "cell_type": "markdown",
   "metadata": {},
   "source": [
    "### Converting bwteen Datetime and Periods"
   ]
  },
  {
   "cell_type": "markdown",
   "metadata": {},
   "source": [
    "Datetime $\\rightarrow$ Quartly\n",
    "\n",
    "Eg., \"1/1/2021\" $\\rightarrow$ '2021Q1'\n",
    "\n",
    "The periods type data is helpful when you have daily or higher frequency data and want to group by week, month or quarter. "
   ]
  },
  {
   "cell_type": "code",
   "execution_count": 48,
   "metadata": {},
   "outputs": [
    {
     "data": {
      "text/plain": [
       "PeriodIndex(['2021Q1', '2021Q2', '2021Q3'], dtype='period[Q-DEC]', freq='Q-DEC')"
      ]
     },
     "execution_count": 48,
     "metadata": {},
     "output_type": "execute_result"
    },
    {
     "data": {
      "application/javascript": [
       "\n",
       "            setTimeout(function() {\n",
       "                var nbb_cell_id = 48;\n",
       "                var nbb_unformatted_code = \"# Datetime to Quartly\\nts2 = pd.date_range(\\\"1/1/2021\\\", periods=3, freq=\\\"Q\\\")\\nts_quartly = ts2.to_period(\\\"Q\\\")\\n\\nts_quartly\";\n",
       "                var nbb_formatted_code = \"# Datetime to Quartly\\nts2 = pd.date_range(\\\"1/1/2021\\\", periods=3, freq=\\\"Q\\\")\\nts_quartly = ts2.to_period(\\\"Q\\\")\\n\\nts_quartly\";\n",
       "                var nbb_cells = Jupyter.notebook.get_cells();\n",
       "                for (var i = 0; i < nbb_cells.length; ++i) {\n",
       "                    if (nbb_cells[i].input_prompt_number == nbb_cell_id) {\n",
       "                        if (nbb_cells[i].get_text() == nbb_unformatted_code) {\n",
       "                             nbb_cells[i].set_text(nbb_formatted_code);\n",
       "                        }\n",
       "                        break;\n",
       "                    }\n",
       "                }\n",
       "            }, 500);\n",
       "            "
      ],
      "text/plain": [
       "<IPython.core.display.Javascript object>"
      ]
     },
     "metadata": {},
     "output_type": "display_data"
    }
   ],
   "source": [
    "# Datetime to Quartly\n",
    "ts2 = pd.date_range(\"1/1/2021\", periods=3, freq=\"Q\")\n",
    "ts_quartly = ts2.to_period(\"Q\")\n",
    "\n",
    "ts_quartly"
   ]
  },
  {
   "cell_type": "code",
   "execution_count": 49,
   "metadata": {},
   "outputs": [
    {
     "data": {
      "text/plain": [
       "PeriodIndex(['2021-03', '2021-06', '2021-09'], dtype='period[M]', freq='M')"
      ]
     },
     "execution_count": 49,
     "metadata": {},
     "output_type": "execute_result"
    },
    {
     "data": {
      "application/javascript": [
       "\n",
       "            setTimeout(function() {\n",
       "                var nbb_cell_id = 49;\n",
       "                var nbb_unformatted_code = \"ts3 = pd.date_range(\\\"1/1/2021\\\", periods=3, freq=\\\"M\\\")\\nts_monthly = ts2.to_period(\\\"M\\\")\\n\\nts_monthly\";\n",
       "                var nbb_formatted_code = \"ts3 = pd.date_range(\\\"1/1/2021\\\", periods=3, freq=\\\"M\\\")\\nts_monthly = ts2.to_period(\\\"M\\\")\\n\\nts_monthly\";\n",
       "                var nbb_cells = Jupyter.notebook.get_cells();\n",
       "                for (var i = 0; i < nbb_cells.length; ++i) {\n",
       "                    if (nbb_cells[i].input_prompt_number == nbb_cell_id) {\n",
       "                        if (nbb_cells[i].get_text() == nbb_unformatted_code) {\n",
       "                             nbb_cells[i].set_text(nbb_formatted_code);\n",
       "                        }\n",
       "                        break;\n",
       "                    }\n",
       "                }\n",
       "            }, 500);\n",
       "            "
      ],
      "text/plain": [
       "<IPython.core.display.Javascript object>"
      ]
     },
     "metadata": {},
     "output_type": "display_data"
    }
   ],
   "source": [
    "ts3 = pd.date_range(\"1/1/2021\", periods=3, freq=\"M\")\n",
    "ts_monthly = ts2.to_period(\"M\")\n",
    "\n",
    "ts_monthly"
   ]
  },
  {
   "cell_type": "markdown",
   "metadata": {},
   "source": [
    "Quartly $\\rightarrow$ Datetime"
   ]
  },
  {
   "cell_type": "code",
   "execution_count": 50,
   "metadata": {},
   "outputs": [
    {
     "data": {
      "text/plain": [
       "DatetimeIndex(['2021-03-31 23:59:59.999999999',\n",
       "               '2021-06-30 23:59:59.999999999',\n",
       "               '2021-09-30 23:59:59.999999999'],\n",
       "              dtype='datetime64[ns]', freq='Q-DEC')"
      ]
     },
     "execution_count": 50,
     "metadata": {},
     "output_type": "execute_result"
    },
    {
     "data": {
      "application/javascript": [
       "\n",
       "            setTimeout(function() {\n",
       "                var nbb_cell_id = 50;\n",
       "                var nbb_unformatted_code = \"# Quarterly to Datetime\\nts_quartly.to_timestamp(how=\\\"end\\\")\";\n",
       "                var nbb_formatted_code = \"# Quarterly to Datetime\\nts_quartly.to_timestamp(how=\\\"end\\\")\";\n",
       "                var nbb_cells = Jupyter.notebook.get_cells();\n",
       "                for (var i = 0; i < nbb_cells.length; ++i) {\n",
       "                    if (nbb_cells[i].input_prompt_number == nbb_cell_id) {\n",
       "                        if (nbb_cells[i].get_text() == nbb_unformatted_code) {\n",
       "                             nbb_cells[i].set_text(nbb_formatted_code);\n",
       "                        }\n",
       "                        break;\n",
       "                    }\n",
       "                }\n",
       "            }, 500);\n",
       "            "
      ],
      "text/plain": [
       "<IPython.core.display.Javascript object>"
      ]
     },
     "metadata": {},
     "output_type": "display_data"
    }
   ],
   "source": [
    "# Quarterly to Datetime\n",
    "ts_quartly.to_timestamp(how=\"end\")"
   ]
  },
  {
   "cell_type": "markdown",
   "metadata": {},
   "source": [
    "## Section 4. Plotting and Visualization\n",
    "\n",
    "Import visualization packages `matplotlib` and `seaborn`, don't forget about `%matplotlib inline` to plot in a Jupyter notebook."
   ]
  },
  {
   "cell_type": "code",
   "execution_count": 51,
   "metadata": {},
   "outputs": [
    {
     "data": {
      "application/javascript": [
       "\n",
       "            setTimeout(function() {\n",
       "                var nbb_cell_id = 51;\n",
       "                var nbb_unformatted_code = \"%matplotlib inline\\n\\n# import matplotlib and seaborn with following convention\\nimport matplotlib.pyplot as plt\\n\\n# import seaborn as sns\";\n",
       "                var nbb_formatted_code = \"%matplotlib inline\\n\\n# import matplotlib and seaborn with following convention\\nimport matplotlib.pyplot as plt\\n\\n# import seaborn as sns\";\n",
       "                var nbb_cells = Jupyter.notebook.get_cells();\n",
       "                for (var i = 0; i < nbb_cells.length; ++i) {\n",
       "                    if (nbb_cells[i].input_prompt_number == nbb_cell_id) {\n",
       "                        if (nbb_cells[i].get_text() == nbb_unformatted_code) {\n",
       "                             nbb_cells[i].set_text(nbb_formatted_code);\n",
       "                        }\n",
       "                        break;\n",
       "                    }\n",
       "                }\n",
       "            }, 500);\n",
       "            "
      ],
      "text/plain": [
       "<IPython.core.display.Javascript object>"
      ]
     },
     "metadata": {},
     "output_type": "display_data"
    }
   ],
   "source": [
    "%matplotlib inline\n",
    "\n",
    "# import matplotlib and seaborn with following convention\n",
    "import matplotlib.pyplot as plt\n",
    "\n",
    "# import seaborn as sns"
   ]
  },
  {
   "cell_type": "markdown",
   "metadata": {},
   "source": [
    "### [Two Interfaces](https://matplotlib.org/stable/api/index.html#usage-patterns)\n",
    "Matplotlib is unusual in that it offers two different interfaces to plotting.\n",
    "\n",
    "1. a simple MATLAB-style API (Application Programming Interface)\n",
    "\n",
    "2. a more “Pythonic” object-oriented API (**recommended**)"
   ]
  },
  {
   "cell_type": "code",
   "execution_count": 52,
   "metadata": {
    "scrolled": true
   },
   "outputs": [
    {
     "data": {
      "application/javascript": [
       "\n",
       "            setTimeout(function() {\n",
       "                var nbb_cell_id = 52;\n",
       "                var nbb_unformatted_code = \"# import this\";\n",
       "                var nbb_formatted_code = \"# import this\";\n",
       "                var nbb_cells = Jupyter.notebook.get_cells();\n",
       "                for (var i = 0; i < nbb_cells.length; ++i) {\n",
       "                    if (nbb_cells[i].input_prompt_number == nbb_cell_id) {\n",
       "                        if (nbb_cells[i].get_text() == nbb_unformatted_code) {\n",
       "                             nbb_cells[i].set_text(nbb_formatted_code);\n",
       "                        }\n",
       "                        break;\n",
       "                    }\n",
       "                }\n",
       "            }, 500);\n",
       "            "
      ],
      "text/plain": [
       "<IPython.core.display.Javascript object>"
      ]
     },
     "metadata": {},
     "output_type": "display_data"
    }
   ],
   "source": [
    "# import this"
   ]
  },
  {
   "cell_type": "code",
   "execution_count": 53,
   "metadata": {},
   "outputs": [
    {
     "data": {
      "application/javascript": [
       "\n",
       "            setTimeout(function() {\n",
       "                var nbb_cell_id = 53;\n",
       "                var nbb_unformatted_code = \"# plt.rcParams[\\\"figure.figsize\\\"] = (10, 6)  # set default figure size\\n\\nx = np.linspace(0, 10, 200)\\ny1sin = np.sin(x)\\ny2cos = 2.0 * np.cos(x)\";\n",
       "                var nbb_formatted_code = \"# plt.rcParams[\\\"figure.figsize\\\"] = (10, 6)  # set default figure size\\n\\nx = np.linspace(0, 10, 200)\\ny1sin = np.sin(x)\\ny2cos = 2.0 * np.cos(x)\";\n",
       "                var nbb_cells = Jupyter.notebook.get_cells();\n",
       "                for (var i = 0; i < nbb_cells.length; ++i) {\n",
       "                    if (nbb_cells[i].input_prompt_number == nbb_cell_id) {\n",
       "                        if (nbb_cells[i].get_text() == nbb_unformatted_code) {\n",
       "                             nbb_cells[i].set_text(nbb_formatted_code);\n",
       "                        }\n",
       "                        break;\n",
       "                    }\n",
       "                }\n",
       "            }, 500);\n",
       "            "
      ],
      "text/plain": [
       "<IPython.core.display.Javascript object>"
      ]
     },
     "metadata": {},
     "output_type": "display_data"
    }
   ],
   "source": [
    "# plt.rcParams[\"figure.figsize\"] = (10, 6)  # set default figure size\n",
    "\n",
    "x = np.linspace(0, 10, 200)\n",
    "y1sin = np.sin(x)\n",
    "y2cos = 2.0 * np.cos(x)"
   ]
  },
  {
   "cell_type": "markdown",
   "metadata": {},
   "source": [
    "### 1. MATLAB-style API\n",
    "The `pyplot` API. \n",
    "\n",
    "`matplotlib.pyplot` is a collection of command style functions that make Matplotlib work like MATLAB. `pyplot` is mainly intended for interactive plots and simple cases of programmatic plot generation.\n",
    "\n",
    "Further reading:\n",
    "- [Pyplot tutorial](https://matplotlib.org/stable/tutorials/introductory/pyplot.html)\n",
    "- [Pyplot examples](https://matplotlib.org/stable/gallery/index.html#pyplots-examples)"
   ]
  },
  {
   "cell_type": "code",
   "execution_count": 54,
   "metadata": {
    "scrolled": true
   },
   "outputs": [
    {
     "data": {
      "image/png": "[encoded data removed]",
      "text/plain": [
       "<Figure size 432x288 with 1 Axes>"
      ]
     },
     "metadata": {
      "needs_background": "light"
     },
     "output_type": "display_data"
    },
    {
     "data": {
      "application/javascript": [
       "\n",
       "            setTimeout(function() {\n",
       "                var nbb_cell_id = 54;\n",
       "                var nbb_unformatted_code = \"# Interface 1: The MATLAB-style API\\nplt.plot(\\n    x,\\n    y1sin,\\n    linestyle=\\\"dashed\\\",\\n    linewidth=1,\\n    marker=\\\"*\\\",\\n    markerfacecolor=\\\"blue\\\",\\n    label=\\\"sin(x)\\\",\\n)\\nplt.plot(x, y2cos, \\\"go\\\", linewidth=2, label=\\\"cos(x)\\\")\\n\\n# naming the x axis\\nplt.xlabel(\\\"x - axis\\\")\\n# naming the y axis\\nplt.ylabel(\\\"y - axis\\\")\\n\\n# setting x and y axis range\\nplt.ylim([-2.5, 2.5])\\ngetxlimpara = plt.xlim()\\nplt.xlim([-2, 11])\\n\\n# giving a title to my graph\\nplt.title(\\\"My first graph!\\\")\\n\\n# show a legend on the plot\\nplt.legend()\\n\\n# function to show the plot\\nplt.show()\";\n",
       "                var nbb_formatted_code = \"# Interface 1: The MATLAB-style API\\nplt.plot(\\n    x,\\n    y1sin,\\n    linestyle=\\\"dashed\\\",\\n    linewidth=1,\\n    marker=\\\"*\\\",\\n    markerfacecolor=\\\"blue\\\",\\n    label=\\\"sin(x)\\\",\\n)\\nplt.plot(x, y2cos, \\\"go\\\", linewidth=2, label=\\\"cos(x)\\\")\\n\\n# naming the x axis\\nplt.xlabel(\\\"x - axis\\\")\\n# naming the y axis\\nplt.ylabel(\\\"y - axis\\\")\\n\\n# setting x and y axis range\\nplt.ylim([-2.5, 2.5])\\ngetxlimpara = plt.xlim()\\nplt.xlim([-2, 11])\\n\\n# giving a title to my graph\\nplt.title(\\\"My first graph!\\\")\\n\\n# show a legend on the plot\\nplt.legend()\\n\\n# function to show the plot\\nplt.show()\";\n",
       "                var nbb_cells = Jupyter.notebook.get_cells();\n",
       "                for (var i = 0; i < nbb_cells.length; ++i) {\n",
       "                    if (nbb_cells[i].input_prompt_number == nbb_cell_id) {\n",
       "                        if (nbb_cells[i].get_text() == nbb_unformatted_code) {\n",
       "                             nbb_cells[i].set_text(nbb_formatted_code);\n",
       "                        }\n",
       "                        break;\n",
       "                    }\n",
       "                }\n",
       "            }, 500);\n",
       "            "
      ],
      "text/plain": [
       "<IPython.core.display.Javascript object>"
      ]
     },
     "metadata": {},
     "output_type": "display_data"
    }
   ],
   "source": [
    "# Interface 1: The MATLAB-style API\n",
    "plt.plot(\n",
    "    x,\n",
    "    y1sin,\n",
    "    linestyle=\"dashed\",\n",
    "    linewidth=1,\n",
    "    marker=\"*\",\n",
    "    markerfacecolor=\"blue\",\n",
    "    label=\"sin(x)\",\n",
    ")\n",
    "plt.plot(x, y2cos, \"go\", linewidth=2, label=\"cos(x)\")\n",
    "\n",
    "# naming the x axis\n",
    "plt.xlabel(\"x - axis\")\n",
    "# naming the y axis\n",
    "plt.ylabel(\"y - axis\")\n",
    "\n",
    "# setting x and y axis range\n",
    "plt.ylim([-2.5, 2.5])\n",
    "getxlimpara = plt.xlim()\n",
    "plt.xlim([-2, 11])\n",
    "\n",
    "# giving a title to my graph\n",
    "plt.title(\"My first graph!\")\n",
    "\n",
    "# show a legend on the plot\n",
    "plt.legend()\n",
    "\n",
    "# function to show the plot\n",
    "plt.show()"
   ]
  },
  {
   "cell_type": "code",
   "execution_count": 55,
   "metadata": {},
   "outputs": [
    {
     "data": {
      "application/javascript": [
       "\n",
       "            setTimeout(function() {\n",
       "                var nbb_cell_id = 55;\n",
       "                var nbb_unformatted_code = \"# You can see the full set of line styles by looking at the docstring for plot.\\n# plt.plot?\";\n",
       "                var nbb_formatted_code = \"# You can see the full set of line styles by looking at the docstring for plot.\\n# plt.plot?\";\n",
       "                var nbb_cells = Jupyter.notebook.get_cells();\n",
       "                for (var i = 0; i < nbb_cells.length; ++i) {\n",
       "                    if (nbb_cells[i].input_prompt_number == nbb_cell_id) {\n",
       "                        if (nbb_cells[i].get_text() == nbb_unformatted_code) {\n",
       "                             nbb_cells[i].set_text(nbb_formatted_code);\n",
       "                        }\n",
       "                        break;\n",
       "                    }\n",
       "                }\n",
       "            }, 500);\n",
       "            "
      ],
      "text/plain": [
       "<IPython.core.display.Javascript object>"
      ]
     },
     "metadata": {},
     "output_type": "display_data"
    }
   ],
   "source": [
    "# You can see the full set of line styles by looking at the docstring for plot.\n",
    "# plt.plot?"
   ]
  },
  {
   "cell_type": "markdown",
   "metadata": {},
   "source": [
    "**Disadvantage of using `plplot` interface:**\n",
    "\n",
    "Note that `plt.xlim()` with no arguments returns the current parameter value. While, `plt.xlim([-2,11])` here sets the plotting range as -2 to 11. One function can be used for two purposes. This may create some confusions.\n",
    "\n",
    "*Try to see the value of \"getxlimpara = plt.xlim()\".*\n",
    "\n",
    "So, programmers usually prefer a more explicit interface -- the object-oriented API, where `AxesSubplot` has two separate functions for `xlim`. There are `ax.get_xlim` and `ax.set_xlim`.\n"
   ]
  },
  {
   "cell_type": "markdown",
   "metadata": {},
   "source": [
    "### 2. The object-oriented API\n",
    "At its core, Matplotlib is object-oriented. We recommend directly working with the objects, if you need more control and customization of your plots.\n",
    "\n",
    "In many cases you will create a `Figure` and one or more `Axes` using `pyplot.subplots` and from then on only work on these objects. "
   ]
  },
  {
   "cell_type": "code",
   "execution_count": 56,
   "metadata": {},
   "outputs": [
    {
     "data": {
      "image/png": "[encoded data removed]",
      "text/plain": [
       "<Figure size 432x288 with 1 Axes>"
      ]
     },
     "metadata": {
      "needs_background": "light"
     },
     "output_type": "display_data"
    },
    {
     "data": {
      "application/javascript": [
       "\n",
       "            setTimeout(function() {\n",
       "                var nbb_cell_id = 56;\n",
       "                var nbb_unformatted_code = \"# Interface 2: The Object-Oriented API\\nfig, ax = plt.subplots()\\n\\nax.plot(x, y1sin, \\\"b--\\\", linewidth=2, label=\\\"sin(x)\\\", alpha=0.6)  # $\\\\sin(x)$\\nax.legend(loc=\\\"upper center\\\")\\nax.set_yticks([-1, 0, 1])\\nax.set_title(\\\"Test plot\\\")\\nplt.show()\";\n",
       "                var nbb_formatted_code = \"# Interface 2: The Object-Oriented API\\nfig, ax = plt.subplots()\\n\\nax.plot(x, y1sin, \\\"b--\\\", linewidth=2, label=\\\"sin(x)\\\", alpha=0.6)  # $\\\\sin(x)$\\nax.legend(loc=\\\"upper center\\\")\\nax.set_yticks([-1, 0, 1])\\nax.set_title(\\\"Test plot\\\")\\nplt.show()\";\n",
       "                var nbb_cells = Jupyter.notebook.get_cells();\n",
       "                for (var i = 0; i < nbb_cells.length; ++i) {\n",
       "                    if (nbb_cells[i].input_prompt_number == nbb_cell_id) {\n",
       "                        if (nbb_cells[i].get_text() == nbb_unformatted_code) {\n",
       "                             nbb_cells[i].set_text(nbb_formatted_code);\n",
       "                        }\n",
       "                        break;\n",
       "                    }\n",
       "                }\n",
       "            }, 500);\n",
       "            "
      ],
      "text/plain": [
       "<IPython.core.display.Javascript object>"
      ]
     },
     "metadata": {},
     "output_type": "display_data"
    }
   ],
   "source": [
    "# Interface 2: The Object-Oriented API\n",
    "fig, ax = plt.subplots()\n",
    "\n",
    "ax.plot(x, y1sin, \"b--\", linewidth=2, label=\"sin(x)\", alpha=0.6)  # $\\sin(x)$\n",
    "ax.legend(loc=\"upper center\")\n",
    "ax.set_yticks([-1, 0, 1])\n",
    "ax.set_title(\"Test plot\")\n",
    "plt.show()"
   ]
  },
  {
   "cell_type": "markdown",
   "metadata": {},
   "source": [
    "Here the call `fig, ax = plt.subplots()` returns a pair, where\n",
    "\n",
    "- `fig` is a Figure instance—like a blank canvas.\n",
    "\n",
    "- `ax` is an AxesSubplot instance—think of a frame for plotting in.\n",
    "\n",
    "The `plot()` function is actually a method of `ax`.\n",
    "\n",
    "`alpha`: transparency"
   ]
  },
  {
   "cell_type": "markdown",
   "metadata": {},
   "source": [
    "### Multiple Subplots\n",
    "\n",
    "Sometimes we want multiple subplots in one figure."
   ]
  },
  {
   "cell_type": "code",
   "execution_count": 57,
   "metadata": {},
   "outputs": [
    {
     "data": {
      "image/png": "[encoded data removed]",
      "text/plain": [
       "<Figure size 432x288 with 2 Axes>"
      ]
     },
     "metadata": {
      "needs_background": "light"
     },
     "output_type": "display_data"
    },
    {
     "data": {
      "application/javascript": [
       "\n",
       "            setTimeout(function() {\n",
       "                var nbb_cell_id = 57;\n",
       "                var nbb_unformatted_code = \"# subplot sin(x) and 2*cos(x)\\n\\n# create a figure\\nfig = plt.figure()\\n\\n# define subplots and their positions in figure\\nax1 = fig.add_subplot(2, 1, 1)\\nax2 = fig.add_subplot(2, 1, 2)\\n\\n# plotting points on each subplot\\nax1.plot(x, y1sin, color=\\\"b\\\")\\nax1.set_title(\\\"$y_1 = sin(x)$\\\")\\n\\nax2.plot(x, y2cos, color=\\\"g\\\")\\nax2.set_title(\\\"$y_2 = 2cos(x)$\\\")\\n\\n# adjusting space between subplots\\nfig.subplots_adjust(hspace=0.5, wspace=0.5)\\n\\n# function to show the plot\\nplt.show()\";\n",
       "                var nbb_formatted_code = \"# subplot sin(x) and 2*cos(x)\\n\\n# create a figure\\nfig = plt.figure()\\n\\n# define subplots and their positions in figure\\nax1 = fig.add_subplot(2, 1, 1)\\nax2 = fig.add_subplot(2, 1, 2)\\n\\n# plotting points on each subplot\\nax1.plot(x, y1sin, color=\\\"b\\\")\\nax1.set_title(\\\"$y_1 = sin(x)$\\\")\\n\\nax2.plot(x, y2cos, color=\\\"g\\\")\\nax2.set_title(\\\"$y_2 = 2cos(x)$\\\")\\n\\n# adjusting space between subplots\\nfig.subplots_adjust(hspace=0.5, wspace=0.5)\\n\\n# function to show the plot\\nplt.show()\";\n",
       "                var nbb_cells = Jupyter.notebook.get_cells();\n",
       "                for (var i = 0; i < nbb_cells.length; ++i) {\n",
       "                    if (nbb_cells[i].input_prompt_number == nbb_cell_id) {\n",
       "                        if (nbb_cells[i].get_text() == nbb_unformatted_code) {\n",
       "                             nbb_cells[i].set_text(nbb_formatted_code);\n",
       "                        }\n",
       "                        break;\n",
       "                    }\n",
       "                }\n",
       "            }, 500);\n",
       "            "
      ],
      "text/plain": [
       "<IPython.core.display.Javascript object>"
      ]
     },
     "metadata": {},
     "output_type": "display_data"
    }
   ],
   "source": [
    "# subplot sin(x) and 2*cos(x)\n",
    "\n",
    "# create a figure\n",
    "fig = plt.figure()\n",
    "\n",
    "# define subplots and their positions in figure\n",
    "ax1 = fig.add_subplot(2, 1, 1)\n",
    "ax2 = fig.add_subplot(2, 1, 2)\n",
    "\n",
    "# plotting points on each subplot\n",
    "ax1.plot(x, y1sin, color=\"b\")\n",
    "ax1.set_title(\"$y_1 = sin(x)$\")\n",
    "\n",
    "ax2.plot(x, y2cos, color=\"g\")\n",
    "ax2.set_title(\"$y_2 = 2cos(x)$\")\n",
    "\n",
    "# adjusting space between subplots\n",
    "fig.subplots_adjust(hspace=0.5, wspace=0.5)\n",
    "\n",
    "# function to show the plot\n",
    "plt.show()"
   ]
  },
  {
   "cell_type": "code",
   "execution_count": 58,
   "metadata": {},
   "outputs": [
    {
     "data": {
      "image/png": "[encoded data removed]",
      "text/plain": [
       "<Figure size 1080x720 with 6 Axes>"
      ]
     },
     "metadata": {
      "needs_background": "light"
     },
     "output_type": "display_data"
    },
    {
     "data": {
      "application/javascript": [
       "\n",
       "            setTimeout(function() {\n",
       "                var nbb_cell_id = 58;\n",
       "                var nbb_unformatted_code = \"# Here\\u2019s an example that generates 6 histograms\\nnum_rows, num_cols = 2, 3\\nfig, axes = plt.subplots(\\n    num_rows, num_cols, figsize=(15, 10)\\n)  # sharex=True, sharey=True\";\n",
       "                var nbb_formatted_code = \"# Here\\u2019s an example that generates 6 histograms\\nnum_rows, num_cols = 2, 3\\nfig, axes = plt.subplots(\\n    num_rows, num_cols, figsize=(15, 10)\\n)  # sharex=True, sharey=True\";\n",
       "                var nbb_cells = Jupyter.notebook.get_cells();\n",
       "                for (var i = 0; i < nbb_cells.length; ++i) {\n",
       "                    if (nbb_cells[i].input_prompt_number == nbb_cell_id) {\n",
       "                        if (nbb_cells[i].get_text() == nbb_unformatted_code) {\n",
       "                             nbb_cells[i].set_text(nbb_formatted_code);\n",
       "                        }\n",
       "                        break;\n",
       "                    }\n",
       "                }\n",
       "            }, 500);\n",
       "            "
      ],
      "text/plain": [
       "<IPython.core.display.Javascript object>"
      ]
     },
     "metadata": {},
     "output_type": "display_data"
    }
   ],
   "source": [
    "# Here’s an example that generates 6 histograms\n",
    "num_rows, num_cols = 2, 3\n",
    "fig, axes = plt.subplots(\n",
    "    num_rows, num_cols, figsize=(15, 10)\n",
    ")  # sharex=True, sharey=True"
   ]
  },
  {
   "cell_type": "markdown",
   "metadata": {},
   "source": [
    "Here, `plt.subplots` creates a new figure and returns a NumPy array containing the created subplot objects:"
   ]
  },
  {
   "cell_type": "code",
   "execution_count": 59,
   "metadata": {},
   "outputs": [
    {
     "data": {
      "text/plain": [
       "<matplotlib.axes._subplots.AxesSubplot at 0x7f9e415d7b80>"
      ]
     },
     "execution_count": 59,
     "metadata": {},
     "output_type": "execute_result"
    },
    {
     "data": {
      "application/javascript": [
       "\n",
       "            setTimeout(function() {\n",
       "                var nbb_cell_id = 59;\n",
       "                var nbb_unformatted_code = \"axes[0, 0]\";\n",
       "                var nbb_formatted_code = \"axes[0, 0]\";\n",
       "                var nbb_cells = Jupyter.notebook.get_cells();\n",
       "                for (var i = 0; i < nbb_cells.length; ++i) {\n",
       "                    if (nbb_cells[i].input_prompt_number == nbb_cell_id) {\n",
       "                        if (nbb_cells[i].get_text() == nbb_unformatted_code) {\n",
       "                             nbb_cells[i].set_text(nbb_formatted_code);\n",
       "                        }\n",
       "                        break;\n",
       "                    }\n",
       "                }\n",
       "            }, 500);\n",
       "            "
      ],
      "text/plain": [
       "<IPython.core.display.Javascript object>"
      ]
     },
     "metadata": {},
     "output_type": "display_data"
    }
   ],
   "source": [
    "axes[0, 0]"
   ]
  },
  {
   "cell_type": "code",
   "execution_count": 60,
   "metadata": {},
   "outputs": [
    {
     "data": {
      "image/png": "[encoded data removed]",
      "text/plain": [
       "<Figure size 1080x720 with 6 Axes>"
      ]
     },
     "metadata": {
      "needs_background": "light"
     },
     "output_type": "display_data"
    },
    {
     "data": {
      "application/javascript": [
       "\n",
       "            setTimeout(function() {\n",
       "                var nbb_cell_id = 60;\n",
       "                var nbb_unformatted_code = \"num_rows, num_cols = 2, 3\\nfig, axes = plt.subplots(num_rows, num_cols, figsize=(15, 10))\\n\\nnp.random.seed(123)\\n\\nfor i in range(num_rows):\\n    for j in range(num_cols):\\n        axes[i, j].hist(np.random.randn(500), bins=50, color=\\\"green\\\", alpha=0.5)\\n        t = f\\\"({i}, {j})\\\"\\n        axes[i, j].set(title=t, xticks=[-5, 0, 5])\\n# plt.subplots_adjust(left=None, bottom=None, right=None, top=None, wspace=0.3, hspace=0.2)\\nplt.show()\";\n",
       "                var nbb_formatted_code = \"num_rows, num_cols = 2, 3\\nfig, axes = plt.subplots(num_rows, num_cols, figsize=(15, 10))\\n\\nnp.random.seed(123)\\n\\nfor i in range(num_rows):\\n    for j in range(num_cols):\\n        axes[i, j].hist(np.random.randn(500), bins=50, color=\\\"green\\\", alpha=0.5)\\n        t = f\\\"({i}, {j})\\\"\\n        axes[i, j].set(title=t, xticks=[-5, 0, 5])\\n# plt.subplots_adjust(left=None, bottom=None, right=None, top=None, wspace=0.3, hspace=0.2)\\nplt.show()\";\n",
       "                var nbb_cells = Jupyter.notebook.get_cells();\n",
       "                for (var i = 0; i < nbb_cells.length; ++i) {\n",
       "                    if (nbb_cells[i].input_prompt_number == nbb_cell_id) {\n",
       "                        if (nbb_cells[i].get_text() == nbb_unformatted_code) {\n",
       "                             nbb_cells[i].set_text(nbb_formatted_code);\n",
       "                        }\n",
       "                        break;\n",
       "                    }\n",
       "                }\n",
       "            }, 500);\n",
       "            "
      ],
      "text/plain": [
       "<IPython.core.display.Javascript object>"
      ]
     },
     "metadata": {},
     "output_type": "display_data"
    }
   ],
   "source": [
    "num_rows, num_cols = 2, 3\n",
    "fig, axes = plt.subplots(num_rows, num_cols, figsize=(15, 10))\n",
    "\n",
    "np.random.seed(123)\n",
    "\n",
    "for i in range(num_rows):\n",
    "    for j in range(num_cols):\n",
    "        axes[i, j].hist(np.random.randn(500), bins=50, color=\"green\", alpha=0.5)\n",
    "        t = f\"({i}, {j})\"\n",
    "        axes[i, j].set(title=t, xticks=[-5, 0, 5])\n",
    "# plt.subplots_adjust(left=None, bottom=None, right=None, top=None, wspace=0.3, hspace=0.2)\n",
    "plt.show()"
   ]
  },
  {
   "cell_type": "markdown",
   "metadata": {},
   "source": [
    "### 3. Plotting with [`seaborn`](https://seaborn.pydata.org/)\n",
    "\n",
    "`matplotlib` can be a fairly low-level tool. Another library is seaborn, a statistical graphics library created\n",
    "by Michael Waskom. Seaborn simplifies creating many common visualization types.\n",
    "\n",
    "*Importing seaborn modifies the default matplotlib color schemes and plot styles to improve readability and aesthetics. Even if you do not use the seaborn API, you may prefer to import seaborn as a simple way to improve the visual aesthetics of general matplotlib plots.*"
   ]
  },
  {
   "cell_type": "code",
   "execution_count": 61,
   "metadata": {},
   "outputs": [
    {
     "data": {
      "text/plain": [
       "<seaborn.axisgrid.FacetGrid at 0x7f9e422f8a00>"
      ]
     },
     "execution_count": 61,
     "metadata": {},
     "output_type": "execute_result"
    },
    {
     "data": {
      "image/png": "[encoded data removed]",
      "text/plain": [
       "<Figure size 779.225x360 with 2 Axes>"
      ]
     },
     "metadata": {},
     "output_type": "display_data"
    },
    {
     "data": {
      "application/javascript": [
       "\n",
       "            setTimeout(function() {\n",
       "                var nbb_cell_id = 61;\n",
       "                var nbb_unformatted_code = \"import seaborn as sns\\n\\n# Apply the default theme\\nsns.set_theme()\\n\\n# Create a visualization\\nsns.relplot(\\n    data=tips,\\n    x=\\\"total_bill\\\",\\n    y=\\\"tip\\\",\\n    col=\\\"time\\\",\\n    hue=\\\"smoker\\\",\\n    style=\\\"smoker\\\",\\n    size=\\\"size\\\",\\n)\";\n",
       "                var nbb_formatted_code = \"import seaborn as sns\\n\\n# Apply the default theme\\nsns.set_theme()\\n\\n# Create a visualization\\nsns.relplot(\\n    data=tips,\\n    x=\\\"total_bill\\\",\\n    y=\\\"tip\\\",\\n    col=\\\"time\\\",\\n    hue=\\\"smoker\\\",\\n    style=\\\"smoker\\\",\\n    size=\\\"size\\\",\\n)\";\n",
       "                var nbb_cells = Jupyter.notebook.get_cells();\n",
       "                for (var i = 0; i < nbb_cells.length; ++i) {\n",
       "                    if (nbb_cells[i].input_prompt_number == nbb_cell_id) {\n",
       "                        if (nbb_cells[i].get_text() == nbb_unformatted_code) {\n",
       "                             nbb_cells[i].set_text(nbb_formatted_code);\n",
       "                        }\n",
       "                        break;\n",
       "                    }\n",
       "                }\n",
       "            }, 500);\n",
       "            "
      ],
      "text/plain": [
       "<IPython.core.display.Javascript object>"
      ]
     },
     "metadata": {},
     "output_type": "display_data"
    }
   ],
   "source": [
    "import seaborn as sns\n",
    "\n",
    "# Apply the default theme\n",
    "sns.set_theme()\n",
    "\n",
    "# Create a visualization\n",
    "sns.relplot(\n",
    "    data=tips,\n",
    "    x=\"total_bill\",\n",
    "    y=\"tip\",\n",
    "    col=\"time\",\n",
    "    hue=\"smoker\",\n",
    "    style=\"smoker\",\n",
    "    size=\"size\",\n",
    ")"
   ]
  },
  {
   "cell_type": "code",
   "execution_count": 62,
   "metadata": {
    "scrolled": true
   },
   "outputs": [
    {
     "data": {
      "text/plain": [
       "<matplotlib.axes._subplots.AxesSubplot at 0x7f9e43a14430>"
      ]
     },
     "execution_count": 62,
     "metadata": {},
     "output_type": "execute_result"
    },
    {
     "data": {
      "image/png": "[encoded data removed]",
      "text/plain": [
       "<Figure size 432x288 with 1 Axes>"
      ]
     },
     "metadata": {},
     "output_type": "display_data"
    },
    {
     "data": {
      "application/javascript": [
       "\n",
       "            setTimeout(function() {\n",
       "                var nbb_cell_id = 62;\n",
       "                var nbb_unformatted_code = \"# the tipping percentage by day with seaborn\\nsns.barplot(x=\\\"tip_pct\\\", y=\\\"day\\\", data=tips, orient=\\\"h\\\")\";\n",
       "                var nbb_formatted_code = \"# the tipping percentage by day with seaborn\\nsns.barplot(x=\\\"tip_pct\\\", y=\\\"day\\\", data=tips, orient=\\\"h\\\")\";\n",
       "                var nbb_cells = Jupyter.notebook.get_cells();\n",
       "                for (var i = 0; i < nbb_cells.length; ++i) {\n",
       "                    if (nbb_cells[i].input_prompt_number == nbb_cell_id) {\n",
       "                        if (nbb_cells[i].get_text() == nbb_unformatted_code) {\n",
       "                             nbb_cells[i].set_text(nbb_formatted_code);\n",
       "                        }\n",
       "                        break;\n",
       "                    }\n",
       "                }\n",
       "            }, 500);\n",
       "            "
      ],
      "text/plain": [
       "<IPython.core.display.Javascript object>"
      ]
     },
     "metadata": {},
     "output_type": "display_data"
    }
   ],
   "source": [
    "# the tipping percentage by day with seaborn\n",
    "sns.barplot(x=\"tip_pct\", y=\"day\", data=tips, orient=\"h\")"
   ]
  },
  {
   "cell_type": "markdown",
   "metadata": {},
   "source": [
    "Because there are multiple observations for each value in the day, the bars are the average value of tip_pct. The\n",
    "black lines drawn on the bars represent the 95% confidence interval (this can be configured through optional arguments)."
   ]
  },
  {
   "cell_type": "markdown",
   "metadata": {},
   "source": [
    "## Section 5. Compustat example"
   ]
  },
  {
   "cell_type": "markdown",
   "metadata": {},
   "source": [
    "*What is this? How can we download Compustat?<br>Wharton Research Data Services [(wrds)](https://wrds-www.wharton.upenn.edu/) website description.*\n",
    "\n",
    "A tutorial of pulling data from wrds using Python is introduced in Chapter 1b."
   ]
  },
  {
   "cell_type": "markdown",
   "metadata": {},
   "source": [
    "Let's wrap it up! We are going to use Compustat – North America data as an example. \n",
    "\n",
    "At first, please pull the data from library `comp` and table `fundq`, with a where clause on following date range, companies and variables:\n",
    "- Date range: 2000-01-01 – 2003-12-31\n",
    "- Companies: Apple (NASDAQ: AAPL) and Microsoft (NASDAQ: MSFT)\n",
    "- Variables:\n",
    "    - `gvkey`: A unique identifier and primary key for each company in the database.\n",
    "    - `datadate`: Data Date\n",
    "    - `datafqtr`: Fiscal Data Year and Quarter\n",
    "    - `fyearq`: Fiscal Year \n",
    "    - `fqtr`: Fiscal quarter \n",
    "    - `tic`: Ticker Symbol \n",
    "    - `atq`: total value of assets reported on the Balance Sheet. (in Millions)\n",
    "    - `capxy`: Capital Expenditures (cumulative within fiscal year) (in Millions)<br>\n",
    "    *This item represents cash outflow or the funds used for additions to the company's property, plant and equipment, excluding amounts arising from acquisitions, reported in the Statement of Cash Flows.*\n",
    "    - `ppegtq`: Property, Plant and Equipment - Total (Gross) (in Millions)<br>\n",
    "    Gross capital value <br>\n",
    "    *This item represents the cost and/or valuation of tangible fixed assets used in the production of revenue.*\n",
    "    - `ppentq`: Property Plant and Equipment - Total (Net) (in Millions)<br>\n",
    "    Net capital value <br>\n",
    "    *This item represents the cost, less accumulated depreciation, of tangible fixed property used in the production of revenue.*\n",
    "            ppentq = ppegtq – dpactq (depreciation)\n",
    "    - `saleq`: Sales/Turnover (Net), same as ‘revtq’. (in Millions)\n"
   ]
  },
  {
   "cell_type": "markdown",
   "metadata": {},
   "source": [
    "## Importing Data\n",
    "\n",
    "You can find the sample of Compustat data in the data folder. \n",
    "\n",
    "If you are interested at how I download the data from WRDS, read the following cell:"
   ]
  },
  {
   "cell_type": "markdown",
   "metadata": {},
   "source": [
    "To pull data from WRDS, you need to have an account, under IU account subscriptions. Please refer to Chapter 1b for more details.\n",
    "\n",
    "*This Cell Type has been changed to Markdown so that you don't accidentally run the code.*\n",
    "\n",
    "```python\n",
    "import wrds\n",
    "db = wrds.Connection(wrds_username=\"xxx_Your_WRDS_account_xxx\")\n",
    "\n",
    "# Pull the data from WRDS\n",
    "time_frames = \" (datadate>='2000-01-01' and datadate<='2002-12-31') \"\n",
    "companies = \" (tic='AAPL' or tic='MSFT') \"\n",
    "\n",
    "df_fundq = db.raw_sql(\n",
    "    \"select gvkey,conm,datadate,datafqtr,fyearq,fqtr,tic,atq,capxy,ppegtq,ppentq,dpactq,saleq from comp.fundq where (\"\n",
    "    + companies\n",
    "    + \" and \"\n",
    "    + time_frames\n",
    "    + \")\",\n",
    "    #     date_cols=[\"datadate\"],\n",
    ")\n",
    "\n",
    "f_fundq = 'data/fundq_sample.csv'\n",
    "df_fundq.to_csv(f_fundq, index=False)\n",
    "\n",
    "# f_fundq = \"data/fundq_sample.pkl\"\n",
    "# df_fundq.to_pickle(f_fundq)\n",
    "```"
   ]
  },
  {
   "cell_type": "code",
   "execution_count": null,
   "metadata": {},
   "outputs": [],
   "source": [
    "# import wrds\n",
    "\n",
    "# db = wrds.Connection(wrds_username=\"xxx_Your_WRDS_account_xxx\")"
   ]
  },
  {
   "cell_type": "code",
   "execution_count": null,
   "metadata": {},
   "outputs": [],
   "source": [
    "# # Pull the data from WRDS\n",
    "# time_frames = \" (datadate>='2000-01-01' and datadate<='2002-12-31') \"\n",
    "# companies = \" (tic='AAPL' or tic='MSFT') \"\n",
    "\n",
    "# df_fundq = db.raw_sql(\n",
    "#     \"select gvkey,conm,datadate,datafqtr,fyearq,fqtr,tic,atq,capxy,ppegtq,ppentq,dpactq,saleq from comp.fundq where (\"\n",
    "#     + companies\n",
    "#     + \" and \"\n",
    "#     + time_frames\n",
    "#     + \")\",\n",
    "#     #     date_cols=[\"datadate\"],\n",
    "# )"
   ]
  },
  {
   "cell_type": "code",
   "execution_count": null,
   "metadata": {},
   "outputs": [],
   "source": [
    "# f_fundq = \"data/fundq_sample.pkl\"\n",
    "# df_fundq.to_pickle(f_fundq)"
   ]
  },
  {
   "cell_type": "code",
   "execution_count": null,
   "metadata": {},
   "outputs": [],
   "source": [
    "f_fundq = \"data/fundq_sample.pkl\"\n",
    "df_fundq = pd.read_pickle(f_fundq)\n",
    "df_fundq"
   ]
  },
  {
   "cell_type": "code",
   "execution_count": null,
   "metadata": {
    "scrolled": true
   },
   "outputs": [],
   "source": [
    "df_fundq.columns"
   ]
  },
  {
   "cell_type": "code",
   "execution_count": null,
   "metadata": {},
   "outputs": [],
   "source": [
    "df_fundq.dtypes"
   ]
  },
  {
   "cell_type": "markdown",
   "metadata": {},
   "source": [
    "## Industry Code: Merge with `comp.company` \n",
    "As you can see, there is no industry code (`naics` or `sic`) in the `comp.fundq`. The industry code is in another table, i.e. `comp.company`. We need to pull `company` table and merge it with `df`.\n",
    "\n",
    "You can find the sample of `comp.company` data in the data folder. The sample provided and used here is just a small set of original table.\n",
    "\n",
    "If you are interested at how I download the data from WRDS, read the following cell:"
   ]
  },
  {
   "cell_type": "markdown",
   "metadata": {},
   "source": [
    "*This Cell Type has been changed to Markdown so that you don't accidentally run the code.*\n",
    "\n",
    "```python\n",
    "f_company = \"data/company_sample.pkl\"\n",
    "df_company = db.get_table(library=\"comp\", table=\"company\")\n",
    "\n",
    "df_company.iloc[list(range(100)) + [683, 10925], :].to_pickle(f_company)\n",
    "```"
   ]
  },
  {
   "cell_type": "code",
   "execution_count": null,
   "metadata": {},
   "outputs": [],
   "source": [
    "# f_company = \"data/company_sample.pkl\"\n",
    "# df_company = db.get_table(library=\"comp\", table=\"company\")\n",
    "\n",
    "# df_company.iloc[list(range(100)) + [683, 10925], :].reset_index(drop=True).to_pickle(f_company)"
   ]
  },
  {
   "cell_type": "code",
   "execution_count": null,
   "metadata": {},
   "outputs": [],
   "source": [
    "f_company = \"data/company_sample.pkl\"\n",
    "df_company = pd.read_pickle(f_company)"
   ]
  },
  {
   "cell_type": "code",
   "execution_count": null,
   "metadata": {},
   "outputs": [],
   "source": [
    "df_company.columns"
   ]
  },
  {
   "cell_type": "code",
   "execution_count": null,
   "metadata": {},
   "outputs": [],
   "source": [
    "pd.set_option(\"display.max_columns\", None)  # display all columns\n",
    "df_company"
   ]
  },
  {
   "cell_type": "markdown",
   "metadata": {},
   "source": [
    "What we need from `comp.company` is the `naics` and `sic` code. To merge with `df`, we can specify the `gvkey` and `conm` as the keys."
   ]
  },
  {
   "cell_type": "code",
   "execution_count": null,
   "metadata": {},
   "outputs": [],
   "source": [
    "# df = pd.merge(df_fundq, df_company[[\"conm\", \"gvkey\", \"naics\", \"sic\"]], on=\"gvkey\")\n",
    "# df = pd.merge(df_fundq, df_company[[\"conm\", \"gvkey\", \"naics\", \"sic\"]], on=[\"gvkey\", \"conm\"], how=\"right\")\n",
    "df = pd.merge(\n",
    "    df_fundq, df_company[[\"conm\", \"gvkey\", \"naics\", \"sic\"]], on=[\"gvkey\", \"conm\"]\n",
    ")\n",
    "\n",
    "df"
   ]
  },
  {
   "cell_type": "markdown",
   "metadata": {},
   "source": [
    "**Note that without specifying the join type, `merge` does an ‘inner’ join. The keys in the result are the intersection.**"
   ]
  },
  {
   "cell_type": "code",
   "execution_count": null,
   "metadata": {},
   "outputs": [],
   "source": [
    "df.dtypes"
   ]
  },
  {
   "cell_type": "code",
   "execution_count": null,
   "metadata": {},
   "outputs": [],
   "source": [
    "# Two way to convert \"datadate\" type to datetime64[ns]\n",
    "# 1. General way: astype\n",
    "df[\"datadate\"].astype(\"datetime64[ns]\").dtype\n"
   ]
  },
  {
   "cell_type": "code",
   "execution_count": null,
   "metadata": {},
   "outputs": [],
   "source": [
    "# 2. pd.to_datetime\n",
    "df[\"datadate\"] = pd.to_datetime(df[\"datadate\"], format=\"%Y-%m-%d\")\n",
    "# infer_datetime_format=True\n",
    "\n",
    "df[\"datadate\"].dtype"
   ]
  },
  {
   "cell_type": "markdown",
   "metadata": {},
   "source": [
    "We can generate a calendar quarter variable based on `datadate`."
   ]
  },
  {
   "cell_type": "code",
   "execution_count": null,
   "metadata": {},
   "outputs": [],
   "source": [
    "df[\"quarter\"] = df[\"datadate\"].dt.to_period(\"Q\")\n",
    "df.dtypes"
   ]
  },
  {
   "cell_type": "markdown",
   "metadata": {},
   "source": [
    "`Q-DEC` define regular calendar quarters. To check the definition of the quarter, we can convert it to a monthly frequency. Using the how parameter, we can specify whether to return the starting or ending month.\n",
    "\n",
    "```python\n",
    "p = pd.Period(\"2000Q1\", freq=\"Q-DEC\")\n",
    "p.asfreq(\"M\", how=\"start\")  # Starting month of the 2000Q1\n",
    "p.asfreq(\"M\", how=\"end\")  # Ending month of the 2000Q1\n",
    "```\n",
    "Out:<br>\n",
    "Period('2000-01', 'M')\n",
    "\n",
    "Period('2000-03', 'M')"
   ]
  },
  {
   "cell_type": "code",
   "execution_count": null,
   "metadata": {
    "scrolled": true
   },
   "outputs": [],
   "source": [
    "# format the fiscal quarter to the regular-calendar type\n",
    "df[\"datafqtr\"] = df[\"datafqtr\"].astype(\"period[Q-DEC]\")"
   ]
  },
  {
   "cell_type": "code",
   "execution_count": null,
   "metadata": {},
   "outputs": [],
   "source": [
    "# Format the fiscal year and quarter to integer\n",
    "df[\"fyearq\"] = df[\"fyearq\"].astype(\"int64\")\n",
    "df[\"fqtr\"] = df[\"fqtr\"].astype(\"int64\")\n",
    "\n",
    "df.dtypes"
   ]
  },
  {
   "cell_type": "markdown",
   "metadata": {},
   "source": [
    "## Generate a new column: $\\log(Total Asset)$\n",
    "\n",
    "Be careful of any zeros before you take the log.\n",
    "\n",
    "Try to take a log of 0:\n",
    "```python\n",
    "np.log(0)\n",
    "```\n",
    "You are going to get an inf result."
   ]
  },
  {
   "cell_type": "code",
   "execution_count": null,
   "metadata": {},
   "outputs": [],
   "source": [
    "import numpy as np\n",
    "\n",
    "df.loc[df['atq']==0, 'atq'] = np.nan\n",
    "df[\"lasset\"] = np.log(df[\"atq\"])"
   ]
  },
  {
   "cell_type": "markdown",
   "metadata": {},
   "source": [
    "### Lagged term of `lasset`"
   ]
  },
  {
   "cell_type": "code",
   "execution_count": null,
   "metadata": {},
   "outputs": [],
   "source": [
    "df"
   ]
  },
  {
   "cell_type": "code",
   "execution_count": null,
   "metadata": {},
   "outputs": [],
   "source": [
    "df[\"lasset_l1\"] = df.groupby(\"gvkey\")[\"lasset\"].shift(1)"
   ]
  },
  {
   "cell_type": "markdown",
   "metadata": {
    "raw_mimetype": "text/markdown"
   },
   "source": [
    "## Create a sector variable as NAICS 2-digit level"
   ]
  },
  {
   "cell_type": "code",
   "execution_count": null,
   "metadata": {},
   "outputs": [],
   "source": [
    "df[\"naics2d\"] = df[\"naics\"].astype(str).str[:2].astype(int)\n"
   ]
  },
  {
   "cell_type": "markdown",
   "metadata": {},
   "source": [
    "## Drop columns: `atq`, `dpactq`, `sic`"
   ]
  },
  {
   "cell_type": "code",
   "execution_count": null,
   "metadata": {},
   "outputs": [],
   "source": [
    "df = df.drop(columns=[\"atq\", \"dpactq\", \"sic\"])\n",
    "\n",
    "# Alternative way1:\n",
    "# df = df.drop([\"atq\", \"dpactq\", \"sic\"], axis=1)\n",
    "\n",
    "# Alternative way2:\n",
    "# del df[\"atq\"], df[\"dpactq\"], df[\"sic\"]"
   ]
  },
  {
   "cell_type": "code",
   "execution_count": null,
   "metadata": {},
   "outputs": [],
   "source": [
    "df"
   ]
  },
  {
   "cell_type": "markdown",
   "metadata": {},
   "source": [
    "## Generate group-wise variables\n",
    "We want to generate new variables for each firm, such like log change of sales, and investment, and also interpolate gross capital. \n",
    "\n",
    "At very first, SORT by firm and datetime!"
   ]
  },
  {
   "cell_type": "code",
   "execution_count": null,
   "metadata": {},
   "outputs": [],
   "source": [
    "df = df.sort_values(by=[\"gvkey\", \"datadate\"])"
   ]
  },
  {
   "cell_type": "markdown",
   "metadata": {},
   "source": [
    "### Percentage change in sales\n",
    "\n",
    "[`.pct_change()`](https://pandas.pydata.org/docs/reference/api/pandas.DataFrame.pct_change.html)"
   ]
  },
  {
   "cell_type": "code",
   "execution_count": null,
   "metadata": {},
   "outputs": [],
   "source": [
    "df[\"delta_sales\"] = df.groupby([\"gvkey\"])[\"saleq\"].pct_change()\n",
    "\n",
    "# # Method 2: using apply\n",
    "# df[\"delta_sales2\"] = df.groupby([\"gvkey\"])[\"saleq\"].apply(lambda x: x/x.shift(1) -1)\n",
    "\n",
    "df"
   ]
  },
  {
   "cell_type": "code",
   "execution_count": null,
   "metadata": {},
   "outputs": [],
   "source": [
    "# df.groupby([\"gvkey\"])[\"saleq\"].apply(lambda x: x/x.shift(1) -1)"
   ]
  },
  {
   "cell_type": "markdown",
   "metadata": {},
   "source": [
    "**Note that 0s would result in `inf` when calculating percentage change! <br>Remember to check the new column to avoid future trouble!!!**\n",
    "\n",
    "In such case, just assign the corresponding values as `np.nan` type."
   ]
  },
  {
   "cell_type": "code",
   "execution_count": null,
   "metadata": {},
   "outputs": [],
   "source": [
    "df.loc[df[\"delta_sales\"] == np.inf, \"delta_sales\"] = np.nan"
   ]
  },
  {
   "cell_type": "markdown",
   "metadata": {},
   "source": [
    "### Investment: net value of capital expenditure\n",
    "\n",
    "Notice that the raw capital expenditure, `capxy`, is cumulative within certain fiscal year. <br>\n",
    "We need to recover its quarterly net value."
   ]
  },
  {
   "cell_type": "code",
   "execution_count": null,
   "metadata": {
    "scrolled": true
   },
   "outputs": [],
   "source": [
    "df[\"capxy_net\"] = df.groupby([\"gvkey\", \"fyearq\"])['capxy'].diff()\n",
    "\n",
    "df"
   ]
  },
  {
   "cell_type": "code",
   "execution_count": null,
   "metadata": {},
   "outputs": [],
   "source": [
    "df.loc[(df[\"fqtr\"] == 1), \"capxy_net\"] = df.loc[(df[\"fqtr\"] == 1), \"capxy\"]\n",
    "\n",
    "df"
   ]
  },
  {
   "cell_type": "markdown",
   "metadata": {},
   "source": [
    "### Interpolate Gross Capital Stock (`ppegtq`)\n",
    "Note:\n",
    "Researchers use `ppentq` more frequently than `ppegtq`. There are many missing entries of `ppegtq` and few missing in `ppentq`. People usually linearly interpolate `ppentq` to fill in the missing entries. \n",
    "\n",
    "Since there is no missing entries of `ppentq` in our data sample, I will just interpolate `ppegtq` as example.\n",
    "\n",
    "**You can use `transform` to implement the interpolate function.**<br>\n",
    "[`transform`](https://pandas.pydata.org/docs/reference/api/pandas.DataFrame.transform.html): Call func on self producing a DataFrame with transformed values.\n",
    "Produced DataFrame will have same axis length as self."
   ]
  },
  {
   "cell_type": "code",
   "execution_count": null,
   "metadata": {},
   "outputs": [],
   "source": [
    "df[\"ppegtq_intp\"] = df.groupby([\"gvkey\"])[\"ppegtq\"].transform(\n",
    "    lambda x: x.interpolate(method=\"linear\")\n",
    ")"
   ]
  },
  {
   "cell_type": "code",
   "execution_count": null,
   "metadata": {},
   "outputs": [],
   "source": [
    "df[[\"gvkey\", \"datafqtr\", \"ppegtq\", \"ppegtq_intp\"]]"
   ]
  },
  {
   "cell_type": "markdown",
   "metadata": {},
   "source": [
    "### Generate Investment/Capital ratio\n",
    "\n",
    "Use more than two variables to generate a new column.\n",
    "\n",
    "- [df.assign](https://pandas.pydata.org/docs/reference/api/pandas.DataFrame.assign.html): Assign new columns to a DataFrame.\n",
    "\n",
    "- [df.apply](https://pandas.pydata.org/docs/reference/api/pandas.DataFrame.apply.html): Apply a function along an axis of the DataFrame.\n",
    "\n",
    "    - axis{0 or ‘index’, 1 or ‘columns’}, default 0<br>\n",
    "        Axis along which the function is applied:\n",
    "        - 0 or ‘index’: apply function to each column.\n",
    "        - 1 or ‘columns’: apply function to each row."
   ]
  },
  {
   "cell_type": "markdown",
   "metadata": {},
   "source": [
    "The following three examples show a ratio of $capxy\\_net_{t}$ to $ppentq_{t}$. \n",
    "\n",
    "Note that in literuture, to represent the usage of investment at time $t$, people usually use the capital stock at period $t-1$, $capital stock_{t-1}$, in the denominator. You are asked to do so in the exercise."
   ]
  },
  {
   "cell_type": "code",
   "execution_count": null,
   "metadata": {},
   "outputs": [],
   "source": [
    "# 1st method\n",
    "df[\"inv_k1\"] = df[\"capxy_net\"] / df[\"ppentq\"]\n",
    "\n",
    "df[[\"gvkey\", \"datafqtr\", \"capxy_net\", \"ppentq\", \"inv_k1\"]]"
   ]
  },
  {
   "cell_type": "code",
   "execution_count": null,
   "metadata": {},
   "outputs": [],
   "source": [
    "# 2nd method: df.assign\n",
    "df = df.assign(inv_k2=lambda x: x.capxy_net / x.ppentq)\n",
    "\n",
    "df[[\"gvkey\", \"datafqtr\", \"capxy_net\", \"ppentq\", \"inv_k1\", \"inv_k2\"]]"
   ]
  },
  {
   "cell_type": "code",
   "execution_count": null,
   "metadata": {},
   "outputs": [],
   "source": [
    "# 3rd method\n",
    "df[\"inv_k3\"] = df.apply(lambda x: x.capxy_net / x.ppentq, axis=1)\n",
    "\n",
    "df[[\"gvkey\", \"datafqtr\", \"capxy_net\", \"ppentq\", \"inv_k1\", \"inv_k2\", \"inv_k3\"]]"
   ]
  },
  {
   "cell_type": "markdown",
   "metadata": {},
   "source": [
    "## Descriptive Statistics"
   ]
  },
  {
   "cell_type": "code",
   "execution_count": null,
   "metadata": {},
   "outputs": [],
   "source": [
    "df[[\"lasset\", \"lasset_l1\", \"inv_k1\", \"delta_sales\"]].describe()"
   ]
  },
  {
   "cell_type": "code",
   "execution_count": null,
   "metadata": {},
   "outputs": [],
   "source": [
    "df[[\"lasset\", \"lasset_l1\", \"inv_k1\", \"delta_sales\"]].corr()"
   ]
  },
  {
   "cell_type": "markdown",
   "metadata": {},
   "source": [
    "#### Exercise 1"
   ]
  },
  {
   "cell_type": "markdown",
   "metadata": {},
   "source": [
    "Generate a new variable, investment-capital ratio with the lagged term of capital, that is  \n",
    "\n",
    "$$I\\_K\\_ratio_t = \\dfrac{capxy\\_net_{t}}{ppentq_{t-1}}$$"
   ]
  },
  {
   "cell_type": "code",
   "execution_count": null,
   "metadata": {
    "scrolled": true
   },
   "outputs": [],
   "source": [
    "# insert your code here\n",
    "df[\"ppentq_lag1\"] = None\n",
    "df[\"I_K_ratio\"] = None\n",
    "\n",
    "# df[[\"gvkey\", \"fyearq\", \"capxy_net\", \"ppentq_lag1\", \"I_K_ratio\"]]"
   ]
  },
  {
   "cell_type": "markdown",
   "metadata": {},
   "source": [
    "<details><summary>Click here for the solution</summary>\n",
    "\n",
    "```python\n",
    "df[\"ppentq_lag1\"] = df.groupby([\"gvkey\"]).ppentq.shift(1)\n",
    "df[\"I_K_ratio\"] = df[\"capxy_net\"] / df[\"ppentq_lag1\"]\n",
    "```\n",
    "\n",
    "</details>"
   ]
  },
  {
   "cell_type": "markdown",
   "metadata": {},
   "source": [
    "#### Exercise 2"
   ]
  },
  {
   "cell_type": "markdown",
   "metadata": {},
   "source": [
    "Generate another new variable, $CapitalStock_{t}$, using law of motion in capital:\n",
    "\n",
    "$$CapitalStock_t = (1-\\delta)*CapitalStock_{t-1} + I_{t}$$\n",
    "\n",
    "where $CapitalStock_{0}$ is the first available `ppegtq` value, depreciation rate $\\delta = 0.1$, and investment $I_{t}$ is `capxy_net`. "
   ]
  },
  {
   "cell_type": "code",
   "execution_count": null,
   "metadata": {
    "scrolled": true
   },
   "outputs": [],
   "source": [
    "# insert your code here\n",
    "\n",
    "\n",
    "# df[[\"gvkey\", \"fyearq\", \"ppegtq\", \"capxy_net\", \"CapitalStock\"]]"
   ]
  },
  {
   "cell_type": "markdown",
   "metadata": {},
   "source": [
    "<details><summary>Click here for the solution</summary>\n",
    "\n",
    "```python\n",
    "def get_CapitalStock(df):\n",
    "    if (df.shape[0] <= 2) or (df[\"ppegtq\"].isnull().all()):\n",
    "        df[\"CapitalStock\"] = np.nan\n",
    "    else:\n",
    "        k0_position = df.index.get_loc(df[\"ppegtq\"].first_valid_index())\n",
    "        k0 = df[\"ppegtq\"].iloc[k0_position]\n",
    "        k = [np.nan] * k0_position + [k0]\n",
    "\n",
    "        for index in range(k0_position + 1, df.shape[0]):\n",
    "            k.append((1.0 - 0.1) * k[-1] + df[\"capxy_net\"].iloc[index])\n",
    "        df[\"CapitalStock\"] = k\n",
    "    return df\n",
    "\n",
    "\n",
    "df = df.groupby([\"gvkey\"]).apply(get_CapitalStock)\n",
    "```\n",
    "\n",
    "</details>"
   ]
  }
 ],
 "metadata": {
  "kernelspec": {
   "display_name": "Python 3",
   "language": "python",
   "name": "python3"
  },
  "language_info": {
   "codemirror_mode": {
    "name": "ipython",
    "version": 3
   },
   "file_extension": ".py",
   "mimetype": "text/x-python",
   "name": "python",
   "nbconvert_exporter": "python",
   "pygments_lexer": "ipython3",
   "version": "3.8.3"
  }
 },
 "nbformat": 4,
 "nbformat_minor": 4
}
