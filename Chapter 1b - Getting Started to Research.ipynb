{
 "cells": [
  {
   "cell_type": "markdown",
   "metadata": {},
   "source": [
    "# Chapter 1b: Getting Started to Research <font color='red'>**(OPTIONAL)** </font> \n",
    "\n",
    "This subchapter introduces you how to use the IU specific computing reesources on/with Python. \n",
    "\n",
    "Last edited: 05/16/2021\n"
   ]
  },
  {
   "cell_type": "markdown",
   "metadata": {},
   "source": [
    "**Contents of this Notebook:**\n",
    "\n",
    "- [Section 1. IU Research Desktop (RED)](#Section-1.-IU-Research-Desktop-(RED))\n",
    "- [Section 2. Access WRDS](#Section-2.-Access-WRDS)\n"
   ]
  },
  {
   "cell_type": "markdown",
   "metadata": {},
   "source": [
    "## Section 1. IU Research Desktop (RED)\n",
    "\n",
    "\n",
    "If you don't have enough storage in your laptop or you have any technical concerns, using IU's research desktop will be a good choice. \n",
    "\n",
    "No matter what, for any future research, I do suggest that you create supercomputer accounts and get familiar with IU research desktop. \n",
    "\n",
    "\n",
    "You can use the Jupyter Notebook or Spyder on IU's research desktop ([RED](https://kb.iu.edu/d/apum)) via Thinlinc Client. That is, you can work on IU's supercomputer via a virtual desktop. Note that the RED is using Linux system, so there is a little fix cost of learning terminal commands. A typical RED looks in this way.\n",
    "\n",
    "![RED](images/a151x.jpeg)\n",
    "<font color='orange'>*Tip: F8 in ThinLinc if you want to enter or exit full screen mode*.</font>\n"
   ]
  },
  {
   "cell_type": "markdown",
   "metadata": {},
   "source": [
    "#### 1. Creating Accounts\n",
    "To use RED, you need an account on [Carbonate](https://kb.iu.edu/d/aolp). Moreover, because there is 100GB limitation of home directory disk storage, I usually use [Slate](https://kb.iu.edu/d/aqnk) for storage. You might want to create a Slate account as well. \n",
    "\n",
    "*For sure, there are some other storage methods on IU research system, see [Available access to allocated and short-term storage capacity on IU's research systems](https://kb.iu.edu/d/avkm).*\n",
    "\n",
    ">\n",
    "> Below are the account creation links:\n",
    "> \n",
    "> 1. If you do not already have an account, create one by visiting [one.iu.edu](https://one.iu.edu/) and searching for \"[Create More Accounts](https://one.iu.edu/launch-task/iu/account-creation)\". \n",
    "> 2. Select `Carbonate` and `Slate`, and then `Create Account`.\n",
    ">\n",
    "\n",
    "<font color='red'>Note that it may take one/two workdays to authorize your accounts.</font><br>\n",
    "\n",
    "Learn more about [Get additional IU computing accounts](https://kb.iu.edu/d/achr)."
   ]
  },
  {
   "cell_type": "markdown",
   "metadata": {},
   "source": [
    "#### 2. Remote Desktop (ThinLinc)\n",
    "Using ThinkLinc is the simplest way to get access to the RED. You need to download, install and configure ThinLinc Client in your local (own) computer. \n",
    "\n",
    "Please follow the instruction CLOSELY on [Download, install, and configure ThinLinc Client to use Research Desktop (RED) at IU](https://kb.iu.edu/d/aput).\n",
    "\n",
    "After configuring ThinLinc Client correctly, you should be able to open RED with your IU account and authentication tool. Let's exploring the new world!\n",
    "\n",
    "**Some useful information on IU supercomputer**:  \n",
    "- [Use the IU Globus Web App to transfer data between your accounts on IU's research computing and storage systems](https://kb.iu.edu/d/bdqp)\n",
    "- [Access Google at IU My Drive from Research Desktop (RED)](https://kb.iu.edu/d/bgsp)\n",
    "- [Run jobs on Carbonate](https://kb.iu.edu/d/avjo)"
   ]
  },
  {
   "cell_type": "markdown",
   "metadata": {},
   "source": [
    "#### 3. Jupyter Notebook\n",
    "On the top-left menu bar of the RED, you can find Jupyter notebook via `Applications` - `Analytics` - `Jupyter Notebook`.\n",
    "\n",
    "Jupyter will automatically open up in your default web browser, Firefox, with your Carbonate Home as root directory, i.e., `/N/u/`IU-username`/Carbonate`.\n",
    "\n",
    "Because Jupyter Notebook allows user to author content in Markdown and HTML, and provides an interactive data science environment with code and text, for educational purpose, I will use Jupyter for the this course.\n",
    "\n",
    "In future, you might want to write your project in Spyder, which has a interface similar with R-studio."
   ]
  },
  {
   "cell_type": "markdown",
   "metadata": {},
   "source": [
    "#### 4. Spyder\n",
    "If you want to use Spyder, RED doesn't put Spyder explicitly in the `Applications`. To open it, you need to use Terminal window.\n",
    "\n",
    "1. Open `Terminal` on the RED\n",
    "2. Type and return \n",
    "> `module load anaconda`\n",
    "\n",
    "\n",
    "3. Type and return \n",
    "> `spyder`\n",
    "\n",
    "It might take ~1 min to open the Spyder. Be patient. <br>\n",
    "*Note that you can also launch Jupyter Notebook by using `jupyter notebook` in the step 3.*"
   ]
  },
  {
   "cell_type": "markdown",
   "metadata": {},
   "source": [
    "#### 5. Run jobs on Carbonate \n",
    "\n",
    "**Show \"Hello World\" example on RED**\n",
    "\n",
    "\n",
    "1. Change your working directory on Terminal:\n",
    "\n",
    "        cd intro_to_python_redproject/\n",
    "\n",
    "\n",
    "2. Submit your job on Terminal:<br>\n",
    "<font color='red'>Change your email and working directory in the template!!!</font><br>\n",
    "\n",
    "        sbatch intro_to_python_template\n",
    "\n",
    "*You can generate the shell script with [HPC everywhere](https://hpceverywhere.iu.edu/).*\n",
    "\n",
    "3. Check status on Terminal:  \n",
    "\n",
    "        squeue -u iuusername -l"
   ]
  },
  {
   "cell_type": "markdown",
   "metadata": {},
   "source": [
    "*I thank Rong Fan and Pengfei Ma for the helpful suggestions on submitting jobs on Carbonate.*"
   ]
  },
  {
   "cell_type": "markdown",
   "metadata": {},
   "source": [
    "## Section 2. Access WRDS"
   ]
  },
  {
   "cell_type": "markdown",
   "metadata": {},
   "source": [
    "This course will use Compustat as a sample example, which is financial data for publicly traded companies. You can download the sample data in the shared google drive. Alternatively, you can download it via Wharton Research Data Services (WRDS)."
   ]
  },
  {
   "cell_type": "markdown",
   "metadata": {},
   "source": [
    "In general, you can download data from WRDS by using web query. But for specific purpose, researchers usually access WRDS through SAS, Python, R, MATLAB, or Stata.\n",
    "In this section, I will show you how you can access WRDS data from Python on your computer.\n",
    "\n",
    "Main reference:\n",
    "\n",
    "[PYTHON: From Your Computer (Jupyter/Spyder)](https://wrds-www.wharton.upenn.edu/pages/support/programming-wrds/programming-python/python-from-your-computer/)\n",
    "\n",
    "[Querying WRDS Data using Python]( https://wrds-www.wharton.upenn.edu/pages/support/programming-wrds/programming-python/querying-wrds-data-python/)"
   ]
  },
  {
   "cell_type": "markdown",
   "metadata": {},
   "source": [
    "### 1. Register for a WRDS account\n",
    "IU has subscripted the WRDS. To access the database, you need to register your individual account.\n",
    "\n",
    "Please note: INDIVIDUAL REGISTRATION WITH AN <font color='orange'>**OFFICIAL INDIANA UNIVERSITY EMAIL ACCOUNT**</font> IS REQUIRED TO ACCESS THIS RESOURCE.\n",
    "\n",
    "After you submit your registration, your account would be verified and authorized within few workdays.\n",
    "\n",
    "For more details, read [IU Libraries WRDS Datasets](https://libraries.indiana.edu/wrds-datasets)\n"
   ]
  },
  {
   "cell_type": "markdown",
   "metadata": {},
   "source": [
    "### 2. Install WRDS module\n",
    "Open terminal window, run the following command:\n",
    "`pip install wrds`\n",
    "\n",
    "If using RED, you need to run:\n",
    "`pip install wrds --user`"
   ]
  },
  {
   "cell_type": "markdown",
   "metadata": {},
   "source": [
    "### 3. First time use -- Setup pgpass file\n",
    "Open Jupyter Notebook, run the following:\n",
    "```python\n",
    "import wrds\n",
    "db = wrds.Connection(wrds_username='yourusername')\n",
    "db.create_pgpass_file()\n",
    "```"
   ]
  },
  {
   "cell_type": "markdown",
   "metadata": {},
   "source": [
    "**Expected ouput:**<br>\n",
    "Enter your WRDS username [mymac]:yourusername<br>\n",
    "Enter your password:········<br>\n",
    "WRDS recommends setting up a .pgpass file.<br>\n",
    "You can find more info here:<br>\n",
    "https://www.postgresql.org/docs/9.5/static/libpq-pgpass.html.<br>\n",
    "Loading library list...<br>\n",
    "Done"
   ]
  },
  {
   "cell_type": "markdown",
   "metadata": {},
   "source": [
    "After running `create_pgpass_file()` once, you should be able to connect from then on without needing to do so. Test this by disconnecting and reconnecting, using the following:\n",
    "```python\n",
    "db.close()\n",
    "db = wrds.Connection(wrds_username='yourusername')\n",
    "```\n"
   ]
  },
  {
   "cell_type": "markdown",
   "metadata": {},
   "source": [
    "### 4. Querying WRDS Data using Python\n",
    "After connecting to the WRDS, we can query data by using `get_table` or PostgreSQL commands.\n",
    "\n",
    "The connection is saved as variable `db` (database)."
   ]
  },
  {
   "cell_type": "code",
   "execution_count": null,
   "metadata": {},
   "outputs": [],
   "source": [
    "# Do not forget to load the WRDS module and connection before pulling the data\n",
    "import wrds\n",
    "\n",
    "db = wrds.Connection(wrds_username=\"yourusername\")\n",
    "\n",
    "# Two ways of pulling data from WRDS\n",
    "db.get_table(\"djones\", \"djdaily\", columns=[\"date\", \"dji\"], obs=10)"
   ]
  },
  {
   "cell_type": "code",
   "execution_count": null,
   "metadata": {},
   "outputs": [],
   "source": [
    "db.raw_sql(\"select date,dji from djones.djdaily LIMIT 10;\", date_cols=[\"date\"])"
   ]
  },
  {
   "cell_type": "code",
   "execution_count": null,
   "metadata": {},
   "outputs": [],
   "source": [
    "db.raw_sql(\"select * from comp.fundq LIMIT 10\", date_cols=[\"datadate\"])"
   ]
  },
  {
   "cell_type": "markdown",
   "metadata": {},
   "source": [
    "There are too many variables from `comp.fundq`. We can select certain columns of interest and put a `where` clause on companies and time. "
   ]
  },
  {
   "cell_type": "code",
   "execution_count": null,
   "metadata": {},
   "outputs": [],
   "source": [
    "companies = \" (tic='AAPL' or tic='IBM' or tic='FB') \"\n",
    "time_frames = \" (datadate>'1999-12-31' and datadate<'2010-01-01') \"\n",
    "\n",
    "# time_frames = \" (datacqtr>'1999Q4' and datacqtr<'2010Q1') \"\n",
    "db.raw_sql(\n",
    "    \"select gvkey,datadate,datacqtr,datafqtr,fyearq,tic,conm,atq,capxy,ppegtq,ppentq,saleq from comp.fundq where (\"\n",
    "    + companies\n",
    "    + \" and \"\n",
    "    + time_frames\n",
    "    + \")\",\n",
    "    date_cols=[\"datadate\"],\n",
    ")"
   ]
  }
 ],
 "metadata": {
  "kernelspec": {
   "display_name": "Python 3",
   "language": "python",
   "name": "python3"
  },
  "language_info": {
   "codemirror_mode": {
    "name": "ipython",
    "version": 3
   },
   "file_extension": ".py",
   "mimetype": "text/x-python",
   "name": "python",
   "nbconvert_exporter": "python",
   "pygments_lexer": "ipython3",
   "version": "3.8.3"
  }
 },
 "nbformat": 4,
 "nbformat_minor": 4
}
