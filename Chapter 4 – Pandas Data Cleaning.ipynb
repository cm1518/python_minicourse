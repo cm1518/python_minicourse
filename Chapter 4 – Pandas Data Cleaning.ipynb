{
 "cells": [
  {
   "cell_type": "markdown",
   "metadata": {},
   "source": [
    "# Chapter 4 – Pandas and Data Cleaning\n",
    "\n",
    "Main reference:<br>\n",
    "- Chapter 5, 7, Python for Data Analysis, by Wes McKinney\n",
    "- Data Analysis with Python, by IBM\n",
    "\n",
    "Last edited: 05/16/2021\n"
   ]
  },
  {
   "cell_type": "markdown",
   "metadata": {},
   "source": [
    "-----"
   ]
  },
  {
   "cell_type": "markdown",
   "metadata": {},
   "source": [
    "**Contents of this Notebook:**\n",
    "\n",
    "- [Section 1. Introduction to pandas Data Structures](#Section-1.-Introduction-to-pandas-Data-Structures)\n",
    "- [Section 2. Data Cleaning](#Section-2.-Data-Cleaning) (05/11/2021 updated)"
   ]
  },
  {
   "cell_type": "markdown",
   "metadata": {},
   "source": [
    "# Section 1. Introduction to pandas Data Structures"
   ]
  },
  {
   "cell_type": "markdown",
   "metadata": {},
   "source": [
    "`pandas.DataFrame()`: A rectangular table of data and contains an ordered collection of columns. <br>\n",
    "*(Similar with data frame in R, table in MATLAB, one worksheet in Excel, or general data in Stata.)*\n",
    "\n",
    "`pandas.Series()`: One-dimensional array-like object containing a sequence of values (of similar types to NumPy types) and an associated array of data labels, called its index."
   ]
  },
  {
   "cell_type": "code",
   "execution_count": 1,
   "metadata": {},
   "outputs": [
    {
     "data": {
      "application/javascript": [
       "\n",
       "            setTimeout(function() {\n",
       "                var nbb_cell_id = 1;\n",
       "                var nbb_unformatted_code = \"%load_ext nb_black\\nimport numpy as np\\nimport pandas as pd\";\n",
       "                var nbb_formatted_code = \"%load_ext nb_black\\nimport numpy as np\\nimport pandas as pd\";\n",
       "                var nbb_cells = Jupyter.notebook.get_cells();\n",
       "                for (var i = 0; i < nbb_cells.length; ++i) {\n",
       "                    if (nbb_cells[i].input_prompt_number == nbb_cell_id) {\n",
       "                        if (nbb_cells[i].get_text() == nbb_unformatted_code) {\n",
       "                             nbb_cells[i].set_text(nbb_formatted_code);\n",
       "                        }\n",
       "                        break;\n",
       "                    }\n",
       "                }\n",
       "            }, 500);\n",
       "            "
      ],
      "text/plain": [
       "<IPython.core.display.Javascript object>"
      ]
     },
     "metadata": {},
     "output_type": "display_data"
    }
   ],
   "source": [
    "# %load_ext nb_black\n",
    "import numpy as np\n",
    "import pandas as pd"
   ]
  },
  {
   "cell_type": "markdown",
   "metadata": {},
   "source": [
    "## Create a Pandas DataFrame\n",
    "\n",
    "There are many ways to construct a DataFrame, though one of the most common is from a dict of **equal-length** lists or NumPy arrays"
   ]
  },
  {
   "cell_type": "code",
   "execution_count": 2,
   "metadata": {},
   "outputs": [
    {
     "data": {
      "application/javascript": [
       "\n",
       "            setTimeout(function() {\n",
       "                var nbb_cell_id = 2;\n",
       "                var nbb_unformatted_code = \"data = {\\n    \\\"state\\\": [\\\"Indiana\\\", \\\"Indiana\\\", \\\"Indiana\\\", \\\"Ohio\\\", \\\"Ohio\\\", \\\"Ohio\\\"],\\n    \\\"year\\\": [2000, 2001, 2002, 2001, 2002, 2003],\\n    \\\"pop\\\": [6.0, 6.1, 6.2, 11.2, 11.4, 11.5],\\n}\\n\\nframe = pd.DataFrame(data)\";\n",
       "                var nbb_formatted_code = \"data = {\\n    \\\"state\\\": [\\\"Indiana\\\", \\\"Indiana\\\", \\\"Indiana\\\", \\\"Ohio\\\", \\\"Ohio\\\", \\\"Ohio\\\"],\\n    \\\"year\\\": [2000, 2001, 2002, 2001, 2002, 2003],\\n    \\\"pop\\\": [6.0, 6.1, 6.2, 11.2, 11.4, 11.5],\\n}\\n\\nframe = pd.DataFrame(data)\";\n",
       "                var nbb_cells = Jupyter.notebook.get_cells();\n",
       "                for (var i = 0; i < nbb_cells.length; ++i) {\n",
       "                    if (nbb_cells[i].input_prompt_number == nbb_cell_id) {\n",
       "                        if (nbb_cells[i].get_text() == nbb_unformatted_code) {\n",
       "                             nbb_cells[i].set_text(nbb_formatted_code);\n",
       "                        }\n",
       "                        break;\n",
       "                    }\n",
       "                }\n",
       "            }, 500);\n",
       "            "
      ],
      "text/plain": [
       "<IPython.core.display.Javascript object>"
      ]
     },
     "metadata": {},
     "output_type": "display_data"
    }
   ],
   "source": [
    "data = {\n",
    "    \"state\": [\"Indiana\", \"Indiana\", \"Indiana\", \"Ohio\", \"Ohio\", \"Ohio\"],\n",
    "    \"year\": [2000, 2001, 2002, 2001, 2002, 2003],\n",
    "    \"pop\": [6.0, 6.1, 6.2, 11.2, 11.4, 11.5],\n",
    "}\n",
    "\n",
    "frame = pd.DataFrame(data)"
   ]
  },
  {
   "cell_type": "code",
   "execution_count": 3,
   "metadata": {},
   "outputs": [
    {
     "data": {
      "text/html": [
       "<div>\n",
       "<style scoped>\n",
       "    .dataframe tbody tr th:only-of-type {\n",
       "        vertical-align: middle;\n",
       "    }\n",
       "\n",
       "    .dataframe tbody tr th {\n",
       "        vertical-align: top;\n",
       "    }\n",
       "\n",
       "    .dataframe thead th {\n",
       "        text-align: right;\n",
       "    }\n",
       "</style>\n",
       "<table border=\"1\" class=\"dataframe\">\n",
       "  <thead>\n",
       "    <tr style=\"text-align: right;\">\n",
       "      <th></th>\n",
       "      <th>state</th>\n",
       "      <th>year</th>\n",
       "      <th>pop</th>\n",
       "    </tr>\n",
       "  </thead>\n",
       "  <tbody>\n",
       "    <tr>\n",
       "      <th>0</th>\n",
       "      <td>Indiana</td>\n",
       "      <td>2000</td>\n",
       "      <td>6.0</td>\n",
       "    </tr>\n",
       "    <tr>\n",
       "      <th>1</th>\n",
       "      <td>Indiana</td>\n",
       "      <td>2001</td>\n",
       "      <td>6.1</td>\n",
       "    </tr>\n",
       "    <tr>\n",
       "      <th>2</th>\n",
       "      <td>Indiana</td>\n",
       "      <td>2002</td>\n",
       "      <td>6.2</td>\n",
       "    </tr>\n",
       "    <tr>\n",
       "      <th>3</th>\n",
       "      <td>Ohio</td>\n",
       "      <td>2001</td>\n",
       "      <td>11.2</td>\n",
       "    </tr>\n",
       "    <tr>\n",
       "      <th>4</th>\n",
       "      <td>Ohio</td>\n",
       "      <td>2002</td>\n",
       "      <td>11.4</td>\n",
       "    </tr>\n",
       "    <tr>\n",
       "      <th>5</th>\n",
       "      <td>Ohio</td>\n",
       "      <td>2003</td>\n",
       "      <td>11.5</td>\n",
       "    </tr>\n",
       "  </tbody>\n",
       "</table>\n",
       "</div>"
      ],
      "text/plain": [
       "     state  year   pop\n",
       "0  Indiana  2000   6.0\n",
       "1  Indiana  2001   6.1\n",
       "2  Indiana  2002   6.2\n",
       "3     Ohio  2001  11.2\n",
       "4     Ohio  2002  11.4\n",
       "5     Ohio  2003  11.5"
      ]
     },
     "execution_count": 3,
     "metadata": {},
     "output_type": "execute_result"
    },
    {
     "data": {
      "application/javascript": [
       "\n",
       "            setTimeout(function() {\n",
       "                var nbb_cell_id = 3;\n",
       "                var nbb_unformatted_code = \"frame\";\n",
       "                var nbb_formatted_code = \"frame\";\n",
       "                var nbb_cells = Jupyter.notebook.get_cells();\n",
       "                for (var i = 0; i < nbb_cells.length; ++i) {\n",
       "                    if (nbb_cells[i].input_prompt_number == nbb_cell_id) {\n",
       "                        if (nbb_cells[i].get_text() == nbb_unformatted_code) {\n",
       "                             nbb_cells[i].set_text(nbb_formatted_code);\n",
       "                        }\n",
       "                        break;\n",
       "                    }\n",
       "                }\n",
       "            }, 500);\n",
       "            "
      ],
      "text/plain": [
       "<IPython.core.display.Javascript object>"
      ]
     },
     "metadata": {},
     "output_type": "display_data"
    }
   ],
   "source": [
    "frame"
   ]
  },
  {
   "cell_type": "code",
   "execution_count": 4,
   "metadata": {},
   "outputs": [
    {
     "data": {
      "text/html": [
       "<div>\n",
       "<style scoped>\n",
       "    .dataframe tbody tr th:only-of-type {\n",
       "        vertical-align: middle;\n",
       "    }\n",
       "\n",
       "    .dataframe tbody tr th {\n",
       "        vertical-align: top;\n",
       "    }\n",
       "\n",
       "    .dataframe thead th {\n",
       "        text-align: right;\n",
       "    }\n",
       "</style>\n",
       "<table border=\"1\" class=\"dataframe\">\n",
       "  <thead>\n",
       "    <tr style=\"text-align: right;\">\n",
       "      <th></th>\n",
       "      <th>state</th>\n",
       "      <th>year</th>\n",
       "      <th>pop</th>\n",
       "    </tr>\n",
       "  </thead>\n",
       "  <tbody>\n",
       "    <tr>\n",
       "      <th>0</th>\n",
       "      <td>Indiana</td>\n",
       "      <td>2000</td>\n",
       "      <td>6.0</td>\n",
       "    </tr>\n",
       "    <tr>\n",
       "      <th>1</th>\n",
       "      <td>Indiana</td>\n",
       "      <td>2001</td>\n",
       "      <td>6.1</td>\n",
       "    </tr>\n",
       "    <tr>\n",
       "      <th>2</th>\n",
       "      <td>Indiana</td>\n",
       "      <td>2002</td>\n",
       "      <td>6.2</td>\n",
       "    </tr>\n",
       "    <tr>\n",
       "      <th>3</th>\n",
       "      <td>Ohio</td>\n",
       "      <td>2001</td>\n",
       "      <td>11.2</td>\n",
       "    </tr>\n",
       "    <tr>\n",
       "      <th>4</th>\n",
       "      <td>Ohio</td>\n",
       "      <td>2002</td>\n",
       "      <td>11.4</td>\n",
       "    </tr>\n",
       "  </tbody>\n",
       "</table>\n",
       "</div>"
      ],
      "text/plain": [
       "     state  year   pop\n",
       "0  Indiana  2000   6.0\n",
       "1  Indiana  2001   6.1\n",
       "2  Indiana  2002   6.2\n",
       "3     Ohio  2001  11.2\n",
       "4     Ohio  2002  11.4"
      ]
     },
     "execution_count": 4,
     "metadata": {},
     "output_type": "execute_result"
    },
    {
     "data": {
      "application/javascript": [
       "\n",
       "            setTimeout(function() {\n",
       "                var nbb_cell_id = 4;\n",
       "                var nbb_unformatted_code = \"frame.head()\";\n",
       "                var nbb_formatted_code = \"frame.head()\";\n",
       "                var nbb_cells = Jupyter.notebook.get_cells();\n",
       "                for (var i = 0; i < nbb_cells.length; ++i) {\n",
       "                    if (nbb_cells[i].input_prompt_number == nbb_cell_id) {\n",
       "                        if (nbb_cells[i].get_text() == nbb_unformatted_code) {\n",
       "                             nbb_cells[i].set_text(nbb_formatted_code);\n",
       "                        }\n",
       "                        break;\n",
       "                    }\n",
       "                }\n",
       "            }, 500);\n",
       "            "
      ],
      "text/plain": [
       "<IPython.core.display.Javascript object>"
      ]
     },
     "metadata": {},
     "output_type": "display_data"
    }
   ],
   "source": [
    "frame.head()"
   ]
  },
  {
   "cell_type": "code",
   "execution_count": 5,
   "metadata": {},
   "outputs": [
    {
     "data": {
      "text/plain": [
       "Index(['state', 'year', 'pop'], dtype='object')"
      ]
     },
     "execution_count": 5,
     "metadata": {},
     "output_type": "execute_result"
    },
    {
     "data": {
      "application/javascript": [
       "\n",
       "            setTimeout(function() {\n",
       "                var nbb_cell_id = 5;\n",
       "                var nbb_unformatted_code = \"frame.columns\";\n",
       "                var nbb_formatted_code = \"frame.columns\";\n",
       "                var nbb_cells = Jupyter.notebook.get_cells();\n",
       "                for (var i = 0; i < nbb_cells.length; ++i) {\n",
       "                    if (nbb_cells[i].input_prompt_number == nbb_cell_id) {\n",
       "                        if (nbb_cells[i].get_text() == nbb_unformatted_code) {\n",
       "                             nbb_cells[i].set_text(nbb_formatted_code);\n",
       "                        }\n",
       "                        break;\n",
       "                    }\n",
       "                }\n",
       "            }, 500);\n",
       "            "
      ],
      "text/plain": [
       "<IPython.core.display.Javascript object>"
      ]
     },
     "metadata": {},
     "output_type": "display_data"
    }
   ],
   "source": [
    "frame.columns"
   ]
  },
  {
   "cell_type": "markdown",
   "metadata": {},
   "source": [
    "Sort the column order"
   ]
  },
  {
   "cell_type": "code",
   "execution_count": 6,
   "metadata": {},
   "outputs": [
    {
     "data": {
      "application/javascript": [
       "\n",
       "            setTimeout(function() {\n",
       "                var nbb_cell_id = 6;\n",
       "                var nbb_unformatted_code = \"columnlist = [\\\"year\\\", \\\"pop\\\", \\\"state\\\"]\";\n",
       "                var nbb_formatted_code = \"columnlist = [\\\"year\\\", \\\"pop\\\", \\\"state\\\"]\";\n",
       "                var nbb_cells = Jupyter.notebook.get_cells();\n",
       "                for (var i = 0; i < nbb_cells.length; ++i) {\n",
       "                    if (nbb_cells[i].input_prompt_number == nbb_cell_id) {\n",
       "                        if (nbb_cells[i].get_text() == nbb_unformatted_code) {\n",
       "                             nbb_cells[i].set_text(nbb_formatted_code);\n",
       "                        }\n",
       "                        break;\n",
       "                    }\n",
       "                }\n",
       "            }, 500);\n",
       "            "
      ],
      "text/plain": [
       "<IPython.core.display.Javascript object>"
      ]
     },
     "metadata": {},
     "output_type": "display_data"
    }
   ],
   "source": [
    "columnlist = [\"year\", \"pop\", \"state\"]"
   ]
  },
  {
   "cell_type": "code",
   "execution_count": 7,
   "metadata": {},
   "outputs": [
    {
     "data": {
      "text/html": [
       "<div>\n",
       "<style scoped>\n",
       "    .dataframe tbody tr th:only-of-type {\n",
       "        vertical-align: middle;\n",
       "    }\n",
       "\n",
       "    .dataframe tbody tr th {\n",
       "        vertical-align: top;\n",
       "    }\n",
       "\n",
       "    .dataframe thead th {\n",
       "        text-align: right;\n",
       "    }\n",
       "</style>\n",
       "<table border=\"1\" class=\"dataframe\">\n",
       "  <thead>\n",
       "    <tr style=\"text-align: right;\">\n",
       "      <th></th>\n",
       "      <th>year</th>\n",
       "      <th>pop</th>\n",
       "      <th>state</th>\n",
       "    </tr>\n",
       "  </thead>\n",
       "  <tbody>\n",
       "    <tr>\n",
       "      <th>0</th>\n",
       "      <td>2000</td>\n",
       "      <td>6.0</td>\n",
       "      <td>Indiana</td>\n",
       "    </tr>\n",
       "    <tr>\n",
       "      <th>1</th>\n",
       "      <td>2001</td>\n",
       "      <td>6.1</td>\n",
       "      <td>Indiana</td>\n",
       "    </tr>\n",
       "    <tr>\n",
       "      <th>2</th>\n",
       "      <td>2002</td>\n",
       "      <td>6.2</td>\n",
       "      <td>Indiana</td>\n",
       "    </tr>\n",
       "    <tr>\n",
       "      <th>3</th>\n",
       "      <td>2001</td>\n",
       "      <td>11.2</td>\n",
       "      <td>Ohio</td>\n",
       "    </tr>\n",
       "    <tr>\n",
       "      <th>4</th>\n",
       "      <td>2002</td>\n",
       "      <td>11.4</td>\n",
       "      <td>Ohio</td>\n",
       "    </tr>\n",
       "    <tr>\n",
       "      <th>5</th>\n",
       "      <td>2003</td>\n",
       "      <td>11.5</td>\n",
       "      <td>Ohio</td>\n",
       "    </tr>\n",
       "  </tbody>\n",
       "</table>\n",
       "</div>"
      ],
      "text/plain": [
       "   year   pop    state\n",
       "0  2000   6.0  Indiana\n",
       "1  2001   6.1  Indiana\n",
       "2  2002   6.2  Indiana\n",
       "3  2001  11.2     Ohio\n",
       "4  2002  11.4     Ohio\n",
       "5  2003  11.5     Ohio"
      ]
     },
     "execution_count": 7,
     "metadata": {},
     "output_type": "execute_result"
    },
    {
     "data": {
      "application/javascript": [
       "\n",
       "            setTimeout(function() {\n",
       "                var nbb_cell_id = 7;\n",
       "                var nbb_unformatted_code = \"frame[columnlist]\";\n",
       "                var nbb_formatted_code = \"frame[columnlist]\";\n",
       "                var nbb_cells = Jupyter.notebook.get_cells();\n",
       "                for (var i = 0; i < nbb_cells.length; ++i) {\n",
       "                    if (nbb_cells[i].input_prompt_number == nbb_cell_id) {\n",
       "                        if (nbb_cells[i].get_text() == nbb_unformatted_code) {\n",
       "                             nbb_cells[i].set_text(nbb_formatted_code);\n",
       "                        }\n",
       "                        break;\n",
       "                    }\n",
       "                }\n",
       "            }, 500);\n",
       "            "
      ],
      "text/plain": [
       "<IPython.core.display.Javascript object>"
      ]
     },
     "metadata": {},
     "output_type": "display_data"
    }
   ],
   "source": [
    "frame[columnlist]"
   ]
  },
  {
   "cell_type": "markdown",
   "metadata": {},
   "source": [
    "Show columns data type"
   ]
  },
  {
   "cell_type": "code",
   "execution_count": 8,
   "metadata": {},
   "outputs": [
    {
     "data": {
      "text/plain": [
       "state     object\n",
       "year       int64\n",
       "pop      float64\n",
       "dtype: object"
      ]
     },
     "execution_count": 8,
     "metadata": {},
     "output_type": "execute_result"
    },
    {
     "data": {
      "application/javascript": [
       "\n",
       "            setTimeout(function() {\n",
       "                var nbb_cell_id = 8;\n",
       "                var nbb_unformatted_code = \"frame.dtypes\";\n",
       "                var nbb_formatted_code = \"frame.dtypes\";\n",
       "                var nbb_cells = Jupyter.notebook.get_cells();\n",
       "                for (var i = 0; i < nbb_cells.length; ++i) {\n",
       "                    if (nbb_cells[i].input_prompt_number == nbb_cell_id) {\n",
       "                        if (nbb_cells[i].get_text() == nbb_unformatted_code) {\n",
       "                             nbb_cells[i].set_text(nbb_formatted_code);\n",
       "                        }\n",
       "                        break;\n",
       "                    }\n",
       "                }\n",
       "            }, 500);\n",
       "            "
      ],
      "text/plain": [
       "<IPython.core.display.Javascript object>"
      ]
     },
     "metadata": {},
     "output_type": "display_data"
    }
   ],
   "source": [
    "frame.dtypes"
   ]
  },
  {
   "cell_type": "markdown",
   "metadata": {},
   "source": [
    "If you try to convert few lists or narrays into a dataframe directly, you might get something different. See the following example:"
   ]
  },
  {
   "cell_type": "code",
   "execution_count": 9,
   "metadata": {
    "scrolled": true
   },
   "outputs": [
    {
     "data": {
      "text/html": [
       "<div>\n",
       "<style scoped>\n",
       "    .dataframe tbody tr th:only-of-type {\n",
       "        vertical-align: middle;\n",
       "    }\n",
       "\n",
       "    .dataframe tbody tr th {\n",
       "        vertical-align: top;\n",
       "    }\n",
       "\n",
       "    .dataframe thead th {\n",
       "        text-align: right;\n",
       "    }\n",
       "</style>\n",
       "<table border=\"1\" class=\"dataframe\">\n",
       "  <thead>\n",
       "    <tr style=\"text-align: right;\">\n",
       "      <th></th>\n",
       "      <th>0</th>\n",
       "      <th>1</th>\n",
       "      <th>2</th>\n",
       "      <th>3</th>\n",
       "      <th>4</th>\n",
       "      <th>5</th>\n",
       "    </tr>\n",
       "  </thead>\n",
       "  <tbody>\n",
       "    <tr>\n",
       "      <th>0</th>\n",
       "      <td>Indiana</td>\n",
       "      <td>Indiana</td>\n",
       "      <td>Indiana</td>\n",
       "      <td>Ohio</td>\n",
       "      <td>Ohio</td>\n",
       "      <td>Ohio</td>\n",
       "    </tr>\n",
       "    <tr>\n",
       "      <th>1</th>\n",
       "      <td>2000</td>\n",
       "      <td>2001</td>\n",
       "      <td>2002</td>\n",
       "      <td>2001</td>\n",
       "      <td>2002</td>\n",
       "      <td>2003</td>\n",
       "    </tr>\n",
       "    <tr>\n",
       "      <th>2</th>\n",
       "      <td>6</td>\n",
       "      <td>6.1</td>\n",
       "      <td>6.2</td>\n",
       "      <td>11.2</td>\n",
       "      <td>11.4</td>\n",
       "      <td>11.5</td>\n",
       "    </tr>\n",
       "  </tbody>\n",
       "</table>\n",
       "</div>"
      ],
      "text/plain": [
       "         0        1        2     3     4     5\n",
       "0  Indiana  Indiana  Indiana  Ohio  Ohio  Ohio\n",
       "1     2000     2001     2002  2001  2002  2003\n",
       "2        6      6.1      6.2  11.2  11.4  11.5"
      ]
     },
     "execution_count": 9,
     "metadata": {},
     "output_type": "execute_result"
    },
    {
     "data": {
      "application/javascript": [
       "\n",
       "            setTimeout(function() {\n",
       "                var nbb_cell_id = 9;\n",
       "                var nbb_unformatted_code = \"state = [\\\"Indiana\\\", \\\"Indiana\\\", \\\"Indiana\\\", \\\"Ohio\\\", \\\"Ohio\\\", \\\"Ohio\\\"]\\nyear = np.array([2000, 2001, 2002, 2001, 2002, 2003])\\npop = [6.0, 6.1, 6.2, 11.2, 11.4, 11.5]\\n\\nframe2 = pd.DataFrame([state, year, pop])\\nframe2\";\n",
       "                var nbb_formatted_code = \"state = [\\\"Indiana\\\", \\\"Indiana\\\", \\\"Indiana\\\", \\\"Ohio\\\", \\\"Ohio\\\", \\\"Ohio\\\"]\\nyear = np.array([2000, 2001, 2002, 2001, 2002, 2003])\\npop = [6.0, 6.1, 6.2, 11.2, 11.4, 11.5]\\n\\nframe2 = pd.DataFrame([state, year, pop])\\nframe2\";\n",
       "                var nbb_cells = Jupyter.notebook.get_cells();\n",
       "                for (var i = 0; i < nbb_cells.length; ++i) {\n",
       "                    if (nbb_cells[i].input_prompt_number == nbb_cell_id) {\n",
       "                        if (nbb_cells[i].get_text() == nbb_unformatted_code) {\n",
       "                             nbb_cells[i].set_text(nbb_formatted_code);\n",
       "                        }\n",
       "                        break;\n",
       "                    }\n",
       "                }\n",
       "            }, 500);\n",
       "            "
      ],
      "text/plain": [
       "<IPython.core.display.Javascript object>"
      ]
     },
     "metadata": {},
     "output_type": "display_data"
    }
   ],
   "source": [
    "state = [\"Indiana\", \"Indiana\", \"Indiana\", \"Ohio\", \"Ohio\", \"Ohio\"]\n",
    "year = np.array([2000, 2001, 2002, 2001, 2002, 2003])\n",
    "pop = [6.0, 6.1, 6.2, 11.2, 11.4, 11.5]\n",
    "\n",
    "frame2 = pd.DataFrame([state, year, pop])\n",
    "frame2"
   ]
  },
  {
   "cell_type": "code",
   "execution_count": 10,
   "metadata": {},
   "outputs": [
    {
     "data": {
      "text/plain": [
       "[('Indiana', 2000, 6.0),\n",
       " ('Indiana', 2001, 6.1),\n",
       " ('Indiana', 2002, 6.2),\n",
       " ('Ohio', 2001, 11.2),\n",
       " ('Ohio', 2002, 11.4),\n",
       " ('Ohio', 2003, 11.5)]"
      ]
     },
     "execution_count": 10,
     "metadata": {},
     "output_type": "execute_result"
    },
    {
     "data": {
      "application/javascript": [
       "\n",
       "            setTimeout(function() {\n",
       "                var nbb_cell_id = 10;\n",
       "                var nbb_unformatted_code = \"list(zip(state, year, pop))\";\n",
       "                var nbb_formatted_code = \"list(zip(state, year, pop))\";\n",
       "                var nbb_cells = Jupyter.notebook.get_cells();\n",
       "                for (var i = 0; i < nbb_cells.length; ++i) {\n",
       "                    if (nbb_cells[i].input_prompt_number == nbb_cell_id) {\n",
       "                        if (nbb_cells[i].get_text() == nbb_unformatted_code) {\n",
       "                             nbb_cells[i].set_text(nbb_formatted_code);\n",
       "                        }\n",
       "                        break;\n",
       "                    }\n",
       "                }\n",
       "            }, 500);\n",
       "            "
      ],
      "text/plain": [
       "<IPython.core.display.Javascript object>"
      ]
     },
     "metadata": {},
     "output_type": "display_data"
    }
   ],
   "source": [
    "list(zip(state, year, pop))"
   ]
  },
  {
   "cell_type": "code",
   "execution_count": 11,
   "metadata": {},
   "outputs": [
    {
     "data": {
      "text/html": [
       "<div>\n",
       "<style scoped>\n",
       "    .dataframe tbody tr th:only-of-type {\n",
       "        vertical-align: middle;\n",
       "    }\n",
       "\n",
       "    .dataframe tbody tr th {\n",
       "        vertical-align: top;\n",
       "    }\n",
       "\n",
       "    .dataframe thead th {\n",
       "        text-align: right;\n",
       "    }\n",
       "</style>\n",
       "<table border=\"1\" class=\"dataframe\">\n",
       "  <thead>\n",
       "    <tr style=\"text-align: right;\">\n",
       "      <th></th>\n",
       "      <th>state</th>\n",
       "      <th>year</th>\n",
       "      <th>pop</th>\n",
       "    </tr>\n",
       "  </thead>\n",
       "  <tbody>\n",
       "    <tr>\n",
       "      <th>0</th>\n",
       "      <td>Indiana</td>\n",
       "      <td>2000</td>\n",
       "      <td>6.0</td>\n",
       "    </tr>\n",
       "    <tr>\n",
       "      <th>1</th>\n",
       "      <td>Indiana</td>\n",
       "      <td>2001</td>\n",
       "      <td>6.1</td>\n",
       "    </tr>\n",
       "    <tr>\n",
       "      <th>2</th>\n",
       "      <td>Indiana</td>\n",
       "      <td>2002</td>\n",
       "      <td>6.2</td>\n",
       "    </tr>\n",
       "    <tr>\n",
       "      <th>3</th>\n",
       "      <td>Ohio</td>\n",
       "      <td>2001</td>\n",
       "      <td>11.2</td>\n",
       "    </tr>\n",
       "    <tr>\n",
       "      <th>4</th>\n",
       "      <td>Ohio</td>\n",
       "      <td>2002</td>\n",
       "      <td>11.4</td>\n",
       "    </tr>\n",
       "    <tr>\n",
       "      <th>5</th>\n",
       "      <td>Ohio</td>\n",
       "      <td>2003</td>\n",
       "      <td>11.5</td>\n",
       "    </tr>\n",
       "  </tbody>\n",
       "</table>\n",
       "</div>"
      ],
      "text/plain": [
       "     state  year   pop\n",
       "0  Indiana  2000   6.0\n",
       "1  Indiana  2001   6.1\n",
       "2  Indiana  2002   6.2\n",
       "3     Ohio  2001  11.2\n",
       "4     Ohio  2002  11.4\n",
       "5     Ohio  2003  11.5"
      ]
     },
     "execution_count": 11,
     "metadata": {},
     "output_type": "execute_result"
    },
    {
     "data": {
      "application/javascript": [
       "\n",
       "            setTimeout(function() {\n",
       "                var nbb_cell_id = 11;\n",
       "                var nbb_unformatted_code = \"# Generate the correct data frame\\n\\nstate = [\\\"Indiana\\\", \\\"Indiana\\\", \\\"Indiana\\\", \\\"Ohio\\\", \\\"Ohio\\\", \\\"Ohio\\\"]\\nyear = np.array([2000, 2001, 2002, 2001, 2002, 2003])\\npop = [6.0, 6.1, 6.2, 11.2, 11.4, 11.5]\\n\\nframe2 = pd.DataFrame(zip(state, year, pop), columns=[\\\"state\\\", \\\"year\\\", \\\"pop\\\"])\\nframe2\";\n",
       "                var nbb_formatted_code = \"# Generate the correct data frame\\n\\nstate = [\\\"Indiana\\\", \\\"Indiana\\\", \\\"Indiana\\\", \\\"Ohio\\\", \\\"Ohio\\\", \\\"Ohio\\\"]\\nyear = np.array([2000, 2001, 2002, 2001, 2002, 2003])\\npop = [6.0, 6.1, 6.2, 11.2, 11.4, 11.5]\\n\\nframe2 = pd.DataFrame(zip(state, year, pop), columns=[\\\"state\\\", \\\"year\\\", \\\"pop\\\"])\\nframe2\";\n",
       "                var nbb_cells = Jupyter.notebook.get_cells();\n",
       "                for (var i = 0; i < nbb_cells.length; ++i) {\n",
       "                    if (nbb_cells[i].input_prompt_number == nbb_cell_id) {\n",
       "                        if (nbb_cells[i].get_text() == nbb_unformatted_code) {\n",
       "                             nbb_cells[i].set_text(nbb_formatted_code);\n",
       "                        }\n",
       "                        break;\n",
       "                    }\n",
       "                }\n",
       "            }, 500);\n",
       "            "
      ],
      "text/plain": [
       "<IPython.core.display.Javascript object>"
      ]
     },
     "metadata": {},
     "output_type": "display_data"
    }
   ],
   "source": [
    "# Generate the correct data frame\n",
    "\n",
    "state = [\"Indiana\", \"Indiana\", \"Indiana\", \"Ohio\", \"Ohio\", \"Ohio\"]\n",
    "year = np.array([2000, 2001, 2002, 2001, 2002, 2003])\n",
    "pop = [6.0, 6.1, 6.2, 11.2, 11.4, 11.5]\n",
    "\n",
    "frame2 = pd.DataFrame(zip(state, year, pop), columns=[\"state\", \"year\", \"pop\"])\n",
    "frame2"
   ]
  },
  {
   "cell_type": "code",
   "execution_count": 12,
   "metadata": {},
   "outputs": [
    {
     "data": {
      "text/html": [
       "<div>\n",
       "<style scoped>\n",
       "    .dataframe tbody tr th:only-of-type {\n",
       "        vertical-align: middle;\n",
       "    }\n",
       "\n",
       "    .dataframe tbody tr th {\n",
       "        vertical-align: top;\n",
       "    }\n",
       "\n",
       "    .dataframe thead th {\n",
       "        text-align: right;\n",
       "    }\n",
       "</style>\n",
       "<table border=\"1\" class=\"dataframe\">\n",
       "  <thead>\n",
       "    <tr style=\"text-align: right;\">\n",
       "      <th></th>\n",
       "      <th>state</th>\n",
       "      <th>year</th>\n",
       "      <th>pop</th>\n",
       "    </tr>\n",
       "  </thead>\n",
       "  <tbody>\n",
       "    <tr>\n",
       "      <th>0</th>\n",
       "      <td>True</td>\n",
       "      <td>True</td>\n",
       "      <td>True</td>\n",
       "    </tr>\n",
       "    <tr>\n",
       "      <th>1</th>\n",
       "      <td>True</td>\n",
       "      <td>True</td>\n",
       "      <td>True</td>\n",
       "    </tr>\n",
       "    <tr>\n",
       "      <th>2</th>\n",
       "      <td>True</td>\n",
       "      <td>True</td>\n",
       "      <td>True</td>\n",
       "    </tr>\n",
       "    <tr>\n",
       "      <th>3</th>\n",
       "      <td>True</td>\n",
       "      <td>True</td>\n",
       "      <td>True</td>\n",
       "    </tr>\n",
       "    <tr>\n",
       "      <th>4</th>\n",
       "      <td>True</td>\n",
       "      <td>True</td>\n",
       "      <td>True</td>\n",
       "    </tr>\n",
       "    <tr>\n",
       "      <th>5</th>\n",
       "      <td>True</td>\n",
       "      <td>True</td>\n",
       "      <td>True</td>\n",
       "    </tr>\n",
       "  </tbody>\n",
       "</table>\n",
       "</div>"
      ],
      "text/plain": [
       "   state  year   pop\n",
       "0   True  True  True\n",
       "1   True  True  True\n",
       "2   True  True  True\n",
       "3   True  True  True\n",
       "4   True  True  True\n",
       "5   True  True  True"
      ]
     },
     "execution_count": 12,
     "metadata": {},
     "output_type": "execute_result"
    },
    {
     "data": {
      "application/javascript": [
       "\n",
       "            setTimeout(function() {\n",
       "                var nbb_cell_id = 12;\n",
       "                var nbb_unformatted_code = \"# check if both methods work\\nframe == frame2\";\n",
       "                var nbb_formatted_code = \"# check if both methods work\\nframe == frame2\";\n",
       "                var nbb_cells = Jupyter.notebook.get_cells();\n",
       "                for (var i = 0; i < nbb_cells.length; ++i) {\n",
       "                    if (nbb_cells[i].input_prompt_number == nbb_cell_id) {\n",
       "                        if (nbb_cells[i].get_text() == nbb_unformatted_code) {\n",
       "                             nbb_cells[i].set_text(nbb_formatted_code);\n",
       "                        }\n",
       "                        break;\n",
       "                    }\n",
       "                }\n",
       "            }, 500);\n",
       "            "
      ],
      "text/plain": [
       "<IPython.core.display.Javascript object>"
      ]
     },
     "metadata": {},
     "output_type": "display_data"
    }
   ],
   "source": [
    "# check if both methods work\n",
    "frame == frame2"
   ]
  },
  {
   "cell_type": "code",
   "execution_count": 13,
   "metadata": {},
   "outputs": [
    {
     "data": {
      "text/plain": [
       "True"
      ]
     },
     "execution_count": 13,
     "metadata": {},
     "output_type": "execute_result"
    },
    {
     "data": {
      "application/javascript": [
       "\n",
       "            setTimeout(function() {\n",
       "                var nbb_cell_id = 13;\n",
       "                var nbb_unformatted_code = \"frame.equals(frame2)\";\n",
       "                var nbb_formatted_code = \"frame.equals(frame2)\";\n",
       "                var nbb_cells = Jupyter.notebook.get_cells();\n",
       "                for (var i = 0; i < nbb_cells.length; ++i) {\n",
       "                    if (nbb_cells[i].input_prompt_number == nbb_cell_id) {\n",
       "                        if (nbb_cells[i].get_text() == nbb_unformatted_code) {\n",
       "                             nbb_cells[i].set_text(nbb_formatted_code);\n",
       "                        }\n",
       "                        break;\n",
       "                    }\n",
       "                }\n",
       "            }, 500);\n",
       "            "
      ],
      "text/plain": [
       "<IPython.core.display.Javascript object>"
      ]
     },
     "metadata": {},
     "output_type": "display_data"
    }
   ],
   "source": [
    "frame.equals(frame2)"
   ]
  },
  {
   "cell_type": "markdown",
   "metadata": {},
   "source": [
    "### A column in a DataFrame can be retrieved as a `Series` either by \n",
    "- by **dict-like notation**, i.e. \n",
    "        frame['state']\n",
    "or \n",
    "- by **attribute**\n",
    "        frame.state"
   ]
  },
  {
   "cell_type": "code",
   "execution_count": 14,
   "metadata": {},
   "outputs": [
    {
     "data": {
      "text/plain": [
       "0    Indiana\n",
       "1    Indiana\n",
       "2    Indiana\n",
       "3       Ohio\n",
       "4       Ohio\n",
       "5       Ohio\n",
       "Name: state, dtype: object"
      ]
     },
     "execution_count": 14,
     "metadata": {},
     "output_type": "execute_result"
    },
    {
     "data": {
      "application/javascript": [
       "\n",
       "            setTimeout(function() {\n",
       "                var nbb_cell_id = 14;\n",
       "                var nbb_unformatted_code = \"frame[\\\"state\\\"]\";\n",
       "                var nbb_formatted_code = \"frame[\\\"state\\\"]\";\n",
       "                var nbb_cells = Jupyter.notebook.get_cells();\n",
       "                for (var i = 0; i < nbb_cells.length; ++i) {\n",
       "                    if (nbb_cells[i].input_prompt_number == nbb_cell_id) {\n",
       "                        if (nbb_cells[i].get_text() == nbb_unformatted_code) {\n",
       "                             nbb_cells[i].set_text(nbb_formatted_code);\n",
       "                        }\n",
       "                        break;\n",
       "                    }\n",
       "                }\n",
       "            }, 500);\n",
       "            "
      ],
      "text/plain": [
       "<IPython.core.display.Javascript object>"
      ]
     },
     "metadata": {},
     "output_type": "display_data"
    }
   ],
   "source": [
    "frame[\"state\"]"
   ]
  },
  {
   "cell_type": "code",
   "execution_count": 15,
   "metadata": {},
   "outputs": [
    {
     "data": {
      "text/plain": [
       "0    Indiana\n",
       "1    Indiana\n",
       "2    Indiana\n",
       "3       Ohio\n",
       "4       Ohio\n",
       "5       Ohio\n",
       "Name: state, dtype: object"
      ]
     },
     "execution_count": 15,
     "metadata": {},
     "output_type": "execute_result"
    },
    {
     "data": {
      "application/javascript": [
       "\n",
       "            setTimeout(function() {\n",
       "                var nbb_cell_id = 15;\n",
       "                var nbb_unformatted_code = \"frame.state\";\n",
       "                var nbb_formatted_code = \"frame.state\";\n",
       "                var nbb_cells = Jupyter.notebook.get_cells();\n",
       "                for (var i = 0; i < nbb_cells.length; ++i) {\n",
       "                    if (nbb_cells[i].input_prompt_number == nbb_cell_id) {\n",
       "                        if (nbb_cells[i].get_text() == nbb_unformatted_code) {\n",
       "                             nbb_cells[i].set_text(nbb_formatted_code);\n",
       "                        }\n",
       "                        break;\n",
       "                    }\n",
       "                }\n",
       "            }, 500);\n",
       "            "
      ],
      "text/plain": [
       "<IPython.core.display.Javascript object>"
      ]
     },
     "metadata": {},
     "output_type": "display_data"
    }
   ],
   "source": [
    "frame.state"
   ]
  },
  {
   "cell_type": "markdown",
   "metadata": {},
   "source": [
    "## Index\n",
    "\n",
    "Each row has an associated array of data labels, called index. The default integer index beginning at 0. We can set it when constructing the data frame. "
   ]
  },
  {
   "cell_type": "code",
   "execution_count": 16,
   "metadata": {
    "scrolled": true
   },
   "outputs": [
    {
     "data": {
      "text/html": [
       "<div>\n",
       "<style scoped>\n",
       "    .dataframe tbody tr th:only-of-type {\n",
       "        vertical-align: middle;\n",
       "    }\n",
       "\n",
       "    .dataframe tbody tr th {\n",
       "        vertical-align: top;\n",
       "    }\n",
       "\n",
       "    .dataframe thead th {\n",
       "        text-align: right;\n",
       "    }\n",
       "</style>\n",
       "<table border=\"1\" class=\"dataframe\">\n",
       "  <thead>\n",
       "    <tr style=\"text-align: right;\">\n",
       "      <th></th>\n",
       "      <th>state</th>\n",
       "      <th>year</th>\n",
       "      <th>pop</th>\n",
       "      <th>area</th>\n",
       "    </tr>\n",
       "  </thead>\n",
       "  <tbody>\n",
       "    <tr>\n",
       "      <th>a</th>\n",
       "      <td>Indiana</td>\n",
       "      <td>2000</td>\n",
       "      <td>6.0</td>\n",
       "      <td>NaN</td>\n",
       "    </tr>\n",
       "    <tr>\n",
       "      <th>b</th>\n",
       "      <td>Indiana</td>\n",
       "      <td>2001</td>\n",
       "      <td>6.1</td>\n",
       "      <td>NaN</td>\n",
       "    </tr>\n",
       "    <tr>\n",
       "      <th>c</th>\n",
       "      <td>Indiana</td>\n",
       "      <td>2002</td>\n",
       "      <td>6.2</td>\n",
       "      <td>NaN</td>\n",
       "    </tr>\n",
       "    <tr>\n",
       "      <th>d</th>\n",
       "      <td>Ohio</td>\n",
       "      <td>2001</td>\n",
       "      <td>11.2</td>\n",
       "      <td>NaN</td>\n",
       "    </tr>\n",
       "    <tr>\n",
       "      <th>e</th>\n",
       "      <td>Ohio</td>\n",
       "      <td>2002</td>\n",
       "      <td>11.4</td>\n",
       "      <td>NaN</td>\n",
       "    </tr>\n",
       "    <tr>\n",
       "      <th>f</th>\n",
       "      <td>Ohio</td>\n",
       "      <td>2003</td>\n",
       "      <td>11.5</td>\n",
       "      <td>NaN</td>\n",
       "    </tr>\n",
       "  </tbody>\n",
       "</table>\n",
       "</div>"
      ],
      "text/plain": [
       "     state  year   pop area\n",
       "a  Indiana  2000   6.0  NaN\n",
       "b  Indiana  2001   6.1  NaN\n",
       "c  Indiana  2002   6.2  NaN\n",
       "d     Ohio  2001  11.2  NaN\n",
       "e     Ohio  2002  11.4  NaN\n",
       "f     Ohio  2003  11.5  NaN"
      ]
     },
     "execution_count": 16,
     "metadata": {},
     "output_type": "execute_result"
    },
    {
     "data": {
      "application/javascript": [
       "\n",
       "            setTimeout(function() {\n",
       "                var nbb_cell_id = 16;\n",
       "                var nbb_unformatted_code = \"frame3 = pd.DataFrame(\\n    data, columns=[\\\"state\\\", \\\"year\\\", \\\"pop\\\", \\\"area\\\"], index=[\\\"a\\\", \\\"b\\\", \\\"c\\\", \\\"d\\\", \\\"e\\\", \\\"f\\\"]\\n)\\n\\nframe3\";\n",
       "                var nbb_formatted_code = \"frame3 = pd.DataFrame(\\n    data, columns=[\\\"state\\\", \\\"year\\\", \\\"pop\\\", \\\"area\\\"], index=[\\\"a\\\", \\\"b\\\", \\\"c\\\", \\\"d\\\", \\\"e\\\", \\\"f\\\"]\\n)\\n\\nframe3\";\n",
       "                var nbb_cells = Jupyter.notebook.get_cells();\n",
       "                for (var i = 0; i < nbb_cells.length; ++i) {\n",
       "                    if (nbb_cells[i].input_prompt_number == nbb_cell_id) {\n",
       "                        if (nbb_cells[i].get_text() == nbb_unformatted_code) {\n",
       "                             nbb_cells[i].set_text(nbb_formatted_code);\n",
       "                        }\n",
       "                        break;\n",
       "                    }\n",
       "                }\n",
       "            }, 500);\n",
       "            "
      ],
      "text/plain": [
       "<IPython.core.display.Javascript object>"
      ]
     },
     "metadata": {},
     "output_type": "display_data"
    }
   ],
   "source": [
    "frame3 = pd.DataFrame(\n",
    "    data, columns=[\"state\", \"year\", \"pop\", \"area\"], index=[\"a\", \"b\", \"c\", \"d\", \"e\", \"f\"]\n",
    ")\n",
    "\n",
    "frame3"
   ]
  },
  {
   "cell_type": "code",
   "execution_count": 17,
   "metadata": {},
   "outputs": [
    {
     "data": {
      "text/plain": [
       "True"
      ]
     },
     "execution_count": 17,
     "metadata": {},
     "output_type": "execute_result"
    },
    {
     "data": {
      "application/javascript": [
       "\n",
       "            setTimeout(function() {\n",
       "                var nbb_cell_id = 17;\n",
       "                var nbb_unformatted_code = \"frame3.loc[\\\"a\\\", \\\"area\\\"] is np.nan\";\n",
       "                var nbb_formatted_code = \"frame3.loc[\\\"a\\\", \\\"area\\\"] is np.nan\";\n",
       "                var nbb_cells = Jupyter.notebook.get_cells();\n",
       "                for (var i = 0; i < nbb_cells.length; ++i) {\n",
       "                    if (nbb_cells[i].input_prompt_number == nbb_cell_id) {\n",
       "                        if (nbb_cells[i].get_text() == nbb_unformatted_code) {\n",
       "                             nbb_cells[i].set_text(nbb_formatted_code);\n",
       "                        }\n",
       "                        break;\n",
       "                    }\n",
       "                }\n",
       "            }, 500);\n",
       "            "
      ],
      "text/plain": [
       "<IPython.core.display.Javascript object>"
      ]
     },
     "metadata": {},
     "output_type": "display_data"
    }
   ],
   "source": [
    "frame3.loc[\"a\", \"area\"] is np.nan"
   ]
  },
  {
   "cell_type": "code",
   "execution_count": 18,
   "metadata": {},
   "outputs": [
    {
     "data": {
      "text/html": [
       "<div>\n",
       "<style scoped>\n",
       "    .dataframe tbody tr th:only-of-type {\n",
       "        vertical-align: middle;\n",
       "    }\n",
       "\n",
       "    .dataframe tbody tr th {\n",
       "        vertical-align: top;\n",
       "    }\n",
       "\n",
       "    .dataframe thead th {\n",
       "        text-align: right;\n",
       "    }\n",
       "</style>\n",
       "<table border=\"1\" class=\"dataframe\">\n",
       "  <thead>\n",
       "    <tr style=\"text-align: right;\">\n",
       "      <th></th>\n",
       "      <th>index</th>\n",
       "      <th>state</th>\n",
       "      <th>year</th>\n",
       "      <th>pop</th>\n",
       "      <th>area</th>\n",
       "    </tr>\n",
       "  </thead>\n",
       "  <tbody>\n",
       "    <tr>\n",
       "      <th>0</th>\n",
       "      <td>a</td>\n",
       "      <td>Indiana</td>\n",
       "      <td>2000</td>\n",
       "      <td>6.0</td>\n",
       "      <td>NaN</td>\n",
       "    </tr>\n",
       "    <tr>\n",
       "      <th>1</th>\n",
       "      <td>b</td>\n",
       "      <td>Indiana</td>\n",
       "      <td>2001</td>\n",
       "      <td>6.1</td>\n",
       "      <td>NaN</td>\n",
       "    </tr>\n",
       "    <tr>\n",
       "      <th>2</th>\n",
       "      <td>c</td>\n",
       "      <td>Indiana</td>\n",
       "      <td>2002</td>\n",
       "      <td>6.2</td>\n",
       "      <td>NaN</td>\n",
       "    </tr>\n",
       "    <tr>\n",
       "      <th>3</th>\n",
       "      <td>d</td>\n",
       "      <td>Ohio</td>\n",
       "      <td>2001</td>\n",
       "      <td>11.2</td>\n",
       "      <td>NaN</td>\n",
       "    </tr>\n",
       "    <tr>\n",
       "      <th>4</th>\n",
       "      <td>e</td>\n",
       "      <td>Ohio</td>\n",
       "      <td>2002</td>\n",
       "      <td>11.4</td>\n",
       "      <td>NaN</td>\n",
       "    </tr>\n",
       "    <tr>\n",
       "      <th>5</th>\n",
       "      <td>f</td>\n",
       "      <td>Ohio</td>\n",
       "      <td>2003</td>\n",
       "      <td>11.5</td>\n",
       "      <td>NaN</td>\n",
       "    </tr>\n",
       "  </tbody>\n",
       "</table>\n",
       "</div>"
      ],
      "text/plain": [
       "  index    state  year   pop area\n",
       "0     a  Indiana  2000   6.0  NaN\n",
       "1     b  Indiana  2001   6.1  NaN\n",
       "2     c  Indiana  2002   6.2  NaN\n",
       "3     d     Ohio  2001  11.2  NaN\n",
       "4     e     Ohio  2002  11.4  NaN\n",
       "5     f     Ohio  2003  11.5  NaN"
      ]
     },
     "execution_count": 18,
     "metadata": {},
     "output_type": "execute_result"
    },
    {
     "data": {
      "application/javascript": [
       "\n",
       "            setTimeout(function() {\n",
       "                var nbb_cell_id = 18;\n",
       "                var nbb_unformatted_code = \"frame3.reset_index()\";\n",
       "                var nbb_formatted_code = \"frame3.reset_index()\";\n",
       "                var nbb_cells = Jupyter.notebook.get_cells();\n",
       "                for (var i = 0; i < nbb_cells.length; ++i) {\n",
       "                    if (nbb_cells[i].input_prompt_number == nbb_cell_id) {\n",
       "                        if (nbb_cells[i].get_text() == nbb_unformatted_code) {\n",
       "                             nbb_cells[i].set_text(nbb_formatted_code);\n",
       "                        }\n",
       "                        break;\n",
       "                    }\n",
       "                }\n",
       "            }, 500);\n",
       "            "
      ],
      "text/plain": [
       "<IPython.core.display.Javascript object>"
      ]
     },
     "metadata": {},
     "output_type": "display_data"
    }
   ],
   "source": [
    "frame3.reset_index()"
   ]
  },
  {
   "cell_type": "code",
   "execution_count": 19,
   "metadata": {},
   "outputs": [
    {
     "data": {
      "text/html": [
       "<div>\n",
       "<style scoped>\n",
       "    .dataframe tbody tr th:only-of-type {\n",
       "        vertical-align: middle;\n",
       "    }\n",
       "\n",
       "    .dataframe tbody tr th {\n",
       "        vertical-align: top;\n",
       "    }\n",
       "\n",
       "    .dataframe thead th {\n",
       "        text-align: right;\n",
       "    }\n",
       "</style>\n",
       "<table border=\"1\" class=\"dataframe\">\n",
       "  <thead>\n",
       "    <tr style=\"text-align: right;\">\n",
       "      <th></th>\n",
       "      <th>state</th>\n",
       "      <th>year</th>\n",
       "      <th>pop</th>\n",
       "      <th>area</th>\n",
       "    </tr>\n",
       "  </thead>\n",
       "  <tbody>\n",
       "    <tr>\n",
       "      <th>0</th>\n",
       "      <td>Indiana</td>\n",
       "      <td>2000</td>\n",
       "      <td>6.0</td>\n",
       "      <td>NaN</td>\n",
       "    </tr>\n",
       "    <tr>\n",
       "      <th>1</th>\n",
       "      <td>Indiana</td>\n",
       "      <td>2001</td>\n",
       "      <td>6.1</td>\n",
       "      <td>NaN</td>\n",
       "    </tr>\n",
       "    <tr>\n",
       "      <th>2</th>\n",
       "      <td>Indiana</td>\n",
       "      <td>2002</td>\n",
       "      <td>6.2</td>\n",
       "      <td>NaN</td>\n",
       "    </tr>\n",
       "    <tr>\n",
       "      <th>3</th>\n",
       "      <td>Ohio</td>\n",
       "      <td>2001</td>\n",
       "      <td>11.2</td>\n",
       "      <td>NaN</td>\n",
       "    </tr>\n",
       "    <tr>\n",
       "      <th>4</th>\n",
       "      <td>Ohio</td>\n",
       "      <td>2002</td>\n",
       "      <td>11.4</td>\n",
       "      <td>NaN</td>\n",
       "    </tr>\n",
       "    <tr>\n",
       "      <th>5</th>\n",
       "      <td>Ohio</td>\n",
       "      <td>2003</td>\n",
       "      <td>11.5</td>\n",
       "      <td>NaN</td>\n",
       "    </tr>\n",
       "  </tbody>\n",
       "</table>\n",
       "</div>"
      ],
      "text/plain": [
       "     state  year   pop area\n",
       "0  Indiana  2000   6.0  NaN\n",
       "1  Indiana  2001   6.1  NaN\n",
       "2  Indiana  2002   6.2  NaN\n",
       "3     Ohio  2001  11.2  NaN\n",
       "4     Ohio  2002  11.4  NaN\n",
       "5     Ohio  2003  11.5  NaN"
      ]
     },
     "execution_count": 19,
     "metadata": {},
     "output_type": "execute_result"
    },
    {
     "data": {
      "application/javascript": [
       "\n",
       "            setTimeout(function() {\n",
       "                var nbb_cell_id = 19;\n",
       "                var nbb_unformatted_code = \"frame3.reset_index(drop=True)\";\n",
       "                var nbb_formatted_code = \"frame3.reset_index(drop=True)\";\n",
       "                var nbb_cells = Jupyter.notebook.get_cells();\n",
       "                for (var i = 0; i < nbb_cells.length; ++i) {\n",
       "                    if (nbb_cells[i].input_prompt_number == nbb_cell_id) {\n",
       "                        if (nbb_cells[i].get_text() == nbb_unformatted_code) {\n",
       "                             nbb_cells[i].set_text(nbb_formatted_code);\n",
       "                        }\n",
       "                        break;\n",
       "                    }\n",
       "                }\n",
       "            }, 500);\n",
       "            "
      ],
      "text/plain": [
       "<IPython.core.display.Javascript object>"
      ]
     },
     "metadata": {},
     "output_type": "display_data"
    }
   ],
   "source": [
    "frame3.reset_index(drop=True)"
   ]
  },
  {
   "cell_type": "markdown",
   "metadata": {},
   "source": [
    "Note that we pass a column that isn’t contained in the dict, it will appear with missing values. We can check if the value is null by using `isnull()` or `not_null`."
   ]
  },
  {
   "cell_type": "code",
   "execution_count": 20,
   "metadata": {},
   "outputs": [
    {
     "data": {
      "text/plain": [
       "a    False\n",
       "b    False\n",
       "c    False\n",
       "d    False\n",
       "e    False\n",
       "f    False\n",
       "Name: area, dtype: bool"
      ]
     },
     "execution_count": 20,
     "metadata": {},
     "output_type": "execute_result"
    },
    {
     "data": {
      "application/javascript": [
       "\n",
       "            setTimeout(function() {\n",
       "                var nbb_cell_id = 20;\n",
       "                var nbb_unformatted_code = \"# frame3[\\\"area\\\"].isnull()\\nframe3[\\\"area\\\"].notnull()\";\n",
       "                var nbb_formatted_code = \"# frame3[\\\"area\\\"].isnull()\\nframe3[\\\"area\\\"].notnull()\";\n",
       "                var nbb_cells = Jupyter.notebook.get_cells();\n",
       "                for (var i = 0; i < nbb_cells.length; ++i) {\n",
       "                    if (nbb_cells[i].input_prompt_number == nbb_cell_id) {\n",
       "                        if (nbb_cells[i].get_text() == nbb_unformatted_code) {\n",
       "                             nbb_cells[i].set_text(nbb_formatted_code);\n",
       "                        }\n",
       "                        break;\n",
       "                    }\n",
       "                }\n",
       "            }, 500);\n",
       "            "
      ],
      "text/plain": [
       "<IPython.core.display.Javascript object>"
      ]
     },
     "metadata": {},
     "output_type": "display_data"
    }
   ],
   "source": [
    "# frame3[\"area\"].isnull()\n",
    "frame3[\"area\"].notnull()"
   ]
  },
  {
   "cell_type": "markdown",
   "metadata": {},
   "source": [
    "### A row in a DataFrame can be retrieved with the special `loc`, `iloc`, `at`, or `iat` attribute\n",
    "- by index:\n",
    "        frame3.loc[['c', 'd']]\n",
    "        frame3.at['c', 'year']\n",
    "        \n",
    "- by position:\n",
    "        frame3.iloc[[2,3]]\n",
    "        frame3.iat[2,1]\n",
    "\n",
    "\n",
    "Main differences:\n",
    "- `loc`: work on index\n",
    "- `iloc`: work on position\n",
    "- `at`: Select only one element value by row and column label (index). It's a very fast `loc`\n",
    "- `iat`: Select only one element value by row and column position (integers). It's a very fast `iloc`"
   ]
  },
  {
   "cell_type": "code",
   "execution_count": 21,
   "metadata": {},
   "outputs": [
    {
     "data": {
      "text/html": [
       "<div>\n",
       "<style scoped>\n",
       "    .dataframe tbody tr th:only-of-type {\n",
       "        vertical-align: middle;\n",
       "    }\n",
       "\n",
       "    .dataframe tbody tr th {\n",
       "        vertical-align: top;\n",
       "    }\n",
       "\n",
       "    .dataframe thead th {\n",
       "        text-align: right;\n",
       "    }\n",
       "</style>\n",
       "<table border=\"1\" class=\"dataframe\">\n",
       "  <thead>\n",
       "    <tr style=\"text-align: right;\">\n",
       "      <th></th>\n",
       "      <th>state</th>\n",
       "      <th>year</th>\n",
       "      <th>pop</th>\n",
       "      <th>area</th>\n",
       "    </tr>\n",
       "  </thead>\n",
       "  <tbody>\n",
       "    <tr>\n",
       "      <th>a</th>\n",
       "      <td>Indiana</td>\n",
       "      <td>2000</td>\n",
       "      <td>6.0</td>\n",
       "      <td>NaN</td>\n",
       "    </tr>\n",
       "    <tr>\n",
       "      <th>b</th>\n",
       "      <td>Indiana</td>\n",
       "      <td>2001</td>\n",
       "      <td>6.1</td>\n",
       "      <td>NaN</td>\n",
       "    </tr>\n",
       "    <tr>\n",
       "      <th>c</th>\n",
       "      <td>Indiana</td>\n",
       "      <td>2002</td>\n",
       "      <td>6.2</td>\n",
       "      <td>NaN</td>\n",
       "    </tr>\n",
       "    <tr>\n",
       "      <th>d</th>\n",
       "      <td>Ohio</td>\n",
       "      <td>2001</td>\n",
       "      <td>11.2</td>\n",
       "      <td>NaN</td>\n",
       "    </tr>\n",
       "    <tr>\n",
       "      <th>e</th>\n",
       "      <td>Ohio</td>\n",
       "      <td>2002</td>\n",
       "      <td>11.4</td>\n",
       "      <td>NaN</td>\n",
       "    </tr>\n",
       "    <tr>\n",
       "      <th>f</th>\n",
       "      <td>Ohio</td>\n",
       "      <td>2003</td>\n",
       "      <td>11.5</td>\n",
       "      <td>NaN</td>\n",
       "    </tr>\n",
       "  </tbody>\n",
       "</table>\n",
       "</div>"
      ],
      "text/plain": [
       "     state  year   pop area\n",
       "a  Indiana  2000   6.0  NaN\n",
       "b  Indiana  2001   6.1  NaN\n",
       "c  Indiana  2002   6.2  NaN\n",
       "d     Ohio  2001  11.2  NaN\n",
       "e     Ohio  2002  11.4  NaN\n",
       "f     Ohio  2003  11.5  NaN"
      ]
     },
     "execution_count": 21,
     "metadata": {},
     "output_type": "execute_result"
    },
    {
     "data": {
      "application/javascript": [
       "\n",
       "            setTimeout(function() {\n",
       "                var nbb_cell_id = 21;\n",
       "                var nbb_unformatted_code = \"frame3\";\n",
       "                var nbb_formatted_code = \"frame3\";\n",
       "                var nbb_cells = Jupyter.notebook.get_cells();\n",
       "                for (var i = 0; i < nbb_cells.length; ++i) {\n",
       "                    if (nbb_cells[i].input_prompt_number == nbb_cell_id) {\n",
       "                        if (nbb_cells[i].get_text() == nbb_unformatted_code) {\n",
       "                             nbb_cells[i].set_text(nbb_formatted_code);\n",
       "                        }\n",
       "                        break;\n",
       "                    }\n",
       "                }\n",
       "            }, 500);\n",
       "            "
      ],
      "text/plain": [
       "<IPython.core.display.Javascript object>"
      ]
     },
     "metadata": {},
     "output_type": "display_data"
    }
   ],
   "source": [
    "frame3"
   ]
  },
  {
   "cell_type": "code",
   "execution_count": 22,
   "metadata": {},
   "outputs": [
    {
     "data": {
      "text/html": [
       "<div>\n",
       "<style scoped>\n",
       "    .dataframe tbody tr th:only-of-type {\n",
       "        vertical-align: middle;\n",
       "    }\n",
       "\n",
       "    .dataframe tbody tr th {\n",
       "        vertical-align: top;\n",
       "    }\n",
       "\n",
       "    .dataframe thead th {\n",
       "        text-align: right;\n",
       "    }\n",
       "</style>\n",
       "<table border=\"1\" class=\"dataframe\">\n",
       "  <thead>\n",
       "    <tr style=\"text-align: right;\">\n",
       "      <th></th>\n",
       "      <th>state</th>\n",
       "      <th>year</th>\n",
       "      <th>pop</th>\n",
       "      <th>area</th>\n",
       "    </tr>\n",
       "  </thead>\n",
       "  <tbody>\n",
       "    <tr>\n",
       "      <th>c</th>\n",
       "      <td>Indiana</td>\n",
       "      <td>2002</td>\n",
       "      <td>6.2</td>\n",
       "      <td>NaN</td>\n",
       "    </tr>\n",
       "    <tr>\n",
       "      <th>d</th>\n",
       "      <td>Ohio</td>\n",
       "      <td>2001</td>\n",
       "      <td>11.2</td>\n",
       "      <td>NaN</td>\n",
       "    </tr>\n",
       "  </tbody>\n",
       "</table>\n",
       "</div>"
      ],
      "text/plain": [
       "     state  year   pop area\n",
       "c  Indiana  2002   6.2  NaN\n",
       "d     Ohio  2001  11.2  NaN"
      ]
     },
     "execution_count": 22,
     "metadata": {},
     "output_type": "execute_result"
    },
    {
     "data": {
      "application/javascript": [
       "\n",
       "            setTimeout(function() {\n",
       "                var nbb_cell_id = 22;\n",
       "                var nbb_unformatted_code = \"frame3.loc[[\\\"c\\\", \\\"d\\\"]]\";\n",
       "                var nbb_formatted_code = \"frame3.loc[[\\\"c\\\", \\\"d\\\"]]\";\n",
       "                var nbb_cells = Jupyter.notebook.get_cells();\n",
       "                for (var i = 0; i < nbb_cells.length; ++i) {\n",
       "                    if (nbb_cells[i].input_prompt_number == nbb_cell_id) {\n",
       "                        if (nbb_cells[i].get_text() == nbb_unformatted_code) {\n",
       "                             nbb_cells[i].set_text(nbb_formatted_code);\n",
       "                        }\n",
       "                        break;\n",
       "                    }\n",
       "                }\n",
       "            }, 500);\n",
       "            "
      ],
      "text/plain": [
       "<IPython.core.display.Javascript object>"
      ]
     },
     "metadata": {},
     "output_type": "display_data"
    }
   ],
   "source": [
    "frame3.loc[[\"c\", \"d\"]]"
   ]
  },
  {
   "cell_type": "code",
   "execution_count": 23,
   "metadata": {
    "scrolled": true
   },
   "outputs": [
    {
     "data": {
      "text/html": [
       "<div>\n",
       "<style scoped>\n",
       "    .dataframe tbody tr th:only-of-type {\n",
       "        vertical-align: middle;\n",
       "    }\n",
       "\n",
       "    .dataframe tbody tr th {\n",
       "        vertical-align: top;\n",
       "    }\n",
       "\n",
       "    .dataframe thead th {\n",
       "        text-align: right;\n",
       "    }\n",
       "</style>\n",
       "<table border=\"1\" class=\"dataframe\">\n",
       "  <thead>\n",
       "    <tr style=\"text-align: right;\">\n",
       "      <th></th>\n",
       "      <th>state</th>\n",
       "      <th>year</th>\n",
       "      <th>pop</th>\n",
       "      <th>area</th>\n",
       "    </tr>\n",
       "  </thead>\n",
       "  <tbody>\n",
       "    <tr>\n",
       "      <th>c</th>\n",
       "      <td>Indiana</td>\n",
       "      <td>2002</td>\n",
       "      <td>6.2</td>\n",
       "      <td>NaN</td>\n",
       "    </tr>\n",
       "    <tr>\n",
       "      <th>d</th>\n",
       "      <td>Ohio</td>\n",
       "      <td>2001</td>\n",
       "      <td>11.2</td>\n",
       "      <td>NaN</td>\n",
       "    </tr>\n",
       "  </tbody>\n",
       "</table>\n",
       "</div>"
      ],
      "text/plain": [
       "     state  year   pop area\n",
       "c  Indiana  2002   6.2  NaN\n",
       "d     Ohio  2001  11.2  NaN"
      ]
     },
     "execution_count": 23,
     "metadata": {},
     "output_type": "execute_result"
    },
    {
     "data": {
      "application/javascript": [
       "\n",
       "            setTimeout(function() {\n",
       "                var nbb_cell_id = 23;\n",
       "                var nbb_unformatted_code = \"frame3.iloc[[2, 3]]\";\n",
       "                var nbb_formatted_code = \"frame3.iloc[[2, 3]]\";\n",
       "                var nbb_cells = Jupyter.notebook.get_cells();\n",
       "                for (var i = 0; i < nbb_cells.length; ++i) {\n",
       "                    if (nbb_cells[i].input_prompt_number == nbb_cell_id) {\n",
       "                        if (nbb_cells[i].get_text() == nbb_unformatted_code) {\n",
       "                             nbb_cells[i].set_text(nbb_formatted_code);\n",
       "                        }\n",
       "                        break;\n",
       "                    }\n",
       "                }\n",
       "            }, 500);\n",
       "            "
      ],
      "text/plain": [
       "<IPython.core.display.Javascript object>"
      ]
     },
     "metadata": {},
     "output_type": "display_data"
    }
   ],
   "source": [
    "frame3.iloc[[2, 3]]"
   ]
  },
  {
   "cell_type": "code",
   "execution_count": 24,
   "metadata": {},
   "outputs": [
    {
     "data": {
      "text/plain": [
       "2002"
      ]
     },
     "execution_count": 24,
     "metadata": {},
     "output_type": "execute_result"
    },
    {
     "data": {
      "application/javascript": [
       "\n",
       "            setTimeout(function() {\n",
       "                var nbb_cell_id = 24;\n",
       "                var nbb_unformatted_code = \"frame3.at[\\\"c\\\", \\\"year\\\"]\";\n",
       "                var nbb_formatted_code = \"frame3.at[\\\"c\\\", \\\"year\\\"]\";\n",
       "                var nbb_cells = Jupyter.notebook.get_cells();\n",
       "                for (var i = 0; i < nbb_cells.length; ++i) {\n",
       "                    if (nbb_cells[i].input_prompt_number == nbb_cell_id) {\n",
       "                        if (nbb_cells[i].get_text() == nbb_unformatted_code) {\n",
       "                             nbb_cells[i].set_text(nbb_formatted_code);\n",
       "                        }\n",
       "                        break;\n",
       "                    }\n",
       "                }\n",
       "            }, 500);\n",
       "            "
      ],
      "text/plain": [
       "<IPython.core.display.Javascript object>"
      ]
     },
     "metadata": {},
     "output_type": "display_data"
    }
   ],
   "source": [
    "frame3.at[\"c\", \"year\"]"
   ]
  },
  {
   "cell_type": "code",
   "execution_count": 25,
   "metadata": {},
   "outputs": [
    {
     "data": {
      "text/html": [
       "<div>\n",
       "<style scoped>\n",
       "    .dataframe tbody tr th:only-of-type {\n",
       "        vertical-align: middle;\n",
       "    }\n",
       "\n",
       "    .dataframe tbody tr th {\n",
       "        vertical-align: top;\n",
       "    }\n",
       "\n",
       "    .dataframe thead th {\n",
       "        text-align: right;\n",
       "    }\n",
       "</style>\n",
       "<table border=\"1\" class=\"dataframe\">\n",
       "  <thead>\n",
       "    <tr style=\"text-align: right;\">\n",
       "      <th></th>\n",
       "      <th>state</th>\n",
       "      <th>year</th>\n",
       "      <th>pop</th>\n",
       "      <th>area</th>\n",
       "    </tr>\n",
       "  </thead>\n",
       "  <tbody>\n",
       "    <tr>\n",
       "      <th>a</th>\n",
       "      <td>Indiana</td>\n",
       "      <td>2000</td>\n",
       "      <td>6.0</td>\n",
       "      <td>NaN</td>\n",
       "    </tr>\n",
       "    <tr>\n",
       "      <th>b</th>\n",
       "      <td>Indiana</td>\n",
       "      <td>2001</td>\n",
       "      <td>6.1</td>\n",
       "      <td>NaN</td>\n",
       "    </tr>\n",
       "    <tr>\n",
       "      <th>c</th>\n",
       "      <td>Indiana</td>\n",
       "      <td>2005</td>\n",
       "      <td>6.2</td>\n",
       "      <td>NaN</td>\n",
       "    </tr>\n",
       "    <tr>\n",
       "      <th>d</th>\n",
       "      <td>Ohio</td>\n",
       "      <td>2001</td>\n",
       "      <td>11.2</td>\n",
       "      <td>NaN</td>\n",
       "    </tr>\n",
       "    <tr>\n",
       "      <th>e</th>\n",
       "      <td>Ohio</td>\n",
       "      <td>2002</td>\n",
       "      <td>11.4</td>\n",
       "      <td>NaN</td>\n",
       "    </tr>\n",
       "    <tr>\n",
       "      <th>f</th>\n",
       "      <td>Ohio</td>\n",
       "      <td>2003</td>\n",
       "      <td>11.5</td>\n",
       "      <td>NaN</td>\n",
       "    </tr>\n",
       "  </tbody>\n",
       "</table>\n",
       "</div>"
      ],
      "text/plain": [
       "     state  year   pop area\n",
       "a  Indiana  2000   6.0  NaN\n",
       "b  Indiana  2001   6.1  NaN\n",
       "c  Indiana  2005   6.2  NaN\n",
       "d     Ohio  2001  11.2  NaN\n",
       "e     Ohio  2002  11.4  NaN\n",
       "f     Ohio  2003  11.5  NaN"
      ]
     },
     "execution_count": 25,
     "metadata": {},
     "output_type": "execute_result"
    },
    {
     "data": {
      "application/javascript": [
       "\n",
       "            setTimeout(function() {\n",
       "                var nbb_cell_id = 25;\n",
       "                var nbb_unformatted_code = \"frame3.iat[2, 1] = 2005\\n\\nframe3\";\n",
       "                var nbb_formatted_code = \"frame3.iat[2, 1] = 2005\\n\\nframe3\";\n",
       "                var nbb_cells = Jupyter.notebook.get_cells();\n",
       "                for (var i = 0; i < nbb_cells.length; ++i) {\n",
       "                    if (nbb_cells[i].input_prompt_number == nbb_cell_id) {\n",
       "                        if (nbb_cells[i].get_text() == nbb_unformatted_code) {\n",
       "                             nbb_cells[i].set_text(nbb_formatted_code);\n",
       "                        }\n",
       "                        break;\n",
       "                    }\n",
       "                }\n",
       "            }, 500);\n",
       "            "
      ],
      "text/plain": [
       "<IPython.core.display.Javascript object>"
      ]
     },
     "metadata": {},
     "output_type": "display_data"
    }
   ],
   "source": [
    "frame3.iat[2, 1] = 2005\n",
    "\n",
    "frame3"
   ]
  },
  {
   "cell_type": "code",
   "execution_count": 26,
   "metadata": {},
   "outputs": [
    {
     "name": "stdout",
     "output_type": "stream",
     "text": [
      "5.83 µs ± 116 ns per loop (mean ± std. dev. of 7 runs, 100000 loops each)\n"
     ]
    },
    {
     "data": {
      "application/javascript": [
       "\n",
       "            setTimeout(function() {\n",
       "                var nbb_cell_id = 26;\n",
       "                var nbb_unformatted_code = \"%timeit  frame3.loc['c', 'year']\";\n",
       "                var nbb_formatted_code = \"%timeit  frame3.loc['c', 'year']\";\n",
       "                var nbb_cells = Jupyter.notebook.get_cells();\n",
       "                for (var i = 0; i < nbb_cells.length; ++i) {\n",
       "                    if (nbb_cells[i].input_prompt_number == nbb_cell_id) {\n",
       "                        if (nbb_cells[i].get_text() == nbb_unformatted_code) {\n",
       "                             nbb_cells[i].set_text(nbb_formatted_code);\n",
       "                        }\n",
       "                        break;\n",
       "                    }\n",
       "                }\n",
       "            }, 500);\n",
       "            "
      ],
      "text/plain": [
       "<IPython.core.display.Javascript object>"
      ]
     },
     "metadata": {},
     "output_type": "display_data"
    }
   ],
   "source": [
    "%timeit  frame3.loc['c', 'year']"
   ]
  },
  {
   "cell_type": "code",
   "execution_count": 27,
   "metadata": {},
   "outputs": [
    {
     "name": "stdout",
     "output_type": "stream",
     "text": [
      "3.58 µs ± 24.3 ns per loop (mean ± std. dev. of 7 runs, 100000 loops each)\n"
     ]
    },
    {
     "data": {
      "application/javascript": [
       "\n",
       "            setTimeout(function() {\n",
       "                var nbb_cell_id = 27;\n",
       "                var nbb_unformatted_code = \"%timeit  frame3.at['c', 'year']\";\n",
       "                var nbb_formatted_code = \"%timeit  frame3.at['c', 'year']\";\n",
       "                var nbb_cells = Jupyter.notebook.get_cells();\n",
       "                for (var i = 0; i < nbb_cells.length; ++i) {\n",
       "                    if (nbb_cells[i].input_prompt_number == nbb_cell_id) {\n",
       "                        if (nbb_cells[i].get_text() == nbb_unformatted_code) {\n",
       "                             nbb_cells[i].set_text(nbb_formatted_code);\n",
       "                        }\n",
       "                        break;\n",
       "                    }\n",
       "                }\n",
       "            }, 500);\n",
       "            "
      ],
      "text/plain": [
       "<IPython.core.display.Javascript object>"
      ]
     },
     "metadata": {},
     "output_type": "display_data"
    }
   ],
   "source": [
    "%timeit  frame3.at['c', 'year']"
   ]
  },
  {
   "cell_type": "markdown",
   "metadata": {},
   "source": [
    "### Modify column(s) by assignment\n",
    "\n",
    "Right hand side could be an equal-length list or a NumPy array."
   ]
  },
  {
   "cell_type": "code",
   "execution_count": 28,
   "metadata": {},
   "outputs": [
    {
     "data": {
      "text/html": [
       "<div>\n",
       "<style scoped>\n",
       "    .dataframe tbody tr th:only-of-type {\n",
       "        vertical-align: middle;\n",
       "    }\n",
       "\n",
       "    .dataframe tbody tr th {\n",
       "        vertical-align: top;\n",
       "    }\n",
       "\n",
       "    .dataframe thead th {\n",
       "        text-align: right;\n",
       "    }\n",
       "</style>\n",
       "<table border=\"1\" class=\"dataframe\">\n",
       "  <thead>\n",
       "    <tr style=\"text-align: right;\">\n",
       "      <th></th>\n",
       "      <th>state</th>\n",
       "      <th>year</th>\n",
       "      <th>pop</th>\n",
       "      <th>area</th>\n",
       "    </tr>\n",
       "  </thead>\n",
       "  <tbody>\n",
       "    <tr>\n",
       "      <th>a</th>\n",
       "      <td>Indiana</td>\n",
       "      <td>2000</td>\n",
       "      <td>6.0</td>\n",
       "      <td>0.0</td>\n",
       "    </tr>\n",
       "    <tr>\n",
       "      <th>b</th>\n",
       "      <td>Indiana</td>\n",
       "      <td>2001</td>\n",
       "      <td>6.1</td>\n",
       "      <td>1.0</td>\n",
       "    </tr>\n",
       "    <tr>\n",
       "      <th>c</th>\n",
       "      <td>Indiana</td>\n",
       "      <td>2005</td>\n",
       "      <td>6.2</td>\n",
       "      <td>2.0</td>\n",
       "    </tr>\n",
       "    <tr>\n",
       "      <th>d</th>\n",
       "      <td>Ohio</td>\n",
       "      <td>2001</td>\n",
       "      <td>11.2</td>\n",
       "      <td>3.0</td>\n",
       "    </tr>\n",
       "    <tr>\n",
       "      <th>e</th>\n",
       "      <td>Ohio</td>\n",
       "      <td>2002</td>\n",
       "      <td>11.4</td>\n",
       "      <td>4.0</td>\n",
       "    </tr>\n",
       "    <tr>\n",
       "      <th>f</th>\n",
       "      <td>Ohio</td>\n",
       "      <td>2003</td>\n",
       "      <td>11.5</td>\n",
       "      <td>5.0</td>\n",
       "    </tr>\n",
       "  </tbody>\n",
       "</table>\n",
       "</div>"
      ],
      "text/plain": [
       "     state  year   pop  area\n",
       "a  Indiana  2000   6.0   0.0\n",
       "b  Indiana  2001   6.1   1.0\n",
       "c  Indiana  2005   6.2   2.0\n",
       "d     Ohio  2001  11.2   3.0\n",
       "e     Ohio  2002  11.4   4.0\n",
       "f     Ohio  2003  11.5   5.0"
      ]
     },
     "execution_count": 28,
     "metadata": {},
     "output_type": "execute_result"
    },
    {
     "data": {
      "application/javascript": [
       "\n",
       "            setTimeout(function() {\n",
       "                var nbb_cell_id = 28;\n",
       "                var nbb_unformatted_code = \"frame3[\\\"area\\\"] = np.arange(6.0)\\n\\nframe3\";\n",
       "                var nbb_formatted_code = \"frame3[\\\"area\\\"] = np.arange(6.0)\\n\\nframe3\";\n",
       "                var nbb_cells = Jupyter.notebook.get_cells();\n",
       "                for (var i = 0; i < nbb_cells.length; ++i) {\n",
       "                    if (nbb_cells[i].input_prompt_number == nbb_cell_id) {\n",
       "                        if (nbb_cells[i].get_text() == nbb_unformatted_code) {\n",
       "                             nbb_cells[i].set_text(nbb_formatted_code);\n",
       "                        }\n",
       "                        break;\n",
       "                    }\n",
       "                }\n",
       "            }, 500);\n",
       "            "
      ],
      "text/plain": [
       "<IPython.core.display.Javascript object>"
      ]
     },
     "metadata": {},
     "output_type": "display_data"
    }
   ],
   "source": [
    "frame3[\"area\"] = np.arange(6.0)\n",
    "\n",
    "frame3"
   ]
  },
  {
   "cell_type": "markdown",
   "metadata": {},
   "source": [
    "### Drop column(s)\n",
    "\n",
    "- `drop`: Drop specified labels from rows or columns. It returns a copy.\n",
    "- `del`: Remove columns on the underlying data.\n"
   ]
  },
  {
   "cell_type": "code",
   "execution_count": 29,
   "metadata": {
    "scrolled": true
   },
   "outputs": [
    {
     "data": {
      "text/html": [
       "<div>\n",
       "<style scoped>\n",
       "    .dataframe tbody tr th:only-of-type {\n",
       "        vertical-align: middle;\n",
       "    }\n",
       "\n",
       "    .dataframe tbody tr th {\n",
       "        vertical-align: top;\n",
       "    }\n",
       "\n",
       "    .dataframe thead th {\n",
       "        text-align: right;\n",
       "    }\n",
       "</style>\n",
       "<table border=\"1\" class=\"dataframe\">\n",
       "  <thead>\n",
       "    <tr style=\"text-align: right;\">\n",
       "      <th></th>\n",
       "      <th>state</th>\n",
       "      <th>year</th>\n",
       "    </tr>\n",
       "  </thead>\n",
       "  <tbody>\n",
       "    <tr>\n",
       "      <th>a</th>\n",
       "      <td>Indiana</td>\n",
       "      <td>2000</td>\n",
       "    </tr>\n",
       "    <tr>\n",
       "      <th>b</th>\n",
       "      <td>Indiana</td>\n",
       "      <td>2001</td>\n",
       "    </tr>\n",
       "    <tr>\n",
       "      <th>c</th>\n",
       "      <td>Indiana</td>\n",
       "      <td>2005</td>\n",
       "    </tr>\n",
       "    <tr>\n",
       "      <th>d</th>\n",
       "      <td>Ohio</td>\n",
       "      <td>2001</td>\n",
       "    </tr>\n",
       "    <tr>\n",
       "      <th>e</th>\n",
       "      <td>Ohio</td>\n",
       "      <td>2002</td>\n",
       "    </tr>\n",
       "    <tr>\n",
       "      <th>f</th>\n",
       "      <td>Ohio</td>\n",
       "      <td>2003</td>\n",
       "    </tr>\n",
       "  </tbody>\n",
       "</table>\n",
       "</div>"
      ],
      "text/plain": [
       "     state  year\n",
       "a  Indiana  2000\n",
       "b  Indiana  2001\n",
       "c  Indiana  2005\n",
       "d     Ohio  2001\n",
       "e     Ohio  2002\n",
       "f     Ohio  2003"
      ]
     },
     "execution_count": 29,
     "metadata": {},
     "output_type": "execute_result"
    },
    {
     "data": {
      "application/javascript": [
       "\n",
       "            setTimeout(function() {\n",
       "                var nbb_cell_id = 29;\n",
       "                var nbb_unformatted_code = \"# frame3.drop(columns=[\\\"pop\\\", \\\"area\\\"], inplace=True)\\n\\nframe3.drop(columns=[\\\"pop\\\", \\\"area\\\"])\";\n",
       "                var nbb_formatted_code = \"# frame3.drop(columns=[\\\"pop\\\", \\\"area\\\"], inplace=True)\\n\\nframe3.drop(columns=[\\\"pop\\\", \\\"area\\\"])\";\n",
       "                var nbb_cells = Jupyter.notebook.get_cells();\n",
       "                for (var i = 0; i < nbb_cells.length; ++i) {\n",
       "                    if (nbb_cells[i].input_prompt_number == nbb_cell_id) {\n",
       "                        if (nbb_cells[i].get_text() == nbb_unformatted_code) {\n",
       "                             nbb_cells[i].set_text(nbb_formatted_code);\n",
       "                        }\n",
       "                        break;\n",
       "                    }\n",
       "                }\n",
       "            }, 500);\n",
       "            "
      ],
      "text/plain": [
       "<IPython.core.display.Javascript object>"
      ]
     },
     "metadata": {},
     "output_type": "display_data"
    }
   ],
   "source": [
    "# frame3.drop(columns=[\"pop\", \"area\"], inplace=True)\n",
    "\n",
    "frame3.drop(columns=[\"pop\", \"area\"])"
   ]
  },
  {
   "cell_type": "code",
   "execution_count": 30,
   "metadata": {},
   "outputs": [
    {
     "data": {
      "text/html": [
       "<div>\n",
       "<style scoped>\n",
       "    .dataframe tbody tr th:only-of-type {\n",
       "        vertical-align: middle;\n",
       "    }\n",
       "\n",
       "    .dataframe tbody tr th {\n",
       "        vertical-align: top;\n",
       "    }\n",
       "\n",
       "    .dataframe thead th {\n",
       "        text-align: right;\n",
       "    }\n",
       "</style>\n",
       "<table border=\"1\" class=\"dataframe\">\n",
       "  <thead>\n",
       "    <tr style=\"text-align: right;\">\n",
       "      <th></th>\n",
       "      <th>state</th>\n",
       "      <th>year</th>\n",
       "      <th>pop</th>\n",
       "    </tr>\n",
       "  </thead>\n",
       "  <tbody>\n",
       "    <tr>\n",
       "      <th>a</th>\n",
       "      <td>Indiana</td>\n",
       "      <td>2000</td>\n",
       "      <td>6.0</td>\n",
       "    </tr>\n",
       "    <tr>\n",
       "      <th>b</th>\n",
       "      <td>Indiana</td>\n",
       "      <td>2001</td>\n",
       "      <td>6.1</td>\n",
       "    </tr>\n",
       "    <tr>\n",
       "      <th>c</th>\n",
       "      <td>Indiana</td>\n",
       "      <td>2005</td>\n",
       "      <td>6.2</td>\n",
       "    </tr>\n",
       "    <tr>\n",
       "      <th>d</th>\n",
       "      <td>Ohio</td>\n",
       "      <td>2001</td>\n",
       "      <td>11.2</td>\n",
       "    </tr>\n",
       "    <tr>\n",
       "      <th>e</th>\n",
       "      <td>Ohio</td>\n",
       "      <td>2002</td>\n",
       "      <td>11.4</td>\n",
       "    </tr>\n",
       "    <tr>\n",
       "      <th>f</th>\n",
       "      <td>Ohio</td>\n",
       "      <td>2003</td>\n",
       "      <td>11.5</td>\n",
       "    </tr>\n",
       "  </tbody>\n",
       "</table>\n",
       "</div>"
      ],
      "text/plain": [
       "     state  year   pop\n",
       "a  Indiana  2000   6.0\n",
       "b  Indiana  2001   6.1\n",
       "c  Indiana  2005   6.2\n",
       "d     Ohio  2001  11.2\n",
       "e     Ohio  2002  11.4\n",
       "f     Ohio  2003  11.5"
      ]
     },
     "execution_count": 30,
     "metadata": {},
     "output_type": "execute_result"
    },
    {
     "data": {
      "application/javascript": [
       "\n",
       "            setTimeout(function() {\n",
       "                var nbb_cell_id = 30;\n",
       "                var nbb_unformatted_code = \"# del frame3.loc['b']\\ndel frame3[\\\"area\\\"]\\n\\nframe3\";\n",
       "                var nbb_formatted_code = \"# del frame3.loc['b']\\ndel frame3[\\\"area\\\"]\\n\\nframe3\";\n",
       "                var nbb_cells = Jupyter.notebook.get_cells();\n",
       "                for (var i = 0; i < nbb_cells.length; ++i) {\n",
       "                    if (nbb_cells[i].input_prompt_number == nbb_cell_id) {\n",
       "                        if (nbb_cells[i].get_text() == nbb_unformatted_code) {\n",
       "                             nbb_cells[i].set_text(nbb_formatted_code);\n",
       "                        }\n",
       "                        break;\n",
       "                    }\n",
       "                }\n",
       "            }, 500);\n",
       "            "
      ],
      "text/plain": [
       "<IPython.core.display.Javascript object>"
      ]
     },
     "metadata": {},
     "output_type": "display_data"
    }
   ],
   "source": [
    "# del frame3.loc['b']\n",
    "del frame3[\"area\"]\n",
    "\n",
    "frame3"
   ]
  },
  {
   "cell_type": "markdown",
   "metadata": {},
   "source": [
    "`del` will overwrite the `frame3`."
   ]
  },
  {
   "cell_type": "markdown",
   "metadata": {},
   "source": [
    "### Boolean filter \n",
    "\n",
    "It is possible to filter any column based on the comparison with a reference data, for example, the rows are filtered for values **of the column 'pop' greater than or equal to 6.1.**"
   ]
  },
  {
   "cell_type": "code",
   "execution_count": 31,
   "metadata": {},
   "outputs": [
    {
     "data": {
      "text/html": [
       "<div>\n",
       "<style scoped>\n",
       "    .dataframe tbody tr th:only-of-type {\n",
       "        vertical-align: middle;\n",
       "    }\n",
       "\n",
       "    .dataframe tbody tr th {\n",
       "        vertical-align: top;\n",
       "    }\n",
       "\n",
       "    .dataframe thead th {\n",
       "        text-align: right;\n",
       "    }\n",
       "</style>\n",
       "<table border=\"1\" class=\"dataframe\">\n",
       "  <thead>\n",
       "    <tr style=\"text-align: right;\">\n",
       "      <th></th>\n",
       "      <th>state</th>\n",
       "      <th>year</th>\n",
       "      <th>pop</th>\n",
       "    </tr>\n",
       "  </thead>\n",
       "  <tbody>\n",
       "    <tr>\n",
       "      <th>0</th>\n",
       "      <td>Indiana</td>\n",
       "      <td>2000</td>\n",
       "      <td>6.0</td>\n",
       "    </tr>\n",
       "    <tr>\n",
       "      <th>1</th>\n",
       "      <td>Indiana</td>\n",
       "      <td>2001</td>\n",
       "      <td>6.1</td>\n",
       "    </tr>\n",
       "    <tr>\n",
       "      <th>2</th>\n",
       "      <td>Indiana</td>\n",
       "      <td>2002</td>\n",
       "      <td>6.2</td>\n",
       "    </tr>\n",
       "    <tr>\n",
       "      <th>3</th>\n",
       "      <td>Ohio</td>\n",
       "      <td>2001</td>\n",
       "      <td>11.2</td>\n",
       "    </tr>\n",
       "    <tr>\n",
       "      <th>4</th>\n",
       "      <td>Ohio</td>\n",
       "      <td>2002</td>\n",
       "      <td>11.4</td>\n",
       "    </tr>\n",
       "    <tr>\n",
       "      <th>5</th>\n",
       "      <td>Ohio</td>\n",
       "      <td>2003</td>\n",
       "      <td>11.5</td>\n",
       "    </tr>\n",
       "  </tbody>\n",
       "</table>\n",
       "</div>"
      ],
      "text/plain": [
       "     state  year   pop\n",
       "0  Indiana  2000   6.0\n",
       "1  Indiana  2001   6.1\n",
       "2  Indiana  2002   6.2\n",
       "3     Ohio  2001  11.2\n",
       "4     Ohio  2002  11.4\n",
       "5     Ohio  2003  11.5"
      ]
     },
     "execution_count": 31,
     "metadata": {},
     "output_type": "execute_result"
    },
    {
     "data": {
      "application/javascript": [
       "\n",
       "            setTimeout(function() {\n",
       "                var nbb_cell_id = 31;\n",
       "                var nbb_unformatted_code = \"frame\";\n",
       "                var nbb_formatted_code = \"frame\";\n",
       "                var nbb_cells = Jupyter.notebook.get_cells();\n",
       "                for (var i = 0; i < nbb_cells.length; ++i) {\n",
       "                    if (nbb_cells[i].input_prompt_number == nbb_cell_id) {\n",
       "                        if (nbb_cells[i].get_text() == nbb_unformatted_code) {\n",
       "                             nbb_cells[i].set_text(nbb_formatted_code);\n",
       "                        }\n",
       "                        break;\n",
       "                    }\n",
       "                }\n",
       "            }, 500);\n",
       "            "
      ],
      "text/plain": [
       "<IPython.core.display.Javascript object>"
      ]
     },
     "metadata": {},
     "output_type": "display_data"
    }
   ],
   "source": [
    "frame"
   ]
  },
  {
   "cell_type": "code",
   "execution_count": 32,
   "metadata": {},
   "outputs": [
    {
     "data": {
      "text/plain": [
       "0    False\n",
       "1     True\n",
       "2     True\n",
       "3     True\n",
       "4     True\n",
       "5     True\n",
       "Name: pop, dtype: bool"
      ]
     },
     "execution_count": 32,
     "metadata": {},
     "output_type": "execute_result"
    },
    {
     "data": {
      "application/javascript": [
       "\n",
       "            setTimeout(function() {\n",
       "                var nbb_cell_id = 32;\n",
       "                var nbb_unformatted_code = \"frame[\\\"pop\\\"] >= 6.1\";\n",
       "                var nbb_formatted_code = \"frame[\\\"pop\\\"] >= 6.1\";\n",
       "                var nbb_cells = Jupyter.notebook.get_cells();\n",
       "                for (var i = 0; i < nbb_cells.length; ++i) {\n",
       "                    if (nbb_cells[i].input_prompt_number == nbb_cell_id) {\n",
       "                        if (nbb_cells[i].get_text() == nbb_unformatted_code) {\n",
       "                             nbb_cells[i].set_text(nbb_formatted_code);\n",
       "                        }\n",
       "                        break;\n",
       "                    }\n",
       "                }\n",
       "            }, 500);\n",
       "            "
      ],
      "text/plain": [
       "<IPython.core.display.Javascript object>"
      ]
     },
     "metadata": {},
     "output_type": "display_data"
    }
   ],
   "source": [
    "frame[\"pop\"] >= 6.1"
   ]
  },
  {
   "cell_type": "code",
   "execution_count": 33,
   "metadata": {},
   "outputs": [
    {
     "data": {
      "text/html": [
       "<div>\n",
       "<style scoped>\n",
       "    .dataframe tbody tr th:only-of-type {\n",
       "        vertical-align: middle;\n",
       "    }\n",
       "\n",
       "    .dataframe tbody tr th {\n",
       "        vertical-align: top;\n",
       "    }\n",
       "\n",
       "    .dataframe thead th {\n",
       "        text-align: right;\n",
       "    }\n",
       "</style>\n",
       "<table border=\"1\" class=\"dataframe\">\n",
       "  <thead>\n",
       "    <tr style=\"text-align: right;\">\n",
       "      <th></th>\n",
       "      <th>state</th>\n",
       "      <th>year</th>\n",
       "      <th>pop</th>\n",
       "    </tr>\n",
       "  </thead>\n",
       "  <tbody>\n",
       "    <tr>\n",
       "      <th>1</th>\n",
       "      <td>Indiana</td>\n",
       "      <td>2001</td>\n",
       "      <td>6.1</td>\n",
       "    </tr>\n",
       "    <tr>\n",
       "      <th>2</th>\n",
       "      <td>Indiana</td>\n",
       "      <td>2002</td>\n",
       "      <td>6.2</td>\n",
       "    </tr>\n",
       "    <tr>\n",
       "      <th>3</th>\n",
       "      <td>Ohio</td>\n",
       "      <td>2001</td>\n",
       "      <td>11.2</td>\n",
       "    </tr>\n",
       "    <tr>\n",
       "      <th>4</th>\n",
       "      <td>Ohio</td>\n",
       "      <td>2002</td>\n",
       "      <td>11.4</td>\n",
       "    </tr>\n",
       "    <tr>\n",
       "      <th>5</th>\n",
       "      <td>Ohio</td>\n",
       "      <td>2003</td>\n",
       "      <td>11.5</td>\n",
       "    </tr>\n",
       "  </tbody>\n",
       "</table>\n",
       "</div>"
      ],
      "text/plain": [
       "     state  year   pop\n",
       "1  Indiana  2001   6.1\n",
       "2  Indiana  2002   6.2\n",
       "3     Ohio  2001  11.2\n",
       "4     Ohio  2002  11.4\n",
       "5     Ohio  2003  11.5"
      ]
     },
     "execution_count": 33,
     "metadata": {},
     "output_type": "execute_result"
    },
    {
     "data": {
      "application/javascript": [
       "\n",
       "            setTimeout(function() {\n",
       "                var nbb_cell_id = 33;\n",
       "                var nbb_unformatted_code = \"df_pop = frame[frame[\\\"pop\\\"] >= 6.1]\\n\\ndf_pop\";\n",
       "                var nbb_formatted_code = \"df_pop = frame[frame[\\\"pop\\\"] >= 6.1]\\n\\ndf_pop\";\n",
       "                var nbb_cells = Jupyter.notebook.get_cells();\n",
       "                for (var i = 0; i < nbb_cells.length; ++i) {\n",
       "                    if (nbb_cells[i].input_prompt_number == nbb_cell_id) {\n",
       "                        if (nbb_cells[i].get_text() == nbb_unformatted_code) {\n",
       "                             nbb_cells[i].set_text(nbb_formatted_code);\n",
       "                        }\n",
       "                        break;\n",
       "                    }\n",
       "                }\n",
       "            }, 500);\n",
       "            "
      ],
      "text/plain": [
       "<IPython.core.display.Javascript object>"
      ]
     },
     "metadata": {},
     "output_type": "display_data"
    }
   ],
   "source": [
    "df_pop = frame[frame[\"pop\"] >= 6.1]\n",
    "\n",
    "df_pop"
   ]
  },
  {
   "cell_type": "markdown",
   "metadata": {},
   "source": [
    "Two simultaneous filters can be performed: Rows whose values **of the column 'pop' greater than or equal to 6.1** and **values in column 'year' are greater or equal to 2002.**"
   ]
  },
  {
   "cell_type": "code",
   "execution_count": 34,
   "metadata": {},
   "outputs": [
    {
     "data": {
      "text/html": [
       "<div>\n",
       "<style scoped>\n",
       "    .dataframe tbody tr th:only-of-type {\n",
       "        vertical-align: middle;\n",
       "    }\n",
       "\n",
       "    .dataframe tbody tr th {\n",
       "        vertical-align: top;\n",
       "    }\n",
       "\n",
       "    .dataframe thead th {\n",
       "        text-align: right;\n",
       "    }\n",
       "</style>\n",
       "<table border=\"1\" class=\"dataframe\">\n",
       "  <thead>\n",
       "    <tr style=\"text-align: right;\">\n",
       "      <th></th>\n",
       "      <th>state</th>\n",
       "      <th>year</th>\n",
       "      <th>pop</th>\n",
       "    </tr>\n",
       "  </thead>\n",
       "  <tbody>\n",
       "    <tr>\n",
       "      <th>2</th>\n",
       "      <td>Indiana</td>\n",
       "      <td>2002</td>\n",
       "      <td>6.2</td>\n",
       "    </tr>\n",
       "    <tr>\n",
       "      <th>4</th>\n",
       "      <td>Ohio</td>\n",
       "      <td>2002</td>\n",
       "      <td>11.4</td>\n",
       "    </tr>\n",
       "    <tr>\n",
       "      <th>5</th>\n",
       "      <td>Ohio</td>\n",
       "      <td>2003</td>\n",
       "      <td>11.5</td>\n",
       "    </tr>\n",
       "  </tbody>\n",
       "</table>\n",
       "</div>"
      ],
      "text/plain": [
       "     state  year   pop\n",
       "2  Indiana  2002   6.2\n",
       "4     Ohio  2002  11.4\n",
       "5     Ohio  2003  11.5"
      ]
     },
     "execution_count": 34,
     "metadata": {},
     "output_type": "execute_result"
    },
    {
     "data": {
      "application/javascript": [
       "\n",
       "            setTimeout(function() {\n",
       "                var nbb_cell_id = 34;\n",
       "                var nbb_unformatted_code = \"df_pop2002 = frame[(frame[\\\"pop\\\"] >= 6.1) & (frame[\\\"year\\\"] >= 2002)]\\n\\ndf_pop2002\";\n",
       "                var nbb_formatted_code = \"df_pop2002 = frame[(frame[\\\"pop\\\"] >= 6.1) & (frame[\\\"year\\\"] >= 2002)]\\n\\ndf_pop2002\";\n",
       "                var nbb_cells = Jupyter.notebook.get_cells();\n",
       "                for (var i = 0; i < nbb_cells.length; ++i) {\n",
       "                    if (nbb_cells[i].input_prompt_number == nbb_cell_id) {\n",
       "                        if (nbb_cells[i].get_text() == nbb_unformatted_code) {\n",
       "                             nbb_cells[i].set_text(nbb_formatted_code);\n",
       "                        }\n",
       "                        break;\n",
       "                    }\n",
       "                }\n",
       "            }, 500);\n",
       "            "
      ],
      "text/plain": [
       "<IPython.core.display.Javascript object>"
      ]
     },
     "metadata": {},
     "output_type": "display_data"
    }
   ],
   "source": [
    "df_pop2002 = frame[(frame[\"pop\"] >= 6.1) & (frame[\"year\"] >= 2002)]\n",
    "\n",
    "df_pop2002"
   ]
  },
  {
   "cell_type": "markdown",
   "metadata": {},
   "source": [
    "**Notice that both filters need to be enclosed in parenthesis!!!**"
   ]
  },
  {
   "cell_type": "markdown",
   "metadata": {},
   "source": [
    "# Section 2. Data Cleaning\n"
   ]
  },
  {
   "cell_type": "markdown",
   "metadata": {},
   "source": [
    "## Import data\n",
    "\n",
    "You can find the firm A's financial data in the data folder. We will be using this data set in the rest of Chapter 4.\n",
    "\n",
    "Use the Pandas method `pd.read_csv()` to load the data from the file address. "
   ]
  },
  {
   "cell_type": "markdown",
   "metadata": {},
   "source": [
    "More pandas IO tools, see [here](https://pandas.pydata.org/pandas-docs/stable/user_guide/io.html).<br>\n",
    "*In computing, serialization is the process of translating a data structure or object state into a format that can be stored.*\n",
    "\n",
    "\n",
    "- [json](https://www.json.org/json-en.html): JavaScript Object Notation. JSON is a syntax for storing and exchanging data.\n",
    "- [pickle](https://docs.python.org/3/library/pickle.html): a Python’s way to serialize things. It is not secure but quick & easy serializing data, ideally used in parallel computing.\n",
    "- [parquet](https://parquet.apache.org/): a columnar storage format available to any project in the Apache Hadoop ecosystem.\n",
    "- [feather](https://arrow.apache.org/docs/python/feather.html): a portable file format for storing Apache Arrow tables or data frames.\n",
    "\n",
    "**If you are working on a large dataset, say around 1gb~20gb in .csv or .pkl format, consider using .parquet or .feather format.**<br>\n",
    "There is an interesting [comparison](https://towardsdatascience.com/the-best-format-to-save-pandas-data-414dca023e0d). \n",
    "\n",
    "<font color='red'>Warning: pickle is only recommended as a short-term storage format.</font> The problem is that it is hard to guarantee that the format will be stable over time; an object pickled today may not unpickle with a later version of a library. We have tried to maintain backward compatibility when possible, but at some point in the future it may be necessary to “break” the pickle format."
   ]
  },
  {
   "cell_type": "code",
   "execution_count": 35,
   "metadata": {},
   "outputs": [
    {
     "data": {
      "application/javascript": [
       "\n",
       "            setTimeout(function() {\n",
       "                var nbb_cell_id = 35;\n",
       "                var nbb_unformatted_code = \"import numpy as np\\nimport pandas as pd\\n\\n# Load data\\nf_pd4firm = \\\"data/pd4firm.csv\\\"\\ndf = pd.read_csv(f_pd4firm)\";\n",
       "                var nbb_formatted_code = \"import numpy as np\\nimport pandas as pd\\n\\n# Load data\\nf_pd4firm = \\\"data/pd4firm.csv\\\"\\ndf = pd.read_csv(f_pd4firm)\";\n",
       "                var nbb_cells = Jupyter.notebook.get_cells();\n",
       "                for (var i = 0; i < nbb_cells.length; ++i) {\n",
       "                    if (nbb_cells[i].input_prompt_number == nbb_cell_id) {\n",
       "                        if (nbb_cells[i].get_text() == nbb_unformatted_code) {\n",
       "                             nbb_cells[i].set_text(nbb_formatted_code);\n",
       "                        }\n",
       "                        break;\n",
       "                    }\n",
       "                }\n",
       "            }, 500);\n",
       "            "
      ],
      "text/plain": [
       "<IPython.core.display.Javascript object>"
      ]
     },
     "metadata": {},
     "output_type": "display_data"
    }
   ],
   "source": [
    "import numpy as np\n",
    "import pandas as pd\n",
    "\n",
    "# Load data\n",
    "f_pd4firm = \"data/pd4firm.csv\"\n",
    "df = pd.read_csv(f_pd4firm)"
   ]
  },
  {
   "cell_type": "markdown",
   "metadata": {},
   "source": [
    "Use the method `head()` to display the first five rows of the dataframe."
   ]
  },
  {
   "cell_type": "code",
   "execution_count": 36,
   "metadata": {},
   "outputs": [
    {
     "data": {
      "text/html": [
       "<div>\n",
       "<style scoped>\n",
       "    .dataframe tbody tr th:only-of-type {\n",
       "        vertical-align: middle;\n",
       "    }\n",
       "\n",
       "    .dataframe tbody tr th {\n",
       "        vertical-align: top;\n",
       "    }\n",
       "\n",
       "    .dataframe thead th {\n",
       "        text-align: right;\n",
       "    }\n",
       "</style>\n",
       "<table border=\"1\" class=\"dataframe\">\n",
       "  <thead>\n",
       "    <tr style=\"text-align: right;\">\n",
       "      <th></th>\n",
       "      <th>name</th>\n",
       "      <th>datadate</th>\n",
       "      <th>asset</th>\n",
       "      <th>capitalstock</th>\n",
       "      <th>depreciation</th>\n",
       "      <th>revenue</th>\n",
       "      <th>cost</th>\n",
       "      <th>orders</th>\n",
       "    </tr>\n",
       "  </thead>\n",
       "  <tbody>\n",
       "    <tr>\n",
       "      <th>0</th>\n",
       "      <td>A</td>\n",
       "      <td>3/31/00</td>\n",
       "      <td>7007</td>\n",
       "      <td>723</td>\n",
       "      <td>409</td>\n",
       "      <td>1945</td>\n",
       "      <td>1375</td>\n",
       "      <td>2</td>\n",
       "    </tr>\n",
       "    <tr>\n",
       "      <th>1</th>\n",
       "      <td>A</td>\n",
       "      <td>6/30/00</td>\n",
       "      <td>6932</td>\n",
       "      <td>721</td>\n",
       "      <td>407</td>\n",
       "      <td>1825</td>\n",
       "      <td>1257</td>\n",
       "      <td>2</td>\n",
       "    </tr>\n",
       "    <tr>\n",
       "      <th>2</th>\n",
       "      <td>A</td>\n",
       "      <td>9/30/00</td>\n",
       "      <td>6803</td>\n",
       "      <td>700</td>\n",
       "      <td>387</td>\n",
       "      <td>1870</td>\n",
       "      <td>1385</td>\n",
       "      <td>?</td>\n",
       "    </tr>\n",
       "    <tr>\n",
       "      <th>3</th>\n",
       "      <td>A</td>\n",
       "      <td>12/31/00</td>\n",
       "      <td>5986</td>\n",
       "      <td>NaN</td>\n",
       "      <td>NaN</td>\n",
       "      <td>1007</td>\n",
       "      <td>1004</td>\n",
       "      <td>4</td>\n",
       "    </tr>\n",
       "    <tr>\n",
       "      <th>4</th>\n",
       "      <td>A</td>\n",
       "      <td>3/31/01</td>\n",
       "      <td>6130</td>\n",
       "      <td>721</td>\n",
       "      <td>390</td>\n",
       "      <td>1431</td>\n",
       "      <td>1024</td>\n",
       "      <td>5</td>\n",
       "    </tr>\n",
       "  </tbody>\n",
       "</table>\n",
       "</div>"
      ],
      "text/plain": [
       "  name  datadate asset capitalstock depreciation revenue  cost orders\n",
       "0    A   3/31/00  7007          723          409    1945  1375      2\n",
       "1    A   6/30/00  6932          721          407    1825  1257      2\n",
       "2    A   9/30/00  6803          700          387    1870  1385      ?\n",
       "3    A  12/31/00  5986          NaN          NaN    1007  1004      4\n",
       "4    A   3/31/01  6130          721          390    1431  1024      5"
      ]
     },
     "execution_count": 36,
     "metadata": {},
     "output_type": "execute_result"
    },
    {
     "data": {
      "application/javascript": [
       "\n",
       "            setTimeout(function() {\n",
       "                var nbb_cell_id = 36;\n",
       "                var nbb_unformatted_code = \"# To see what the data set looks like, we'll use the head() method.\\ndf.head()\";\n",
       "                var nbb_formatted_code = \"# To see what the data set looks like, we'll use the head() method.\\ndf.head()\";\n",
       "                var nbb_cells = Jupyter.notebook.get_cells();\n",
       "                for (var i = 0; i < nbb_cells.length; ++i) {\n",
       "                    if (nbb_cells[i].input_prompt_number == nbb_cell_id) {\n",
       "                        if (nbb_cells[i].get_text() == nbb_unformatted_code) {\n",
       "                             nbb_cells[i].set_text(nbb_formatted_code);\n",
       "                        }\n",
       "                        break;\n",
       "                    }\n",
       "                }\n",
       "            }, 500);\n",
       "            "
      ],
      "text/plain": [
       "<IPython.core.display.Javascript object>"
      ]
     },
     "metadata": {},
     "output_type": "display_data"
    }
   ],
   "source": [
    "# To see what the data set looks like, we'll use the head() method.\n",
    "df.head()"
   ]
  },
  {
   "cell_type": "code",
   "execution_count": 37,
   "metadata": {},
   "outputs": [
    {
     "data": {
      "text/html": [
       "<div>\n",
       "<style scoped>\n",
       "    .dataframe tbody tr th:only-of-type {\n",
       "        vertical-align: middle;\n",
       "    }\n",
       "\n",
       "    .dataframe tbody tr th {\n",
       "        vertical-align: top;\n",
       "    }\n",
       "\n",
       "    .dataframe thead th {\n",
       "        text-align: right;\n",
       "    }\n",
       "</style>\n",
       "<table border=\"1\" class=\"dataframe\">\n",
       "  <thead>\n",
       "    <tr style=\"text-align: right;\">\n",
       "      <th></th>\n",
       "      <th>name</th>\n",
       "      <th>datadate</th>\n",
       "      <th>asset</th>\n",
       "      <th>capitalstock</th>\n",
       "      <th>depreciation</th>\n",
       "      <th>revenue</th>\n",
       "      <th>cost</th>\n",
       "      <th>orders</th>\n",
       "    </tr>\n",
       "  </thead>\n",
       "  <tbody>\n",
       "    <tr>\n",
       "      <th>0</th>\n",
       "      <td>A</td>\n",
       "      <td>3/31/00</td>\n",
       "      <td>7007</td>\n",
       "      <td>723</td>\n",
       "      <td>409</td>\n",
       "      <td>1945</td>\n",
       "      <td>1375</td>\n",
       "      <td>2</td>\n",
       "    </tr>\n",
       "    <tr>\n",
       "      <th>1</th>\n",
       "      <td>A</td>\n",
       "      <td>6/30/00</td>\n",
       "      <td>6932</td>\n",
       "      <td>721</td>\n",
       "      <td>407</td>\n",
       "      <td>1825</td>\n",
       "      <td>1257</td>\n",
       "      <td>2</td>\n",
       "    </tr>\n",
       "    <tr>\n",
       "      <th>2</th>\n",
       "      <td>A</td>\n",
       "      <td>9/30/00</td>\n",
       "      <td>6803</td>\n",
       "      <td>700</td>\n",
       "      <td>387</td>\n",
       "      <td>1870</td>\n",
       "      <td>1385</td>\n",
       "      <td>?</td>\n",
       "    </tr>\n",
       "    <tr>\n",
       "      <th>3</th>\n",
       "      <td>A</td>\n",
       "      <td>12/31/00</td>\n",
       "      <td>5986</td>\n",
       "      <td>NaN</td>\n",
       "      <td>NaN</td>\n",
       "      <td>1007</td>\n",
       "      <td>1004</td>\n",
       "      <td>4</td>\n",
       "    </tr>\n",
       "    <tr>\n",
       "      <th>4</th>\n",
       "      <td>A</td>\n",
       "      <td>3/31/01</td>\n",
       "      <td>6130</td>\n",
       "      <td>721</td>\n",
       "      <td>390</td>\n",
       "      <td>1431</td>\n",
       "      <td>1024</td>\n",
       "      <td>5</td>\n",
       "    </tr>\n",
       "    <tr>\n",
       "      <th>5</th>\n",
       "      <td>A</td>\n",
       "      <td>6/30/01</td>\n",
       "      <td>6071</td>\n",
       "      <td>727</td>\n",
       "      <td>380</td>\n",
       "      <td>1475</td>\n",
       "      <td>1015</td>\n",
       "      <td>6</td>\n",
       "    </tr>\n",
       "    <tr>\n",
       "      <th>6</th>\n",
       "      <td>A</td>\n",
       "      <td>6/30/01</td>\n",
       "      <td>6071</td>\n",
       "      <td>727</td>\n",
       "      <td>380</td>\n",
       "      <td>1475</td>\n",
       "      <td>1015</td>\n",
       "      <td>6</td>\n",
       "    </tr>\n",
       "    <tr>\n",
       "      <th>7</th>\n",
       "      <td>A</td>\n",
       "      <td>9/30/01</td>\n",
       "      <td>6021</td>\n",
       "      <td>924</td>\n",
       "      <td>360</td>\n",
       "      <td>1450</td>\n",
       "      <td>983</td>\n",
       "      <td>7</td>\n",
       "    </tr>\n",
       "    <tr>\n",
       "      <th>8</th>\n",
       "      <td>A</td>\n",
       "      <td>12/31/01</td>\n",
       "      <td>6122</td>\n",
       "      <td>934</td>\n",
       "      <td>361</td>\n",
       "      <td>1375</td>\n",
       "      <td>925</td>\n",
       "      <td>8</td>\n",
       "    </tr>\n",
       "    <tr>\n",
       "      <th>9</th>\n",
       "      <td>A</td>\n",
       "      <td>12/31/01</td>\n",
       "      <td>6122</td>\n",
       "      <td>934</td>\n",
       "      <td>361</td>\n",
       "      <td>1375</td>\n",
       "      <td>925</td>\n",
       "      <td>8</td>\n",
       "    </tr>\n",
       "    <tr>\n",
       "      <th>10</th>\n",
       "      <td>A</td>\n",
       "      <td>3/31/02</td>\n",
       "      <td>6264</td>\n",
       "      <td>955</td>\n",
       "      <td>NaN</td>\n",
       "      <td>1495</td>\n",
       "      <td>1057</td>\n",
       "      <td>9</td>\n",
       "    </tr>\n",
       "    <tr>\n",
       "      <th>11</th>\n",
       "      <td>A</td>\n",
       "      <td>6/30/02</td>\n",
       "      <td>6293</td>\n",
       "      <td>970</td>\n",
       "      <td>NaN</td>\n",
       "      <td>1429</td>\n",
       "      <td>1010</td>\n",
       "      <td>?</td>\n",
       "    </tr>\n",
       "    <tr>\n",
       "      <th>12</th>\n",
       "      <td>A</td>\n",
       "      <td>9/30/02</td>\n",
       "      <td>6298</td>\n",
       "      <td>1057</td>\n",
       "      <td>NaN</td>\n",
       "      <td>1443</td>\n",
       "      <td>1029</td>\n",
       "      <td>9</td>\n",
       "    </tr>\n",
       "    <tr>\n",
       "      <th>13</th>\n",
       "      <td>A</td>\n",
       "      <td>12/31/02</td>\n",
       "      <td>6269</td>\n",
       "      <td>1046</td>\n",
       "      <td>441</td>\n",
       "      <td>1472</td>\n",
       "      <td>1035</td>\n",
       "      <td>9</td>\n",
       "    </tr>\n",
       "    <tr>\n",
       "      <th>14</th>\n",
       "      <td>A</td>\n",
       "      <td>3/31/03</td>\n",
       "      <td>?</td>\n",
       "      <td>?</td>\n",
       "      <td>?</td>\n",
       "      <td>?</td>\n",
       "      <td>?</td>\n",
       "      <td>?</td>\n",
       "    </tr>\n",
       "  </tbody>\n",
       "</table>\n",
       "</div>"
      ],
      "text/plain": [
       "   name  datadate asset capitalstock depreciation revenue  cost orders\n",
       "0     A   3/31/00  7007          723          409    1945  1375      2\n",
       "1     A   6/30/00  6932          721          407    1825  1257      2\n",
       "2     A   9/30/00  6803          700          387    1870  1385      ?\n",
       "3     A  12/31/00  5986          NaN          NaN    1007  1004      4\n",
       "4     A   3/31/01  6130          721          390    1431  1024      5\n",
       "5     A   6/30/01  6071          727          380    1475  1015      6\n",
       "6     A   6/30/01  6071          727          380    1475  1015      6\n",
       "7     A   9/30/01  6021          924          360    1450   983      7\n",
       "8     A  12/31/01  6122          934          361    1375   925      8\n",
       "9     A  12/31/01  6122          934          361    1375   925      8\n",
       "10    A   3/31/02  6264          955          NaN    1495  1057      9\n",
       "11    A   6/30/02  6293          970          NaN    1429  1010      ?\n",
       "12    A   9/30/02  6298         1057          NaN    1443  1029      9\n",
       "13    A  12/31/02  6269         1046          441    1472  1035      9\n",
       "14    A   3/31/03     ?            ?            ?       ?     ?      ?"
      ]
     },
     "execution_count": 37,
     "metadata": {},
     "output_type": "execute_result"
    },
    {
     "data": {
      "application/javascript": [
       "\n",
       "            setTimeout(function() {\n",
       "                var nbb_cell_id = 37;\n",
       "                var nbb_unformatted_code = \"df\";\n",
       "                var nbb_formatted_code = \"df\";\n",
       "                var nbb_cells = Jupyter.notebook.get_cells();\n",
       "                for (var i = 0; i < nbb_cells.length; ++i) {\n",
       "                    if (nbb_cells[i].input_prompt_number == nbb_cell_id) {\n",
       "                        if (nbb_cells[i].get_text() == nbb_unformatted_code) {\n",
       "                             nbb_cells[i].set_text(nbb_formatted_code);\n",
       "                        }\n",
       "                        break;\n",
       "                    }\n",
       "                }\n",
       "            }, 500);\n",
       "            "
      ],
      "text/plain": [
       "<IPython.core.display.Javascript object>"
      ]
     },
     "metadata": {},
     "output_type": "display_data"
    }
   ],
   "source": [
    "df"
   ]
  },
  {
   "cell_type": "markdown",
   "metadata": {},
   "source": [
    "As we can see, several question marks appeared in the dataframe; those are missing values which may hinder our further analysis. \n",
    "\n",
    "<div>So, how do we identify all those missing values and deal with them?</div> \n",
    "\n",
    "<b>How to work with missing data?</b>\n",
    "\n",
    "Steps for working with missing data:\n",
    "\n",
    "<ol>\n",
    "    <li>dentify missing data</li>\n",
    "    <li>deal with missing data</li>\n",
    "    <li>correct data format</li>\n",
    "</ol>\n"
   ]
  },
  {
   "cell_type": "markdown",
   "metadata": {},
   "source": [
    "<h2 id=\"identify_handle_missing_values\">Identify and handle missing values</h2>\n",
    "\n",
    "<h3 id=\"identify_missing_values\">Identify missing values</h3>\n",
    "<h4>Convert \"?\" to NaN</h4>\n",
    "In the firm dataset, missing data may come with the question mark \"?\".\n",
    "We replace \"?\" with NaN (Not a Number), which is Python's default missing value marker, for reasons of computational speed and convenience. Here we use the function: \n",
    " <pre>.replace(A, B, inplace = True) </pre>\n",
    "to replace A by B\n"
   ]
  },
  {
   "cell_type": "code",
   "execution_count": 38,
   "metadata": {},
   "outputs": [
    {
     "data": {
      "text/html": [
       "<div>\n",
       "<style scoped>\n",
       "    .dataframe tbody tr th:only-of-type {\n",
       "        vertical-align: middle;\n",
       "    }\n",
       "\n",
       "    .dataframe tbody tr th {\n",
       "        vertical-align: top;\n",
       "    }\n",
       "\n",
       "    .dataframe thead th {\n",
       "        text-align: right;\n",
       "    }\n",
       "</style>\n",
       "<table border=\"1\" class=\"dataframe\">\n",
       "  <thead>\n",
       "    <tr style=\"text-align: right;\">\n",
       "      <th></th>\n",
       "      <th>name</th>\n",
       "      <th>datadate</th>\n",
       "      <th>asset</th>\n",
       "      <th>capitalstock</th>\n",
       "      <th>depreciation</th>\n",
       "      <th>revenue</th>\n",
       "      <th>cost</th>\n",
       "      <th>orders</th>\n",
       "    </tr>\n",
       "  </thead>\n",
       "  <tbody>\n",
       "    <tr>\n",
       "      <th>0</th>\n",
       "      <td>A</td>\n",
       "      <td>3/31/00</td>\n",
       "      <td>7007</td>\n",
       "      <td>723</td>\n",
       "      <td>409</td>\n",
       "      <td>1945</td>\n",
       "      <td>1375</td>\n",
       "      <td>2</td>\n",
       "    </tr>\n",
       "    <tr>\n",
       "      <th>1</th>\n",
       "      <td>A</td>\n",
       "      <td>6/30/00</td>\n",
       "      <td>6932</td>\n",
       "      <td>721</td>\n",
       "      <td>407</td>\n",
       "      <td>1825</td>\n",
       "      <td>1257</td>\n",
       "      <td>2</td>\n",
       "    </tr>\n",
       "    <tr>\n",
       "      <th>2</th>\n",
       "      <td>A</td>\n",
       "      <td>9/30/00</td>\n",
       "      <td>6803</td>\n",
       "      <td>700</td>\n",
       "      <td>387</td>\n",
       "      <td>1870</td>\n",
       "      <td>1385</td>\n",
       "      <td>NaN</td>\n",
       "    </tr>\n",
       "    <tr>\n",
       "      <th>3</th>\n",
       "      <td>A</td>\n",
       "      <td>12/31/00</td>\n",
       "      <td>5986</td>\n",
       "      <td>NaN</td>\n",
       "      <td>NaN</td>\n",
       "      <td>1007</td>\n",
       "      <td>1004</td>\n",
       "      <td>4</td>\n",
       "    </tr>\n",
       "    <tr>\n",
       "      <th>4</th>\n",
       "      <td>A</td>\n",
       "      <td>3/31/01</td>\n",
       "      <td>6130</td>\n",
       "      <td>721</td>\n",
       "      <td>390</td>\n",
       "      <td>1431</td>\n",
       "      <td>1024</td>\n",
       "      <td>5</td>\n",
       "    </tr>\n",
       "  </tbody>\n",
       "</table>\n",
       "</div>"
      ],
      "text/plain": [
       "  name  datadate asset capitalstock depreciation revenue  cost orders\n",
       "0    A   3/31/00  7007          723          409    1945  1375      2\n",
       "1    A   6/30/00  6932          721          407    1825  1257      2\n",
       "2    A   9/30/00  6803          700          387    1870  1385    NaN\n",
       "3    A  12/31/00  5986          NaN          NaN    1007  1004      4\n",
       "4    A   3/31/01  6130          721          390    1431  1024      5"
      ]
     },
     "execution_count": 38,
     "metadata": {},
     "output_type": "execute_result"
    },
    {
     "data": {
      "application/javascript": [
       "\n",
       "            setTimeout(function() {\n",
       "                var nbb_cell_id = 38;\n",
       "                var nbb_unformatted_code = \"import numpy as np\\n\\n# replace \\\"?\\\" to NaN\\ndf.replace(\\\"?\\\", np.nan, inplace=True)\\n# df = df.replace(\\\"?\\\", np.nan)\\n\\ndf.head(5)\";\n",
       "                var nbb_formatted_code = \"import numpy as np\\n\\n# replace \\\"?\\\" to NaN\\ndf.replace(\\\"?\\\", np.nan, inplace=True)\\n# df = df.replace(\\\"?\\\", np.nan)\\n\\ndf.head(5)\";\n",
       "                var nbb_cells = Jupyter.notebook.get_cells();\n",
       "                for (var i = 0; i < nbb_cells.length; ++i) {\n",
       "                    if (nbb_cells[i].input_prompt_number == nbb_cell_id) {\n",
       "                        if (nbb_cells[i].get_text() == nbb_unformatted_code) {\n",
       "                             nbb_cells[i].set_text(nbb_formatted_code);\n",
       "                        }\n",
       "                        break;\n",
       "                    }\n",
       "                }\n",
       "            }, 500);\n",
       "            "
      ],
      "text/plain": [
       "<IPython.core.display.Javascript object>"
      ]
     },
     "metadata": {},
     "output_type": "display_data"
    }
   ],
   "source": [
    "import numpy as np\n",
    "\n",
    "# replace \"?\" to NaN\n",
    "df.replace(\"?\", np.nan, inplace=True)\n",
    "# df = df.replace(\"?\", np.nan)\n",
    "\n",
    "df.head(5)"
   ]
  },
  {
   "cell_type": "markdown",
   "metadata": {},
   "source": [
    "<h4>Evaluating for Missing Data</h4>\n",
    "\n",
    "The missing values are converted to default. We use the following functions to identify these missing values. There are two methods to detect missing data:\n",
    "\n",
    "<ol>\n",
    "    <li><b>.isnull()</b></li>\n",
    "    <li><b>.notnull()</b></li>\n",
    "</ol>\n",
    "The output is a boolean value indicating whether the value that is passed into the argument is in fact missing data."
   ]
  },
  {
   "cell_type": "code",
   "execution_count": 39,
   "metadata": {},
   "outputs": [
    {
     "data": {
      "text/html": [
       "<div>\n",
       "<style scoped>\n",
       "    .dataframe tbody tr th:only-of-type {\n",
       "        vertical-align: middle;\n",
       "    }\n",
       "\n",
       "    .dataframe tbody tr th {\n",
       "        vertical-align: top;\n",
       "    }\n",
       "\n",
       "    .dataframe thead th {\n",
       "        text-align: right;\n",
       "    }\n",
       "</style>\n",
       "<table border=\"1\" class=\"dataframe\">\n",
       "  <thead>\n",
       "    <tr style=\"text-align: right;\">\n",
       "      <th></th>\n",
       "      <th>name</th>\n",
       "      <th>datadate</th>\n",
       "      <th>asset</th>\n",
       "      <th>capitalstock</th>\n",
       "      <th>depreciation</th>\n",
       "      <th>revenue</th>\n",
       "      <th>cost</th>\n",
       "      <th>orders</th>\n",
       "    </tr>\n",
       "  </thead>\n",
       "  <tbody>\n",
       "    <tr>\n",
       "      <th>0</th>\n",
       "      <td>False</td>\n",
       "      <td>False</td>\n",
       "      <td>False</td>\n",
       "      <td>False</td>\n",
       "      <td>False</td>\n",
       "      <td>False</td>\n",
       "      <td>False</td>\n",
       "      <td>False</td>\n",
       "    </tr>\n",
       "    <tr>\n",
       "      <th>1</th>\n",
       "      <td>False</td>\n",
       "      <td>False</td>\n",
       "      <td>False</td>\n",
       "      <td>False</td>\n",
       "      <td>False</td>\n",
       "      <td>False</td>\n",
       "      <td>False</td>\n",
       "      <td>False</td>\n",
       "    </tr>\n",
       "    <tr>\n",
       "      <th>2</th>\n",
       "      <td>False</td>\n",
       "      <td>False</td>\n",
       "      <td>False</td>\n",
       "      <td>False</td>\n",
       "      <td>False</td>\n",
       "      <td>False</td>\n",
       "      <td>False</td>\n",
       "      <td>True</td>\n",
       "    </tr>\n",
       "    <tr>\n",
       "      <th>3</th>\n",
       "      <td>False</td>\n",
       "      <td>False</td>\n",
       "      <td>False</td>\n",
       "      <td>True</td>\n",
       "      <td>True</td>\n",
       "      <td>False</td>\n",
       "      <td>False</td>\n",
       "      <td>False</td>\n",
       "    </tr>\n",
       "    <tr>\n",
       "      <th>4</th>\n",
       "      <td>False</td>\n",
       "      <td>False</td>\n",
       "      <td>False</td>\n",
       "      <td>False</td>\n",
       "      <td>False</td>\n",
       "      <td>False</td>\n",
       "      <td>False</td>\n",
       "      <td>False</td>\n",
       "    </tr>\n",
       "  </tbody>\n",
       "</table>\n",
       "</div>"
      ],
      "text/plain": [
       "    name  datadate  asset  capitalstock  depreciation  revenue   cost  orders\n",
       "0  False     False  False         False         False    False  False   False\n",
       "1  False     False  False         False         False    False  False   False\n",
       "2  False     False  False         False         False    False  False    True\n",
       "3  False     False  False          True          True    False  False   False\n",
       "4  False     False  False         False         False    False  False   False"
      ]
     },
     "execution_count": 39,
     "metadata": {},
     "output_type": "execute_result"
    },
    {
     "data": {
      "application/javascript": [
       "\n",
       "            setTimeout(function() {\n",
       "                var nbb_cell_id = 39;\n",
       "                var nbb_unformatted_code = \"missing_data = df.isnull()\\n\\nmissing_data.head(5)\";\n",
       "                var nbb_formatted_code = \"missing_data = df.isnull()\\n\\nmissing_data.head(5)\";\n",
       "                var nbb_cells = Jupyter.notebook.get_cells();\n",
       "                for (var i = 0; i < nbb_cells.length; ++i) {\n",
       "                    if (nbb_cells[i].input_prompt_number == nbb_cell_id) {\n",
       "                        if (nbb_cells[i].get_text() == nbb_unformatted_code) {\n",
       "                             nbb_cells[i].set_text(nbb_formatted_code);\n",
       "                        }\n",
       "                        break;\n",
       "                    }\n",
       "                }\n",
       "            }, 500);\n",
       "            "
      ],
      "text/plain": [
       "<IPython.core.display.Javascript object>"
      ]
     },
     "metadata": {},
     "output_type": "display_data"
    }
   ],
   "source": [
    "missing_data = df.isnull()\n",
    "\n",
    "missing_data.head(5)"
   ]
  },
  {
   "cell_type": "markdown",
   "metadata": {},
   "source": [
    "\"True\" stands for missing value, while \"False\" stands for not missing value."
   ]
  },
  {
   "cell_type": "markdown",
   "metadata": {},
   "source": [
    "<h4>Count missing values in each column</h4>\n",
    "<p>\n",
    "Using a for loop in Python, we can quickly figure out the number of missing values in each column. As mentioned above, \"True\" represents a missing value, \"False\"  means the value is present in the dataset.  In the body of the for loop the method  \".value_counts()\"  counts the number of \"True\" values. \n",
    "</p>\n"
   ]
  },
  {
   "cell_type": "code",
   "execution_count": 40,
   "metadata": {},
   "outputs": [
    {
     "data": {
      "text/plain": [
       "array(['name', 'datadate', 'asset', 'capitalstock', 'depreciation',\n",
       "       'revenue', 'cost', 'orders'], dtype=object)"
      ]
     },
     "execution_count": 40,
     "metadata": {},
     "output_type": "execute_result"
    },
    {
     "data": {
      "application/javascript": [
       "\n",
       "            setTimeout(function() {\n",
       "                var nbb_cell_id = 40;\n",
       "                var nbb_unformatted_code = \"missing_data.columns.values\";\n",
       "                var nbb_formatted_code = \"missing_data.columns.values\";\n",
       "                var nbb_cells = Jupyter.notebook.get_cells();\n",
       "                for (var i = 0; i < nbb_cells.length; ++i) {\n",
       "                    if (nbb_cells[i].input_prompt_number == nbb_cell_id) {\n",
       "                        if (nbb_cells[i].get_text() == nbb_unformatted_code) {\n",
       "                             nbb_cells[i].set_text(nbb_formatted_code);\n",
       "                        }\n",
       "                        break;\n",
       "                    }\n",
       "                }\n",
       "            }, 500);\n",
       "            "
      ],
      "text/plain": [
       "<IPython.core.display.Javascript object>"
      ]
     },
     "metadata": {},
     "output_type": "display_data"
    }
   ],
   "source": [
    "missing_data.columns.values"
   ]
  },
  {
   "cell_type": "code",
   "execution_count": 41,
   "metadata": {},
   "outputs": [
    {
     "name": "stdout",
     "output_type": "stream",
     "text": [
      "name\n",
      "False    15\n",
      "Name: name, dtype: int64\n",
      "\n",
      "datadate\n",
      "False    15\n",
      "Name: datadate, dtype: int64\n",
      "\n",
      "asset\n",
      "False    14\n",
      "True      1\n",
      "Name: asset, dtype: int64\n",
      "\n",
      "capitalstock\n",
      "False    13\n",
      "True      2\n",
      "Name: capitalstock, dtype: int64\n",
      "\n",
      "depreciation\n",
      "False    10\n",
      "True      5\n",
      "Name: depreciation, dtype: int64\n",
      "\n",
      "revenue\n",
      "False    14\n",
      "True      1\n",
      "Name: revenue, dtype: int64\n",
      "\n",
      "cost\n",
      "False    14\n",
      "True      1\n",
      "Name: cost, dtype: int64\n",
      "\n",
      "orders\n",
      "False    12\n",
      "True      3\n",
      "Name: orders, dtype: int64\n",
      "\n"
     ]
    },
    {
     "data": {
      "application/javascript": [
       "\n",
       "            setTimeout(function() {\n",
       "                var nbb_cell_id = 41;\n",
       "                var nbb_unformatted_code = \"for column in missing_data.columns:\\n    print(column)\\n    print(missing_data[column].value_counts())\\n    print(\\\"\\\")\";\n",
       "                var nbb_formatted_code = \"for column in missing_data.columns:\\n    print(column)\\n    print(missing_data[column].value_counts())\\n    print(\\\"\\\")\";\n",
       "                var nbb_cells = Jupyter.notebook.get_cells();\n",
       "                for (var i = 0; i < nbb_cells.length; ++i) {\n",
       "                    if (nbb_cells[i].input_prompt_number == nbb_cell_id) {\n",
       "                        if (nbb_cells[i].get_text() == nbb_unformatted_code) {\n",
       "                             nbb_cells[i].set_text(nbb_formatted_code);\n",
       "                        }\n",
       "                        break;\n",
       "                    }\n",
       "                }\n",
       "            }, 500);\n",
       "            "
      ],
      "text/plain": [
       "<IPython.core.display.Javascript object>"
      ]
     },
     "metadata": {},
     "output_type": "display_data"
    }
   ],
   "source": [
    "for column in missing_data.columns:\n",
    "    print(column)\n",
    "    print(missing_data[column].value_counts())\n",
    "    print(\"\")"
   ]
  },
  {
   "cell_type": "code",
   "execution_count": 42,
   "metadata": {},
   "outputs": [
    {
     "data": {
      "text/html": [
       "<div>\n",
       "<style scoped>\n",
       "    .dataframe tbody tr th:only-of-type {\n",
       "        vertical-align: middle;\n",
       "    }\n",
       "\n",
       "    .dataframe tbody tr th {\n",
       "        vertical-align: top;\n",
       "    }\n",
       "\n",
       "    .dataframe thead th {\n",
       "        text-align: right;\n",
       "    }\n",
       "</style>\n",
       "<table border=\"1\" class=\"dataframe\">\n",
       "  <thead>\n",
       "    <tr style=\"text-align: right;\">\n",
       "      <th></th>\n",
       "      <th>name</th>\n",
       "      <th>datadate</th>\n",
       "      <th>asset</th>\n",
       "      <th>capitalstock</th>\n",
       "      <th>depreciation</th>\n",
       "      <th>revenue</th>\n",
       "      <th>cost</th>\n",
       "      <th>orders</th>\n",
       "    </tr>\n",
       "  </thead>\n",
       "  <tbody>\n",
       "    <tr>\n",
       "      <th>0</th>\n",
       "      <td>A</td>\n",
       "      <td>3/31/00</td>\n",
       "      <td>7007</td>\n",
       "      <td>723</td>\n",
       "      <td>409</td>\n",
       "      <td>1945</td>\n",
       "      <td>1375</td>\n",
       "      <td>2</td>\n",
       "    </tr>\n",
       "    <tr>\n",
       "      <th>1</th>\n",
       "      <td>A</td>\n",
       "      <td>6/30/00</td>\n",
       "      <td>6932</td>\n",
       "      <td>721</td>\n",
       "      <td>407</td>\n",
       "      <td>1825</td>\n",
       "      <td>1257</td>\n",
       "      <td>2</td>\n",
       "    </tr>\n",
       "    <tr>\n",
       "      <th>2</th>\n",
       "      <td>A</td>\n",
       "      <td>9/30/00</td>\n",
       "      <td>6803</td>\n",
       "      <td>700</td>\n",
       "      <td>387</td>\n",
       "      <td>1870</td>\n",
       "      <td>1385</td>\n",
       "      <td>NaN</td>\n",
       "    </tr>\n",
       "    <tr>\n",
       "      <th>3</th>\n",
       "      <td>A</td>\n",
       "      <td>12/31/00</td>\n",
       "      <td>5986</td>\n",
       "      <td>NaN</td>\n",
       "      <td>NaN</td>\n",
       "      <td>1007</td>\n",
       "      <td>1004</td>\n",
       "      <td>4</td>\n",
       "    </tr>\n",
       "    <tr>\n",
       "      <th>4</th>\n",
       "      <td>A</td>\n",
       "      <td>3/31/01</td>\n",
       "      <td>6130</td>\n",
       "      <td>721</td>\n",
       "      <td>390</td>\n",
       "      <td>1431</td>\n",
       "      <td>1024</td>\n",
       "      <td>5</td>\n",
       "    </tr>\n",
       "    <tr>\n",
       "      <th>5</th>\n",
       "      <td>A</td>\n",
       "      <td>6/30/01</td>\n",
       "      <td>6071</td>\n",
       "      <td>727</td>\n",
       "      <td>380</td>\n",
       "      <td>1475</td>\n",
       "      <td>1015</td>\n",
       "      <td>6</td>\n",
       "    </tr>\n",
       "    <tr>\n",
       "      <th>6</th>\n",
       "      <td>A</td>\n",
       "      <td>6/30/01</td>\n",
       "      <td>6071</td>\n",
       "      <td>727</td>\n",
       "      <td>380</td>\n",
       "      <td>1475</td>\n",
       "      <td>1015</td>\n",
       "      <td>6</td>\n",
       "    </tr>\n",
       "    <tr>\n",
       "      <th>7</th>\n",
       "      <td>A</td>\n",
       "      <td>9/30/01</td>\n",
       "      <td>6021</td>\n",
       "      <td>924</td>\n",
       "      <td>360</td>\n",
       "      <td>1450</td>\n",
       "      <td>983</td>\n",
       "      <td>7</td>\n",
       "    </tr>\n",
       "    <tr>\n",
       "      <th>8</th>\n",
       "      <td>A</td>\n",
       "      <td>12/31/01</td>\n",
       "      <td>6122</td>\n",
       "      <td>934</td>\n",
       "      <td>361</td>\n",
       "      <td>1375</td>\n",
       "      <td>925</td>\n",
       "      <td>8</td>\n",
       "    </tr>\n",
       "    <tr>\n",
       "      <th>9</th>\n",
       "      <td>A</td>\n",
       "      <td>12/31/01</td>\n",
       "      <td>6122</td>\n",
       "      <td>934</td>\n",
       "      <td>361</td>\n",
       "      <td>1375</td>\n",
       "      <td>925</td>\n",
       "      <td>8</td>\n",
       "    </tr>\n",
       "    <tr>\n",
       "      <th>10</th>\n",
       "      <td>A</td>\n",
       "      <td>3/31/02</td>\n",
       "      <td>6264</td>\n",
       "      <td>955</td>\n",
       "      <td>NaN</td>\n",
       "      <td>1495</td>\n",
       "      <td>1057</td>\n",
       "      <td>9</td>\n",
       "    </tr>\n",
       "    <tr>\n",
       "      <th>11</th>\n",
       "      <td>A</td>\n",
       "      <td>6/30/02</td>\n",
       "      <td>6293</td>\n",
       "      <td>970</td>\n",
       "      <td>NaN</td>\n",
       "      <td>1429</td>\n",
       "      <td>1010</td>\n",
       "      <td>NaN</td>\n",
       "    </tr>\n",
       "    <tr>\n",
       "      <th>12</th>\n",
       "      <td>A</td>\n",
       "      <td>9/30/02</td>\n",
       "      <td>6298</td>\n",
       "      <td>1057</td>\n",
       "      <td>NaN</td>\n",
       "      <td>1443</td>\n",
       "      <td>1029</td>\n",
       "      <td>9</td>\n",
       "    </tr>\n",
       "    <tr>\n",
       "      <th>13</th>\n",
       "      <td>A</td>\n",
       "      <td>12/31/02</td>\n",
       "      <td>6269</td>\n",
       "      <td>1046</td>\n",
       "      <td>441</td>\n",
       "      <td>1472</td>\n",
       "      <td>1035</td>\n",
       "      <td>9</td>\n",
       "    </tr>\n",
       "    <tr>\n",
       "      <th>14</th>\n",
       "      <td>A</td>\n",
       "      <td>3/31/03</td>\n",
       "      <td>NaN</td>\n",
       "      <td>NaN</td>\n",
       "      <td>NaN</td>\n",
       "      <td>NaN</td>\n",
       "      <td>NaN</td>\n",
       "      <td>NaN</td>\n",
       "    </tr>\n",
       "  </tbody>\n",
       "</table>\n",
       "</div>"
      ],
      "text/plain": [
       "   name  datadate asset capitalstock depreciation revenue  cost orders\n",
       "0     A   3/31/00  7007          723          409    1945  1375      2\n",
       "1     A   6/30/00  6932          721          407    1825  1257      2\n",
       "2     A   9/30/00  6803          700          387    1870  1385    NaN\n",
       "3     A  12/31/00  5986          NaN          NaN    1007  1004      4\n",
       "4     A   3/31/01  6130          721          390    1431  1024      5\n",
       "5     A   6/30/01  6071          727          380    1475  1015      6\n",
       "6     A   6/30/01  6071          727          380    1475  1015      6\n",
       "7     A   9/30/01  6021          924          360    1450   983      7\n",
       "8     A  12/31/01  6122          934          361    1375   925      8\n",
       "9     A  12/31/01  6122          934          361    1375   925      8\n",
       "10    A   3/31/02  6264          955          NaN    1495  1057      9\n",
       "11    A   6/30/02  6293          970          NaN    1429  1010    NaN\n",
       "12    A   9/30/02  6298         1057          NaN    1443  1029      9\n",
       "13    A  12/31/02  6269         1046          441    1472  1035      9\n",
       "14    A   3/31/03   NaN          NaN          NaN     NaN   NaN    NaN"
      ]
     },
     "execution_count": 42,
     "metadata": {},
     "output_type": "execute_result"
    },
    {
     "data": {
      "application/javascript": [
       "\n",
       "            setTimeout(function() {\n",
       "                var nbb_cell_id = 42;\n",
       "                var nbb_unformatted_code = \"# save the preprocessed df as df_raw\\ndf_raw = df.copy()\\n\\ndf\";\n",
       "                var nbb_formatted_code = \"# save the preprocessed df as df_raw\\ndf_raw = df.copy()\\n\\ndf\";\n",
       "                var nbb_cells = Jupyter.notebook.get_cells();\n",
       "                for (var i = 0; i < nbb_cells.length; ++i) {\n",
       "                    if (nbb_cells[i].input_prompt_number == nbb_cell_id) {\n",
       "                        if (nbb_cells[i].get_text() == nbb_unformatted_code) {\n",
       "                             nbb_cells[i].set_text(nbb_formatted_code);\n",
       "                        }\n",
       "                        break;\n",
       "                    }\n",
       "                }\n",
       "            }, 500);\n",
       "            "
      ],
      "text/plain": [
       "<IPython.core.display.Javascript object>"
      ]
     },
     "metadata": {},
     "output_type": "display_data"
    }
   ],
   "source": [
    "# save the preprocessed df as df_raw\n",
    "df_raw = df.copy()\n",
    "\n",
    "df"
   ]
  },
  {
   "cell_type": "markdown",
   "metadata": {},
   "source": [
    "<h3 id=\"deal_missing_values\">Deal with missing data</h3>\n",
    "<b>How to deal with missing data?</b>\n",
    "\n",
    "<ol>\n",
    "    <li>drop data<br>\n",
    "        a. drop the whole row<br>\n",
    "        b. drop the whole column\n",
    "    </li>\n",
    "    <li>replace data<br>\n",
    "        a. replace it by mean<br>\n",
    "        b. replace it by interpolating<br>\n",
    "        c. replace it based on other functions\n",
    "    </li>\n",
    "</ol>\n"
   ]
  },
  {
   "cell_type": "markdown",
   "metadata": {},
   "source": [
    "Whole columns should be dropped only if most entries in the column are empty. In our dataset, none of the columns are empty enough to drop entirely.\n",
    "We have some freedom in choosing which method to replace data; however, some methods may seem more reasonable than others. We will apply each method to many different columns:\n",
    "\n",
    "<b>Drop the whole row:</b>\n",
    "\n",
    "<ul>\n",
    "    <li>\"index# 12\": 6 missing data, simply delete the whole row</li>\n",
    "</ul>\n",
    "\n",
    "<b>Replace by mean:</b>\n",
    "\n",
    "<ul>\n",
    "    <li>\"depreciation\": 5 missing data, replace them with mean</li>\n",
    "</ul>\n",
    "\n",
    "<b>Interpolate the columns:</b>\n",
    "\n",
    "<ul>\n",
    "    <li>\"orders\": 3 missing data, linear interpolation.</li>\n",
    "</ul>\n",
    "\n"
   ]
  },
  {
   "cell_type": "code",
   "execution_count": 43,
   "metadata": {},
   "outputs": [
    {
     "data": {
      "text/html": [
       "<div>\n",
       "<style scoped>\n",
       "    .dataframe tbody tr th:only-of-type {\n",
       "        vertical-align: middle;\n",
       "    }\n",
       "\n",
       "    .dataframe tbody tr th {\n",
       "        vertical-align: top;\n",
       "    }\n",
       "\n",
       "    .dataframe thead th {\n",
       "        text-align: right;\n",
       "    }\n",
       "</style>\n",
       "<table border=\"1\" class=\"dataframe\">\n",
       "  <thead>\n",
       "    <tr style=\"text-align: right;\">\n",
       "      <th></th>\n",
       "      <th>name</th>\n",
       "      <th>datadate</th>\n",
       "      <th>asset</th>\n",
       "      <th>capitalstock</th>\n",
       "      <th>depreciation</th>\n",
       "      <th>revenue</th>\n",
       "      <th>cost</th>\n",
       "      <th>orders</th>\n",
       "    </tr>\n",
       "  </thead>\n",
       "  <tbody>\n",
       "    <tr>\n",
       "      <th>0</th>\n",
       "      <td>A</td>\n",
       "      <td>3/31/00</td>\n",
       "      <td>7007</td>\n",
       "      <td>723</td>\n",
       "      <td>409</td>\n",
       "      <td>1945</td>\n",
       "      <td>1375</td>\n",
       "      <td>2</td>\n",
       "    </tr>\n",
       "    <tr>\n",
       "      <th>1</th>\n",
       "      <td>A</td>\n",
       "      <td>6/30/00</td>\n",
       "      <td>6932</td>\n",
       "      <td>721</td>\n",
       "      <td>407</td>\n",
       "      <td>1825</td>\n",
       "      <td>1257</td>\n",
       "      <td>2</td>\n",
       "    </tr>\n",
       "    <tr>\n",
       "      <th>4</th>\n",
       "      <td>A</td>\n",
       "      <td>3/31/01</td>\n",
       "      <td>6130</td>\n",
       "      <td>721</td>\n",
       "      <td>390</td>\n",
       "      <td>1431</td>\n",
       "      <td>1024</td>\n",
       "      <td>5</td>\n",
       "    </tr>\n",
       "    <tr>\n",
       "      <th>5</th>\n",
       "      <td>A</td>\n",
       "      <td>6/30/01</td>\n",
       "      <td>6071</td>\n",
       "      <td>727</td>\n",
       "      <td>380</td>\n",
       "      <td>1475</td>\n",
       "      <td>1015</td>\n",
       "      <td>6</td>\n",
       "    </tr>\n",
       "    <tr>\n",
       "      <th>6</th>\n",
       "      <td>A</td>\n",
       "      <td>6/30/01</td>\n",
       "      <td>6071</td>\n",
       "      <td>727</td>\n",
       "      <td>380</td>\n",
       "      <td>1475</td>\n",
       "      <td>1015</td>\n",
       "      <td>6</td>\n",
       "    </tr>\n",
       "    <tr>\n",
       "      <th>7</th>\n",
       "      <td>A</td>\n",
       "      <td>9/30/01</td>\n",
       "      <td>6021</td>\n",
       "      <td>924</td>\n",
       "      <td>360</td>\n",
       "      <td>1450</td>\n",
       "      <td>983</td>\n",
       "      <td>7</td>\n",
       "    </tr>\n",
       "    <tr>\n",
       "      <th>8</th>\n",
       "      <td>A</td>\n",
       "      <td>12/31/01</td>\n",
       "      <td>6122</td>\n",
       "      <td>934</td>\n",
       "      <td>361</td>\n",
       "      <td>1375</td>\n",
       "      <td>925</td>\n",
       "      <td>8</td>\n",
       "    </tr>\n",
       "    <tr>\n",
       "      <th>9</th>\n",
       "      <td>A</td>\n",
       "      <td>12/31/01</td>\n",
       "      <td>6122</td>\n",
       "      <td>934</td>\n",
       "      <td>361</td>\n",
       "      <td>1375</td>\n",
       "      <td>925</td>\n",
       "      <td>8</td>\n",
       "    </tr>\n",
       "    <tr>\n",
       "      <th>13</th>\n",
       "      <td>A</td>\n",
       "      <td>12/31/02</td>\n",
       "      <td>6269</td>\n",
       "      <td>1046</td>\n",
       "      <td>441</td>\n",
       "      <td>1472</td>\n",
       "      <td>1035</td>\n",
       "      <td>9</td>\n",
       "    </tr>\n",
       "  </tbody>\n",
       "</table>\n",
       "</div>"
      ],
      "text/plain": [
       "   name  datadate asset capitalstock depreciation revenue  cost orders\n",
       "0     A   3/31/00  7007          723          409    1945  1375      2\n",
       "1     A   6/30/00  6932          721          407    1825  1257      2\n",
       "4     A   3/31/01  6130          721          390    1431  1024      5\n",
       "5     A   6/30/01  6071          727          380    1475  1015      6\n",
       "6     A   6/30/01  6071          727          380    1475  1015      6\n",
       "7     A   9/30/01  6021          924          360    1450   983      7\n",
       "8     A  12/31/01  6122          934          361    1375   925      8\n",
       "9     A  12/31/01  6122          934          361    1375   925      8\n",
       "13    A  12/31/02  6269         1046          441    1472  1035      9"
      ]
     },
     "execution_count": 43,
     "metadata": {},
     "output_type": "execute_result"
    },
    {
     "data": {
      "application/javascript": [
       "\n",
       "            setTimeout(function() {\n",
       "                var nbb_cell_id = 43;\n",
       "                var nbb_unformatted_code = \"# drop all missing entries\\ndf.dropna()  # how=\\\"all\\\"\";\n",
       "                var nbb_formatted_code = \"# drop all missing entries\\ndf.dropna()  # how=\\\"all\\\"\";\n",
       "                var nbb_cells = Jupyter.notebook.get_cells();\n",
       "                for (var i = 0; i < nbb_cells.length; ++i) {\n",
       "                    if (nbb_cells[i].input_prompt_number == nbb_cell_id) {\n",
       "                        if (nbb_cells[i].get_text() == nbb_unformatted_code) {\n",
       "                             nbb_cells[i].set_text(nbb_formatted_code);\n",
       "                        }\n",
       "                        break;\n",
       "                    }\n",
       "                }\n",
       "            }, 500);\n",
       "            "
      ],
      "text/plain": [
       "<IPython.core.display.Javascript object>"
      ]
     },
     "metadata": {},
     "output_type": "display_data"
    }
   ],
   "source": [
    "# drop all missing entries\n",
    "df.dropna()  # how=\"all\""
   ]
  },
  {
   "cell_type": "code",
   "execution_count": 44,
   "metadata": {
    "scrolled": false
   },
   "outputs": [
    {
     "data": {
      "text/html": [
       "<div>\n",
       "<style scoped>\n",
       "    .dataframe tbody tr th:only-of-type {\n",
       "        vertical-align: middle;\n",
       "    }\n",
       "\n",
       "    .dataframe tbody tr th {\n",
       "        vertical-align: top;\n",
       "    }\n",
       "\n",
       "    .dataframe thead th {\n",
       "        text-align: right;\n",
       "    }\n",
       "</style>\n",
       "<table border=\"1\" class=\"dataframe\">\n",
       "  <thead>\n",
       "    <tr style=\"text-align: right;\">\n",
       "      <th></th>\n",
       "      <th>name</th>\n",
       "      <th>datadate</th>\n",
       "      <th>asset</th>\n",
       "      <th>capitalstock</th>\n",
       "      <th>depreciation</th>\n",
       "      <th>revenue</th>\n",
       "      <th>cost</th>\n",
       "      <th>orders</th>\n",
       "    </tr>\n",
       "  </thead>\n",
       "  <tbody>\n",
       "    <tr>\n",
       "      <th>0</th>\n",
       "      <td>A</td>\n",
       "      <td>3/31/00</td>\n",
       "      <td>7007</td>\n",
       "      <td>723</td>\n",
       "      <td>409</td>\n",
       "      <td>1945</td>\n",
       "      <td>1375</td>\n",
       "      <td>2</td>\n",
       "    </tr>\n",
       "    <tr>\n",
       "      <th>1</th>\n",
       "      <td>A</td>\n",
       "      <td>6/30/00</td>\n",
       "      <td>6932</td>\n",
       "      <td>721</td>\n",
       "      <td>407</td>\n",
       "      <td>1825</td>\n",
       "      <td>1257</td>\n",
       "      <td>2</td>\n",
       "    </tr>\n",
       "    <tr>\n",
       "      <th>2</th>\n",
       "      <td>A</td>\n",
       "      <td>9/30/00</td>\n",
       "      <td>6803</td>\n",
       "      <td>700</td>\n",
       "      <td>387</td>\n",
       "      <td>1870</td>\n",
       "      <td>1385</td>\n",
       "      <td>NaN</td>\n",
       "    </tr>\n",
       "    <tr>\n",
       "      <th>3</th>\n",
       "      <td>A</td>\n",
       "      <td>12/31/00</td>\n",
       "      <td>5986</td>\n",
       "      <td>NaN</td>\n",
       "      <td>NaN</td>\n",
       "      <td>1007</td>\n",
       "      <td>1004</td>\n",
       "      <td>4</td>\n",
       "    </tr>\n",
       "    <tr>\n",
       "      <th>4</th>\n",
       "      <td>A</td>\n",
       "      <td>3/31/01</td>\n",
       "      <td>6130</td>\n",
       "      <td>721</td>\n",
       "      <td>390</td>\n",
       "      <td>1431</td>\n",
       "      <td>1024</td>\n",
       "      <td>5</td>\n",
       "    </tr>\n",
       "    <tr>\n",
       "      <th>5</th>\n",
       "      <td>A</td>\n",
       "      <td>6/30/01</td>\n",
       "      <td>6071</td>\n",
       "      <td>727</td>\n",
       "      <td>380</td>\n",
       "      <td>1475</td>\n",
       "      <td>1015</td>\n",
       "      <td>6</td>\n",
       "    </tr>\n",
       "    <tr>\n",
       "      <th>6</th>\n",
       "      <td>A</td>\n",
       "      <td>6/30/01</td>\n",
       "      <td>6071</td>\n",
       "      <td>727</td>\n",
       "      <td>380</td>\n",
       "      <td>1475</td>\n",
       "      <td>1015</td>\n",
       "      <td>6</td>\n",
       "    </tr>\n",
       "    <tr>\n",
       "      <th>7</th>\n",
       "      <td>A</td>\n",
       "      <td>9/30/01</td>\n",
       "      <td>6021</td>\n",
       "      <td>924</td>\n",
       "      <td>360</td>\n",
       "      <td>1450</td>\n",
       "      <td>983</td>\n",
       "      <td>7</td>\n",
       "    </tr>\n",
       "    <tr>\n",
       "      <th>8</th>\n",
       "      <td>A</td>\n",
       "      <td>12/31/01</td>\n",
       "      <td>6122</td>\n",
       "      <td>934</td>\n",
       "      <td>361</td>\n",
       "      <td>1375</td>\n",
       "      <td>925</td>\n",
       "      <td>8</td>\n",
       "    </tr>\n",
       "    <tr>\n",
       "      <th>9</th>\n",
       "      <td>A</td>\n",
       "      <td>12/31/01</td>\n",
       "      <td>6122</td>\n",
       "      <td>934</td>\n",
       "      <td>361</td>\n",
       "      <td>1375</td>\n",
       "      <td>925</td>\n",
       "      <td>8</td>\n",
       "    </tr>\n",
       "    <tr>\n",
       "      <th>10</th>\n",
       "      <td>A</td>\n",
       "      <td>3/31/02</td>\n",
       "      <td>6264</td>\n",
       "      <td>955</td>\n",
       "      <td>NaN</td>\n",
       "      <td>1495</td>\n",
       "      <td>1057</td>\n",
       "      <td>9</td>\n",
       "    </tr>\n",
       "    <tr>\n",
       "      <th>11</th>\n",
       "      <td>A</td>\n",
       "      <td>6/30/02</td>\n",
       "      <td>6293</td>\n",
       "      <td>970</td>\n",
       "      <td>NaN</td>\n",
       "      <td>1429</td>\n",
       "      <td>1010</td>\n",
       "      <td>NaN</td>\n",
       "    </tr>\n",
       "    <tr>\n",
       "      <th>12</th>\n",
       "      <td>A</td>\n",
       "      <td>9/30/02</td>\n",
       "      <td>6298</td>\n",
       "      <td>1057</td>\n",
       "      <td>NaN</td>\n",
       "      <td>1443</td>\n",
       "      <td>1029</td>\n",
       "      <td>9</td>\n",
       "    </tr>\n",
       "    <tr>\n",
       "      <th>13</th>\n",
       "      <td>A</td>\n",
       "      <td>12/31/02</td>\n",
       "      <td>6269</td>\n",
       "      <td>1046</td>\n",
       "      <td>441</td>\n",
       "      <td>1472</td>\n",
       "      <td>1035</td>\n",
       "      <td>9</td>\n",
       "    </tr>\n",
       "  </tbody>\n",
       "</table>\n",
       "</div>"
      ],
      "text/plain": [
       "   name  datadate asset capitalstock depreciation revenue  cost orders\n",
       "0     A   3/31/00  7007          723          409    1945  1375      2\n",
       "1     A   6/30/00  6932          721          407    1825  1257      2\n",
       "2     A   9/30/00  6803          700          387    1870  1385    NaN\n",
       "3     A  12/31/00  5986          NaN          NaN    1007  1004      4\n",
       "4     A   3/31/01  6130          721          390    1431  1024      5\n",
       "5     A   6/30/01  6071          727          380    1475  1015      6\n",
       "6     A   6/30/01  6071          727          380    1475  1015      6\n",
       "7     A   9/30/01  6021          924          360    1450   983      7\n",
       "8     A  12/31/01  6122          934          361    1375   925      8\n",
       "9     A  12/31/01  6122          934          361    1375   925      8\n",
       "10    A   3/31/02  6264          955          NaN    1495  1057      9\n",
       "11    A   6/30/02  6293          970          NaN    1429  1010    NaN\n",
       "12    A   9/30/02  6298         1057          NaN    1443  1029      9\n",
       "13    A  12/31/02  6269         1046          441    1472  1035      9"
      ]
     },
     "execution_count": 44,
     "metadata": {},
     "output_type": "execute_result"
    },
    {
     "data": {
      "application/javascript": [
       "\n",
       "            setTimeout(function() {\n",
       "                var nbb_cell_id = 44;\n",
       "                var nbb_unformatted_code = \"# simply drop whole row with NaN in \\\"revenue\\\" column\\ndf.dropna(subset=[\\\"revenue\\\"], axis=0, inplace=True)\\n# df = df.dropna(subset=[\\\"revenue\\\"], axis=0)\\n\\ndf\";\n",
       "                var nbb_formatted_code = \"# simply drop whole row with NaN in \\\"revenue\\\" column\\ndf.dropna(subset=[\\\"revenue\\\"], axis=0, inplace=True)\\n# df = df.dropna(subset=[\\\"revenue\\\"], axis=0)\\n\\ndf\";\n",
       "                var nbb_cells = Jupyter.notebook.get_cells();\n",
       "                for (var i = 0; i < nbb_cells.length; ++i) {\n",
       "                    if (nbb_cells[i].input_prompt_number == nbb_cell_id) {\n",
       "                        if (nbb_cells[i].get_text() == nbb_unformatted_code) {\n",
       "                             nbb_cells[i].set_text(nbb_formatted_code);\n",
       "                        }\n",
       "                        break;\n",
       "                    }\n",
       "                }\n",
       "            }, 500);\n",
       "            "
      ],
      "text/plain": [
       "<IPython.core.display.Javascript object>"
      ]
     },
     "metadata": {},
     "output_type": "display_data"
    }
   ],
   "source": [
    "# simply drop whole row with NaN in \"revenue\" column\n",
    "df.dropna(subset=[\"revenue\"], axis=0, inplace=True)\n",
    "# df = df.dropna(subset=[\"revenue\"], axis=0)\n",
    "\n",
    "df"
   ]
  },
  {
   "cell_type": "markdown",
   "metadata": {},
   "source": [
    "`.fillna`:\n",
    "\n",
    "- 'ffill': propagate last valid observation forward to next valid \n",
    "- 'backfill' or 'bfill': propagate non-null values forward"
   ]
  },
  {
   "cell_type": "code",
   "execution_count": 45,
   "metadata": {
    "scrolled": true
   },
   "outputs": [
    {
     "data": {
      "text/plain": [
       "0     409\n",
       "1     407\n",
       "2     387\n",
       "3     390\n",
       "4     390\n",
       "5     380\n",
       "6     380\n",
       "7     360\n",
       "8     361\n",
       "9     361\n",
       "10    441\n",
       "11    441\n",
       "12    441\n",
       "13    441\n",
       "Name: depreciation, dtype: object"
      ]
     },
     "execution_count": 45,
     "metadata": {},
     "output_type": "execute_result"
    },
    {
     "data": {
      "application/javascript": [
       "\n",
       "            setTimeout(function() {\n",
       "                var nbb_cell_id = 45;\n",
       "                var nbb_unformatted_code = \"# Fill NA/NaN values using the non-null values forward \\\"ffill\\\".\\ndf['depreciation'].fillna(method='backfill')\";\n",
       "                var nbb_formatted_code = \"# Fill NA/NaN values using the non-null values forward \\\"ffill\\\".\\ndf[\\\"depreciation\\\"].fillna(method=\\\"backfill\\\")\";\n",
       "                var nbb_cells = Jupyter.notebook.get_cells();\n",
       "                for (var i = 0; i < nbb_cells.length; ++i) {\n",
       "                    if (nbb_cells[i].input_prompt_number == nbb_cell_id) {\n",
       "                        if (nbb_cells[i].get_text() == nbb_unformatted_code) {\n",
       "                             nbb_cells[i].set_text(nbb_formatted_code);\n",
       "                        }\n",
       "                        break;\n",
       "                    }\n",
       "                }\n",
       "            }, 500);\n",
       "            "
      ],
      "text/plain": [
       "<IPython.core.display.Javascript object>"
      ]
     },
     "metadata": {},
     "output_type": "display_data"
    }
   ],
   "source": [
    "# Fill NA/NaN values using the non-null values forward \"ffill\".\n",
    "df[\"depreciation\"].fillna(method=\"backfill\")"
   ]
  },
  {
   "cell_type": "code",
   "execution_count": 46,
   "metadata": {},
   "outputs": [
    {
     "data": {
      "text/plain": [
       "0       409\n",
       "1       407\n",
       "2       387\n",
       "3     387.6\n",
       "4       390\n",
       "5       380\n",
       "6       380\n",
       "7       360\n",
       "8       361\n",
       "9       361\n",
       "10    387.6\n",
       "11    387.6\n",
       "12    387.6\n",
       "13      441\n",
       "Name: depreciation, dtype: object"
      ]
     },
     "execution_count": 46,
     "metadata": {},
     "output_type": "execute_result"
    },
    {
     "data": {
      "application/javascript": [
       "\n",
       "            setTimeout(function() {\n",
       "                var nbb_cell_id = 46;\n",
       "                var nbb_unformatted_code = \"# We can fill the gaps with its mean value.\\ndf[\\\"depreciation\\\"].fillna(np.mean(df[\\\"depreciation\\\"].astype(\\\"float\\\")))\";\n",
       "                var nbb_formatted_code = \"# We can fill the gaps with its mean value.\\ndf[\\\"depreciation\\\"].fillna(np.mean(df[\\\"depreciation\\\"].astype(\\\"float\\\")))\";\n",
       "                var nbb_cells = Jupyter.notebook.get_cells();\n",
       "                for (var i = 0; i < nbb_cells.length; ++i) {\n",
       "                    if (nbb_cells[i].input_prompt_number == nbb_cell_id) {\n",
       "                        if (nbb_cells[i].get_text() == nbb_unformatted_code) {\n",
       "                             nbb_cells[i].set_text(nbb_formatted_code);\n",
       "                        }\n",
       "                        break;\n",
       "                    }\n",
       "                }\n",
       "            }, 500);\n",
       "            "
      ],
      "text/plain": [
       "<IPython.core.display.Javascript object>"
      ]
     },
     "metadata": {},
     "output_type": "display_data"
    }
   ],
   "source": [
    "# We can fill the gaps with its mean value.\n",
    "df[\"depreciation\"].fillna(np.mean(df[\"depreciation\"].astype(\"float\")))"
   ]
  },
  {
   "cell_type": "markdown",
   "metadata": {},
   "source": [
    "Why `.astype`? Because of the data type of `df[\"depreciation\"]`. Check it!"
   ]
  },
  {
   "cell_type": "code",
   "execution_count": 47,
   "metadata": {},
   "outputs": [
    {
     "data": {
      "text/plain": [
       "str"
      ]
     },
     "execution_count": 47,
     "metadata": {},
     "output_type": "execute_result"
    },
    {
     "data": {
      "application/javascript": [
       "\n",
       "            setTimeout(function() {\n",
       "                var nbb_cell_id = 47;\n",
       "                var nbb_unformatted_code = \"type(df.at[0, \\\"depreciation\\\"])\";\n",
       "                var nbb_formatted_code = \"type(df.at[0, \\\"depreciation\\\"])\";\n",
       "                var nbb_cells = Jupyter.notebook.get_cells();\n",
       "                for (var i = 0; i < nbb_cells.length; ++i) {\n",
       "                    if (nbb_cells[i].input_prompt_number == nbb_cell_id) {\n",
       "                        if (nbb_cells[i].get_text() == nbb_unformatted_code) {\n",
       "                             nbb_cells[i].set_text(nbb_formatted_code);\n",
       "                        }\n",
       "                        break;\n",
       "                    }\n",
       "                }\n",
       "            }, 500);\n",
       "            "
      ],
      "text/plain": [
       "<IPython.core.display.Javascript object>"
      ]
     },
     "metadata": {},
     "output_type": "display_data"
    }
   ],
   "source": [
    "type(df.at[0, \"depreciation\"])"
   ]
  },
  {
   "cell_type": "markdown",
   "metadata": {},
   "source": [
    "`.replace`: a more general way to replace the element in DataFrame."
   ]
  },
  {
   "cell_type": "code",
   "execution_count": 48,
   "metadata": {},
   "outputs": [
    {
     "name": "stdout",
     "output_type": "stream",
     "text": [
      "Average depreciation: 387.6\n"
     ]
    },
    {
     "data": {
      "text/html": [
       "<div>\n",
       "<style scoped>\n",
       "    .dataframe tbody tr th:only-of-type {\n",
       "        vertical-align: middle;\n",
       "    }\n",
       "\n",
       "    .dataframe tbody tr th {\n",
       "        vertical-align: top;\n",
       "    }\n",
       "\n",
       "    .dataframe thead th {\n",
       "        text-align: right;\n",
       "    }\n",
       "</style>\n",
       "<table border=\"1\" class=\"dataframe\">\n",
       "  <thead>\n",
       "    <tr style=\"text-align: right;\">\n",
       "      <th></th>\n",
       "      <th>name</th>\n",
       "      <th>datadate</th>\n",
       "      <th>asset</th>\n",
       "      <th>capitalstock</th>\n",
       "      <th>depreciation</th>\n",
       "      <th>revenue</th>\n",
       "      <th>cost</th>\n",
       "      <th>orders</th>\n",
       "    </tr>\n",
       "  </thead>\n",
       "  <tbody>\n",
       "    <tr>\n",
       "      <th>0</th>\n",
       "      <td>A</td>\n",
       "      <td>3/31/00</td>\n",
       "      <td>7007</td>\n",
       "      <td>723</td>\n",
       "      <td>409</td>\n",
       "      <td>1945</td>\n",
       "      <td>1375</td>\n",
       "      <td>2</td>\n",
       "    </tr>\n",
       "    <tr>\n",
       "      <th>1</th>\n",
       "      <td>A</td>\n",
       "      <td>6/30/00</td>\n",
       "      <td>6932</td>\n",
       "      <td>721</td>\n",
       "      <td>407</td>\n",
       "      <td>1825</td>\n",
       "      <td>1257</td>\n",
       "      <td>2</td>\n",
       "    </tr>\n",
       "    <tr>\n",
       "      <th>2</th>\n",
       "      <td>A</td>\n",
       "      <td>9/30/00</td>\n",
       "      <td>6803</td>\n",
       "      <td>700</td>\n",
       "      <td>387</td>\n",
       "      <td>1870</td>\n",
       "      <td>1385</td>\n",
       "      <td>NaN</td>\n",
       "    </tr>\n",
       "    <tr>\n",
       "      <th>3</th>\n",
       "      <td>A</td>\n",
       "      <td>12/31/00</td>\n",
       "      <td>5986</td>\n",
       "      <td>NaN</td>\n",
       "      <td>387.6</td>\n",
       "      <td>1007</td>\n",
       "      <td>1004</td>\n",
       "      <td>4</td>\n",
       "    </tr>\n",
       "    <tr>\n",
       "      <th>4</th>\n",
       "      <td>A</td>\n",
       "      <td>3/31/01</td>\n",
       "      <td>6130</td>\n",
       "      <td>721</td>\n",
       "      <td>390</td>\n",
       "      <td>1431</td>\n",
       "      <td>1024</td>\n",
       "      <td>5</td>\n",
       "    </tr>\n",
       "    <tr>\n",
       "      <th>5</th>\n",
       "      <td>A</td>\n",
       "      <td>6/30/01</td>\n",
       "      <td>6071</td>\n",
       "      <td>727</td>\n",
       "      <td>380</td>\n",
       "      <td>1475</td>\n",
       "      <td>1015</td>\n",
       "      <td>6</td>\n",
       "    </tr>\n",
       "    <tr>\n",
       "      <th>6</th>\n",
       "      <td>A</td>\n",
       "      <td>6/30/01</td>\n",
       "      <td>6071</td>\n",
       "      <td>727</td>\n",
       "      <td>380</td>\n",
       "      <td>1475</td>\n",
       "      <td>1015</td>\n",
       "      <td>6</td>\n",
       "    </tr>\n",
       "    <tr>\n",
       "      <th>7</th>\n",
       "      <td>A</td>\n",
       "      <td>9/30/01</td>\n",
       "      <td>6021</td>\n",
       "      <td>924</td>\n",
       "      <td>360</td>\n",
       "      <td>1450</td>\n",
       "      <td>983</td>\n",
       "      <td>7</td>\n",
       "    </tr>\n",
       "    <tr>\n",
       "      <th>8</th>\n",
       "      <td>A</td>\n",
       "      <td>12/31/01</td>\n",
       "      <td>6122</td>\n",
       "      <td>934</td>\n",
       "      <td>361</td>\n",
       "      <td>1375</td>\n",
       "      <td>925</td>\n",
       "      <td>8</td>\n",
       "    </tr>\n",
       "    <tr>\n",
       "      <th>9</th>\n",
       "      <td>A</td>\n",
       "      <td>12/31/01</td>\n",
       "      <td>6122</td>\n",
       "      <td>934</td>\n",
       "      <td>361</td>\n",
       "      <td>1375</td>\n",
       "      <td>925</td>\n",
       "      <td>8</td>\n",
       "    </tr>\n",
       "    <tr>\n",
       "      <th>10</th>\n",
       "      <td>A</td>\n",
       "      <td>3/31/02</td>\n",
       "      <td>6264</td>\n",
       "      <td>955</td>\n",
       "      <td>387.6</td>\n",
       "      <td>1495</td>\n",
       "      <td>1057</td>\n",
       "      <td>9</td>\n",
       "    </tr>\n",
       "    <tr>\n",
       "      <th>11</th>\n",
       "      <td>A</td>\n",
       "      <td>6/30/02</td>\n",
       "      <td>6293</td>\n",
       "      <td>970</td>\n",
       "      <td>387.6</td>\n",
       "      <td>1429</td>\n",
       "      <td>1010</td>\n",
       "      <td>NaN</td>\n",
       "    </tr>\n",
       "    <tr>\n",
       "      <th>12</th>\n",
       "      <td>A</td>\n",
       "      <td>9/30/02</td>\n",
       "      <td>6298</td>\n",
       "      <td>1057</td>\n",
       "      <td>387.6</td>\n",
       "      <td>1443</td>\n",
       "      <td>1029</td>\n",
       "      <td>9</td>\n",
       "    </tr>\n",
       "    <tr>\n",
       "      <th>13</th>\n",
       "      <td>A</td>\n",
       "      <td>12/31/02</td>\n",
       "      <td>6269</td>\n",
       "      <td>1046</td>\n",
       "      <td>441</td>\n",
       "      <td>1472</td>\n",
       "      <td>1035</td>\n",
       "      <td>9</td>\n",
       "    </tr>\n",
       "  </tbody>\n",
       "</table>\n",
       "</div>"
      ],
      "text/plain": [
       "   name  datadate asset capitalstock depreciation revenue  cost orders\n",
       "0     A   3/31/00  7007          723          409    1945  1375      2\n",
       "1     A   6/30/00  6932          721          407    1825  1257      2\n",
       "2     A   9/30/00  6803          700          387    1870  1385    NaN\n",
       "3     A  12/31/00  5986          NaN        387.6    1007  1004      4\n",
       "4     A   3/31/01  6130          721          390    1431  1024      5\n",
       "5     A   6/30/01  6071          727          380    1475  1015      6\n",
       "6     A   6/30/01  6071          727          380    1475  1015      6\n",
       "7     A   9/30/01  6021          924          360    1450   983      7\n",
       "8     A  12/31/01  6122          934          361    1375   925      8\n",
       "9     A  12/31/01  6122          934          361    1375   925      8\n",
       "10    A   3/31/02  6264          955        387.6    1495  1057      9\n",
       "11    A   6/30/02  6293          970        387.6    1429  1010    NaN\n",
       "12    A   9/30/02  6298         1057        387.6    1443  1029      9\n",
       "13    A  12/31/02  6269         1046          441    1472  1035      9"
      ]
     },
     "execution_count": 48,
     "metadata": {},
     "output_type": "execute_result"
    },
    {
     "data": {
      "application/javascript": [
       "\n",
       "            setTimeout(function() {\n",
       "                var nbb_cell_id = 48;\n",
       "                var nbb_unformatted_code = \"# Calculate the mean value for the 'depreciation' column\\navg_depreciation = df[\\\"depreciation\\\"].astype(\\\"float\\\").mean()\\nprint(\\\"Average depreciation:\\\", avg_depreciation)\\n\\n# Replace \\\"NaN\\\" by mean value\\ndf[\\\"depreciation\\\"].replace(np.nan, avg_depreciation, inplace=True)\\n# df[\\\"depreciation\\\"] =df[\\\"depreciation\\\"].replace(np.nan, avg_depreciation)\\n\\ndf\";\n",
       "                var nbb_formatted_code = \"# Calculate the mean value for the 'depreciation' column\\navg_depreciation = df[\\\"depreciation\\\"].astype(\\\"float\\\").mean()\\nprint(\\\"Average depreciation:\\\", avg_depreciation)\\n\\n# Replace \\\"NaN\\\" by mean value\\ndf[\\\"depreciation\\\"].replace(np.nan, avg_depreciation, inplace=True)\\n# df[\\\"depreciation\\\"] =df[\\\"depreciation\\\"].replace(np.nan, avg_depreciation)\\n\\ndf\";\n",
       "                var nbb_cells = Jupyter.notebook.get_cells();\n",
       "                for (var i = 0; i < nbb_cells.length; ++i) {\n",
       "                    if (nbb_cells[i].input_prompt_number == nbb_cell_id) {\n",
       "                        if (nbb_cells[i].get_text() == nbb_unformatted_code) {\n",
       "                             nbb_cells[i].set_text(nbb_formatted_code);\n",
       "                        }\n",
       "                        break;\n",
       "                    }\n",
       "                }\n",
       "            }, 500);\n",
       "            "
      ],
      "text/plain": [
       "<IPython.core.display.Javascript object>"
      ]
     },
     "metadata": {},
     "output_type": "display_data"
    }
   ],
   "source": [
    "# Calculate the mean value for the 'depreciation' column\n",
    "avg_depreciation = df[\"depreciation\"].astype(\"float\").mean()\n",
    "print(\"Average depreciation:\", avg_depreciation)\n",
    "\n",
    "# Replace \"NaN\" by mean value\n",
    "df[\"depreciation\"].replace(np.nan, avg_depreciation, inplace=True)\n",
    "# df[\"depreciation\"] =df[\"depreciation\"].replace(np.nan, avg_depreciation)\n",
    "\n",
    "df"
   ]
  },
  {
   "cell_type": "code",
   "execution_count": 49,
   "metadata": {},
   "outputs": [
    {
     "data": {
      "text/html": [
       "<div>\n",
       "<style scoped>\n",
       "    .dataframe tbody tr th:only-of-type {\n",
       "        vertical-align: middle;\n",
       "    }\n",
       "\n",
       "    .dataframe tbody tr th {\n",
       "        vertical-align: top;\n",
       "    }\n",
       "\n",
       "    .dataframe thead th {\n",
       "        text-align: right;\n",
       "    }\n",
       "</style>\n",
       "<table border=\"1\" class=\"dataframe\">\n",
       "  <thead>\n",
       "    <tr style=\"text-align: right;\">\n",
       "      <th></th>\n",
       "      <th>name</th>\n",
       "      <th>datadate</th>\n",
       "      <th>asset</th>\n",
       "      <th>capitalstock</th>\n",
       "      <th>depreciation</th>\n",
       "      <th>revenue</th>\n",
       "      <th>cost</th>\n",
       "      <th>orders</th>\n",
       "    </tr>\n",
       "  </thead>\n",
       "  <tbody>\n",
       "    <tr>\n",
       "      <th>0</th>\n",
       "      <td>A</td>\n",
       "      <td>3/31/00</td>\n",
       "      <td>7007</td>\n",
       "      <td>723</td>\n",
       "      <td>409</td>\n",
       "      <td>1945</td>\n",
       "      <td>1375</td>\n",
       "      <td>2.0</td>\n",
       "    </tr>\n",
       "    <tr>\n",
       "      <th>1</th>\n",
       "      <td>A</td>\n",
       "      <td>6/30/00</td>\n",
       "      <td>6932</td>\n",
       "      <td>721</td>\n",
       "      <td>407</td>\n",
       "      <td>1825</td>\n",
       "      <td>1257</td>\n",
       "      <td>2.0</td>\n",
       "    </tr>\n",
       "    <tr>\n",
       "      <th>2</th>\n",
       "      <td>A</td>\n",
       "      <td>9/30/00</td>\n",
       "      <td>6803</td>\n",
       "      <td>700</td>\n",
       "      <td>387</td>\n",
       "      <td>1870</td>\n",
       "      <td>1385</td>\n",
       "      <td>3.0</td>\n",
       "    </tr>\n",
       "    <tr>\n",
       "      <th>3</th>\n",
       "      <td>A</td>\n",
       "      <td>12/31/00</td>\n",
       "      <td>5986</td>\n",
       "      <td>NaN</td>\n",
       "      <td>387.6</td>\n",
       "      <td>1007</td>\n",
       "      <td>1004</td>\n",
       "      <td>4.0</td>\n",
       "    </tr>\n",
       "    <tr>\n",
       "      <th>4</th>\n",
       "      <td>A</td>\n",
       "      <td>3/31/01</td>\n",
       "      <td>6130</td>\n",
       "      <td>721</td>\n",
       "      <td>390</td>\n",
       "      <td>1431</td>\n",
       "      <td>1024</td>\n",
       "      <td>5.0</td>\n",
       "    </tr>\n",
       "    <tr>\n",
       "      <th>5</th>\n",
       "      <td>A</td>\n",
       "      <td>6/30/01</td>\n",
       "      <td>6071</td>\n",
       "      <td>727</td>\n",
       "      <td>380</td>\n",
       "      <td>1475</td>\n",
       "      <td>1015</td>\n",
       "      <td>6.0</td>\n",
       "    </tr>\n",
       "    <tr>\n",
       "      <th>6</th>\n",
       "      <td>A</td>\n",
       "      <td>6/30/01</td>\n",
       "      <td>6071</td>\n",
       "      <td>727</td>\n",
       "      <td>380</td>\n",
       "      <td>1475</td>\n",
       "      <td>1015</td>\n",
       "      <td>6.0</td>\n",
       "    </tr>\n",
       "    <tr>\n",
       "      <th>7</th>\n",
       "      <td>A</td>\n",
       "      <td>9/30/01</td>\n",
       "      <td>6021</td>\n",
       "      <td>924</td>\n",
       "      <td>360</td>\n",
       "      <td>1450</td>\n",
       "      <td>983</td>\n",
       "      <td>7.0</td>\n",
       "    </tr>\n",
       "    <tr>\n",
       "      <th>8</th>\n",
       "      <td>A</td>\n",
       "      <td>12/31/01</td>\n",
       "      <td>6122</td>\n",
       "      <td>934</td>\n",
       "      <td>361</td>\n",
       "      <td>1375</td>\n",
       "      <td>925</td>\n",
       "      <td>8.0</td>\n",
       "    </tr>\n",
       "    <tr>\n",
       "      <th>9</th>\n",
       "      <td>A</td>\n",
       "      <td>12/31/01</td>\n",
       "      <td>6122</td>\n",
       "      <td>934</td>\n",
       "      <td>361</td>\n",
       "      <td>1375</td>\n",
       "      <td>925</td>\n",
       "      <td>8.0</td>\n",
       "    </tr>\n",
       "    <tr>\n",
       "      <th>10</th>\n",
       "      <td>A</td>\n",
       "      <td>3/31/02</td>\n",
       "      <td>6264</td>\n",
       "      <td>955</td>\n",
       "      <td>387.6</td>\n",
       "      <td>1495</td>\n",
       "      <td>1057</td>\n",
       "      <td>9.0</td>\n",
       "    </tr>\n",
       "    <tr>\n",
       "      <th>11</th>\n",
       "      <td>A</td>\n",
       "      <td>6/30/02</td>\n",
       "      <td>6293</td>\n",
       "      <td>970</td>\n",
       "      <td>387.6</td>\n",
       "      <td>1429</td>\n",
       "      <td>1010</td>\n",
       "      <td>9.0</td>\n",
       "    </tr>\n",
       "    <tr>\n",
       "      <th>12</th>\n",
       "      <td>A</td>\n",
       "      <td>9/30/02</td>\n",
       "      <td>6298</td>\n",
       "      <td>1057</td>\n",
       "      <td>387.6</td>\n",
       "      <td>1443</td>\n",
       "      <td>1029</td>\n",
       "      <td>9.0</td>\n",
       "    </tr>\n",
       "    <tr>\n",
       "      <th>13</th>\n",
       "      <td>A</td>\n",
       "      <td>12/31/02</td>\n",
       "      <td>6269</td>\n",
       "      <td>1046</td>\n",
       "      <td>441</td>\n",
       "      <td>1472</td>\n",
       "      <td>1035</td>\n",
       "      <td>9.0</td>\n",
       "    </tr>\n",
       "  </tbody>\n",
       "</table>\n",
       "</div>"
      ],
      "text/plain": [
       "   name  datadate asset capitalstock depreciation revenue  cost  orders\n",
       "0     A   3/31/00  7007          723          409    1945  1375     2.0\n",
       "1     A   6/30/00  6932          721          407    1825  1257     2.0\n",
       "2     A   9/30/00  6803          700          387    1870  1385     3.0\n",
       "3     A  12/31/00  5986          NaN        387.6    1007  1004     4.0\n",
       "4     A   3/31/01  6130          721          390    1431  1024     5.0\n",
       "5     A   6/30/01  6071          727          380    1475  1015     6.0\n",
       "6     A   6/30/01  6071          727          380    1475  1015     6.0\n",
       "7     A   9/30/01  6021          924          360    1450   983     7.0\n",
       "8     A  12/31/01  6122          934          361    1375   925     8.0\n",
       "9     A  12/31/01  6122          934          361    1375   925     8.0\n",
       "10    A   3/31/02  6264          955        387.6    1495  1057     9.0\n",
       "11    A   6/30/02  6293          970        387.6    1429  1010     9.0\n",
       "12    A   9/30/02  6298         1057        387.6    1443  1029     9.0\n",
       "13    A  12/31/02  6269         1046          441    1472  1035     9.0"
      ]
     },
     "execution_count": 49,
     "metadata": {},
     "output_type": "execute_result"
    },
    {
     "data": {
      "application/javascript": [
       "\n",
       "            setTimeout(function() {\n",
       "                var nbb_cell_id = 49;\n",
       "                var nbb_unformatted_code = \"# Linear interpolate orders\\n# df[\\\"orders\\\"].astype(\\\"float\\\").interpolate(method=\\\"linear\\\", inplace=True) # doesn't work\\ndf[\\\"orders\\\"] = df[\\\"orders\\\"].astype(\\\"float\\\").interpolate(method=\\\"linear\\\")\\n\\ndf\";\n",
       "                var nbb_formatted_code = \"# Linear interpolate orders\\n# df[\\\"orders\\\"].astype(\\\"float\\\").interpolate(method=\\\"linear\\\", inplace=True) # doesn't work\\ndf[\\\"orders\\\"] = df[\\\"orders\\\"].astype(\\\"float\\\").interpolate(method=\\\"linear\\\")\\n\\ndf\";\n",
       "                var nbb_cells = Jupyter.notebook.get_cells();\n",
       "                for (var i = 0; i < nbb_cells.length; ++i) {\n",
       "                    if (nbb_cells[i].input_prompt_number == nbb_cell_id) {\n",
       "                        if (nbb_cells[i].get_text() == nbb_unformatted_code) {\n",
       "                             nbb_cells[i].set_text(nbb_formatted_code);\n",
       "                        }\n",
       "                        break;\n",
       "                    }\n",
       "                }\n",
       "            }, 500);\n",
       "            "
      ],
      "text/plain": [
       "<IPython.core.display.Javascript object>"
      ]
     },
     "metadata": {},
     "output_type": "display_data"
    }
   ],
   "source": [
    "# Linear interpolate orders\n",
    "# df[\"orders\"].astype(\"float\").interpolate(method=\"linear\", inplace=True) # doesn't work\n",
    "df[\"orders\"] = df[\"orders\"].astype(\"float\").interpolate(method=\"linear\")\n",
    "\n",
    "df"
   ]
  },
  {
   "cell_type": "markdown",
   "metadata": {},
   "source": [
    "### Removing Duplicates"
   ]
  },
  {
   "cell_type": "code",
   "execution_count": 50,
   "metadata": {},
   "outputs": [
    {
     "data": {
      "text/plain": [
       "0     False\n",
       "1     False\n",
       "2     False\n",
       "3     False\n",
       "4     False\n",
       "5     False\n",
       "6      True\n",
       "7     False\n",
       "8     False\n",
       "9      True\n",
       "10    False\n",
       "11    False\n",
       "12    False\n",
       "13    False\n",
       "dtype: bool"
      ]
     },
     "execution_count": 50,
     "metadata": {},
     "output_type": "execute_result"
    },
    {
     "data": {
      "application/javascript": [
       "\n",
       "            setTimeout(function() {\n",
       "                var nbb_cell_id = 50;\n",
       "                var nbb_unformatted_code = \"df.duplicated()\";\n",
       "                var nbb_formatted_code = \"df.duplicated()\";\n",
       "                var nbb_cells = Jupyter.notebook.get_cells();\n",
       "                for (var i = 0; i < nbb_cells.length; ++i) {\n",
       "                    if (nbb_cells[i].input_prompt_number == nbb_cell_id) {\n",
       "                        if (nbb_cells[i].get_text() == nbb_unformatted_code) {\n",
       "                             nbb_cells[i].set_text(nbb_formatted_code);\n",
       "                        }\n",
       "                        break;\n",
       "                    }\n",
       "                }\n",
       "            }, 500);\n",
       "            "
      ],
      "text/plain": [
       "<IPython.core.display.Javascript object>"
      ]
     },
     "metadata": {},
     "output_type": "display_data"
    }
   ],
   "source": [
    "df.duplicated()"
   ]
  },
  {
   "cell_type": "code",
   "execution_count": 51,
   "metadata": {},
   "outputs": [
    {
     "data": {
      "application/javascript": [
       "\n",
       "            setTimeout(function() {\n",
       "                var nbb_cell_id = 51;\n",
       "                var nbb_unformatted_code = \"df = df.drop_duplicates()\";\n",
       "                var nbb_formatted_code = \"df = df.drop_duplicates()\";\n",
       "                var nbb_cells = Jupyter.notebook.get_cells();\n",
       "                for (var i = 0; i < nbb_cells.length; ++i) {\n",
       "                    if (nbb_cells[i].input_prompt_number == nbb_cell_id) {\n",
       "                        if (nbb_cells[i].get_text() == nbb_unformatted_code) {\n",
       "                             nbb_cells[i].set_text(nbb_formatted_code);\n",
       "                        }\n",
       "                        break;\n",
       "                    }\n",
       "                }\n",
       "            }, 500);\n",
       "            "
      ],
      "text/plain": [
       "<IPython.core.display.Javascript object>"
      ]
     },
     "metadata": {},
     "output_type": "display_data"
    }
   ],
   "source": [
    "df = df.drop_duplicates()"
   ]
  },
  {
   "cell_type": "code",
   "execution_count": 52,
   "metadata": {},
   "outputs": [
    {
     "data": {
      "text/html": [
       "<div>\n",
       "<style scoped>\n",
       "    .dataframe tbody tr th:only-of-type {\n",
       "        vertical-align: middle;\n",
       "    }\n",
       "\n",
       "    .dataframe tbody tr th {\n",
       "        vertical-align: top;\n",
       "    }\n",
       "\n",
       "    .dataframe thead th {\n",
       "        text-align: right;\n",
       "    }\n",
       "</style>\n",
       "<table border=\"1\" class=\"dataframe\">\n",
       "  <thead>\n",
       "    <tr style=\"text-align: right;\">\n",
       "      <th></th>\n",
       "      <th>name</th>\n",
       "      <th>datadate</th>\n",
       "      <th>asset</th>\n",
       "      <th>capitalstock</th>\n",
       "      <th>depreciation</th>\n",
       "      <th>revenue</th>\n",
       "      <th>cost</th>\n",
       "      <th>orders</th>\n",
       "    </tr>\n",
       "  </thead>\n",
       "  <tbody>\n",
       "    <tr>\n",
       "      <th>0</th>\n",
       "      <td>A</td>\n",
       "      <td>3/31/00</td>\n",
       "      <td>7007</td>\n",
       "      <td>723</td>\n",
       "      <td>409</td>\n",
       "      <td>1945</td>\n",
       "      <td>1375</td>\n",
       "      <td>2.0</td>\n",
       "    </tr>\n",
       "    <tr>\n",
       "      <th>1</th>\n",
       "      <td>A</td>\n",
       "      <td>6/30/00</td>\n",
       "      <td>6932</td>\n",
       "      <td>721</td>\n",
       "      <td>407</td>\n",
       "      <td>1825</td>\n",
       "      <td>1257</td>\n",
       "      <td>2.0</td>\n",
       "    </tr>\n",
       "    <tr>\n",
       "      <th>2</th>\n",
       "      <td>A</td>\n",
       "      <td>9/30/00</td>\n",
       "      <td>6803</td>\n",
       "      <td>700</td>\n",
       "      <td>387</td>\n",
       "      <td>1870</td>\n",
       "      <td>1385</td>\n",
       "      <td>3.0</td>\n",
       "    </tr>\n",
       "    <tr>\n",
       "      <th>3</th>\n",
       "      <td>A</td>\n",
       "      <td>12/31/00</td>\n",
       "      <td>5986</td>\n",
       "      <td>NaN</td>\n",
       "      <td>387.6</td>\n",
       "      <td>1007</td>\n",
       "      <td>1004</td>\n",
       "      <td>4.0</td>\n",
       "    </tr>\n",
       "    <tr>\n",
       "      <th>4</th>\n",
       "      <td>A</td>\n",
       "      <td>3/31/01</td>\n",
       "      <td>6130</td>\n",
       "      <td>721</td>\n",
       "      <td>390</td>\n",
       "      <td>1431</td>\n",
       "      <td>1024</td>\n",
       "      <td>5.0</td>\n",
       "    </tr>\n",
       "    <tr>\n",
       "      <th>5</th>\n",
       "      <td>A</td>\n",
       "      <td>6/30/01</td>\n",
       "      <td>6071</td>\n",
       "      <td>727</td>\n",
       "      <td>380</td>\n",
       "      <td>1475</td>\n",
       "      <td>1015</td>\n",
       "      <td>6.0</td>\n",
       "    </tr>\n",
       "    <tr>\n",
       "      <th>6</th>\n",
       "      <td>A</td>\n",
       "      <td>9/30/01</td>\n",
       "      <td>6021</td>\n",
       "      <td>924</td>\n",
       "      <td>360</td>\n",
       "      <td>1450</td>\n",
       "      <td>983</td>\n",
       "      <td>7.0</td>\n",
       "    </tr>\n",
       "    <tr>\n",
       "      <th>7</th>\n",
       "      <td>A</td>\n",
       "      <td>12/31/01</td>\n",
       "      <td>6122</td>\n",
       "      <td>934</td>\n",
       "      <td>361</td>\n",
       "      <td>1375</td>\n",
       "      <td>925</td>\n",
       "      <td>8.0</td>\n",
       "    </tr>\n",
       "    <tr>\n",
       "      <th>8</th>\n",
       "      <td>A</td>\n",
       "      <td>3/31/02</td>\n",
       "      <td>6264</td>\n",
       "      <td>955</td>\n",
       "      <td>387.6</td>\n",
       "      <td>1495</td>\n",
       "      <td>1057</td>\n",
       "      <td>9.0</td>\n",
       "    </tr>\n",
       "    <tr>\n",
       "      <th>9</th>\n",
       "      <td>A</td>\n",
       "      <td>6/30/02</td>\n",
       "      <td>6293</td>\n",
       "      <td>970</td>\n",
       "      <td>387.6</td>\n",
       "      <td>1429</td>\n",
       "      <td>1010</td>\n",
       "      <td>9.0</td>\n",
       "    </tr>\n",
       "    <tr>\n",
       "      <th>10</th>\n",
       "      <td>A</td>\n",
       "      <td>9/30/02</td>\n",
       "      <td>6298</td>\n",
       "      <td>1057</td>\n",
       "      <td>387.6</td>\n",
       "      <td>1443</td>\n",
       "      <td>1029</td>\n",
       "      <td>9.0</td>\n",
       "    </tr>\n",
       "    <tr>\n",
       "      <th>11</th>\n",
       "      <td>A</td>\n",
       "      <td>12/31/02</td>\n",
       "      <td>6269</td>\n",
       "      <td>1046</td>\n",
       "      <td>441</td>\n",
       "      <td>1472</td>\n",
       "      <td>1035</td>\n",
       "      <td>9.0</td>\n",
       "    </tr>\n",
       "  </tbody>\n",
       "</table>\n",
       "</div>"
      ],
      "text/plain": [
       "   name  datadate asset capitalstock depreciation revenue  cost  orders\n",
       "0     A   3/31/00  7007          723          409    1945  1375     2.0\n",
       "1     A   6/30/00  6932          721          407    1825  1257     2.0\n",
       "2     A   9/30/00  6803          700          387    1870  1385     3.0\n",
       "3     A  12/31/00  5986          NaN        387.6    1007  1004     4.0\n",
       "4     A   3/31/01  6130          721          390    1431  1024     5.0\n",
       "5     A   6/30/01  6071          727          380    1475  1015     6.0\n",
       "6     A   9/30/01  6021          924          360    1450   983     7.0\n",
       "7     A  12/31/01  6122          934          361    1375   925     8.0\n",
       "8     A   3/31/02  6264          955        387.6    1495  1057     9.0\n",
       "9     A   6/30/02  6293          970        387.6    1429  1010     9.0\n",
       "10    A   9/30/02  6298         1057        387.6    1443  1029     9.0\n",
       "11    A  12/31/02  6269         1046          441    1472  1035     9.0"
      ]
     },
     "execution_count": 52,
     "metadata": {},
     "output_type": "execute_result"
    },
    {
     "data": {
      "application/javascript": [
       "\n",
       "            setTimeout(function() {\n",
       "                var nbb_cell_id = 52;\n",
       "                var nbb_unformatted_code = \"df = df.reset_index(drop=True)\\n\\ndf\";\n",
       "                var nbb_formatted_code = \"df = df.reset_index(drop=True)\\n\\ndf\";\n",
       "                var nbb_cells = Jupyter.notebook.get_cells();\n",
       "                for (var i = 0; i < nbb_cells.length; ++i) {\n",
       "                    if (nbb_cells[i].input_prompt_number == nbb_cell_id) {\n",
       "                        if (nbb_cells[i].get_text() == nbb_unformatted_code) {\n",
       "                             nbb_cells[i].set_text(nbb_formatted_code);\n",
       "                        }\n",
       "                        break;\n",
       "                    }\n",
       "                }\n",
       "            }, 500);\n",
       "            "
      ],
      "text/plain": [
       "<IPython.core.display.Javascript object>"
      ]
     },
     "metadata": {},
     "output_type": "display_data"
    }
   ],
   "source": [
    "df = df.reset_index(drop=True)\n",
    "\n",
    "df"
   ]
  },
  {
   "cell_type": "markdown",
   "metadata": {},
   "source": [
    "<h3 id=\"correct_data_format\">Correct data format</h3>\n",
    "\n",
    "\n",
    "<p>One of the last step is checking and making sure that all data is in the correct format (int, float, text or other).</p>\n",
    "\n",
    "In Pandas, we use \n",
    "\n",
    "<p><b>.dtype()</b> to check the data type</p>\n",
    "<p><b>.astype()</b> to change the data type</p>\n"
   ]
  },
  {
   "cell_type": "code",
   "execution_count": 53,
   "metadata": {},
   "outputs": [
    {
     "data": {
      "text/plain": [
       "name             object\n",
       "datadate         object\n",
       "asset            object\n",
       "capitalstock     object\n",
       "depreciation     object\n",
       "revenue          object\n",
       "cost             object\n",
       "orders          float64\n",
       "dtype: object"
      ]
     },
     "execution_count": 53,
     "metadata": {},
     "output_type": "execute_result"
    },
    {
     "data": {
      "application/javascript": [
       "\n",
       "            setTimeout(function() {\n",
       "                var nbb_cell_id = 53;\n",
       "                var nbb_unformatted_code = \"df.dtypes\";\n",
       "                var nbb_formatted_code = \"df.dtypes\";\n",
       "                var nbb_cells = Jupyter.notebook.get_cells();\n",
       "                for (var i = 0; i < nbb_cells.length; ++i) {\n",
       "                    if (nbb_cells[i].input_prompt_number == nbb_cell_id) {\n",
       "                        if (nbb_cells[i].get_text() == nbb_unformatted_code) {\n",
       "                             nbb_cells[i].set_text(nbb_formatted_code);\n",
       "                        }\n",
       "                        break;\n",
       "                    }\n",
       "                }\n",
       "            }, 500);\n",
       "            "
      ],
      "text/plain": [
       "<IPython.core.display.Javascript object>"
      ]
     },
     "metadata": {},
     "output_type": "display_data"
    }
   ],
   "source": [
    "df.dtypes"
   ]
  },
  {
   "cell_type": "code",
   "execution_count": 54,
   "metadata": {},
   "outputs": [
    {
     "data": {
      "text/html": [
       "<div>\n",
       "<style scoped>\n",
       "    .dataframe tbody tr th:only-of-type {\n",
       "        vertical-align: middle;\n",
       "    }\n",
       "\n",
       "    .dataframe tbody tr th {\n",
       "        vertical-align: top;\n",
       "    }\n",
       "\n",
       "    .dataframe thead th {\n",
       "        text-align: right;\n",
       "    }\n",
       "</style>\n",
       "<table border=\"1\" class=\"dataframe\">\n",
       "  <thead>\n",
       "    <tr style=\"text-align: right;\">\n",
       "      <th></th>\n",
       "      <th>name</th>\n",
       "      <th>datadate</th>\n",
       "      <th>asset</th>\n",
       "      <th>capitalstock</th>\n",
       "      <th>depreciation</th>\n",
       "      <th>revenue</th>\n",
       "      <th>cost</th>\n",
       "      <th>orders</th>\n",
       "    </tr>\n",
       "  </thead>\n",
       "  <tbody>\n",
       "    <tr>\n",
       "      <th>0</th>\n",
       "      <td>A</td>\n",
       "      <td>3/31/00</td>\n",
       "      <td>7007</td>\n",
       "      <td>723</td>\n",
       "      <td>409</td>\n",
       "      <td>1945</td>\n",
       "      <td>1375</td>\n",
       "      <td>2.0</td>\n",
       "    </tr>\n",
       "    <tr>\n",
       "      <th>1</th>\n",
       "      <td>A</td>\n",
       "      <td>6/30/00</td>\n",
       "      <td>6932</td>\n",
       "      <td>721</td>\n",
       "      <td>407</td>\n",
       "      <td>1825</td>\n",
       "      <td>1257</td>\n",
       "      <td>2.0</td>\n",
       "    </tr>\n",
       "    <tr>\n",
       "      <th>2</th>\n",
       "      <td>A</td>\n",
       "      <td>9/30/00</td>\n",
       "      <td>6803</td>\n",
       "      <td>700</td>\n",
       "      <td>387</td>\n",
       "      <td>1870</td>\n",
       "      <td>1385</td>\n",
       "      <td>3.0</td>\n",
       "    </tr>\n",
       "    <tr>\n",
       "      <th>3</th>\n",
       "      <td>A</td>\n",
       "      <td>12/31/00</td>\n",
       "      <td>5986</td>\n",
       "      <td>NaN</td>\n",
       "      <td>387.6</td>\n",
       "      <td>1007</td>\n",
       "      <td>1004</td>\n",
       "      <td>4.0</td>\n",
       "    </tr>\n",
       "    <tr>\n",
       "      <th>4</th>\n",
       "      <td>A</td>\n",
       "      <td>3/31/01</td>\n",
       "      <td>6130</td>\n",
       "      <td>721</td>\n",
       "      <td>390</td>\n",
       "      <td>1431</td>\n",
       "      <td>1024</td>\n",
       "      <td>5.0</td>\n",
       "    </tr>\n",
       "    <tr>\n",
       "      <th>5</th>\n",
       "      <td>A</td>\n",
       "      <td>6/30/01</td>\n",
       "      <td>6071</td>\n",
       "      <td>727</td>\n",
       "      <td>380</td>\n",
       "      <td>1475</td>\n",
       "      <td>1015</td>\n",
       "      <td>6.0</td>\n",
       "    </tr>\n",
       "    <tr>\n",
       "      <th>6</th>\n",
       "      <td>A</td>\n",
       "      <td>9/30/01</td>\n",
       "      <td>6021</td>\n",
       "      <td>924</td>\n",
       "      <td>360</td>\n",
       "      <td>1450</td>\n",
       "      <td>983</td>\n",
       "      <td>7.0</td>\n",
       "    </tr>\n",
       "    <tr>\n",
       "      <th>7</th>\n",
       "      <td>A</td>\n",
       "      <td>12/31/01</td>\n",
       "      <td>6122</td>\n",
       "      <td>934</td>\n",
       "      <td>361</td>\n",
       "      <td>1375</td>\n",
       "      <td>925</td>\n",
       "      <td>8.0</td>\n",
       "    </tr>\n",
       "    <tr>\n",
       "      <th>8</th>\n",
       "      <td>A</td>\n",
       "      <td>3/31/02</td>\n",
       "      <td>6264</td>\n",
       "      <td>955</td>\n",
       "      <td>387.6</td>\n",
       "      <td>1495</td>\n",
       "      <td>1057</td>\n",
       "      <td>9.0</td>\n",
       "    </tr>\n",
       "    <tr>\n",
       "      <th>9</th>\n",
       "      <td>A</td>\n",
       "      <td>6/30/02</td>\n",
       "      <td>6293</td>\n",
       "      <td>970</td>\n",
       "      <td>387.6</td>\n",
       "      <td>1429</td>\n",
       "      <td>1010</td>\n",
       "      <td>9.0</td>\n",
       "    </tr>\n",
       "    <tr>\n",
       "      <th>10</th>\n",
       "      <td>A</td>\n",
       "      <td>9/30/02</td>\n",
       "      <td>6298</td>\n",
       "      <td>1057</td>\n",
       "      <td>387.6</td>\n",
       "      <td>1443</td>\n",
       "      <td>1029</td>\n",
       "      <td>9.0</td>\n",
       "    </tr>\n",
       "    <tr>\n",
       "      <th>11</th>\n",
       "      <td>A</td>\n",
       "      <td>12/31/02</td>\n",
       "      <td>6269</td>\n",
       "      <td>1046</td>\n",
       "      <td>441</td>\n",
       "      <td>1472</td>\n",
       "      <td>1035</td>\n",
       "      <td>9.0</td>\n",
       "    </tr>\n",
       "  </tbody>\n",
       "</table>\n",
       "</div>"
      ],
      "text/plain": [
       "   name  datadate asset capitalstock depreciation revenue  cost  orders\n",
       "0     A   3/31/00  7007          723          409    1945  1375     2.0\n",
       "1     A   6/30/00  6932          721          407    1825  1257     2.0\n",
       "2     A   9/30/00  6803          700          387    1870  1385     3.0\n",
       "3     A  12/31/00  5986          NaN        387.6    1007  1004     4.0\n",
       "4     A   3/31/01  6130          721          390    1431  1024     5.0\n",
       "5     A   6/30/01  6071          727          380    1475  1015     6.0\n",
       "6     A   9/30/01  6021          924          360    1450   983     7.0\n",
       "7     A  12/31/01  6122          934          361    1375   925     8.0\n",
       "8     A   3/31/02  6264          955        387.6    1495  1057     9.0\n",
       "9     A   6/30/02  6293          970        387.6    1429  1010     9.0\n",
       "10    A   9/30/02  6298         1057        387.6    1443  1029     9.0\n",
       "11    A  12/31/02  6269         1046          441    1472  1035     9.0"
      ]
     },
     "execution_count": 54,
     "metadata": {},
     "output_type": "execute_result"
    },
    {
     "data": {
      "application/javascript": [
       "\n",
       "            setTimeout(function() {\n",
       "                var nbb_cell_id = 54;\n",
       "                var nbb_unformatted_code = \"df\";\n",
       "                var nbb_formatted_code = \"df\";\n",
       "                var nbb_cells = Jupyter.notebook.get_cells();\n",
       "                for (var i = 0; i < nbb_cells.length; ++i) {\n",
       "                    if (nbb_cells[i].input_prompt_number == nbb_cell_id) {\n",
       "                        if (nbb_cells[i].get_text() == nbb_unformatted_code) {\n",
       "                             nbb_cells[i].set_text(nbb_formatted_code);\n",
       "                        }\n",
       "                        break;\n",
       "                    }\n",
       "                }\n",
       "            }, 500);\n",
       "            "
      ],
      "text/plain": [
       "<IPython.core.display.Javascript object>"
      ]
     },
     "metadata": {},
     "output_type": "display_data"
    }
   ],
   "source": [
    "df"
   ]
  },
  {
   "cell_type": "code",
   "execution_count": 55,
   "metadata": {},
   "outputs": [
    {
     "data": {
      "text/plain": [
       "str"
      ]
     },
     "execution_count": 55,
     "metadata": {},
     "output_type": "execute_result"
    },
    {
     "data": {
      "application/javascript": [
       "\n",
       "            setTimeout(function() {\n",
       "                var nbb_cell_id = 55;\n",
       "                var nbb_unformatted_code = \"type(df.at[2, \\\"depreciation\\\"])\";\n",
       "                var nbb_formatted_code = \"type(df.at[2, \\\"depreciation\\\"])\";\n",
       "                var nbb_cells = Jupyter.notebook.get_cells();\n",
       "                for (var i = 0; i < nbb_cells.length; ++i) {\n",
       "                    if (nbb_cells[i].input_prompt_number == nbb_cell_id) {\n",
       "                        if (nbb_cells[i].get_text() == nbb_unformatted_code) {\n",
       "                             nbb_cells[i].set_text(nbb_formatted_code);\n",
       "                        }\n",
       "                        break;\n",
       "                    }\n",
       "                }\n",
       "            }, 500);\n",
       "            "
      ],
      "text/plain": [
       "<IPython.core.display.Javascript object>"
      ]
     },
     "metadata": {},
     "output_type": "display_data"
    }
   ],
   "source": [
    "type(df.at[2, \"depreciation\"])"
   ]
  },
  {
   "cell_type": "code",
   "execution_count": 56,
   "metadata": {},
   "outputs": [
    {
     "data": {
      "text/plain": [
       "float"
      ]
     },
     "execution_count": 56,
     "metadata": {},
     "output_type": "execute_result"
    },
    {
     "data": {
      "application/javascript": [
       "\n",
       "            setTimeout(function() {\n",
       "                var nbb_cell_id = 56;\n",
       "                var nbb_unformatted_code = \"type(df.at[3, \\\"depreciation\\\"])\";\n",
       "                var nbb_formatted_code = \"type(df.at[3, \\\"depreciation\\\"])\";\n",
       "                var nbb_cells = Jupyter.notebook.get_cells();\n",
       "                for (var i = 0; i < nbb_cells.length; ++i) {\n",
       "                    if (nbb_cells[i].input_prompt_number == nbb_cell_id) {\n",
       "                        if (nbb_cells[i].get_text() == nbb_unformatted_code) {\n",
       "                             nbb_cells[i].set_text(nbb_formatted_code);\n",
       "                        }\n",
       "                        break;\n",
       "                    }\n",
       "                }\n",
       "            }, 500);\n",
       "            "
      ],
      "text/plain": [
       "<IPython.core.display.Javascript object>"
      ]
     },
     "metadata": {},
     "output_type": "display_data"
    }
   ],
   "source": [
    "type(df.at[3, \"depreciation\"])"
   ]
  },
  {
   "cell_type": "markdown",
   "metadata": {},
   "source": [
    "As we can see above, some columns are not of the correct data type. Numerical variables should have type 'float' or 'int', and variables with strings such as name should have type 'object'. For example, 'asset' and 'orders' variables are numerical values, so we should expect them to be of the type 'float' and 'int'; however, they are shown as type 'object' and 'float64'. We have to convert data types into a proper format for each column using the \"astype()\" method."
   ]
  },
  {
   "cell_type": "markdown",
   "metadata": {},
   "source": [
    "#### Convert data types to proper format"
   ]
  },
  {
   "cell_type": "code",
   "execution_count": 57,
   "metadata": {},
   "outputs": [
    {
     "data": {
      "application/javascript": [
       "\n",
       "            setTimeout(function() {\n",
       "                var nbb_cell_id = 57;\n",
       "                var nbb_unformatted_code = \"df[[\\\"asset\\\", \\\"capitalstock\\\"]] = df[[\\\"asset\\\", \\\"capitalstock\\\"]].astype(\\\"float\\\")\\ndf[[\\\"orders\\\"]] = df[[\\\"orders\\\"]].astype(\\\"int\\\")\";\n",
       "                var nbb_formatted_code = \"df[[\\\"asset\\\", \\\"capitalstock\\\"]] = df[[\\\"asset\\\", \\\"capitalstock\\\"]].astype(\\\"float\\\")\\ndf[[\\\"orders\\\"]] = df[[\\\"orders\\\"]].astype(\\\"int\\\")\";\n",
       "                var nbb_cells = Jupyter.notebook.get_cells();\n",
       "                for (var i = 0; i < nbb_cells.length; ++i) {\n",
       "                    if (nbb_cells[i].input_prompt_number == nbb_cell_id) {\n",
       "                        if (nbb_cells[i].get_text() == nbb_unformatted_code) {\n",
       "                             nbb_cells[i].set_text(nbb_formatted_code);\n",
       "                        }\n",
       "                        break;\n",
       "                    }\n",
       "                }\n",
       "            }, 500);\n",
       "            "
      ],
      "text/plain": [
       "<IPython.core.display.Javascript object>"
      ]
     },
     "metadata": {},
     "output_type": "display_data"
    }
   ],
   "source": [
    "df[[\"asset\", \"capitalstock\"]] = df[[\"asset\", \"capitalstock\"]].astype(\"float\")\n",
    "df[[\"orders\"]] = df[[\"orders\"]].astype(\"int\")"
   ]
  },
  {
   "cell_type": "code",
   "execution_count": 58,
   "metadata": {},
   "outputs": [
    {
     "data": {
      "text/html": [
       "<div>\n",
       "<style scoped>\n",
       "    .dataframe tbody tr th:only-of-type {\n",
       "        vertical-align: middle;\n",
       "    }\n",
       "\n",
       "    .dataframe tbody tr th {\n",
       "        vertical-align: top;\n",
       "    }\n",
       "\n",
       "    .dataframe thead th {\n",
       "        text-align: right;\n",
       "    }\n",
       "</style>\n",
       "<table border=\"1\" class=\"dataframe\">\n",
       "  <thead>\n",
       "    <tr style=\"text-align: right;\">\n",
       "      <th></th>\n",
       "      <th>name</th>\n",
       "      <th>datadate</th>\n",
       "      <th>asset</th>\n",
       "      <th>capitalstock</th>\n",
       "      <th>depreciation</th>\n",
       "      <th>revenue</th>\n",
       "      <th>cost</th>\n",
       "      <th>orders</th>\n",
       "    </tr>\n",
       "  </thead>\n",
       "  <tbody>\n",
       "    <tr>\n",
       "      <th>0</th>\n",
       "      <td>A</td>\n",
       "      <td>3/31/00</td>\n",
       "      <td>7007</td>\n",
       "      <td>723.0</td>\n",
       "      <td>409</td>\n",
       "      <td>1945</td>\n",
       "      <td>1375</td>\n",
       "      <td>2</td>\n",
       "    </tr>\n",
       "    <tr>\n",
       "      <th>1</th>\n",
       "      <td>A</td>\n",
       "      <td>6/30/00</td>\n",
       "      <td>6932</td>\n",
       "      <td>721.0</td>\n",
       "      <td>407</td>\n",
       "      <td>1825</td>\n",
       "      <td>1257</td>\n",
       "      <td>2</td>\n",
       "    </tr>\n",
       "    <tr>\n",
       "      <th>2</th>\n",
       "      <td>A</td>\n",
       "      <td>9/30/00</td>\n",
       "      <td>6803</td>\n",
       "      <td>700.0</td>\n",
       "      <td>387</td>\n",
       "      <td>1870</td>\n",
       "      <td>1385</td>\n",
       "      <td>3</td>\n",
       "    </tr>\n",
       "    <tr>\n",
       "      <th>3</th>\n",
       "      <td>A</td>\n",
       "      <td>12/31/00</td>\n",
       "      <td>5986</td>\n",
       "      <td>NaN</td>\n",
       "      <td>387</td>\n",
       "      <td>1007</td>\n",
       "      <td>1004</td>\n",
       "      <td>4</td>\n",
       "    </tr>\n",
       "    <tr>\n",
       "      <th>4</th>\n",
       "      <td>A</td>\n",
       "      <td>3/31/01</td>\n",
       "      <td>6130</td>\n",
       "      <td>721.0</td>\n",
       "      <td>390</td>\n",
       "      <td>1431</td>\n",
       "      <td>1024</td>\n",
       "      <td>5</td>\n",
       "    </tr>\n",
       "    <tr>\n",
       "      <th>5</th>\n",
       "      <td>A</td>\n",
       "      <td>6/30/01</td>\n",
       "      <td>6071</td>\n",
       "      <td>727.0</td>\n",
       "      <td>380</td>\n",
       "      <td>1475</td>\n",
       "      <td>1015</td>\n",
       "      <td>6</td>\n",
       "    </tr>\n",
       "    <tr>\n",
       "      <th>6</th>\n",
       "      <td>A</td>\n",
       "      <td>9/30/01</td>\n",
       "      <td>6021</td>\n",
       "      <td>924.0</td>\n",
       "      <td>360</td>\n",
       "      <td>1450</td>\n",
       "      <td>983</td>\n",
       "      <td>7</td>\n",
       "    </tr>\n",
       "    <tr>\n",
       "      <th>7</th>\n",
       "      <td>A</td>\n",
       "      <td>12/31/01</td>\n",
       "      <td>6122</td>\n",
       "      <td>934.0</td>\n",
       "      <td>361</td>\n",
       "      <td>1375</td>\n",
       "      <td>925</td>\n",
       "      <td>8</td>\n",
       "    </tr>\n",
       "    <tr>\n",
       "      <th>8</th>\n",
       "      <td>A</td>\n",
       "      <td>3/31/02</td>\n",
       "      <td>6264</td>\n",
       "      <td>955.0</td>\n",
       "      <td>387</td>\n",
       "      <td>1495</td>\n",
       "      <td>1057</td>\n",
       "      <td>9</td>\n",
       "    </tr>\n",
       "    <tr>\n",
       "      <th>9</th>\n",
       "      <td>A</td>\n",
       "      <td>6/30/02</td>\n",
       "      <td>6293</td>\n",
       "      <td>970.0</td>\n",
       "      <td>387</td>\n",
       "      <td>1429</td>\n",
       "      <td>1010</td>\n",
       "      <td>9</td>\n",
       "    </tr>\n",
       "    <tr>\n",
       "      <th>10</th>\n",
       "      <td>A</td>\n",
       "      <td>9/30/02</td>\n",
       "      <td>6298</td>\n",
       "      <td>1057.0</td>\n",
       "      <td>387</td>\n",
       "      <td>1443</td>\n",
       "      <td>1029</td>\n",
       "      <td>9</td>\n",
       "    </tr>\n",
       "    <tr>\n",
       "      <th>11</th>\n",
       "      <td>A</td>\n",
       "      <td>12/31/02</td>\n",
       "      <td>6269</td>\n",
       "      <td>1046.0</td>\n",
       "      <td>441</td>\n",
       "      <td>1472</td>\n",
       "      <td>1035</td>\n",
       "      <td>9</td>\n",
       "    </tr>\n",
       "  </tbody>\n",
       "</table>\n",
       "</div>"
      ],
      "text/plain": [
       "   name  datadate  asset  capitalstock  depreciation revenue  cost  orders\n",
       "0     A   3/31/00   7007         723.0           409    1945  1375       2\n",
       "1     A   6/30/00   6932         721.0           407    1825  1257       2\n",
       "2     A   9/30/00   6803         700.0           387    1870  1385       3\n",
       "3     A  12/31/00   5986           NaN           387    1007  1004       4\n",
       "4     A   3/31/01   6130         721.0           390    1431  1024       5\n",
       "5     A   6/30/01   6071         727.0           380    1475  1015       6\n",
       "6     A   9/30/01   6021         924.0           360    1450   983       7\n",
       "7     A  12/31/01   6122         934.0           361    1375   925       8\n",
       "8     A   3/31/02   6264         955.0           387    1495  1057       9\n",
       "9     A   6/30/02   6293         970.0           387    1429  1010       9\n",
       "10    A   9/30/02   6298        1057.0           387    1443  1029       9\n",
       "11    A  12/31/02   6269        1046.0           441    1472  1035       9"
      ]
     },
     "execution_count": 58,
     "metadata": {},
     "output_type": "execute_result"
    },
    {
     "data": {
      "application/javascript": [
       "\n",
       "            setTimeout(function() {\n",
       "                var nbb_cell_id = 58;\n",
       "                var nbb_unformatted_code = \"df.astype({\\\"asset\\\": \\\"int\\\", \\\"depreciation\\\": \\\"int\\\"})\";\n",
       "                var nbb_formatted_code = \"df.astype({\\\"asset\\\": \\\"int\\\", \\\"depreciation\\\": \\\"int\\\"})\";\n",
       "                var nbb_cells = Jupyter.notebook.get_cells();\n",
       "                for (var i = 0; i < nbb_cells.length; ++i) {\n",
       "                    if (nbb_cells[i].input_prompt_number == nbb_cell_id) {\n",
       "                        if (nbb_cells[i].get_text() == nbb_unformatted_code) {\n",
       "                             nbb_cells[i].set_text(nbb_formatted_code);\n",
       "                        }\n",
       "                        break;\n",
       "                    }\n",
       "                }\n",
       "            }, 500);\n",
       "            "
      ],
      "text/plain": [
       "<IPython.core.display.Javascript object>"
      ]
     },
     "metadata": {},
     "output_type": "display_data"
    }
   ],
   "source": [
    "df.astype({\"asset\": \"int\", \"depreciation\": \"int\"})"
   ]
  },
  {
   "cell_type": "code",
   "execution_count": 59,
   "metadata": {},
   "outputs": [
    {
     "data": {
      "text/html": [
       "<div>\n",
       "<style scoped>\n",
       "    .dataframe tbody tr th:only-of-type {\n",
       "        vertical-align: middle;\n",
       "    }\n",
       "\n",
       "    .dataframe tbody tr th {\n",
       "        vertical-align: top;\n",
       "    }\n",
       "\n",
       "    .dataframe thead th {\n",
       "        text-align: right;\n",
       "    }\n",
       "</style>\n",
       "<table border=\"1\" class=\"dataframe\">\n",
       "  <thead>\n",
       "    <tr style=\"text-align: right;\">\n",
       "      <th></th>\n",
       "      <th>name</th>\n",
       "      <th>datadate</th>\n",
       "      <th>asset</th>\n",
       "      <th>capitalstock</th>\n",
       "      <th>depreciation</th>\n",
       "      <th>revenue</th>\n",
       "      <th>cost</th>\n",
       "      <th>orders</th>\n",
       "    </tr>\n",
       "  </thead>\n",
       "  <tbody>\n",
       "    <tr>\n",
       "      <th>0</th>\n",
       "      <td>A</td>\n",
       "      <td>3/31/00</td>\n",
       "      <td>7007.0</td>\n",
       "      <td>723.0</td>\n",
       "      <td>409</td>\n",
       "      <td>1945</td>\n",
       "      <td>1375</td>\n",
       "      <td>2</td>\n",
       "    </tr>\n",
       "    <tr>\n",
       "      <th>1</th>\n",
       "      <td>A</td>\n",
       "      <td>6/30/00</td>\n",
       "      <td>6932.0</td>\n",
       "      <td>721.0</td>\n",
       "      <td>407</td>\n",
       "      <td>1825</td>\n",
       "      <td>1257</td>\n",
       "      <td>2</td>\n",
       "    </tr>\n",
       "    <tr>\n",
       "      <th>2</th>\n",
       "      <td>A</td>\n",
       "      <td>9/30/00</td>\n",
       "      <td>6803.0</td>\n",
       "      <td>700.0</td>\n",
       "      <td>387</td>\n",
       "      <td>1870</td>\n",
       "      <td>1385</td>\n",
       "      <td>3</td>\n",
       "    </tr>\n",
       "    <tr>\n",
       "      <th>3</th>\n",
       "      <td>A</td>\n",
       "      <td>12/31/00</td>\n",
       "      <td>5986.0</td>\n",
       "      <td>NaN</td>\n",
       "      <td>387.6</td>\n",
       "      <td>1007</td>\n",
       "      <td>1004</td>\n",
       "      <td>4</td>\n",
       "    </tr>\n",
       "    <tr>\n",
       "      <th>4</th>\n",
       "      <td>A</td>\n",
       "      <td>3/31/01</td>\n",
       "      <td>6130.0</td>\n",
       "      <td>721.0</td>\n",
       "      <td>390</td>\n",
       "      <td>1431</td>\n",
       "      <td>1024</td>\n",
       "      <td>5</td>\n",
       "    </tr>\n",
       "    <tr>\n",
       "      <th>5</th>\n",
       "      <td>A</td>\n",
       "      <td>6/30/01</td>\n",
       "      <td>6071.0</td>\n",
       "      <td>727.0</td>\n",
       "      <td>380</td>\n",
       "      <td>1475</td>\n",
       "      <td>1015</td>\n",
       "      <td>6</td>\n",
       "    </tr>\n",
       "    <tr>\n",
       "      <th>6</th>\n",
       "      <td>A</td>\n",
       "      <td>9/30/01</td>\n",
       "      <td>6021.0</td>\n",
       "      <td>924.0</td>\n",
       "      <td>360</td>\n",
       "      <td>1450</td>\n",
       "      <td>983</td>\n",
       "      <td>7</td>\n",
       "    </tr>\n",
       "    <tr>\n",
       "      <th>7</th>\n",
       "      <td>A</td>\n",
       "      <td>12/31/01</td>\n",
       "      <td>6122.0</td>\n",
       "      <td>934.0</td>\n",
       "      <td>361</td>\n",
       "      <td>1375</td>\n",
       "      <td>925</td>\n",
       "      <td>8</td>\n",
       "    </tr>\n",
       "    <tr>\n",
       "      <th>8</th>\n",
       "      <td>A</td>\n",
       "      <td>3/31/02</td>\n",
       "      <td>6264.0</td>\n",
       "      <td>955.0</td>\n",
       "      <td>387.6</td>\n",
       "      <td>1495</td>\n",
       "      <td>1057</td>\n",
       "      <td>9</td>\n",
       "    </tr>\n",
       "    <tr>\n",
       "      <th>9</th>\n",
       "      <td>A</td>\n",
       "      <td>6/30/02</td>\n",
       "      <td>6293.0</td>\n",
       "      <td>970.0</td>\n",
       "      <td>387.6</td>\n",
       "      <td>1429</td>\n",
       "      <td>1010</td>\n",
       "      <td>9</td>\n",
       "    </tr>\n",
       "    <tr>\n",
       "      <th>10</th>\n",
       "      <td>A</td>\n",
       "      <td>9/30/02</td>\n",
       "      <td>6298.0</td>\n",
       "      <td>1057.0</td>\n",
       "      <td>387.6</td>\n",
       "      <td>1443</td>\n",
       "      <td>1029</td>\n",
       "      <td>9</td>\n",
       "    </tr>\n",
       "    <tr>\n",
       "      <th>11</th>\n",
       "      <td>A</td>\n",
       "      <td>12/31/02</td>\n",
       "      <td>6269.0</td>\n",
       "      <td>1046.0</td>\n",
       "      <td>441</td>\n",
       "      <td>1472</td>\n",
       "      <td>1035</td>\n",
       "      <td>9</td>\n",
       "    </tr>\n",
       "  </tbody>\n",
       "</table>\n",
       "</div>"
      ],
      "text/plain": [
       "   name  datadate   asset  capitalstock depreciation revenue  cost  orders\n",
       "0     A   3/31/00  7007.0         723.0          409    1945  1375       2\n",
       "1     A   6/30/00  6932.0         721.0          407    1825  1257       2\n",
       "2     A   9/30/00  6803.0         700.0          387    1870  1385       3\n",
       "3     A  12/31/00  5986.0           NaN        387.6    1007  1004       4\n",
       "4     A   3/31/01  6130.0         721.0          390    1431  1024       5\n",
       "5     A   6/30/01  6071.0         727.0          380    1475  1015       6\n",
       "6     A   9/30/01  6021.0         924.0          360    1450   983       7\n",
       "7     A  12/31/01  6122.0         934.0          361    1375   925       8\n",
       "8     A   3/31/02  6264.0         955.0        387.6    1495  1057       9\n",
       "9     A   6/30/02  6293.0         970.0        387.6    1429  1010       9\n",
       "10    A   9/30/02  6298.0        1057.0        387.6    1443  1029       9\n",
       "11    A  12/31/02  6269.0        1046.0          441    1472  1035       9"
      ]
     },
     "execution_count": 59,
     "metadata": {},
     "output_type": "execute_result"
    },
    {
     "data": {
      "application/javascript": [
       "\n",
       "            setTimeout(function() {\n",
       "                var nbb_cell_id = 59;\n",
       "                var nbb_unformatted_code = \"df.dtypes\\n\\ndf\";\n",
       "                var nbb_formatted_code = \"df.dtypes\\n\\ndf\";\n",
       "                var nbb_cells = Jupyter.notebook.get_cells();\n",
       "                for (var i = 0; i < nbb_cells.length; ++i) {\n",
       "                    if (nbb_cells[i].input_prompt_number == nbb_cell_id) {\n",
       "                        if (nbb_cells[i].get_text() == nbb_unformatted_code) {\n",
       "                             nbb_cells[i].set_text(nbb_formatted_code);\n",
       "                        }\n",
       "                        break;\n",
       "                    }\n",
       "                }\n",
       "            }, 500);\n",
       "            "
      ],
      "text/plain": [
       "<IPython.core.display.Javascript object>"
      ]
     },
     "metadata": {},
     "output_type": "display_data"
    }
   ],
   "source": [
    "df.dtypes\n",
    "\n",
    "df"
   ]
  },
  {
   "cell_type": "markdown",
   "metadata": {},
   "source": [
    "### Transforming Data Using a Function or Mapping"
   ]
  },
  {
   "cell_type": "markdown",
   "metadata": {},
   "source": [
    "To create a new column based on one existing column (a `pd.Series`), we can use a [`.map`](https://pandas.pydata.org/docs/reference/api/pandas.Series.map.html) function.\n",
    "\n",
    "For example, we want to add a new column indicating if the number of orders is high/low. Let's write down a mapping of each distict order number to the kind of type:"
   ]
  },
  {
   "cell_type": "code",
   "execution_count": 60,
   "metadata": {},
   "outputs": [
    {
     "data": {
      "application/javascript": [
       "\n",
       "            setTimeout(function() {\n",
       "                var nbb_cell_id = 60;\n",
       "                var nbb_unformatted_code = \"norders_to_highlow = {\\n    1: \\\"low\\\",\\n    2: \\\"low\\\",\\n    3: \\\"low\\\",\\n    4: \\\"low\\\",\\n    5: \\\"low\\\",\\n    6: \\\"high\\\",\\n    7: \\\"high\\\",\\n    8: \\\"high\\\",\\n    9: \\\"high\\\",\\n    10: \\\"high\\\",\\n}\";\n",
       "                var nbb_formatted_code = \"norders_to_highlow = {\\n    1: \\\"low\\\",\\n    2: \\\"low\\\",\\n    3: \\\"low\\\",\\n    4: \\\"low\\\",\\n    5: \\\"low\\\",\\n    6: \\\"high\\\",\\n    7: \\\"high\\\",\\n    8: \\\"high\\\",\\n    9: \\\"high\\\",\\n    10: \\\"high\\\",\\n}\";\n",
       "                var nbb_cells = Jupyter.notebook.get_cells();\n",
       "                for (var i = 0; i < nbb_cells.length; ++i) {\n",
       "                    if (nbb_cells[i].input_prompt_number == nbb_cell_id) {\n",
       "                        if (nbb_cells[i].get_text() == nbb_unformatted_code) {\n",
       "                             nbb_cells[i].set_text(nbb_formatted_code);\n",
       "                        }\n",
       "                        break;\n",
       "                    }\n",
       "                }\n",
       "            }, 500);\n",
       "            "
      ],
      "text/plain": [
       "<IPython.core.display.Javascript object>"
      ]
     },
     "metadata": {},
     "output_type": "display_data"
    }
   ],
   "source": [
    "norders_to_highlow = {\n",
    "    1: \"low\",\n",
    "    2: \"low\",\n",
    "    3: \"low\",\n",
    "    4: \"low\",\n",
    "    5: \"low\",\n",
    "    6: \"high\",\n",
    "    7: \"high\",\n",
    "    8: \"high\",\n",
    "    9: \"high\",\n",
    "    10: \"high\",\n",
    "}"
   ]
  },
  {
   "cell_type": "code",
   "execution_count": 61,
   "metadata": {},
   "outputs": [
    {
     "data": {
      "text/html": [
       "<div>\n",
       "<style scoped>\n",
       "    .dataframe tbody tr th:only-of-type {\n",
       "        vertical-align: middle;\n",
       "    }\n",
       "\n",
       "    .dataframe tbody tr th {\n",
       "        vertical-align: top;\n",
       "    }\n",
       "\n",
       "    .dataframe thead th {\n",
       "        text-align: right;\n",
       "    }\n",
       "</style>\n",
       "<table border=\"1\" class=\"dataframe\">\n",
       "  <thead>\n",
       "    <tr style=\"text-align: right;\">\n",
       "      <th></th>\n",
       "      <th>name</th>\n",
       "      <th>datadate</th>\n",
       "      <th>asset</th>\n",
       "      <th>capitalstock</th>\n",
       "      <th>depreciation</th>\n",
       "      <th>revenue</th>\n",
       "      <th>cost</th>\n",
       "      <th>orders</th>\n",
       "      <th>highorlow</th>\n",
       "    </tr>\n",
       "  </thead>\n",
       "  <tbody>\n",
       "    <tr>\n",
       "      <th>0</th>\n",
       "      <td>A</td>\n",
       "      <td>3/31/00</td>\n",
       "      <td>7007.0</td>\n",
       "      <td>723.0</td>\n",
       "      <td>409</td>\n",
       "      <td>1945</td>\n",
       "      <td>1375</td>\n",
       "      <td>2</td>\n",
       "      <td>low</td>\n",
       "    </tr>\n",
       "    <tr>\n",
       "      <th>1</th>\n",
       "      <td>A</td>\n",
       "      <td>6/30/00</td>\n",
       "      <td>6932.0</td>\n",
       "      <td>721.0</td>\n",
       "      <td>407</td>\n",
       "      <td>1825</td>\n",
       "      <td>1257</td>\n",
       "      <td>2</td>\n",
       "      <td>low</td>\n",
       "    </tr>\n",
       "    <tr>\n",
       "      <th>2</th>\n",
       "      <td>A</td>\n",
       "      <td>9/30/00</td>\n",
       "      <td>6803.0</td>\n",
       "      <td>700.0</td>\n",
       "      <td>387</td>\n",
       "      <td>1870</td>\n",
       "      <td>1385</td>\n",
       "      <td>3</td>\n",
       "      <td>low</td>\n",
       "    </tr>\n",
       "    <tr>\n",
       "      <th>3</th>\n",
       "      <td>A</td>\n",
       "      <td>12/31/00</td>\n",
       "      <td>5986.0</td>\n",
       "      <td>NaN</td>\n",
       "      <td>387.6</td>\n",
       "      <td>1007</td>\n",
       "      <td>1004</td>\n",
       "      <td>4</td>\n",
       "      <td>low</td>\n",
       "    </tr>\n",
       "    <tr>\n",
       "      <th>4</th>\n",
       "      <td>A</td>\n",
       "      <td>3/31/01</td>\n",
       "      <td>6130.0</td>\n",
       "      <td>721.0</td>\n",
       "      <td>390</td>\n",
       "      <td>1431</td>\n",
       "      <td>1024</td>\n",
       "      <td>5</td>\n",
       "      <td>low</td>\n",
       "    </tr>\n",
       "    <tr>\n",
       "      <th>5</th>\n",
       "      <td>A</td>\n",
       "      <td>6/30/01</td>\n",
       "      <td>6071.0</td>\n",
       "      <td>727.0</td>\n",
       "      <td>380</td>\n",
       "      <td>1475</td>\n",
       "      <td>1015</td>\n",
       "      <td>6</td>\n",
       "      <td>high</td>\n",
       "    </tr>\n",
       "    <tr>\n",
       "      <th>6</th>\n",
       "      <td>A</td>\n",
       "      <td>9/30/01</td>\n",
       "      <td>6021.0</td>\n",
       "      <td>924.0</td>\n",
       "      <td>360</td>\n",
       "      <td>1450</td>\n",
       "      <td>983</td>\n",
       "      <td>7</td>\n",
       "      <td>high</td>\n",
       "    </tr>\n",
       "    <tr>\n",
       "      <th>7</th>\n",
       "      <td>A</td>\n",
       "      <td>12/31/01</td>\n",
       "      <td>6122.0</td>\n",
       "      <td>934.0</td>\n",
       "      <td>361</td>\n",
       "      <td>1375</td>\n",
       "      <td>925</td>\n",
       "      <td>8</td>\n",
       "      <td>high</td>\n",
       "    </tr>\n",
       "    <tr>\n",
       "      <th>8</th>\n",
       "      <td>A</td>\n",
       "      <td>3/31/02</td>\n",
       "      <td>6264.0</td>\n",
       "      <td>955.0</td>\n",
       "      <td>387.6</td>\n",
       "      <td>1495</td>\n",
       "      <td>1057</td>\n",
       "      <td>9</td>\n",
       "      <td>high</td>\n",
       "    </tr>\n",
       "    <tr>\n",
       "      <th>9</th>\n",
       "      <td>A</td>\n",
       "      <td>6/30/02</td>\n",
       "      <td>6293.0</td>\n",
       "      <td>970.0</td>\n",
       "      <td>387.6</td>\n",
       "      <td>1429</td>\n",
       "      <td>1010</td>\n",
       "      <td>9</td>\n",
       "      <td>high</td>\n",
       "    </tr>\n",
       "    <tr>\n",
       "      <th>10</th>\n",
       "      <td>A</td>\n",
       "      <td>9/30/02</td>\n",
       "      <td>6298.0</td>\n",
       "      <td>1057.0</td>\n",
       "      <td>387.6</td>\n",
       "      <td>1443</td>\n",
       "      <td>1029</td>\n",
       "      <td>9</td>\n",
       "      <td>high</td>\n",
       "    </tr>\n",
       "    <tr>\n",
       "      <th>11</th>\n",
       "      <td>A</td>\n",
       "      <td>12/31/02</td>\n",
       "      <td>6269.0</td>\n",
       "      <td>1046.0</td>\n",
       "      <td>441</td>\n",
       "      <td>1472</td>\n",
       "      <td>1035</td>\n",
       "      <td>9</td>\n",
       "      <td>high</td>\n",
       "    </tr>\n",
       "  </tbody>\n",
       "</table>\n",
       "</div>"
      ],
      "text/plain": [
       "   name  datadate   asset  capitalstock depreciation revenue  cost  orders  \\\n",
       "0     A   3/31/00  7007.0         723.0          409    1945  1375       2   \n",
       "1     A   6/30/00  6932.0         721.0          407    1825  1257       2   \n",
       "2     A   9/30/00  6803.0         700.0          387    1870  1385       3   \n",
       "3     A  12/31/00  5986.0           NaN        387.6    1007  1004       4   \n",
       "4     A   3/31/01  6130.0         721.0          390    1431  1024       5   \n",
       "5     A   6/30/01  6071.0         727.0          380    1475  1015       6   \n",
       "6     A   9/30/01  6021.0         924.0          360    1450   983       7   \n",
       "7     A  12/31/01  6122.0         934.0          361    1375   925       8   \n",
       "8     A   3/31/02  6264.0         955.0        387.6    1495  1057       9   \n",
       "9     A   6/30/02  6293.0         970.0        387.6    1429  1010       9   \n",
       "10    A   9/30/02  6298.0        1057.0        387.6    1443  1029       9   \n",
       "11    A  12/31/02  6269.0        1046.0          441    1472  1035       9   \n",
       "\n",
       "   highorlow  \n",
       "0        low  \n",
       "1        low  \n",
       "2        low  \n",
       "3        low  \n",
       "4        low  \n",
       "5       high  \n",
       "6       high  \n",
       "7       high  \n",
       "8       high  \n",
       "9       high  \n",
       "10      high  \n",
       "11      high  "
      ]
     },
     "execution_count": 61,
     "metadata": {},
     "output_type": "execute_result"
    },
    {
     "data": {
      "application/javascript": [
       "\n",
       "            setTimeout(function() {\n",
       "                var nbb_cell_id = 61;\n",
       "                var nbb_unformatted_code = \"# map accepts a dict-like object\\ndf[\\\"highorlow\\\"] = df[\\\"orders\\\"].map(norders_to_highlow)\\n\\ndf\";\n",
       "                var nbb_formatted_code = \"# map accepts a dict-like object\\ndf[\\\"highorlow\\\"] = df[\\\"orders\\\"].map(norders_to_highlow)\\n\\ndf\";\n",
       "                var nbb_cells = Jupyter.notebook.get_cells();\n",
       "                for (var i = 0; i < nbb_cells.length; ++i) {\n",
       "                    if (nbb_cells[i].input_prompt_number == nbb_cell_id) {\n",
       "                        if (nbb_cells[i].get_text() == nbb_unformatted_code) {\n",
       "                             nbb_cells[i].set_text(nbb_formatted_code);\n",
       "                        }\n",
       "                        break;\n",
       "                    }\n",
       "                }\n",
       "            }, 500);\n",
       "            "
      ],
      "text/plain": [
       "<IPython.core.display.Javascript object>"
      ]
     },
     "metadata": {},
     "output_type": "display_data"
    }
   ],
   "source": [
    "# map accepts a dict-like object\n",
    "df[\"highorlow\"] = df[\"orders\"].map(norders_to_highlow)\n",
    "\n",
    "df"
   ]
  },
  {
   "cell_type": "code",
   "execution_count": 62,
   "metadata": {},
   "outputs": [
    {
     "data": {
      "text/plain": [
       "0      low\n",
       "1      low\n",
       "2      low\n",
       "3      low\n",
       "4      low\n",
       "5     high\n",
       "6     high\n",
       "7     high\n",
       "8     high\n",
       "9     high\n",
       "10    high\n",
       "11    high\n",
       "Name: orders, dtype: object"
      ]
     },
     "execution_count": 62,
     "metadata": {},
     "output_type": "execute_result"
    },
    {
     "data": {
      "application/javascript": [
       "\n",
       "            setTimeout(function() {\n",
       "                var nbb_cell_id = 62;\n",
       "                var nbb_unformatted_code = \"# map accepts a function\\ndf[\\\"orders\\\"].map(lambda x: norders_to_highlow[x])\";\n",
       "                var nbb_formatted_code = \"# map accepts a function\\ndf[\\\"orders\\\"].map(lambda x: norders_to_highlow[x])\";\n",
       "                var nbb_cells = Jupyter.notebook.get_cells();\n",
       "                for (var i = 0; i < nbb_cells.length; ++i) {\n",
       "                    if (nbb_cells[i].input_prompt_number == nbb_cell_id) {\n",
       "                        if (nbb_cells[i].get_text() == nbb_unformatted_code) {\n",
       "                             nbb_cells[i].set_text(nbb_formatted_code);\n",
       "                        }\n",
       "                        break;\n",
       "                    }\n",
       "                }\n",
       "            }, 500);\n",
       "            "
      ],
      "text/plain": [
       "<IPython.core.display.Javascript object>"
      ]
     },
     "metadata": {},
     "output_type": "display_data"
    }
   ],
   "source": [
    "# map accepts a function\n",
    "df[\"orders\"].map(lambda x: norders_to_highlow[x])"
   ]
  },
  {
   "cell_type": "markdown",
   "metadata": {},
   "source": [
    "[`.transform`](https://pandas.pydata.org/docs/reference/api/pandas.DataFrame.transform.html) can call a function on self producing a DataFrame with transformed values."
   ]
  },
  {
   "cell_type": "code",
   "execution_count": 63,
   "metadata": {},
   "outputs": [
    {
     "data": {
      "text/plain": [
       "['name',\n",
       " 'datadate',\n",
       " 'asset',\n",
       " 'capitalstock',\n",
       " 'depreciation',\n",
       " 'revenue',\n",
       " 'cost',\n",
       " 'orders',\n",
       " 'highorlow']"
      ]
     },
     "execution_count": 63,
     "metadata": {},
     "output_type": "execute_result"
    },
    {
     "data": {
      "application/javascript": [
       "\n",
       "            setTimeout(function() {\n",
       "                var nbb_cell_id = 63;\n",
       "                var nbb_unformatted_code = \"list(df.columns)\";\n",
       "                var nbb_formatted_code = \"list(df.columns)\";\n",
       "                var nbb_cells = Jupyter.notebook.get_cells();\n",
       "                for (var i = 0; i < nbb_cells.length; ++i) {\n",
       "                    if (nbb_cells[i].input_prompt_number == nbb_cell_id) {\n",
       "                        if (nbb_cells[i].get_text() == nbb_unformatted_code) {\n",
       "                             nbb_cells[i].set_text(nbb_formatted_code);\n",
       "                        }\n",
       "                        break;\n",
       "                    }\n",
       "                }\n",
       "            }, 500);\n",
       "            "
      ],
      "text/plain": [
       "<IPython.core.display.Javascript object>"
      ]
     },
     "metadata": {},
     "output_type": "display_data"
    }
   ],
   "source": [
    "list(df.columns)"
   ]
  },
  {
   "cell_type": "code",
   "execution_count": 64,
   "metadata": {},
   "outputs": [
    {
     "data": {
      "text/plain": [
       "name             object\n",
       "datadate         object\n",
       "asset           float64\n",
       "capitalstock    float64\n",
       "depreciation     object\n",
       "revenue          object\n",
       "cost             object\n",
       "orders            int64\n",
       "highorlow        object\n",
       "dtype: object"
      ]
     },
     "execution_count": 64,
     "metadata": {},
     "output_type": "execute_result"
    },
    {
     "data": {
      "application/javascript": [
       "\n",
       "            setTimeout(function() {\n",
       "                var nbb_cell_id = 64;\n",
       "                var nbb_unformatted_code = \"df.dtypes\";\n",
       "                var nbb_formatted_code = \"df.dtypes\";\n",
       "                var nbb_cells = Jupyter.notebook.get_cells();\n",
       "                for (var i = 0; i < nbb_cells.length; ++i) {\n",
       "                    if (nbb_cells[i].input_prompt_number == nbb_cell_id) {\n",
       "                        if (nbb_cells[i].get_text() == nbb_unformatted_code) {\n",
       "                             nbb_cells[i].set_text(nbb_formatted_code);\n",
       "                        }\n",
       "                        break;\n",
       "                    }\n",
       "                }\n",
       "            }, 500);\n",
       "            "
      ],
      "text/plain": [
       "<IPython.core.display.Javascript object>"
      ]
     },
     "metadata": {},
     "output_type": "display_data"
    }
   ],
   "source": [
    "df.dtypes"
   ]
  },
  {
   "cell_type": "code",
   "execution_count": 65,
   "metadata": {},
   "outputs": [
    {
     "data": {
      "text/html": [
       "<div>\n",
       "<style scoped>\n",
       "    .dataframe tbody tr th:only-of-type {\n",
       "        vertical-align: middle;\n",
       "    }\n",
       "\n",
       "    .dataframe tbody tr th {\n",
       "        vertical-align: top;\n",
       "    }\n",
       "\n",
       "    .dataframe thead th {\n",
       "        text-align: right;\n",
       "    }\n",
       "</style>\n",
       "<table border=\"1\" class=\"dataframe\">\n",
       "  <thead>\n",
       "    <tr style=\"text-align: right;\">\n",
       "      <th></th>\n",
       "      <th>asset</th>\n",
       "      <th>orders</th>\n",
       "    </tr>\n",
       "  </thead>\n",
       "  <tbody>\n",
       "    <tr>\n",
       "      <th>0</th>\n",
       "      <td>7008.0</td>\n",
       "      <td>3</td>\n",
       "    </tr>\n",
       "    <tr>\n",
       "      <th>1</th>\n",
       "      <td>6933.0</td>\n",
       "      <td>3</td>\n",
       "    </tr>\n",
       "    <tr>\n",
       "      <th>2</th>\n",
       "      <td>6804.0</td>\n",
       "      <td>4</td>\n",
       "    </tr>\n",
       "    <tr>\n",
       "      <th>3</th>\n",
       "      <td>5987.0</td>\n",
       "      <td>5</td>\n",
       "    </tr>\n",
       "    <tr>\n",
       "      <th>4</th>\n",
       "      <td>6131.0</td>\n",
       "      <td>6</td>\n",
       "    </tr>\n",
       "    <tr>\n",
       "      <th>5</th>\n",
       "      <td>6072.0</td>\n",
       "      <td>7</td>\n",
       "    </tr>\n",
       "    <tr>\n",
       "      <th>6</th>\n",
       "      <td>6022.0</td>\n",
       "      <td>8</td>\n",
       "    </tr>\n",
       "    <tr>\n",
       "      <th>7</th>\n",
       "      <td>6123.0</td>\n",
       "      <td>9</td>\n",
       "    </tr>\n",
       "    <tr>\n",
       "      <th>8</th>\n",
       "      <td>6265.0</td>\n",
       "      <td>10</td>\n",
       "    </tr>\n",
       "    <tr>\n",
       "      <th>9</th>\n",
       "      <td>6294.0</td>\n",
       "      <td>10</td>\n",
       "    </tr>\n",
       "    <tr>\n",
       "      <th>10</th>\n",
       "      <td>6299.0</td>\n",
       "      <td>10</td>\n",
       "    </tr>\n",
       "    <tr>\n",
       "      <th>11</th>\n",
       "      <td>6270.0</td>\n",
       "      <td>10</td>\n",
       "    </tr>\n",
       "  </tbody>\n",
       "</table>\n",
       "</div>"
      ],
      "text/plain": [
       "     asset  orders\n",
       "0   7008.0       3\n",
       "1   6933.0       3\n",
       "2   6804.0       4\n",
       "3   5987.0       5\n",
       "4   6131.0       6\n",
       "5   6072.0       7\n",
       "6   6022.0       8\n",
       "7   6123.0       9\n",
       "8   6265.0      10\n",
       "9   6294.0      10\n",
       "10  6299.0      10\n",
       "11  6270.0      10"
      ]
     },
     "execution_count": 65,
     "metadata": {},
     "output_type": "execute_result"
    },
    {
     "data": {
      "application/javascript": [
       "\n",
       "            setTimeout(function() {\n",
       "                var nbb_cell_id = 65;\n",
       "                var nbb_unformatted_code = \"df[[\\\"asset\\\", \\\"orders\\\"]].transform(lambda x: x + 1)\";\n",
       "                var nbb_formatted_code = \"df[[\\\"asset\\\", \\\"orders\\\"]].transform(lambda x: x + 1)\";\n",
       "                var nbb_cells = Jupyter.notebook.get_cells();\n",
       "                for (var i = 0; i < nbb_cells.length; ++i) {\n",
       "                    if (nbb_cells[i].input_prompt_number == nbb_cell_id) {\n",
       "                        if (nbb_cells[i].get_text() == nbb_unformatted_code) {\n",
       "                             nbb_cells[i].set_text(nbb_formatted_code);\n",
       "                        }\n",
       "                        break;\n",
       "                    }\n",
       "                }\n",
       "            }, 500);\n",
       "            "
      ],
      "text/plain": [
       "<IPython.core.display.Javascript object>"
      ]
     },
     "metadata": {},
     "output_type": "display_data"
    }
   ],
   "source": [
    "df[[\"asset\", \"orders\"]].transform(lambda x: x + 1)"
   ]
  },
  {
   "cell_type": "code",
   "execution_count": 66,
   "metadata": {},
   "outputs": [
    {
     "data": {
      "text/plain": [
       "0      low\n",
       "1      low\n",
       "2      low\n",
       "3      low\n",
       "4      low\n",
       "5     high\n",
       "6     high\n",
       "7     high\n",
       "8     high\n",
       "9     high\n",
       "10    high\n",
       "11    high\n",
       "Name: orders, dtype: object"
      ]
     },
     "execution_count": 66,
     "metadata": {},
     "output_type": "execute_result"
    },
    {
     "data": {
      "application/javascript": [
       "\n",
       "            setTimeout(function() {\n",
       "                var nbb_cell_id = 66;\n",
       "                var nbb_unformatted_code = \"# .transform takes one function that is expected to be applied to a column and return a column of equal size.\\ndf[\\\"orders\\\"].transform(lambda x: norders_to_highlow[x])\";\n",
       "                var nbb_formatted_code = \"# .transform takes one function that is expected to be applied to a column and return a column of equal size.\\ndf[\\\"orders\\\"].transform(lambda x: norders_to_highlow[x])\";\n",
       "                var nbb_cells = Jupyter.notebook.get_cells();\n",
       "                for (var i = 0; i < nbb_cells.length; ++i) {\n",
       "                    if (nbb_cells[i].input_prompt_number == nbb_cell_id) {\n",
       "                        if (nbb_cells[i].get_text() == nbb_unformatted_code) {\n",
       "                             nbb_cells[i].set_text(nbb_formatted_code);\n",
       "                        }\n",
       "                        break;\n",
       "                    }\n",
       "                }\n",
       "            }, 500);\n",
       "            "
      ],
      "text/plain": [
       "<IPython.core.display.Javascript object>"
      ]
     },
     "metadata": {},
     "output_type": "display_data"
    }
   ],
   "source": [
    "# .transform takes one function that is expected to be applied to a column and return a column of equal size.\n",
    "df[\"orders\"].transform(lambda x: norders_to_highlow[x])"
   ]
  },
  {
   "cell_type": "code",
   "execution_count": 67,
   "metadata": {},
   "outputs": [
    {
     "data": {
      "text/plain": [
       "0      low\n",
       "1      low\n",
       "2      low\n",
       "3      low\n",
       "4      low\n",
       "5     high\n",
       "6     high\n",
       "7     high\n",
       "8     high\n",
       "9     high\n",
       "10    high\n",
       "11    high\n",
       "Name: orders, dtype: object"
      ]
     },
     "execution_count": 67,
     "metadata": {},
     "output_type": "execute_result"
    },
    {
     "data": {
      "application/javascript": [
       "\n",
       "            setTimeout(function() {\n",
       "                var nbb_cell_id = 67;\n",
       "                var nbb_unformatted_code = \"df[\\\"orders\\\"].apply(lambda x: norders_to_highlow[x])\";\n",
       "                var nbb_formatted_code = \"df[\\\"orders\\\"].apply(lambda x: norders_to_highlow[x])\";\n",
       "                var nbb_cells = Jupyter.notebook.get_cells();\n",
       "                for (var i = 0; i < nbb_cells.length; ++i) {\n",
       "                    if (nbb_cells[i].input_prompt_number == nbb_cell_id) {\n",
       "                        if (nbb_cells[i].get_text() == nbb_unformatted_code) {\n",
       "                             nbb_cells[i].set_text(nbb_formatted_code);\n",
       "                        }\n",
       "                        break;\n",
       "                    }\n",
       "                }\n",
       "            }, 500);\n",
       "            "
      ],
      "text/plain": [
       "<IPython.core.display.Javascript object>"
      ]
     },
     "metadata": {},
     "output_type": "display_data"
    }
   ],
   "source": [
    "df[\"orders\"].apply(lambda x: norders_to_highlow[x])"
   ]
  },
  {
   "cell_type": "markdown",
   "metadata": {},
   "source": [
    "#### Exercise"
   ]
  },
  {
   "cell_type": "markdown",
   "metadata": {},
   "source": [
    "- Change the other numerical data (columns `depreciation` - `cost`) type to float\n",
    "- Interpolate the `capitalstock` column"
   ]
  },
  {
   "cell_type": "code",
   "execution_count": 68,
   "metadata": {},
   "outputs": [
    {
     "data": {
      "application/javascript": [
       "\n",
       "            setTimeout(function() {\n",
       "                var nbb_cell_id = 68;\n",
       "                var nbb_unformatted_code = \"# insert your code here\\n# df[[\\\"depreciation\\\", \\\"revenue\\\", \\\"cost\\\"]] = None\\n\\n# df[\\\"capitalstock\\\"] = None\\n\\n# df\";\n",
       "                var nbb_formatted_code = \"# insert your code here\\n# df[[\\\"depreciation\\\", \\\"revenue\\\", \\\"cost\\\"]] = None\\n\\n# df[\\\"capitalstock\\\"] = None\\n\\n# df\";\n",
       "                var nbb_cells = Jupyter.notebook.get_cells();\n",
       "                for (var i = 0; i < nbb_cells.length; ++i) {\n",
       "                    if (nbb_cells[i].input_prompt_number == nbb_cell_id) {\n",
       "                        if (nbb_cells[i].get_text() == nbb_unformatted_code) {\n",
       "                             nbb_cells[i].set_text(nbb_formatted_code);\n",
       "                        }\n",
       "                        break;\n",
       "                    }\n",
       "                }\n",
       "            }, 500);\n",
       "            "
      ],
      "text/plain": [
       "<IPython.core.display.Javascript object>"
      ]
     },
     "metadata": {},
     "output_type": "display_data"
    }
   ],
   "source": [
    "# insert your code here\n",
    "# df[[\"depreciation\", \"revenue\", \"cost\"]] = None\n",
    "\n",
    "# df[\"capitalstock\"] = None\n",
    "\n",
    "# df"
   ]
  },
  {
   "cell_type": "markdown",
   "metadata": {},
   "source": [
    "<details><summary>Click here for the solution</summary>\n",
    "\n",
    "```python\n",
    "df[[\"depreciation\", \"revenue\", \"cost\"]] = df[\n",
    "    [\"depreciation\", \"revenue\", \"cost\"]\n",
    "].astype(\"float\")\n",
    "\n",
    "df[\"capitalstock\"] = df[\"capitalstock\"].interpolate(method=\"linear\")\n",
    "\n",
    "df\n",
    "```\n",
    "\n",
    "</details>"
   ]
  }
 ],
 "metadata": {
  "kernelspec": {
   "display_name": "Python 3",
   "language": "python",
   "name": "python3"
  },
  "language_info": {
   "codemirror_mode": {
    "name": "ipython",
    "version": 3
   },
   "file_extension": ".py",
   "mimetype": "text/x-python",
   "name": "python",
   "nbconvert_exporter": "python",
   "pygments_lexer": "ipython3",
   "version": "3.8.3"
  }
 },
 "nbformat": 4,
 "nbformat_minor": 4
}
