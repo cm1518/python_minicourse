{
 "cells": [
  {
   "cell_type": "markdown",
   "metadata": {},
   "source": [
    "# Chapter 6 - String Manipulation and Regular Expression\n",
    "\n",
    "Main reference:<br>\n",
    "- Chapter 2, 7, Python for Data Analysis, by Wes McKinney\n",
    "\n",
    "Last edited: 05/16/2021"
   ]
  },
  {
   "cell_type": "markdown",
   "metadata": {},
   "source": [
    "## 1. Python String Literal: F, R Strings\n",
    "\n",
    "A string literal is a sequence of zero or more characters enclosed within single quotation marks.\n",
    "\n",
    "Python supports multiple ways to format text strings."
   ]
  },
  {
   "cell_type": "code",
   "execution_count": 1,
   "metadata": {},
   "outputs": [
    {
     "data": {
      "application/javascript": [
       "\n",
       "            setTimeout(function() {\n",
       "                var nbb_cell_id = 1;\n",
       "                var nbb_unformatted_code = \"%load_ext nb_black\\n\\na = \\\"string???\\\"\\n\\na = \\\"string!!!\\\"\";\n",
       "                var nbb_formatted_code = \"%load_ext nb_black\\n\\na = \\\"string???\\\"\\n\\na = \\\"string!!!\\\"\";\n",
       "                var nbb_cells = Jupyter.notebook.get_cells();\n",
       "                for (var i = 0; i < nbb_cells.length; ++i) {\n",
       "                    if (nbb_cells[i].input_prompt_number == nbb_cell_id) {\n",
       "                        if (nbb_cells[i].get_text() == nbb_unformatted_code) {\n",
       "                             nbb_cells[i].set_text(nbb_formatted_code);\n",
       "                        }\n",
       "                        break;\n",
       "                    }\n",
       "                }\n",
       "            }, 500);\n",
       "            "
      ],
      "text/plain": [
       "<IPython.core.display.Javascript object>"
      ]
     },
     "metadata": {},
     "output_type": "display_data"
    }
   ],
   "source": [
    "# %load_ext nb_black\n",
    "\n",
    "a = \"string???\"\n",
    "\n",
    "a = \"string!!!\""
   ]
  },
  {
   "cell_type": "markdown",
   "metadata": {},
   "source": [
    "### 1.1 Triple-quoted. \n",
    "This literal syntax form begins and ends with three quotes. Newlines are left as is. In triple-quoted syntax, we do not need to escape quotes.\n",
    "\n",
    "\n",
    "When copying & pasting several paragraphs, we need to use a triple-quoted string."
   ]
  },
  {
   "cell_type": "code",
   "execution_count": 2,
   "metadata": {},
   "outputs": [
    {
     "name": "stdout",
     "output_type": "stream",
     "text": [
      "\n",
      "The term \"monetary policy\" refers to the actions undertaken by a central bank.\n",
      "\n",
      "The Federal Reserve controls the three tools of monetary policy--open market operations, the discount rate, and reserve requirements. \n",
      "\n"
     ]
    },
    {
     "data": {
      "application/javascript": [
       "\n",
       "            setTimeout(function() {\n",
       "                var nbb_cell_id = 2;\n",
       "                var nbb_unformatted_code = \"# Use a triple-quoted string.\\nMPintro = \\\"\\\"\\\"\\nThe term \\\"monetary policy\\\" refers to the actions undertaken by a central bank.\\n\\nThe Federal Reserve controls the three tools of monetary policy--open market operations, the discount rate, and reserve requirements. \\n\\\"\\\"\\\"\\n\\nprint(MPintro)\";\n",
       "                var nbb_formatted_code = \"# Use a triple-quoted string.\\nMPintro = \\\"\\\"\\\"\\nThe term \\\"monetary policy\\\" refers to the actions undertaken by a central bank.\\n\\nThe Federal Reserve controls the three tools of monetary policy--open market operations, the discount rate, and reserve requirements. \\n\\\"\\\"\\\"\\n\\nprint(MPintro)\";\n",
       "                var nbb_cells = Jupyter.notebook.get_cells();\n",
       "                for (var i = 0; i < nbb_cells.length; ++i) {\n",
       "                    if (nbb_cells[i].input_prompt_number == nbb_cell_id) {\n",
       "                        if (nbb_cells[i].get_text() == nbb_unformatted_code) {\n",
       "                             nbb_cells[i].set_text(nbb_formatted_code);\n",
       "                        }\n",
       "                        break;\n",
       "                    }\n",
       "                }\n",
       "            }, 500);\n",
       "            "
      ],
      "text/plain": [
       "<IPython.core.display.Javascript object>"
      ]
     },
     "metadata": {},
     "output_type": "display_data"
    }
   ],
   "source": [
    "# Use a triple-quoted string.\n",
    "MPintro = \"\"\"\n",
    "The term \"monetary policy\" refers to the actions undertaken by a central bank.\n",
    "\n",
    "The Federal Reserve controls the three tools of monetary policy--open market operations, the discount rate, and reserve requirements. \n",
    "\"\"\"\n",
    "\n",
    "print(MPintro)"
   ]
  },
  {
   "cell_type": "code",
   "execution_count": 3,
   "metadata": {},
   "outputs": [
    {
     "data": {
      "text/plain": [
       "'\\nThe term \"monetary policy\" refers to the actions undertaken by a central bank.\\n\\nThe Federal Reserve controls the three tools of monetary policy--open market operations, the discount rate, and reserve requirements. \\n'"
      ]
     },
     "execution_count": 3,
     "metadata": {},
     "output_type": "execute_result"
    },
    {
     "data": {
      "application/javascript": [
       "\n",
       "            setTimeout(function() {\n",
       "                var nbb_cell_id = 3;\n",
       "                var nbb_unformatted_code = \"MPintro\";\n",
       "                var nbb_formatted_code = \"MPintro\";\n",
       "                var nbb_cells = Jupyter.notebook.get_cells();\n",
       "                for (var i = 0; i < nbb_cells.length; ++i) {\n",
       "                    if (nbb_cells[i].input_prompt_number == nbb_cell_id) {\n",
       "                        if (nbb_cells[i].get_text() == nbb_unformatted_code) {\n",
       "                             nbb_cells[i].set_text(nbb_formatted_code);\n",
       "                        }\n",
       "                        break;\n",
       "                    }\n",
       "                }\n",
       "            }, 500);\n",
       "            "
      ],
      "text/plain": [
       "<IPython.core.display.Javascript object>"
      ]
     },
     "metadata": {},
     "output_type": "display_data"
    }
   ],
   "source": [
    "MPintro"
   ]
  },
  {
   "cell_type": "markdown",
   "metadata": {},
   "source": [
    "### `string` basics"
   ]
  },
  {
   "cell_type": "code",
   "execution_count": 4,
   "metadata": {},
   "outputs": [
    {
     "data": {
      "text/plain": [
       "4"
      ]
     },
     "execution_count": 4,
     "metadata": {},
     "output_type": "execute_result"
    },
    {
     "data": {
      "application/javascript": [
       "\n",
       "            setTimeout(function() {\n",
       "                var nbb_cell_id = 4;\n",
       "                var nbb_unformatted_code = \"# We can count the new line characters with the count method on\\nMPintro.count(\\\"\\\\n\\\")\\n# MPintro.count(\\\"monetary\\\")\";\n",
       "                var nbb_formatted_code = \"# We can count the new line characters with the count method on\\nMPintro.count(\\\"\\\\n\\\")\\n# MPintro.count(\\\"monetary\\\")\";\n",
       "                var nbb_cells = Jupyter.notebook.get_cells();\n",
       "                for (var i = 0; i < nbb_cells.length; ++i) {\n",
       "                    if (nbb_cells[i].input_prompt_number == nbb_cell_id) {\n",
       "                        if (nbb_cells[i].get_text() == nbb_unformatted_code) {\n",
       "                             nbb_cells[i].set_text(nbb_formatted_code);\n",
       "                        }\n",
       "                        break;\n",
       "                    }\n",
       "                }\n",
       "            }, 500);\n",
       "            "
      ],
      "text/plain": [
       "<IPython.core.display.Javascript object>"
      ]
     },
     "metadata": {},
     "output_type": "display_data"
    }
   ],
   "source": [
    "# We can count the new line characters with the count method on\n",
    "MPintro.count(\"\\n\")\n",
    "# MPintro.count(\"monetary\")"
   ]
  },
  {
   "cell_type": "markdown",
   "metadata": {},
   "source": [
    "Python strings are **immutable**; you cannot modify a string:"
   ]
  },
  {
   "cell_type": "code",
   "execution_count": 5,
   "metadata": {},
   "outputs": [
    {
     "data": {
      "text/plain": [
       "'s'"
      ]
     },
     "execution_count": 5,
     "metadata": {},
     "output_type": "execute_result"
    },
    {
     "data": {
      "application/javascript": [
       "\n",
       "            setTimeout(function() {\n",
       "                var nbb_cell_id = 5;\n",
       "                var nbb_unformatted_code = \"a = \\\"this is a string\\\"\\n\\na[10]\\n# a[10] = 'f'\";\n",
       "                var nbb_formatted_code = \"a = \\\"this is a string\\\"\\n\\na[10]\\n# a[10] = 'f'\";\n",
       "                var nbb_cells = Jupyter.notebook.get_cells();\n",
       "                for (var i = 0; i < nbb_cells.length; ++i) {\n",
       "                    if (nbb_cells[i].input_prompt_number == nbb_cell_id) {\n",
       "                        if (nbb_cells[i].get_text() == nbb_unformatted_code) {\n",
       "                             nbb_cells[i].set_text(nbb_formatted_code);\n",
       "                        }\n",
       "                        break;\n",
       "                    }\n",
       "                }\n",
       "            }, 500);\n",
       "            "
      ],
      "text/plain": [
       "<IPython.core.display.Javascript object>"
      ]
     },
     "metadata": {},
     "output_type": "display_data"
    }
   ],
   "source": [
    "a = \"this is a string\"\n",
    "\n",
    "a[10]\n",
    "# a[10] = 'f'"
   ]
  },
  {
   "cell_type": "markdown",
   "metadata": {},
   "source": [
    "But we can use `replace` to change the text and assign to a new variable, `b`."
   ]
  },
  {
   "cell_type": "code",
   "execution_count": 6,
   "metadata": {},
   "outputs": [
    {
     "data": {
      "text/plain": [
       "'this is a longer string'"
      ]
     },
     "execution_count": 6,
     "metadata": {},
     "output_type": "execute_result"
    },
    {
     "data": {
      "application/javascript": [
       "\n",
       "            setTimeout(function() {\n",
       "                var nbb_cell_id = 6;\n",
       "                var nbb_unformatted_code = \"b = a.replace(\\\"string\\\", \\\"longer string\\\")\\n\\nb\\n# print(a)\";\n",
       "                var nbb_formatted_code = \"b = a.replace(\\\"string\\\", \\\"longer string\\\")\\n\\nb\\n# print(a)\";\n",
       "                var nbb_cells = Jupyter.notebook.get_cells();\n",
       "                for (var i = 0; i < nbb_cells.length; ++i) {\n",
       "                    if (nbb_cells[i].input_prompt_number == nbb_cell_id) {\n",
       "                        if (nbb_cells[i].get_text() == nbb_unformatted_code) {\n",
       "                             nbb_cells[i].set_text(nbb_formatted_code);\n",
       "                        }\n",
       "                        break;\n",
       "                    }\n",
       "                }\n",
       "            }, 500);\n",
       "            "
      ],
      "text/plain": [
       "<IPython.core.display.Javascript object>"
      ]
     },
     "metadata": {},
     "output_type": "display_data"
    }
   ],
   "source": [
    "b = a.replace(\"string\", \"longer string\")\n",
    "\n",
    "b\n",
    "# print(a)"
   ]
  },
  {
   "cell_type": "markdown",
   "metadata": {},
   "source": [
    "Convert python object to a string using the `str` function:"
   ]
  },
  {
   "cell_type": "code",
   "execution_count": 7,
   "metadata": {},
   "outputs": [
    {
     "data": {
      "text/plain": [
       "'5.6'"
      ]
     },
     "execution_count": 7,
     "metadata": {},
     "output_type": "execute_result"
    },
    {
     "data": {
      "application/javascript": [
       "\n",
       "            setTimeout(function() {\n",
       "                var nbb_cell_id = 7;\n",
       "                var nbb_unformatted_code = \"a = 5.6\\nb = str(a)\\n\\nb\";\n",
       "                var nbb_formatted_code = \"a = 5.6\\nb = str(a)\\n\\nb\";\n",
       "                var nbb_cells = Jupyter.notebook.get_cells();\n",
       "                for (var i = 0; i < nbb_cells.length; ++i) {\n",
       "                    if (nbb_cells[i].input_prompt_number == nbb_cell_id) {\n",
       "                        if (nbb_cells[i].get_text() == nbb_unformatted_code) {\n",
       "                             nbb_cells[i].set_text(nbb_formatted_code);\n",
       "                        }\n",
       "                        break;\n",
       "                    }\n",
       "                }\n",
       "            }, 500);\n",
       "            "
      ],
      "text/plain": [
       "<IPython.core.display.Javascript object>"
      ]
     },
     "metadata": {},
     "output_type": "display_data"
    }
   ],
   "source": [
    "a = 5.6\n",
    "b = str(a)\n",
    "\n",
    "b"
   ]
  },
  {
   "cell_type": "markdown",
   "metadata": {},
   "source": [
    "Strings are a sequence of Unicode characters and therefore can be treated like other sequences, such as lists and tuples:"
   ]
  },
  {
   "cell_type": "code",
   "execution_count": 8,
   "metadata": {
    "scrolled": true
   },
   "outputs": [
    {
     "data": {
      "text/plain": [
       "'Explicit i'"
      ]
     },
     "execution_count": 8,
     "metadata": {},
     "output_type": "execute_result"
    },
    {
     "data": {
      "application/javascript": [
       "\n",
       "            setTimeout(function() {\n",
       "                var nbb_cell_id = 8;\n",
       "                var nbb_unformatted_code = \"sent = \\\"Explicit is better than implicit.\\\"\\n\\nsent[:10]\";\n",
       "                var nbb_formatted_code = \"sent = \\\"Explicit is better than implicit.\\\"\\n\\nsent[:10]\";\n",
       "                var nbb_cells = Jupyter.notebook.get_cells();\n",
       "                for (var i = 0; i < nbb_cells.length; ++i) {\n",
       "                    if (nbb_cells[i].input_prompt_number == nbb_cell_id) {\n",
       "                        if (nbb_cells[i].get_text() == nbb_unformatted_code) {\n",
       "                             nbb_cells[i].set_text(nbb_formatted_code);\n",
       "                        }\n",
       "                        break;\n",
       "                    }\n",
       "                }\n",
       "            }, 500);\n",
       "            "
      ],
      "text/plain": [
       "<IPython.core.display.Javascript object>"
      ]
     },
     "metadata": {},
     "output_type": "display_data"
    }
   ],
   "source": [
    "sent = \"Explicit is better than implicit.\"\n",
    "\n",
    "sent[:10]"
   ]
  },
  {
   "cell_type": "code",
   "execution_count": 9,
   "metadata": {},
   "outputs": [
    {
     "data": {
      "text/plain": [
       "['E',\n",
       " 'x',\n",
       " 'p',\n",
       " 'l',\n",
       " 'i',\n",
       " 'c',\n",
       " 'i',\n",
       " 't',\n",
       " ' ',\n",
       " 'i',\n",
       " 's',\n",
       " ' ',\n",
       " 'b',\n",
       " 'e',\n",
       " 't',\n",
       " 't',\n",
       " 'e',\n",
       " 'r',\n",
       " ' ',\n",
       " 't',\n",
       " 'h',\n",
       " 'a',\n",
       " 'n',\n",
       " ' ',\n",
       " 'i',\n",
       " 'm',\n",
       " 'p',\n",
       " 'l',\n",
       " 'i',\n",
       " 'c',\n",
       " 'i',\n",
       " 't',\n",
       " '.']"
      ]
     },
     "execution_count": 9,
     "metadata": {},
     "output_type": "execute_result"
    },
    {
     "data": {
      "application/javascript": [
       "\n",
       "            setTimeout(function() {\n",
       "                var nbb_cell_id = 9;\n",
       "                var nbb_unformatted_code = \"sent2 = list(sent)\\n\\nsent2\";\n",
       "                var nbb_formatted_code = \"sent2 = list(sent)\\n\\nsent2\";\n",
       "                var nbb_cells = Jupyter.notebook.get_cells();\n",
       "                for (var i = 0; i < nbb_cells.length; ++i) {\n",
       "                    if (nbb_cells[i].input_prompt_number == nbb_cell_id) {\n",
       "                        if (nbb_cells[i].get_text() == nbb_unformatted_code) {\n",
       "                             nbb_cells[i].set_text(nbb_formatted_code);\n",
       "                        }\n",
       "                        break;\n",
       "                    }\n",
       "                }\n",
       "            }, 500);\n",
       "            "
      ],
      "text/plain": [
       "<IPython.core.display.Javascript object>"
      ]
     },
     "metadata": {},
     "output_type": "display_data"
    }
   ],
   "source": [
    "sent2 = list(sent)\n",
    "\n",
    "sent2"
   ]
  },
  {
   "cell_type": "markdown",
   "metadata": {},
   "source": [
    "The `.join()` method is a string method to join elements in the list."
   ]
  },
  {
   "cell_type": "code",
   "execution_count": 10,
   "metadata": {},
   "outputs": [
    {
     "data": {
      "text/plain": [
       "'Explicit is better than implicit.'"
      ]
     },
     "execution_count": 10,
     "metadata": {},
     "output_type": "execute_result"
    },
    {
     "data": {
      "application/javascript": [
       "\n",
       "            setTimeout(function() {\n",
       "                var nbb_cell_id = 10;\n",
       "                var nbb_unformatted_code = \"\\\"\\\".join(sent2)\";\n",
       "                var nbb_formatted_code = \"\\\"\\\".join(sent2)\";\n",
       "                var nbb_cells = Jupyter.notebook.get_cells();\n",
       "                for (var i = 0; i < nbb_cells.length; ++i) {\n",
       "                    if (nbb_cells[i].input_prompt_number == nbb_cell_id) {\n",
       "                        if (nbb_cells[i].get_text() == nbb_unformatted_code) {\n",
       "                             nbb_cells[i].set_text(nbb_formatted_code);\n",
       "                        }\n",
       "                        break;\n",
       "                    }\n",
       "                }\n",
       "            }, 500);\n",
       "            "
      ],
      "text/plain": [
       "<IPython.core.display.Javascript object>"
      ]
     },
     "metadata": {},
     "output_type": "display_data"
    }
   ],
   "source": [
    "\"\".join(sent2)"
   ]
  },
  {
   "cell_type": "markdown",
   "metadata": {},
   "source": [
    "The backslash character \\ is an escape characbter, meaning that it is used to specify special characters like newline `\\n` or Unicode characters. To write a string literal with backslashes, you need to escape them"
   ]
  },
  {
   "cell_type": "code",
   "execution_count": 11,
   "metadata": {},
   "outputs": [
    {
     "name": "stdout",
     "output_type": "stream",
     "text": [
      "12\\34\n"
     ]
    },
    {
     "data": {
      "application/javascript": [
       "\n",
       "            setTimeout(function() {\n",
       "                var nbb_cell_id = 11;\n",
       "                var nbb_unformatted_code = \"s = \\\"12\\\\\\\\34\\\"\\n\\nprint(s)\";\n",
       "                var nbb_formatted_code = \"s = \\\"12\\\\\\\\34\\\"\\n\\nprint(s)\";\n",
       "                var nbb_cells = Jupyter.notebook.get_cells();\n",
       "                for (var i = 0; i < nbb_cells.length; ++i) {\n",
       "                    if (nbb_cells[i].input_prompt_number == nbb_cell_id) {\n",
       "                        if (nbb_cells[i].get_text() == nbb_unformatted_code) {\n",
       "                             nbb_cells[i].set_text(nbb_formatted_code);\n",
       "                        }\n",
       "                        break;\n",
       "                    }\n",
       "                }\n",
       "            }, 500);\n",
       "            "
      ],
      "text/plain": [
       "<IPython.core.display.Javascript object>"
      ]
     },
     "metadata": {},
     "output_type": "display_data"
    }
   ],
   "source": [
    "s = \"12\\\\34\"\n",
    "\n",
    "print(s)"
   ]
  },
  {
   "cell_type": "markdown",
   "metadata": {},
   "source": [
    "Adding two strings together concatenates them and produces a new string:"
   ]
  },
  {
   "cell_type": "code",
   "execution_count": 12,
   "metadata": {},
   "outputs": [
    {
     "data": {
      "text/plain": [
       "'this is the first half and this is the second half'"
      ]
     },
     "execution_count": 12,
     "metadata": {},
     "output_type": "execute_result"
    },
    {
     "data": {
      "application/javascript": [
       "\n",
       "            setTimeout(function() {\n",
       "                var nbb_cell_id = 12;\n",
       "                var nbb_unformatted_code = \"a = \\\"this is the first half \\\"\\nb = \\\"and this is the second half\\\"\\n\\na + b\";\n",
       "                var nbb_formatted_code = \"a = \\\"this is the first half \\\"\\nb = \\\"and this is the second half\\\"\\n\\na + b\";\n",
       "                var nbb_cells = Jupyter.notebook.get_cells();\n",
       "                for (var i = 0; i < nbb_cells.length; ++i) {\n",
       "                    if (nbb_cells[i].input_prompt_number == nbb_cell_id) {\n",
       "                        if (nbb_cells[i].get_text() == nbb_unformatted_code) {\n",
       "                             nbb_cells[i].set_text(nbb_formatted_code);\n",
       "                        }\n",
       "                        break;\n",
       "                    }\n",
       "                }\n",
       "            }, 500);\n",
       "            "
      ],
      "text/plain": [
       "<IPython.core.display.Javascript object>"
      ]
     },
     "metadata": {},
     "output_type": "display_data"
    }
   ],
   "source": [
    "a = \"this is the first half \"\n",
    "b = \"and this is the second half\"\n",
    "\n",
    "a + b"
   ]
  },
  {
   "cell_type": "markdown",
   "metadata": {},
   "source": [
    "### 1.2 Format literal. (f-string) \n",
    "We can prefix a string with the \"f\" character to specify a format literal. Variables in the current scope are placed inside the curly brackets surrounding their names.\n"
   ]
  },
  {
   "cell_type": "code",
   "execution_count": 13,
   "metadata": {},
   "outputs": [
    {
     "name": "stdout",
     "output_type": "stream",
     "text": [
      "After 1000 loops, consumption value is 3.500.\n"
     ]
    },
    {
     "data": {
      "application/javascript": [
       "\n",
       "            setTimeout(function() {\n",
       "                var nbb_cell_id = 13;\n",
       "                var nbb_unformatted_code = \"niter = 1000\\nconsumption = 3.5\\n\\n# Use format literal.\\nresult = f\\\"After {niter} loops, consumption value is {consumption:.3f}.\\\"\\nprint(result)\";\n",
       "                var nbb_formatted_code = \"niter = 1000\\nconsumption = 3.5\\n\\n# Use format literal.\\nresult = f\\\"After {niter} loops, consumption value is {consumption:.3f}.\\\"\\nprint(result)\";\n",
       "                var nbb_cells = Jupyter.notebook.get_cells();\n",
       "                for (var i = 0; i < nbb_cells.length; ++i) {\n",
       "                    if (nbb_cells[i].input_prompt_number == nbb_cell_id) {\n",
       "                        if (nbb_cells[i].get_text() == nbb_unformatted_code) {\n",
       "                             nbb_cells[i].set_text(nbb_formatted_code);\n",
       "                        }\n",
       "                        break;\n",
       "                    }\n",
       "                }\n",
       "            }, 500);\n",
       "            "
      ],
      "text/plain": [
       "<IPython.core.display.Javascript object>"
      ]
     },
     "metadata": {},
     "output_type": "display_data"
    }
   ],
   "source": [
    "niter = 1000\n",
    "consumption = 3.5\n",
    "\n",
    "# Use format literal.\n",
    "result = f\"After {niter} loops, consumption value is {consumption:.3f}.\"\n",
    "print(result)"
   ]
  },
  {
   "cell_type": "markdown",
   "metadata": {},
   "source": [
    "### 1.3 Raw literals. (r-string)\n",
    "By prefixing a string literal with an r, we specify a raw string. In a raw string, the backslash character does not specify an escape sequence—it is a regular character.\n",
    "\n",
    "Raw string literals are ideal for regular expression patterns. In \"re\" we often use the backslash."
   ]
  },
  {
   "cell_type": "code",
   "execution_count": 14,
   "metadata": {
    "scrolled": true
   },
   "outputs": [
    {
     "name": "stdout",
     "output_type": "stream",
     "text": [
      "\\directory\\123\n",
      "\\directoryS\n"
     ]
    },
    {
     "data": {
      "application/javascript": [
       "\n",
       "            setTimeout(function() {\n",
       "                var nbb_cell_id = 14;\n",
       "                var nbb_unformatted_code = \"# In a raw string \\\"\\\\\\\" characters do not escape.\\nraw = r\\\"\\\\directory\\\\123\\\"\\nval = \\\"\\\\directory\\\\123\\\"\\n\\nprint(raw)\\nprint(val)  # The \\\"123\\\" is treated as an escaped sequence in the normal string literal\";\n",
       "                var nbb_formatted_code = \"# In a raw string \\\"\\\\\\\" characters do not escape.\\nraw = r\\\"\\\\directory\\\\123\\\"\\nval = \\\"\\\\directory\\\\123\\\"\\n\\nprint(raw)\\nprint(val)  # The \\\"123\\\" is treated as an escaped sequence in the normal string literal\";\n",
       "                var nbb_cells = Jupyter.notebook.get_cells();\n",
       "                for (var i = 0; i < nbb_cells.length; ++i) {\n",
       "                    if (nbb_cells[i].input_prompt_number == nbb_cell_id) {\n",
       "                        if (nbb_cells[i].get_text() == nbb_unformatted_code) {\n",
       "                             nbb_cells[i].set_text(nbb_formatted_code);\n",
       "                        }\n",
       "                        break;\n",
       "                    }\n",
       "                }\n",
       "            }, 500);\n",
       "            "
      ],
      "text/plain": [
       "<IPython.core.display.Javascript object>"
      ]
     },
     "metadata": {},
     "output_type": "display_data"
    }
   ],
   "source": [
    "# In a raw string \"\\\" characters do not escape.\n",
    "raw = r\"\\directory\\123\"\n",
    "val = \"\\directory\\123\"\n",
    "\n",
    "print(raw)\n",
    "print(val)  # The \"123\" is treated as an escaped sequence in the normal string literal"
   ]
  },
  {
   "cell_type": "markdown",
   "metadata": {},
   "source": [
    "### Natural Language Toolkit [(NLTK)](https://www.nltk.org/) "
   ]
  },
  {
   "cell_type": "markdown",
   "metadata": {},
   "source": [
    "[Installing NLTK](https://www.nltk.org/install.html)\n",
    "    \n",
    "    pip install nltk"
   ]
  },
  {
   "cell_type": "code",
   "execution_count": 15,
   "metadata": {},
   "outputs": [
    {
     "data": {
      "text/plain": [
       "['\\nThe term \"monetary policy\" refers to the actions undertaken by a central bank.',\n",
       " 'The Federal Reserve controls the three tools of monetary policy--open market operations, the discount rate, and reserve requirements.']"
      ]
     },
     "execution_count": 15,
     "metadata": {},
     "output_type": "execute_result"
    },
    {
     "data": {
      "application/javascript": [
       "\n",
       "            setTimeout(function() {\n",
       "                var nbb_cell_id = 15;\n",
       "                var nbb_unformatted_code = \"from nltk.tokenize import sent_tokenize, word_tokenize\\n\\nsent_tokenize(MPintro)\";\n",
       "                var nbb_formatted_code = \"from nltk.tokenize import sent_tokenize, word_tokenize\\n\\nsent_tokenize(MPintro)\";\n",
       "                var nbb_cells = Jupyter.notebook.get_cells();\n",
       "                for (var i = 0; i < nbb_cells.length; ++i) {\n",
       "                    if (nbb_cells[i].input_prompt_number == nbb_cell_id) {\n",
       "                        if (nbb_cells[i].get_text() == nbb_unformatted_code) {\n",
       "                             nbb_cells[i].set_text(nbb_formatted_code);\n",
       "                        }\n",
       "                        break;\n",
       "                    }\n",
       "                }\n",
       "            }, 500);\n",
       "            "
      ],
      "text/plain": [
       "<IPython.core.display.Javascript object>"
      ]
     },
     "metadata": {},
     "output_type": "display_data"
    }
   ],
   "source": [
    "from nltk.tokenize import sent_tokenize, word_tokenize\n",
    "\n",
    "sent_tokenize(MPintro)"
   ]
  },
  {
   "cell_type": "code",
   "execution_count": 16,
   "metadata": {
    "scrolled": true
   },
   "outputs": [
    {
     "data": {
      "text/plain": [
       "['The',\n",
       " 'term',\n",
       " '``',\n",
       " 'monetary',\n",
       " 'policy',\n",
       " \"''\",\n",
       " 'refers',\n",
       " 'to',\n",
       " 'the',\n",
       " 'actions',\n",
       " 'undertaken',\n",
       " 'by',\n",
       " 'a',\n",
       " 'central',\n",
       " 'bank',\n",
       " '.',\n",
       " 'The',\n",
       " 'Federal',\n",
       " 'Reserve',\n",
       " 'controls',\n",
       " 'the',\n",
       " 'three',\n",
       " 'tools',\n",
       " 'of',\n",
       " 'monetary',\n",
       " 'policy',\n",
       " '--',\n",
       " 'open',\n",
       " 'market',\n",
       " 'operations',\n",
       " ',',\n",
       " 'the',\n",
       " 'discount',\n",
       " 'rate',\n",
       " ',',\n",
       " 'and',\n",
       " 'reserve',\n",
       " 'requirements',\n",
       " '.']"
      ]
     },
     "execution_count": 16,
     "metadata": {},
     "output_type": "execute_result"
    },
    {
     "data": {
      "application/javascript": [
       "\n",
       "            setTimeout(function() {\n",
       "                var nbb_cell_id = 16;\n",
       "                var nbb_unformatted_code = \"word_tokenize(MPintro)\";\n",
       "                var nbb_formatted_code = \"word_tokenize(MPintro)\";\n",
       "                var nbb_cells = Jupyter.notebook.get_cells();\n",
       "                for (var i = 0; i < nbb_cells.length; ++i) {\n",
       "                    if (nbb_cells[i].input_prompt_number == nbb_cell_id) {\n",
       "                        if (nbb_cells[i].get_text() == nbb_unformatted_code) {\n",
       "                             nbb_cells[i].set_text(nbb_formatted_code);\n",
       "                        }\n",
       "                        break;\n",
       "                    }\n",
       "                }\n",
       "            }, 500);\n",
       "            "
      ],
      "text/plain": [
       "<IPython.core.display.Javascript object>"
      ]
     },
     "metadata": {},
     "output_type": "display_data"
    }
   ],
   "source": [
    "word_tokenize(MPintro)"
   ]
  },
  {
   "cell_type": "code",
   "execution_count": 17,
   "metadata": {},
   "outputs": [
    {
     "name": "stdout",
     "output_type": "stream",
     "text": [
      "['i', 'me', 'my', 'myself', 'we', 'our', 'ours', 'ourselves', 'you', \"you're\", \"you've\", \"you'll\", \"you'd\", 'your', 'yours', 'yourself', 'yourselves', 'he', 'him', 'his', 'himself', 'she', \"she's\", 'her', 'hers', 'herself', 'it', \"it's\", 'its', 'itself', 'they', 'them', 'their', 'theirs', 'themselves', 'what', 'which', 'who', 'whom', 'this', 'that', \"that'll\", 'these', 'those', 'am', 'is', 'are', 'was', 'were', 'be', 'been', 'being', 'have', 'has', 'had', 'having', 'do', 'does', 'did', 'doing', 'a', 'an', 'the', 'and', 'but', 'if', 'or', 'because', 'as', 'until', 'while', 'of', 'at', 'by', 'for', 'with', 'about', 'against', 'between', 'into', 'through', 'during', 'before', 'after', 'above', 'below', 'to', 'from', 'up', 'down', 'in', 'out', 'on', 'off', 'over', 'under', 'again', 'further', 'then', 'once', 'here', 'there', 'when', 'where', 'why', 'how', 'all', 'any', 'both', 'each', 'few', 'more', 'most', 'other', 'some', 'such', 'no', 'nor', 'not', 'only', 'own', 'same', 'so', 'than', 'too', 'very', 's', 't', 'can', 'will', 'just', 'don', \"don't\", 'should', \"should've\", 'now', 'd', 'll', 'm', 'o', 're', 've', 'y', 'ain', 'aren', \"aren't\", 'couldn', \"couldn't\", 'didn', \"didn't\", 'doesn', \"doesn't\", 'hadn', \"hadn't\", 'hasn', \"hasn't\", 'haven', \"haven't\", 'isn', \"isn't\", 'ma', 'mightn', \"mightn't\", 'mustn', \"mustn't\", 'needn', \"needn't\", 'shan', \"shan't\", 'shouldn', \"shouldn't\", 'wasn', \"wasn't\", 'weren', \"weren't\", 'won', \"won't\", 'wouldn', \"wouldn't\"]\n"
     ]
    },
    {
     "data": {
      "application/javascript": [
       "\n",
       "            setTimeout(function() {\n",
       "                var nbb_cell_id = 17;\n",
       "                var nbb_unformatted_code = \"from nltk.corpus import stopwords\\n\\nprint(stopwords.words(\\\"english\\\"))\";\n",
       "                var nbb_formatted_code = \"from nltk.corpus import stopwords\\n\\nprint(stopwords.words(\\\"english\\\"))\";\n",
       "                var nbb_cells = Jupyter.notebook.get_cells();\n",
       "                for (var i = 0; i < nbb_cells.length; ++i) {\n",
       "                    if (nbb_cells[i].input_prompt_number == nbb_cell_id) {\n",
       "                        if (nbb_cells[i].get_text() == nbb_unformatted_code) {\n",
       "                             nbb_cells[i].set_text(nbb_formatted_code);\n",
       "                        }\n",
       "                        break;\n",
       "                    }\n",
       "                }\n",
       "            }, 500);\n",
       "            "
      ],
      "text/plain": [
       "<IPython.core.display.Javascript object>"
      ]
     },
     "metadata": {},
     "output_type": "display_data"
    }
   ],
   "source": [
    "from nltk.corpus import stopwords\n",
    "\n",
    "print(stopwords.words(\"english\"))"
   ]
  },
  {
   "cell_type": "code",
   "execution_count": 18,
   "metadata": {},
   "outputs": [
    {
     "data": {
      "text/plain": [
       "['The',\n",
       " 'term',\n",
       " 'monetary',\n",
       " 'policy',\n",
       " 'refers',\n",
       " 'to',\n",
       " 'the',\n",
       " 'actions',\n",
       " 'undertaken',\n",
       " 'by',\n",
       " 'a',\n",
       " 'central',\n",
       " 'bank',\n",
       " 'The',\n",
       " 'Federal',\n",
       " 'Reserve',\n",
       " 'controls',\n",
       " 'the',\n",
       " 'three',\n",
       " 'tools',\n",
       " 'of',\n",
       " 'monetary',\n",
       " 'policy',\n",
       " 'open',\n",
       " 'market',\n",
       " 'operations',\n",
       " 'the',\n",
       " 'discount',\n",
       " 'rate',\n",
       " 'and',\n",
       " 'reserve',\n",
       " 'requirements']"
      ]
     },
     "execution_count": 18,
     "metadata": {},
     "output_type": "execute_result"
    },
    {
     "data": {
      "application/javascript": [
       "\n",
       "            setTimeout(function() {\n",
       "                var nbb_cell_id = 18;\n",
       "                var nbb_unformatted_code = \"import nltk\\n\\ntokenizer = nltk.RegexpTokenizer(r\\\"\\\\w+\\\")\\ntokenizer.tokenize(MPintro)\";\n",
       "                var nbb_formatted_code = \"import nltk\\n\\ntokenizer = nltk.RegexpTokenizer(r\\\"\\\\w+\\\")\\ntokenizer.tokenize(MPintro)\";\n",
       "                var nbb_cells = Jupyter.notebook.get_cells();\n",
       "                for (var i = 0; i < nbb_cells.length; ++i) {\n",
       "                    if (nbb_cells[i].input_prompt_number == nbb_cell_id) {\n",
       "                        if (nbb_cells[i].get_text() == nbb_unformatted_code) {\n",
       "                             nbb_cells[i].set_text(nbb_formatted_code);\n",
       "                        }\n",
       "                        break;\n",
       "                    }\n",
       "                }\n",
       "            }, 500);\n",
       "            "
      ],
      "text/plain": [
       "<IPython.core.display.Javascript object>"
      ]
     },
     "metadata": {},
     "output_type": "display_data"
    }
   ],
   "source": [
    "import nltk\n",
    "\n",
    "tokenizer = nltk.RegexpTokenizer(r\"\\w+\")\n",
    "tokenizer.tokenize(MPintro)"
   ]
  },
  {
   "cell_type": "markdown",
   "metadata": {},
   "source": [
    "`\\w` means matching any word character, and following by `+` means matching 1 or more the preceding token (`\\w`)."
   ]
  },
  {
   "cell_type": "markdown",
   "metadata": {},
   "source": [
    "Textual Analysis in Economics research \n",
    "\n",
    "- [Gentzkow, Matthew, Bryan Kelly, and Matt Taddy. 2019. Text as Data. Journal of Economic Literature, 57 (3): 535-74.](https://www.aeaweb.org/articles?id=10.1257/jel.20181020)\n",
    "<br>\n",
    "\n",
    "- [Baker, Scott R., Nicholas Bloom, and Steven J. Davis. \"Measuring economic policy uncertainty.\" The quarterly journal of economics 131, no. 4 (2016): 1593-1636.](https://academic.oup.com/qje/article/131/4/1593/2468873?login=true)<br>\n",
    "    [Measuring Economic Policy Uncertainty](https://www.policyuncertainty.com/)\n"
   ]
  },
  {
   "cell_type": "markdown",
   "metadata": {},
   "source": [
    "## 2. Regular Expressions\n",
    "\n",
    "A flexible way to search and match string patterns in text. You can interpret it as a more general (advanced) way of CTRL + F. <br>\n",
    "\n",
    "Python built-in `re` module is responsible for applying regular expressions to string. The `re` module functions fall into three categories: pattern matching, substitution, and splitting. Naturally these are all related.\n"
   ]
  },
  {
   "cell_type": "markdown",
   "metadata": {},
   "source": [
    "### 2.1 Pattern Split: `re.split`\n",
    "\n",
    "The regex describing one or more **whitespace** characters is `\\s+`."
   ]
  },
  {
   "cell_type": "code",
   "execution_count": 19,
   "metadata": {},
   "outputs": [
    {
     "data": {
      "text/plain": [
       "['foo', 'bar', 'baz', 'qux']"
      ]
     },
     "execution_count": 19,
     "metadata": {},
     "output_type": "execute_result"
    },
    {
     "data": {
      "application/javascript": [
       "\n",
       "            setTimeout(function() {\n",
       "                var nbb_cell_id = 19;\n",
       "                var nbb_unformatted_code = \"# Split\\nimport re\\n\\ntext = \\\"foo bar\\\\t baz \\\\tqux\\\"\\nre.split(\\\"\\\\s+\\\", text)\";\n",
       "                var nbb_formatted_code = \"# Split\\nimport re\\n\\ntext = \\\"foo bar\\\\t baz \\\\tqux\\\"\\nre.split(\\\"\\\\s+\\\", text)\";\n",
       "                var nbb_cells = Jupyter.notebook.get_cells();\n",
       "                for (var i = 0; i < nbb_cells.length; ++i) {\n",
       "                    if (nbb_cells[i].input_prompt_number == nbb_cell_id) {\n",
       "                        if (nbb_cells[i].get_text() == nbb_unformatted_code) {\n",
       "                             nbb_cells[i].set_text(nbb_formatted_code);\n",
       "                        }\n",
       "                        break;\n",
       "                    }\n",
       "                }\n",
       "            }, 500);\n",
       "            "
      ],
      "text/plain": [
       "<IPython.core.display.Javascript object>"
      ]
     },
     "metadata": {},
     "output_type": "display_data"
    }
   ],
   "source": [
    "# Split\n",
    "import re\n",
    "\n",
    "text = \"foo bar\\t baz \\tqux\"\n",
    "re.split(\"\\s+\", text)"
   ]
  },
  {
   "cell_type": "markdown",
   "metadata": {},
   "source": [
    "`re.split` can be written into two steps:"
   ]
  },
  {
   "cell_type": "code",
   "execution_count": 20,
   "metadata": {},
   "outputs": [
    {
     "data": {
      "text/plain": [
       "['foo', 'bar', 'baz', 'qux']"
      ]
     },
     "execution_count": 20,
     "metadata": {},
     "output_type": "execute_result"
    },
    {
     "data": {
      "application/javascript": [
       "\n",
       "            setTimeout(function() {\n",
       "                var nbb_cell_id = 20;\n",
       "                var nbb_unformatted_code = \"regex = re.compile(r\\\"\\\\s+\\\")\\nregex.split(text)\";\n",
       "                var nbb_formatted_code = \"regex = re.compile(r\\\"\\\\s+\\\")\\nregex.split(text)\";\n",
       "                var nbb_cells = Jupyter.notebook.get_cells();\n",
       "                for (var i = 0; i < nbb_cells.length; ++i) {\n",
       "                    if (nbb_cells[i].input_prompt_number == nbb_cell_id) {\n",
       "                        if (nbb_cells[i].get_text() == nbb_unformatted_code) {\n",
       "                             nbb_cells[i].set_text(nbb_formatted_code);\n",
       "                        }\n",
       "                        break;\n",
       "                    }\n",
       "                }\n",
       "            }, 500);\n",
       "            "
      ],
      "text/plain": [
       "<IPython.core.display.Javascript object>"
      ]
     },
     "metadata": {},
     "output_type": "display_data"
    }
   ],
   "source": [
    "regex = re.compile(r\"\\s+\")\n",
    "regex.split(text)"
   ]
  },
  {
   "cell_type": "markdown",
   "metadata": {},
   "source": [
    "### 2.2 Pattern Matching: `re.findall`\n",
    "\n",
    "`match` and `search` are closely related to `findall`. While `findall` returns all matches in a string, `search` returns only the first match. More rigidly, `match` only matches at the beginning of the string."
   ]
  },
  {
   "cell_type": "code",
   "execution_count": 21,
   "metadata": {},
   "outputs": [
    {
     "data": {
      "application/javascript": [
       "\n",
       "            setTimeout(function() {\n",
       "                var nbb_cell_id = 21;\n",
       "                var nbb_unformatted_code = \"text = \\\"\\\"\\\"Dave dave@google.com\\nSteve steve.t@gmail.com\\nRob rob@gmail.com\\nRyan ry-an@yahoo.com\\n\\\"\\\"\\\"\\n\\npattern = r\\\"[A-Z0-9._%+-]+@[A-Z0-9.-]+\\\\.[A-Z]{2,4}\\\"\\n\\n# re.IGNORECASE makes the regex case-insensitive\\nregex = re.compile(pattern, flags=re.IGNORECASE)\";\n",
       "                var nbb_formatted_code = \"text = \\\"\\\"\\\"Dave dave@google.com\\nSteve steve.t@gmail.com\\nRob rob@gmail.com\\nRyan ry-an@yahoo.com\\n\\\"\\\"\\\"\\n\\npattern = r\\\"[A-Z0-9._%+-]+@[A-Z0-9.-]+\\\\.[A-Z]{2,4}\\\"\\n\\n# re.IGNORECASE makes the regex case-insensitive\\nregex = re.compile(pattern, flags=re.IGNORECASE)\";\n",
       "                var nbb_cells = Jupyter.notebook.get_cells();\n",
       "                for (var i = 0; i < nbb_cells.length; ++i) {\n",
       "                    if (nbb_cells[i].input_prompt_number == nbb_cell_id) {\n",
       "                        if (nbb_cells[i].get_text() == nbb_unformatted_code) {\n",
       "                             nbb_cells[i].set_text(nbb_formatted_code);\n",
       "                        }\n",
       "                        break;\n",
       "                    }\n",
       "                }\n",
       "            }, 500);\n",
       "            "
      ],
      "text/plain": [
       "<IPython.core.display.Javascript object>"
      ]
     },
     "metadata": {},
     "output_type": "display_data"
    }
   ],
   "source": [
    "text = \"\"\"Dave dave@google.com\n",
    "Steve steve.t@gmail.com\n",
    "Rob rob@gmail.com\n",
    "Ryan ry-an@yahoo.com\n",
    "\"\"\"\n",
    "\n",
    "pattern = r\"[A-Z0-9._%+-]+@[A-Z0-9.-]+\\.[A-Z]{2,4}\"\n",
    "\n",
    "# re.IGNORECASE makes the regex case-insensitive\n",
    "regex = re.compile(pattern, flags=re.IGNORECASE)"
   ]
  },
  {
   "cell_type": "code",
   "execution_count": 22,
   "metadata": {},
   "outputs": [
    {
     "data": {
      "text/plain": [
       "['dave@google.com', 'steve.t@gmail.com', 'rob@gmail.com', 'ry-an@yahoo.com']"
      ]
     },
     "execution_count": 22,
     "metadata": {},
     "output_type": "execute_result"
    },
    {
     "data": {
      "application/javascript": [
       "\n",
       "            setTimeout(function() {\n",
       "                var nbb_cell_id = 22;\n",
       "                var nbb_unformatted_code = \"regex.findall(text)\";\n",
       "                var nbb_formatted_code = \"regex.findall(text)\";\n",
       "                var nbb_cells = Jupyter.notebook.get_cells();\n",
       "                for (var i = 0; i < nbb_cells.length; ++i) {\n",
       "                    if (nbb_cells[i].input_prompt_number == nbb_cell_id) {\n",
       "                        if (nbb_cells[i].get_text() == nbb_unformatted_code) {\n",
       "                             nbb_cells[i].set_text(nbb_formatted_code);\n",
       "                        }\n",
       "                        break;\n",
       "                    }\n",
       "                }\n",
       "            }, 500);\n",
       "            "
      ],
      "text/plain": [
       "<IPython.core.display.Javascript object>"
      ]
     },
     "metadata": {},
     "output_type": "display_data"
    }
   ],
   "source": [
    "regex.findall(text)"
   ]
  },
  {
   "cell_type": "code",
   "execution_count": 23,
   "metadata": {},
   "outputs": [
    {
     "data": {
      "text/plain": [
       "'dave@google.com'"
      ]
     },
     "execution_count": 23,
     "metadata": {},
     "output_type": "execute_result"
    },
    {
     "data": {
      "application/javascript": [
       "\n",
       "            setTimeout(function() {\n",
       "                var nbb_cell_id = 23;\n",
       "                var nbb_unformatted_code = \"regex.search(text)[0]\";\n",
       "                var nbb_formatted_code = \"regex.search(text)[0]\";\n",
       "                var nbb_cells = Jupyter.notebook.get_cells();\n",
       "                for (var i = 0; i < nbb_cells.length; ++i) {\n",
       "                    if (nbb_cells[i].input_prompt_number == nbb_cell_id) {\n",
       "                        if (nbb_cells[i].get_text() == nbb_unformatted_code) {\n",
       "                             nbb_cells[i].set_text(nbb_formatted_code);\n",
       "                        }\n",
       "                        break;\n",
       "                    }\n",
       "                }\n",
       "            }, 500);\n",
       "            "
      ],
      "text/plain": [
       "<IPython.core.display.Javascript object>"
      ]
     },
     "metadata": {},
     "output_type": "display_data"
    }
   ],
   "source": [
    "regex.search(text)[0]"
   ]
  },
  {
   "cell_type": "markdown",
   "metadata": {},
   "source": [
    "### 2.3 Pattern Substitution: `re.sub`\n",
    "\n",
    "sub will return a new string with occurrences of the pattern replaced by the a new string.\n"
   ]
  },
  {
   "cell_type": "code",
   "execution_count": 24,
   "metadata": {},
   "outputs": [
    {
     "name": "stdout",
     "output_type": "stream",
     "text": [
      "Dave REDACTED\n",
      "Steve REDACTED\n",
      "Rob REDACTED\n",
      "Ryan REDACTED\n",
      "\n"
     ]
    },
    {
     "data": {
      "application/javascript": [
       "\n",
       "            setTimeout(function() {\n",
       "                var nbb_cell_id = 24;\n",
       "                var nbb_unformatted_code = \"print(regex.sub(\\\"REDACTED\\\", text))\";\n",
       "                var nbb_formatted_code = \"print(regex.sub(\\\"REDACTED\\\", text))\";\n",
       "                var nbb_cells = Jupyter.notebook.get_cells();\n",
       "                for (var i = 0; i < nbb_cells.length; ++i) {\n",
       "                    if (nbb_cells[i].input_prompt_number == nbb_cell_id) {\n",
       "                        if (nbb_cells[i].get_text() == nbb_unformatted_code) {\n",
       "                             nbb_cells[i].set_text(nbb_formatted_code);\n",
       "                        }\n",
       "                        break;\n",
       "                    }\n",
       "                }\n",
       "            }, 500);\n",
       "            "
      ],
      "text/plain": [
       "<IPython.core.display.Javascript object>"
      ]
     },
     "metadata": {},
     "output_type": "display_data"
    }
   ],
   "source": [
    "print(regex.sub(\"REDACTED\", text))"
   ]
  },
  {
   "cell_type": "markdown",
   "metadata": {},
   "source": [
    "### 2.4 Capture groups: put parentheses around the segment\n",
    "\n",
    "We want to find email addresses and simultaneously segment each address into its three components: username, domain name, and domain suffix."
   ]
  },
  {
   "cell_type": "code",
   "execution_count": 25,
   "metadata": {},
   "outputs": [
    {
     "data": {
      "text/plain": [
       "[('dave', 'google', 'com'),\n",
       " ('steve.t', 'gmail', 'com'),\n",
       " ('rob', 'gmail', 'com'),\n",
       " ('ry-an', 'yahoo', 'com')]"
      ]
     },
     "execution_count": 25,
     "metadata": {},
     "output_type": "execute_result"
    },
    {
     "data": {
      "application/javascript": [
       "\n",
       "            setTimeout(function() {\n",
       "                var nbb_cell_id = 25;\n",
       "                var nbb_unformatted_code = \"pattern = r\\\"([A-Z0-9._%+-]+)@([A-Z0-9.-]+)\\\\.([A-Z]{2,4})\\\"\\nregex = re.compile(pattern, flags=re.IGNORECASE)\\nregex.findall(text)\";\n",
       "                var nbb_formatted_code = \"pattern = r\\\"([A-Z0-9._%+-]+)@([A-Z0-9.-]+)\\\\.([A-Z]{2,4})\\\"\\nregex = re.compile(pattern, flags=re.IGNORECASE)\\nregex.findall(text)\";\n",
       "                var nbb_cells = Jupyter.notebook.get_cells();\n",
       "                for (var i = 0; i < nbb_cells.length; ++i) {\n",
       "                    if (nbb_cells[i].input_prompt_number == nbb_cell_id) {\n",
       "                        if (nbb_cells[i].get_text() == nbb_unformatted_code) {\n",
       "                             nbb_cells[i].set_text(nbb_formatted_code);\n",
       "                        }\n",
       "                        break;\n",
       "                    }\n",
       "                }\n",
       "            }, 500);\n",
       "            "
      ],
      "text/plain": [
       "<IPython.core.display.Javascript object>"
      ]
     },
     "metadata": {},
     "output_type": "display_data"
    }
   ],
   "source": [
    "pattern = r\"([A-Z0-9._%+-]+)@([A-Z0-9.-]+)\\.([A-Z]{2,4})\"\n",
    "regex = re.compile(pattern, flags=re.IGNORECASE)\n",
    "regex.findall(text)"
   ]
  },
  {
   "cell_type": "markdown",
   "metadata": {},
   "source": [
    "**To try out if a regular expression works or not, you can do some experiments on online testers first.**<br>\n",
    "\n",
    "**For example, [regexr.com]( https://regexr.com/), or [regex101](https://regex101.com/).**"
   ]
  },
  {
   "cell_type": "markdown",
   "metadata": {},
   "source": [
    "#### Exercise 1"
   ]
  },
  {
   "cell_type": "markdown",
   "metadata": {},
   "source": [
    "Write an regular expression, which can capture all `econom*` in the `text`, where * is a wild card."
   ]
  },
  {
   "cell_type": "code",
   "execution_count": 26,
   "metadata": {},
   "outputs": [
    {
     "data": {
      "application/javascript": [
       "\n",
       "            setTimeout(function() {\n",
       "                var nbb_cell_id = 26;\n",
       "                var nbb_unformatted_code = \"text = \\\"\\\"\\\"\\nThe Federal Reserve is committed to using its full range of tools to support the U.S. economy in this challenging time, thereby promoting its maximum employment and price stability goals.\\n\\nThe COVID-19 pandemic is causing tremendous human and economic hardship across the United States and around the world. The pace of the recovery in economic activity and employment has moderated in recent months, with weakness concentrated in the sectors most adversely affected by the pandemic. Weaker demand and earlier declines in oil prices have been holding down consumer price inflation. Overall financial conditions remain accommodative, in part reflecting policy measures to support the economy and the flow of credit to U.S. households and businesses.\\n\\nThe path of the economy will depend significantly on the course of the virus, including progress on vaccinations. The ongoing public health crisis continues to weigh on economic activity, employment, and inflation, and poses considerable risks to the economic outlook.\\n\\\"\\\"\\\"\\n\\n# -----------------------------------------------\\n# insert your code here\\npattern = None\\n# -----------------------------------------------\\n\\n# regex = re.compile(pattern, flags=re.IGNORECASE)\\n# regex.findall(text)\";\n",
       "                var nbb_formatted_code = \"text = \\\"\\\"\\\"\\nThe Federal Reserve is committed to using its full range of tools to support the U.S. economy in this challenging time, thereby promoting its maximum employment and price stability goals.\\n\\nThe COVID-19 pandemic is causing tremendous human and economic hardship across the United States and around the world. The pace of the recovery in economic activity and employment has moderated in recent months, with weakness concentrated in the sectors most adversely affected by the pandemic. Weaker demand and earlier declines in oil prices have been holding down consumer price inflation. Overall financial conditions remain accommodative, in part reflecting policy measures to support the economy and the flow of credit to U.S. households and businesses.\\n\\nThe path of the economy will depend significantly on the course of the virus, including progress on vaccinations. The ongoing public health crisis continues to weigh on economic activity, employment, and inflation, and poses considerable risks to the economic outlook.\\n\\\"\\\"\\\"\\n\\n# -----------------------------------------------\\n# insert your code here\\npattern = None\\n# -----------------------------------------------\\n\\n# regex = re.compile(pattern, flags=re.IGNORECASE)\\n# regex.findall(text)\";\n",
       "                var nbb_cells = Jupyter.notebook.get_cells();\n",
       "                for (var i = 0; i < nbb_cells.length; ++i) {\n",
       "                    if (nbb_cells[i].input_prompt_number == nbb_cell_id) {\n",
       "                        if (nbb_cells[i].get_text() == nbb_unformatted_code) {\n",
       "                             nbb_cells[i].set_text(nbb_formatted_code);\n",
       "                        }\n",
       "                        break;\n",
       "                    }\n",
       "                }\n",
       "            }, 500);\n",
       "            "
      ],
      "text/plain": [
       "<IPython.core.display.Javascript object>"
      ]
     },
     "metadata": {},
     "output_type": "display_data"
    }
   ],
   "source": [
    "text = \"\"\"\n",
    "The Federal Reserve is committed to using its full range of tools to support the U.S. economy in this challenging time, thereby promoting its maximum employment and price stability goals.\n",
    "\n",
    "The COVID-19 pandemic is causing tremendous human and economic hardship across the United States and around the world. The pace of the recovery in economic activity and employment has moderated in recent months, with weakness concentrated in the sectors most adversely affected by the pandemic. Weaker demand and earlier declines in oil prices have been holding down consumer price inflation. Overall financial conditions remain accommodative, in part reflecting policy measures to support the economy and the flow of credit to U.S. households and businesses.\n",
    "\n",
    "The path of the economy will depend significantly on the course of the virus, including progress on vaccinations. The ongoing public health crisis continues to weigh on economic activity, employment, and inflation, and poses considerable risks to the economic outlook.\n",
    "\"\"\"\n",
    "\n",
    "# -----------------------------------------------\n",
    "# insert your code here\n",
    "pattern = None\n",
    "# -----------------------------------------------\n",
    "\n",
    "# regex = re.compile(pattern, flags=re.IGNORECASE)\n",
    "# regex.findall(text)"
   ]
  },
  {
   "cell_type": "markdown",
   "metadata": {},
   "source": [
    "<details><summary>Click here for the solution</summary>\n",
    "\n",
    "```python\n",
    "pattern = r\"econom(?:\\w+)?\"\n",
    "```\n",
    "\n",
    "</details>"
   ]
  },
  {
   "cell_type": "markdown",
   "metadata": {},
   "source": [
    "#### Exercise 2"
   ]
  },
  {
   "cell_type": "markdown",
   "metadata": {},
   "source": [
    "Write an regular expression, which can capture all of the web URLs ending with \".pdf\" in the `text`."
   ]
  },
  {
   "cell_type": "code",
   "execution_count": 27,
   "metadata": {},
   "outputs": [
    {
     "data": {
      "application/javascript": [
       "\n",
       "            setTimeout(function() {\n",
       "                var nbb_cell_id = 27;\n",
       "                var nbb_unformatted_code = \"text = \\\"\\\"\\\"\\n<strong>Statement:</strong><br>\\n<a href=\\\"/monetarypolicy/files/monetary20210127a1.pdf\\\">PDF</a> | <a href=\\\"/newsevents/pressreleases/monetary20210127a.htm\\\">HTML</a><br>\\n\\n<a href=\\\"/newsevents/pressreleases/monetary20210127a1.htm\\\">Implementation Note</a>\\n\\n</div>\\n<div class=\\\"col-xs-12 col-md-4 col-lg-3\\\">\\n<a href=\\\"/monetarypolicy/fomcpresconf20210127.htm\\\">Press Conference</a><br>\\n\\n<br>\\n<a href=\\\"/newsevents/pressreleases/monetary20210127b.htm\\\">Statement on Longer-Run Goals and Monetary Policy Strategy </a>\\n</div>\\n<div class=\\\"col-xs-12 col-md-4 col-lg-4 fomc-meeting__minutes\\\">\\n<strong>Minutes:</strong><br>\\n<a href=\\\"/monetarypolicy/files/fomcminutes20210127.pdf\\\">PDF</a> | <a href=\\\"/monetarypolicy/fomcminutes20210127.htm\\\">HTML</a>\\n\\n<br> (Released February 17, 2021)\\n\\n\\\"\\\"\\\"\\n\\n# -----------------------------------------------\\n# insert your code here\\npattern = None\\n# -----------------------------------------------\\n\\n# regex = re.compile(pattern, flags=re.IGNORECASE)\\n# regex.findall(text)\";\n",
       "                var nbb_formatted_code = \"text = \\\"\\\"\\\"\\n<strong>Statement:</strong><br>\\n<a href=\\\"/monetarypolicy/files/monetary20210127a1.pdf\\\">PDF</a> | <a href=\\\"/newsevents/pressreleases/monetary20210127a.htm\\\">HTML</a><br>\\n\\n<a href=\\\"/newsevents/pressreleases/monetary20210127a1.htm\\\">Implementation Note</a>\\n\\n</div>\\n<div class=\\\"col-xs-12 col-md-4 col-lg-3\\\">\\n<a href=\\\"/monetarypolicy/fomcpresconf20210127.htm\\\">Press Conference</a><br>\\n\\n<br>\\n<a href=\\\"/newsevents/pressreleases/monetary20210127b.htm\\\">Statement on Longer-Run Goals and Monetary Policy Strategy </a>\\n</div>\\n<div class=\\\"col-xs-12 col-md-4 col-lg-4 fomc-meeting__minutes\\\">\\n<strong>Minutes:</strong><br>\\n<a href=\\\"/monetarypolicy/files/fomcminutes20210127.pdf\\\">PDF</a> | <a href=\\\"/monetarypolicy/fomcminutes20210127.htm\\\">HTML</a>\\n\\n<br> (Released February 17, 2021)\\n\\n\\\"\\\"\\\"\\n\\n# -----------------------------------------------\\n# insert your code here\\npattern = None\\n# -----------------------------------------------\\n\\n# regex = re.compile(pattern, flags=re.IGNORECASE)\\n# regex.findall(text)\";\n",
       "                var nbb_cells = Jupyter.notebook.get_cells();\n",
       "                for (var i = 0; i < nbb_cells.length; ++i) {\n",
       "                    if (nbb_cells[i].input_prompt_number == nbb_cell_id) {\n",
       "                        if (nbb_cells[i].get_text() == nbb_unformatted_code) {\n",
       "                             nbb_cells[i].set_text(nbb_formatted_code);\n",
       "                        }\n",
       "                        break;\n",
       "                    }\n",
       "                }\n",
       "            }, 500);\n",
       "            "
      ],
      "text/plain": [
       "<IPython.core.display.Javascript object>"
      ]
     },
     "metadata": {},
     "output_type": "display_data"
    }
   ],
   "source": [
    "text = \"\"\"\n",
    "<strong>Statement:</strong><br>\n",
    "<a href=\"/monetarypolicy/files/monetary20210127a1.pdf\">PDF</a> | <a href=\"/newsevents/pressreleases/monetary20210127a.htm\">HTML</a><br>\n",
    "\n",
    "<a href=\"/newsevents/pressreleases/monetary20210127a1.htm\">Implementation Note</a>\n",
    "\n",
    "</div>\n",
    "<div class=\"col-xs-12 col-md-4 col-lg-3\">\n",
    "<a href=\"/monetarypolicy/fomcpresconf20210127.htm\">Press Conference</a><br>\n",
    "\n",
    "<br>\n",
    "<a href=\"/newsevents/pressreleases/monetary20210127b.htm\">Statement on Longer-Run Goals and Monetary Policy Strategy </a>\n",
    "</div>\n",
    "<div class=\"col-xs-12 col-md-4 col-lg-4 fomc-meeting__minutes\">\n",
    "<strong>Minutes:</strong><br>\n",
    "<a href=\"/monetarypolicy/files/fomcminutes20210127.pdf\">PDF</a> | <a href=\"/monetarypolicy/fomcminutes20210127.htm\">HTML</a>\n",
    "\n",
    "<br> (Released February 17, 2021)\n",
    "\n",
    "\"\"\"\n",
    "\n",
    "# -----------------------------------------------\n",
    "# insert your code here\n",
    "pattern = None\n",
    "# -----------------------------------------------\n",
    "\n",
    "# regex = re.compile(pattern, flags=re.IGNORECASE)\n",
    "# regex.findall(text)"
   ]
  },
  {
   "cell_type": "markdown",
   "metadata": {},
   "source": [
    "<details><summary>Click here for the solution</summary>\n",
    "\n",
    "```python\n",
    "pattern = r'href=\"(\\/.+pdf)\"'\n",
    "# pattern = r'href=\"(\\/\\w.+.pdf)\"'\n",
    "```\n",
    "\n",
    "</details>"
   ]
  }
 ],
 "metadata": {
  "kernelspec": {
   "display_name": "Python 3",
   "language": "python",
   "name": "python3"
  },
  "language_info": {
   "codemirror_mode": {
    "name": "ipython",
    "version": 3
   },
   "file_extension": ".py",
   "mimetype": "text/x-python",
   "name": "python",
   "nbconvert_exporter": "python",
   "pygments_lexer": "ipython3",
   "version": "3.8.3"
  }
 },
 "nbformat": 4,
 "nbformat_minor": 4
}
